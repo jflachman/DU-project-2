{
 "cells": [
  {
   "cell_type": "code",
   "execution_count": null,
   "metadata": {},
   "outputs": [],
   "source": []
  },
  {
   "cell_type": "code",
   "execution_count": null,
   "metadata": {},
   "outputs": [],
   "source": [
    "models = {'train_score': [], 'test_score': [], 'max_depth': []}\n",
    "\n",
    "for depth in range(1,10):\n",
    "    models['max_depth'].append(depth)\n",
    "    model = RandomForestClassifier(n_estimators=100, max_depth=depth)\n",
    "    model.fit(X_train_pca, y_train_encoded)\n",
    "    y_test_pred = model.predict(X_test_pca)\n",
    "    y_train_pred = model.predict(X_train_pca)\n",
    "\n",
    "    models['train_score'].append(balanced_accuracy_score(y_train_encoded, y_train_pred))\n",
    "    models['test_score'].append(balanced_accuracy_score(y_test_encoded, y_test_pred))\n",
    "\n",
    "models_df = pd.DataFrame(models)"
   ]
  },
  {
   "cell_type": "code",
   "execution_count": null,
   "metadata": {},
   "outputs": [],
   "source": [
    "models_df.plot(x='max_depth')"
   ]
  },
  {
   "cell_type": "code",
   "execution_count": null,
   "metadata": {},
   "outputs": [],
   "source": [
    "models = {'train_score': [], 'test_score': [], 'n_estimators': []}\n",
    "\n",
    "for n in [50, 100, 500, 1000]:\n",
    "    models['n_estimators'].append(n)\n",
    "    model = RandomForestClassifier(n_estimators=n, max_depth=7)\n",
    "    model.fit(X_train_pca, y_train_encoded)\n",
    "    y_test_pred = model.predict(X_test_pca)\n",
    "    y_train_pred = model.predict(X_train_pca)\n",
    "\n",
    "    models['train_score'].append(balanced_accuracy_score(y_train_encoded, y_train_pred))\n",
    "    models['test_score'].append(balanced_accuracy_score(y_test_encoded, y_test_pred))\n",
    "\n",
    "models_df = pd.DataFrame(models)"
   ]
  },
  {
   "cell_type": "code",
   "execution_count": null,
   "metadata": {},
   "outputs": [],
   "source": [
    "models_df.plot(x='n_estimators')"
   ]
  },
  {
   "cell_type": "code",
   "execution_count": null,
   "metadata": {},
   "outputs": [],
   "source": []
  },
  {
   "cell_type": "code",
   "execution_count": null,
   "metadata": {},
   "outputs": [],
   "source": []
  },
  {
   "cell_type": "code",
   "execution_count": null,
   "metadata": {},
   "outputs": [],
   "source": []
  }
 ],
 "metadata": {
  "language_info": {
   "name": "python"
  }
 },
 "nbformat": 4,
 "nbformat_minor": 2
}
