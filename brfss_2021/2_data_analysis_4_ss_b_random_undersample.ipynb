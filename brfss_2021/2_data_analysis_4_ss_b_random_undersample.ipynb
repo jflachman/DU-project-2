{
 "cells": [
  {
   "cell_type": "markdown",
   "metadata": {},
   "source": [
    "---\n",
    "\n",
    "## Data Analysis\n",
    "\n",
    "- This file differs from [2_data_analysis_1_base_data.ipynb](2_data_analysis_1_base_data.ipynb) in that it:\n",
    "    - scales the base cleaned data created in [1_data_cleaning.ipynb](1_data_cleaning.ipynb).\n",
    "\n",
    "Source dataset: 247076 rows × 37 columns\n",
    "Processed and analyzed dataset: 247076 rows × 37 columns\n",
    "\n",
    "---"
   ]
  },
  {
   "cell_type": "code",
   "execution_count": 1,
   "metadata": {
    "execution": {
     "iopub.execute_input": "2024-06-10T23:16:10.570405Z",
     "iopub.status.busy": "2024-06-10T23:16:10.570205Z",
     "iopub.status.idle": "2024-06-10T23:16:12.164610Z",
     "shell.execute_reply": "2024-06-10T23:16:12.163294Z"
    }
   },
   "outputs": [],
   "source": [
    "# package imports go here\n",
    "import pandas as pd\n",
    "import numpy as np\n",
    "import fastparquet as fp\n",
    "import os\n",
    "import sys\n",
    "import pickle\n",
    "import matplotlib.pyplot as plt\n",
    "import importlib\n",
    "import config\n",
    "import time\n",
    "\n",
    "sys.path.insert(1, config.package_path)\n",
    "import ml_analysis as mlanlys\n",
    "import ml_clean_feature as mlclean"
   ]
  },
  {
   "cell_type": "code",
   "execution_count": 2,
   "metadata": {
    "execution": {
     "iopub.execute_input": "2024-06-10T23:16:12.169767Z",
     "iopub.status.busy": "2024-06-10T23:16:12.169179Z",
     "iopub.status.idle": "2024-06-10T23:16:12.175786Z",
     "shell.execute_reply": "2024-06-10T23:16:12.173987Z"
    }
   },
   "outputs": [],
   "source": [
    "start_time = time.time()"
   ]
  },
  {
   "cell_type": "markdown",
   "metadata": {},
   "source": [
    "---\n",
    "\n",
    "## 1. Read the cleaned dataset from file\n",
    "\n",
    "---"
   ]
  },
  {
   "cell_type": "code",
   "execution_count": 3,
   "metadata": {
    "execution": {
     "iopub.execute_input": "2024-06-10T23:16:12.183802Z",
     "iopub.status.busy": "2024-06-10T23:16:12.183416Z",
     "iopub.status.idle": "2024-06-10T23:16:12.205275Z",
     "shell.execute_reply": "2024-06-10T23:16:12.204436Z"
    }
   },
   "outputs": [
    {
     "name": "stdout",
     "output_type": "stream",
     "text": [
      "Year:                        2021\n",
      "Clean File:                  data/brfss_2021_clean.parquet.gzip\n",
      "Performance Report:          reports/performance_report.pkl\n",
      "Detailed Performance Report: reports/4_randomundersampler_dataset_detailed_performance_report.txt\n"
     ]
    }
   ],
   "source": [
    "# reload any changes to Config Settings\n",
    "importlib.reload(config)\n",
    "\n",
    "# BE SURE TO UPDATE THE LABEL FOR THIS ANALYSIS\n",
    "# #############################\n",
    "dataset_label = '4 RandomUnderSampler Dataset'\n",
    "# #############################\n",
    "\n",
    "year                        = config.year\n",
    "\n",
    "clean_file                  = config.clean_file\n",
    "performance_report          = config.performance_report\n",
    "\n",
    "report_path                 = config.report_path\n",
    "file_label                  = dataset_label.lower().replace(' ','_')\n",
    "detailed_performance_report = report_path + file_label + '_detailed_performance_report.txt'\n",
    "\n",
    "print(f\"Year:                        {year}\")\n",
    "print(f\"Clean File:                  {clean_file}\")\n",
    "print(f\"Performance Report:          {performance_report}\")\n",
    "print(f\"Detailed Performance Report: {detailed_performance_report}\")"
   ]
  },
  {
   "cell_type": "code",
   "execution_count": 4,
   "metadata": {
    "execution": {
     "iopub.execute_input": "2024-06-10T23:16:12.208825Z",
     "iopub.status.busy": "2024-06-10T23:16:12.208466Z",
     "iopub.status.idle": "2024-06-10T23:16:12.600100Z",
     "shell.execute_reply": "2024-06-10T23:16:12.598754Z"
    }
   },
   "outputs": [],
   "source": [
    "# Read final cleaned dataset from parquet file\n",
    "df = pd.read_parquet(clean_file, engine=\"fastparquet\")"
   ]
  },
  {
   "cell_type": "code",
   "execution_count": 5,
   "metadata": {
    "execution": {
     "iopub.execute_input": "2024-06-10T23:16:12.604140Z",
     "iopub.status.busy": "2024-06-10T23:16:12.603767Z",
     "iopub.status.idle": "2024-06-10T23:16:12.609780Z",
     "shell.execute_reply": "2024-06-10T23:16:12.608105Z"
    }
   },
   "outputs": [],
   "source": [
    "diabetes_labels = df.columns"
   ]
  },
  {
   "cell_type": "code",
   "execution_count": 6,
   "metadata": {
    "execution": {
     "iopub.execute_input": "2024-06-10T23:16:12.614284Z",
     "iopub.status.busy": "2024-06-10T23:16:12.613875Z",
     "iopub.status.idle": "2024-06-10T23:16:12.628660Z",
     "shell.execute_reply": "2024-06-10T23:16:12.626802Z"
    }
   },
   "outputs": [
    {
     "data": {
      "text/plain": [
       "(247076, 37)"
      ]
     },
     "execution_count": 6,
     "metadata": {},
     "output_type": "execute_result"
    }
   ],
   "source": [
    "df.shape"
   ]
  },
  {
   "cell_type": "markdown",
   "metadata": {},
   "source": [
    "---\n",
    "\n",
    "## 2. Prepare the dataset for analysis\n",
    "\n",
    "- Split the dataset into features and labels.\n",
    "- Split the dataset into training and testing sets.\n",
    "- Scale the dataset\n",
    "\n",
    "---"
   ]
  },
  {
   "cell_type": "code",
   "execution_count": 7,
   "metadata": {
    "execution": {
     "iopub.execute_input": "2024-06-10T23:16:12.633901Z",
     "iopub.status.busy": "2024-06-10T23:16:12.633466Z",
     "iopub.status.idle": "2024-06-10T23:16:12.682357Z",
     "shell.execute_reply": "2024-06-10T23:16:12.680981Z"
    }
   },
   "outputs": [],
   "source": [
    "from sklearn.datasets import make_regression, make_swiss_roll\n",
    "from sklearn.model_selection import train_test_split\n",
    "from sklearn.preprocessing import StandardScaler"
   ]
  },
  {
   "cell_type": "code",
   "execution_count": 8,
   "metadata": {
    "execution": {
     "iopub.execute_input": "2024-06-10T23:16:12.686813Z",
     "iopub.status.busy": "2024-06-10T23:16:12.686276Z",
     "iopub.status.idle": "2024-06-10T23:16:13.184375Z",
     "shell.execute_reply": "2024-06-10T23:16:13.182807Z"
    }
   },
   "outputs": [
    {
     "name": "stdout",
     "output_type": "stream",
     "text": [
      "Base Dataset Modifications in Process\n",
      "-------------------------------------\n",
      "**Operation:target_column  diabetes\n",
      "**Operation:convert_to_binary  True\n",
      "  -- Converting dataset to binary (0,1) from (0,1,2)\n",
      "\n",
      "\n",
      "****Cleaning Feature: diabetes\n",
      "  Initial Unique features in [diabetes]:  [0. 1. 2.]\n",
      "  values_to_drop: ********* NO Parameters were specified *********\n",
      "  translate: {1: 0, 2: 1}\n",
      "  scale: ********* NO Parameters were specified *********\n",
      "  FINAL Unique features in [diabetes]:  [0. 1.]\n",
      "**Operation:scaler  standard\n",
      "  -- Performing train_test_split on dataframe with target:'diabetes'\n",
      "     -- Run automatically before scalar or random_sample operations\n",
      "  -- Performing StandardScaler on X_train: Updates X_train, y_test\n",
      "**Operation:random_sample  undersample\n",
      "  -- Performing RandomUnderSampler on X_train, y_train: Updates X_train, y_train\n",
      "\n",
      "Dataframe, Train Test Summary\n",
      "-----------------------------\n",
      "Dataframe: (247076, 37)  Data:4, X_train:49780, y_train:49780, X_test:61769, y_test:61769\n",
      "ValueCounts:   y_train: len:2   0:  24890   1: 24890\n",
      "ValueCounts:   y_test : len:2   0:  53626   1:  8143\n"
     ]
    }
   ],
   "source": [
    "# reload any changes to mlanlys\n",
    "importlib.reload(mlanlys)\n",
    "\n",
    "target = 'diabetes'\n",
    "# Dictionary defining modification to be made to the base dataset\n",
    "operation_dict = {  'target_column'     :  target,\n",
    "                    'convert_to_binary' :  True,\n",
    "                    'scaler'            : 'standard', # options: none, standard, minmax\n",
    "                    'random_sample'     : 'undersample'      # options: none, undersample, oversample\n",
    "                    }\n",
    "\n",
    "# This insures that df if not modified during the call to modify_base_dataset()\n",
    "df_modified = df.copy()\n",
    "\n",
    "# Modify the base dataset\n",
    "# data is returned where: X_train, X_test, y_train, y_test = data\n",
    "data = mlanlys.modify_base_dataset(df_modified, operation_dict)"
   ]
  },
  {
   "cell_type": "code",
   "execution_count": 9,
   "metadata": {
    "execution": {
     "iopub.execute_input": "2024-06-10T23:16:13.189410Z",
     "iopub.status.busy": "2024-06-10T23:16:13.188873Z",
     "iopub.status.idle": "2024-06-10T23:16:13.206844Z",
     "shell.execute_reply": "2024-06-10T23:16:13.204884Z"
    }
   },
   "outputs": [
    {
     "name": "stdout",
     "output_type": "stream",
     "text": [
      "Original Dataframe\n",
      "------------------\n",
      "df.shape: (247076, 37)\n",
      "df[diabetes].value_counts:  diabetes\n",
      "0.0    208389\n",
      "2.0     33033\n",
      "1.0      5654\n",
      "Name: count, dtype: int64\n",
      "\n",
      "Modified Dataframe\n",
      "------------------\n",
      "df_modified.shape: (247076, 37)\n",
      "df_modified[diabetes].value_counts:  diabetes\n",
      "0.0    214043\n",
      "1.0     33033\n",
      "Name: count, dtype: int64\n"
     ]
    }
   ],
   "source": [
    "# Print some statistics about the original df and the modified dataframe\n",
    "print(f\"Original Dataframe\")\n",
    "print(f\"------------------\")\n",
    "print(f\"df.shape: {df.shape}\")\n",
    "print(f\"df[{target}].value_counts:  {df[target].value_counts()}\")\n",
    "\n",
    "print(f\"\\nModified Dataframe\")\n",
    "print(f\"------------------\")\n",
    "print(f\"df_modified.shape: {df_modified.shape}\")\n",
    "print(f\"df_modified[{target}].value_counts:  {df_modified[target].value_counts()}\")"
   ]
  },
  {
   "cell_type": "code",
   "execution_count": 10,
   "metadata": {
    "execution": {
     "iopub.execute_input": "2024-06-10T23:16:13.211598Z",
     "iopub.status.busy": "2024-06-10T23:16:13.210781Z",
     "iopub.status.idle": "2024-06-10T23:16:13.217626Z",
     "shell.execute_reply": "2024-06-10T23:16:13.216461Z"
    }
   },
   "outputs": [
    {
     "name": "stdout",
     "output_type": "stream",
     "text": [
      "Dataframe: (247076, 37)  Data:4, X_train:49780, y_train:49780, X_test:61769, y_test:61769\n"
     ]
    }
   ],
   "source": [
    "X_train, X_test, y_train, y_test = data\n",
    "print(f\"Dataframe: {df_modified.shape}  Data:{len(data)}, X_train:{len(X_train)}, y_train:{len(y_train)}, X_test:{len(X_test)}, y_test:{len(y_test)}\")"
   ]
  },
  {
   "cell_type": "code",
   "execution_count": 11,
   "metadata": {
    "execution": {
     "iopub.execute_input": "2024-06-10T23:16:13.222757Z",
     "iopub.status.busy": "2024-06-10T23:16:13.221722Z",
     "iopub.status.idle": "2024-06-10T23:16:13.233277Z",
     "shell.execute_reply": "2024-06-10T23:16:13.231662Z"
    }
   },
   "outputs": [
    {
     "data": {
      "text/plain": [
       "diabetes\n",
       "0.0    24890\n",
       "1.0    24890\n",
       "Name: count, dtype: int64"
      ]
     },
     "execution_count": 11,
     "metadata": {},
     "output_type": "execute_result"
    }
   ],
   "source": [
    "y_train.value_counts()"
   ]
  },
  {
   "cell_type": "markdown",
   "metadata": {},
   "source": [
    "---\n",
    "\n",
    "## 3. Run initial Tests and get k_value\n",
    "\n",
    "**From step 2:**  Data = [X_train_modified, X_test_modified, y_train_modified, y_test]\n",
    "\n",
    "---"
   ]
  },
  {
   "cell_type": "code",
   "execution_count": 12,
   "metadata": {
    "execution": {
     "iopub.execute_input": "2024-06-10T23:16:13.239335Z",
     "iopub.status.busy": "2024-06-10T23:16:13.238237Z",
     "iopub.status.idle": "2024-06-10T23:16:13.265941Z",
     "shell.execute_reply": "2024-06-10T23:16:13.263832Z"
    }
   },
   "outputs": [
    {
     "data": {
      "text/plain": [
       "<module 'ml_analysis' from '/mnt/c/ML/DU/repos/projects/project-2/DU-project-2-2015/brfss_2021/../pkgs/ml_analysis.py'>"
      ]
     },
     "execution_count": 12,
     "metadata": {},
     "output_type": "execute_result"
    }
   ],
   "source": [
    "# reload any changes to mlanlys\n",
    "importlib.reload(mlanlys)\n",
    "\n",
    "# Determine the k_value\n",
    "# mlanlys.knn_plot(data)"
   ]
  },
  {
   "cell_type": "markdown",
   "metadata": {},
   "source": [
    "**Note:** From the knn plot above, pick a k-value of 3."
   ]
  },
  {
   "cell_type": "markdown",
   "metadata": {},
   "source": [
    "---\n",
    "\n",
    "## 4. Run the Analysis\n",
    "\n",
    "---\n",
    "\n",
    "#### Model Run Times\n",
    "\n",
    "-  Base dataset (247076 rows × 37 columns):\n",
    "\n",
    "| Model | Run Time |\n",
    "| ----- | -------- |\n",
    "| test_model(SVC(kernel='linear'), data)                          | Aborted >35min (Data too large, consider for RandomUndersampling dataset) |\n",
    "| test_model(KNeighborsClassifier(n_neighbors=k_value), data)     | 247.13 seconds |\n",
    "| test_model(tree.DecisionTreeClassifier(), data)                 |   3.89 seconds |\n",
    "| test_model(RandomForestClassifier(), data)                      |  60.94 seconds |\n",
    "| test_model(ExtraTreesClassifier(random_state=1), data)          |  58.54 seconds |\n",
    "| test_model(GradientBoostingClassifier(random_state=1), data)    | 115.21 seconds |\n",
    "| test_model(AdaBoostClassifier(random_state=1), data)            |  11.91 seconds |\n",
    "| test_model(LogisticRegression(), data)                          |   4.90 seconds |\n",
    "| **Total** w/o SVC| 502.52 seconds / **8:23 minutes** |"
   ]
  },
  {
   "cell_type": "code",
   "execution_count": 13,
   "metadata": {
    "execution": {
     "iopub.execute_input": "2024-06-10T23:16:13.270598Z",
     "iopub.status.busy": "2024-06-10T23:16:13.270213Z",
     "iopub.status.idle": "2024-06-10T23:17:18.538321Z",
     "shell.execute_reply": "2024-06-10T23:17:18.537608Z"
    }
   },
   "outputs": [],
   "source": [
    "# reload any changes to nlanlys\n",
    "importlib.reload(mlanlys)\n",
    "\n",
    "k_value = 3\n",
    "\n",
    "#### COMMENT OUT ONE OF THE FOLLOWING SECTIONS\n",
    "\n",
    "## SECTION 1\n",
    "# Capture stdout & stderr into two strings: osc.stdout and osc.stderr that contain the output from the function\n",
    "# -- This allows the output to be printed here or to a file or both.\n",
    "\n",
    "with mlanlys.OutStreamCapture() as osc:\n",
    "    performance_summary = mlanlys.run_classification_models(data, k_value)\n",
    "#    performance_summary = mlanlys.run_classification_models_test(data, k_value)\n",
    "\n",
    "## <OR>\n",
    "## SECTION 2\n",
    "\n",
    "# performance_summary = mlanlys.run_classification_models(data, k_value)\n"
   ]
  },
  {
   "cell_type": "code",
   "execution_count": 14,
   "metadata": {
    "execution": {
     "iopub.execute_input": "2024-06-10T23:17:18.540798Z",
     "iopub.status.busy": "2024-06-10T23:17:18.540583Z",
     "iopub.status.idle": "2024-06-10T23:17:18.543432Z",
     "shell.execute_reply": "2024-06-10T23:17:18.542874Z"
    }
   },
   "outputs": [],
   "source": [
    "# UNCOMMENT if using SECTION 1 in the previous step\n",
    "# print(osc.stdout)\n",
    "\n",
    "# Add code to print osc.stdout to a file if desired."
   ]
  },
  {
   "cell_type": "markdown",
   "metadata": {},
   "source": [
    "---\n",
    "\n",
    "### 4.1 Archive Performance Summary\n",
    "\n",
    "- For use in Project Performance Summary Report\n",
    "---"
   ]
  },
  {
   "cell_type": "code",
   "execution_count": 15,
   "metadata": {
    "execution": {
     "iopub.execute_input": "2024-06-10T23:17:18.545657Z",
     "iopub.status.busy": "2024-06-10T23:17:18.545458Z",
     "iopub.status.idle": "2024-06-10T23:17:18.573095Z",
     "shell.execute_reply": "2024-06-10T23:17:18.571660Z"
    }
   },
   "outputs": [
    {
     "name": "stdout",
     "output_type": "stream",
     "text": [
      "The file reports/performance_report.pkl exists.\n"
     ]
    }
   ],
   "source": [
    "# performance_summary is a dataframe of performance statistics\n",
    "\n",
    "# Add the dataset label as the first column in performance_summary\n",
    "dataset_column = pd.Series([dataset_label] * len(performance_summary), name=dataset_label)\n",
    "performance_summary.insert(0, 'new_column', dataset_column)\n",
    "\n",
    "analysis_perf_summary = { 'dataset_size': list(df.shape), 'report': performance_summary}\n",
    "\n",
    "# Performance_report is a file containing all the performance summary statistics\n",
    "if os.path.exists(performance_report):\n",
    "    print(f\"The file {performance_report} exists.\")\n",
    "    # Load Performance Report\n",
    "    with open(performance_report, 'rb') as file: perf_report = pickle.load(file)\n",
    "else:\n",
    "    print(f\"The file {performance_report} does not exist.\")\n",
    "    perf_report = {}\n",
    "    \n",
    "perf_report[dataset_label] = analysis_perf_summary\n",
    "\n",
    "# Save Performance Report\n",
    "with open(performance_report, 'wb') as file: pickle.dump(perf_report, file)"
   ]
  },
  {
   "cell_type": "markdown",
   "metadata": {},
   "source": [
    "### 4.2 Archive the Performance Detailed Statistics Report\n",
    "---"
   ]
  },
  {
   "cell_type": "code",
   "execution_count": 16,
   "metadata": {
    "execution": {
     "iopub.execute_input": "2024-06-10T23:17:18.576889Z",
     "iopub.status.busy": "2024-06-10T23:17:18.576563Z",
     "iopub.status.idle": "2024-06-10T23:17:18.592614Z",
     "shell.execute_reply": "2024-06-10T23:17:18.591390Z"
    }
   },
   "outputs": [],
   "source": [
    "# osc.stdout contains the details of the performance statistics\n",
    "\n",
    "with open(detailed_performance_report, \"w\") as file:\n",
    "    file.write(osc.stdout)"
   ]
  },
  {
   "cell_type": "markdown",
   "metadata": {},
   "source": [
    "---\n",
    "\n",
    "## 5. Performance Summary\n",
    "\n",
    "---"
   ]
  },
  {
   "cell_type": "code",
   "execution_count": 17,
   "metadata": {
    "execution": {
     "iopub.execute_input": "2024-06-10T23:17:18.597126Z",
     "iopub.status.busy": "2024-06-10T23:17:18.596739Z",
     "iopub.status.idle": "2024-06-10T23:17:18.622057Z",
     "shell.execute_reply": "2024-06-10T23:17:18.620678Z"
    }
   },
   "outputs": [
    {
     "name": "stdout",
     "output_type": "stream",
     "text": [
      "******************************************\n",
      "Performance Summary for: 4 RandomUnderSampler Dataset\n",
      "******************************************\n"
     ]
    },
    {
     "data": {
      "text/html": [
       "<div>\n",
       "<style scoped>\n",
       "    .dataframe tbody tr th:only-of-type {\n",
       "        vertical-align: middle;\n",
       "    }\n",
       "\n",
       "    .dataframe tbody tr th {\n",
       "        vertical-align: top;\n",
       "    }\n",
       "\n",
       "    .dataframe thead th {\n",
       "        text-align: right;\n",
       "    }\n",
       "</style>\n",
       "<table border=\"1\" class=\"dataframe\">\n",
       "  <thead>\n",
       "    <tr style=\"text-align: right;\">\n",
       "      <th></th>\n",
       "      <th>new_column</th>\n",
       "      <th>model</th>\n",
       "      <th>slice</th>\n",
       "      <th>score</th>\n",
       "      <th>balanced_accuracy</th>\n",
       "      <th>roc_auc_score</th>\n",
       "      <th>Mean Squared Error</th>\n",
       "      <th>Accuracy</th>\n",
       "      <th>Precision</th>\n",
       "      <th>Recall</th>\n",
       "      <th>F1-score</th>\n",
       "      <th>Specificity</th>\n",
       "      <th>False Positive Rate</th>\n",
       "      <th>Matthews Correlation Coefficient</th>\n",
       "    </tr>\n",
       "  </thead>\n",
       "  <tbody>\n",
       "    <tr>\n",
       "      <th>0</th>\n",
       "      <td>4 RandomUnderSampler Dataset</td>\n",
       "      <td>KNeighborsClassifier</td>\n",
       "      <td>Train</td>\n",
       "      <td>0.8331</td>\n",
       "      <td>0.8331</td>\n",
       "      <td>0.9140</td>\n",
       "      <td>0.1669</td>\n",
       "      <td>0.8331</td>\n",
       "      <td>0.8179</td>\n",
       "      <td>0.8571</td>\n",
       "      <td>0.8370</td>\n",
       "      <td>0.8092</td>\n",
       "      <td>0.1908</td>\n",
       "      <td>0.6670</td>\n",
       "    </tr>\n",
       "    <tr>\n",
       "      <th>1</th>\n",
       "      <td>4 RandomUnderSampler Dataset</td>\n",
       "      <td>KNeighborsClassifier</td>\n",
       "      <td>Test</td>\n",
       "      <td>0.6690</td>\n",
       "      <td>0.6864</td>\n",
       "      <td>0.7356</td>\n",
       "      <td>0.3310</td>\n",
       "      <td>0.6690</td>\n",
       "      <td>0.2422</td>\n",
       "      <td>0.7101</td>\n",
       "      <td>0.3612</td>\n",
       "      <td>0.6627</td>\n",
       "      <td>0.3373</td>\n",
       "      <td>0.2590</td>\n",
       "    </tr>\n",
       "    <tr>\n",
       "      <th>2</th>\n",
       "      <td>4 RandomUnderSampler Dataset</td>\n",
       "      <td>DecisionTreeClassifier</td>\n",
       "      <td>Train</td>\n",
       "      <td>1.0000</td>\n",
       "      <td>1.0000</td>\n",
       "      <td>1.0000</td>\n",
       "      <td>0.0000</td>\n",
       "      <td>1.0000</td>\n",
       "      <td>1.0000</td>\n",
       "      <td>1.0000</td>\n",
       "      <td>1.0000</td>\n",
       "      <td>1.0000</td>\n",
       "      <td>0.0000</td>\n",
       "      <td>1.0000</td>\n",
       "    </tr>\n",
       "    <tr>\n",
       "      <th>3</th>\n",
       "      <td>4 RandomUnderSampler Dataset</td>\n",
       "      <td>DecisionTreeClassifier</td>\n",
       "      <td>Test</td>\n",
       "      <td>0.6643</td>\n",
       "      <td>0.6634</td>\n",
       "      <td>0.6634</td>\n",
       "      <td>0.3357</td>\n",
       "      <td>0.6643</td>\n",
       "      <td>0.2307</td>\n",
       "      <td>0.6620</td>\n",
       "      <td>0.3422</td>\n",
       "      <td>0.6647</td>\n",
       "      <td>0.3353</td>\n",
       "      <td>0.2279</td>\n",
       "    </tr>\n",
       "    <tr>\n",
       "      <th>4</th>\n",
       "      <td>4 RandomUnderSampler Dataset</td>\n",
       "      <td>RandomForestClassifier</td>\n",
       "      <td>Train</td>\n",
       "      <td>1.0000</td>\n",
       "      <td>1.0000</td>\n",
       "      <td>1.0000</td>\n",
       "      <td>0.0000</td>\n",
       "      <td>1.0000</td>\n",
       "      <td>1.0000</td>\n",
       "      <td>1.0000</td>\n",
       "      <td>1.0000</td>\n",
       "      <td>1.0000</td>\n",
       "      <td>0.0000</td>\n",
       "      <td>1.0000</td>\n",
       "    </tr>\n",
       "    <tr>\n",
       "      <th>5</th>\n",
       "      <td>4 RandomUnderSampler Dataset</td>\n",
       "      <td>RandomForestClassifier</td>\n",
       "      <td>Test</td>\n",
       "      <td>0.7223</td>\n",
       "      <td>0.7559</td>\n",
       "      <td>0.8296</td>\n",
       "      <td>0.2777</td>\n",
       "      <td>0.7223</td>\n",
       "      <td>0.2958</td>\n",
       "      <td>0.8015</td>\n",
       "      <td>0.4321</td>\n",
       "      <td>0.7103</td>\n",
       "      <td>0.2897</td>\n",
       "      <td>0.3614</td>\n",
       "    </tr>\n",
       "    <tr>\n",
       "      <th>6</th>\n",
       "      <td>4 RandomUnderSampler Dataset</td>\n",
       "      <td>ExtraTreesClassifier</td>\n",
       "      <td>Train</td>\n",
       "      <td>1.0000</td>\n",
       "      <td>1.0000</td>\n",
       "      <td>1.0000</td>\n",
       "      <td>0.0000</td>\n",
       "      <td>1.0000</td>\n",
       "      <td>1.0000</td>\n",
       "      <td>1.0000</td>\n",
       "      <td>1.0000</td>\n",
       "      <td>1.0000</td>\n",
       "      <td>0.0000</td>\n",
       "      <td>1.0000</td>\n",
       "    </tr>\n",
       "    <tr>\n",
       "      <th>7</th>\n",
       "      <td>4 RandomUnderSampler Dataset</td>\n",
       "      <td>ExtraTreesClassifier</td>\n",
       "      <td>Test</td>\n",
       "      <td>0.7181</td>\n",
       "      <td>0.7486</td>\n",
       "      <td>0.8235</td>\n",
       "      <td>0.2819</td>\n",
       "      <td>0.7181</td>\n",
       "      <td>0.2906</td>\n",
       "      <td>0.7900</td>\n",
       "      <td>0.4249</td>\n",
       "      <td>0.7072</td>\n",
       "      <td>0.2928</td>\n",
       "      <td>0.3507</td>\n",
       "    </tr>\n",
       "    <tr>\n",
       "      <th>8</th>\n",
       "      <td>4 RandomUnderSampler Dataset</td>\n",
       "      <td>GradientBoostingClassifier</td>\n",
       "      <td>Train</td>\n",
       "      <td>0.7651</td>\n",
       "      <td>0.7651</td>\n",
       "      <td>0.8426</td>\n",
       "      <td>0.2349</td>\n",
       "      <td>0.7651</td>\n",
       "      <td>0.7451</td>\n",
       "      <td>0.8057</td>\n",
       "      <td>0.7742</td>\n",
       "      <td>0.7244</td>\n",
       "      <td>0.2756</td>\n",
       "      <td>0.5319</td>\n",
       "    </tr>\n",
       "    <tr>\n",
       "      <th>9</th>\n",
       "      <td>4 RandomUnderSampler Dataset</td>\n",
       "      <td>GradientBoostingClassifier</td>\n",
       "      <td>Test</td>\n",
       "      <td>0.7280</td>\n",
       "      <td>0.7574</td>\n",
       "      <td>0.8356</td>\n",
       "      <td>0.2720</td>\n",
       "      <td>0.7280</td>\n",
       "      <td>0.3000</td>\n",
       "      <td>0.7972</td>\n",
       "      <td>0.4359</td>\n",
       "      <td>0.7175</td>\n",
       "      <td>0.2825</td>\n",
       "      <td>0.3650</td>\n",
       "    </tr>\n",
       "    <tr>\n",
       "      <th>10</th>\n",
       "      <td>4 RandomUnderSampler Dataset</td>\n",
       "      <td>AdaBoostClassifier</td>\n",
       "      <td>Train</td>\n",
       "      <td>0.7579</td>\n",
       "      <td>0.7579</td>\n",
       "      <td>0.8354</td>\n",
       "      <td>0.2421</td>\n",
       "      <td>0.7579</td>\n",
       "      <td>0.7463</td>\n",
       "      <td>0.7814</td>\n",
       "      <td>0.7634</td>\n",
       "      <td>0.7344</td>\n",
       "      <td>0.2656</td>\n",
       "      <td>0.5164</td>\n",
       "    </tr>\n",
       "    <tr>\n",
       "      <th>11</th>\n",
       "      <td>4 RandomUnderSampler Dataset</td>\n",
       "      <td>AdaBoostClassifier</td>\n",
       "      <td>Test</td>\n",
       "      <td>0.7372</td>\n",
       "      <td>0.7547</td>\n",
       "      <td>0.8328</td>\n",
       "      <td>0.2628</td>\n",
       "      <td>0.7372</td>\n",
       "      <td>0.3052</td>\n",
       "      <td>0.7786</td>\n",
       "      <td>0.4385</td>\n",
       "      <td>0.7309</td>\n",
       "      <td>0.2691</td>\n",
       "      <td>0.3648</td>\n",
       "    </tr>\n",
       "    <tr>\n",
       "      <th>12</th>\n",
       "      <td>4 RandomUnderSampler Dataset</td>\n",
       "      <td>LogisticRegression</td>\n",
       "      <td>Train</td>\n",
       "      <td>0.7500</td>\n",
       "      <td>0.7500</td>\n",
       "      <td>0.8263</td>\n",
       "      <td>0.2500</td>\n",
       "      <td>0.7500</td>\n",
       "      <td>0.7386</td>\n",
       "      <td>0.7739</td>\n",
       "      <td>0.7558</td>\n",
       "      <td>0.7261</td>\n",
       "      <td>0.2739</td>\n",
       "      <td>0.5006</td>\n",
       "    </tr>\n",
       "    <tr>\n",
       "      <th>13</th>\n",
       "      <td>4 RandomUnderSampler Dataset</td>\n",
       "      <td>LogisticRegression</td>\n",
       "      <td>Test</td>\n",
       "      <td>0.7311</td>\n",
       "      <td>0.7490</td>\n",
       "      <td>0.8247</td>\n",
       "      <td>0.2689</td>\n",
       "      <td>0.7311</td>\n",
       "      <td>0.2990</td>\n",
       "      <td>0.7734</td>\n",
       "      <td>0.4313</td>\n",
       "      <td>0.7246</td>\n",
       "      <td>0.2754</td>\n",
       "      <td>0.3555</td>\n",
       "    </tr>\n",
       "  </tbody>\n",
       "</table>\n",
       "</div>"
      ],
      "text/plain": [
       "                      new_column                       model  slice   score  \\\n",
       "0   4 RandomUnderSampler Dataset        KNeighborsClassifier  Train  0.8331   \n",
       "1   4 RandomUnderSampler Dataset        KNeighborsClassifier   Test  0.6690   \n",
       "2   4 RandomUnderSampler Dataset      DecisionTreeClassifier  Train  1.0000   \n",
       "3   4 RandomUnderSampler Dataset      DecisionTreeClassifier   Test  0.6643   \n",
       "4   4 RandomUnderSampler Dataset      RandomForestClassifier  Train  1.0000   \n",
       "5   4 RandomUnderSampler Dataset      RandomForestClassifier   Test  0.7223   \n",
       "6   4 RandomUnderSampler Dataset        ExtraTreesClassifier  Train  1.0000   \n",
       "7   4 RandomUnderSampler Dataset        ExtraTreesClassifier   Test  0.7181   \n",
       "8   4 RandomUnderSampler Dataset  GradientBoostingClassifier  Train  0.7651   \n",
       "9   4 RandomUnderSampler Dataset  GradientBoostingClassifier   Test  0.7280   \n",
       "10  4 RandomUnderSampler Dataset          AdaBoostClassifier  Train  0.7579   \n",
       "11  4 RandomUnderSampler Dataset          AdaBoostClassifier   Test  0.7372   \n",
       "12  4 RandomUnderSampler Dataset          LogisticRegression  Train  0.7500   \n",
       "13  4 RandomUnderSampler Dataset          LogisticRegression   Test  0.7311   \n",
       "\n",
       "    balanced_accuracy  roc_auc_score  Mean Squared Error  Accuracy  Precision  \\\n",
       "0              0.8331         0.9140              0.1669    0.8331     0.8179   \n",
       "1              0.6864         0.7356              0.3310    0.6690     0.2422   \n",
       "2              1.0000         1.0000              0.0000    1.0000     1.0000   \n",
       "3              0.6634         0.6634              0.3357    0.6643     0.2307   \n",
       "4              1.0000         1.0000              0.0000    1.0000     1.0000   \n",
       "5              0.7559         0.8296              0.2777    0.7223     0.2958   \n",
       "6              1.0000         1.0000              0.0000    1.0000     1.0000   \n",
       "7              0.7486         0.8235              0.2819    0.7181     0.2906   \n",
       "8              0.7651         0.8426              0.2349    0.7651     0.7451   \n",
       "9              0.7574         0.8356              0.2720    0.7280     0.3000   \n",
       "10             0.7579         0.8354              0.2421    0.7579     0.7463   \n",
       "11             0.7547         0.8328              0.2628    0.7372     0.3052   \n",
       "12             0.7500         0.8263              0.2500    0.7500     0.7386   \n",
       "13             0.7490         0.8247              0.2689    0.7311     0.2990   \n",
       "\n",
       "    Recall  F1-score  Specificity  False Positive Rate  \\\n",
       "0   0.8571    0.8370       0.8092               0.1908   \n",
       "1   0.7101    0.3612       0.6627               0.3373   \n",
       "2   1.0000    1.0000       1.0000               0.0000   \n",
       "3   0.6620    0.3422       0.6647               0.3353   \n",
       "4   1.0000    1.0000       1.0000               0.0000   \n",
       "5   0.8015    0.4321       0.7103               0.2897   \n",
       "6   1.0000    1.0000       1.0000               0.0000   \n",
       "7   0.7900    0.4249       0.7072               0.2928   \n",
       "8   0.8057    0.7742       0.7244               0.2756   \n",
       "9   0.7972    0.4359       0.7175               0.2825   \n",
       "10  0.7814    0.7634       0.7344               0.2656   \n",
       "11  0.7786    0.4385       0.7309               0.2691   \n",
       "12  0.7739    0.7558       0.7261               0.2739   \n",
       "13  0.7734    0.4313       0.7246               0.2754   \n",
       "\n",
       "    Matthews Correlation Coefficient  \n",
       "0                             0.6670  \n",
       "1                             0.2590  \n",
       "2                             1.0000  \n",
       "3                             0.2279  \n",
       "4                             1.0000  \n",
       "5                             0.3614  \n",
       "6                             1.0000  \n",
       "7                             0.3507  \n",
       "8                             0.5319  \n",
       "9                             0.3650  \n",
       "10                            0.5164  \n",
       "11                            0.3648  \n",
       "12                            0.5006  \n",
       "13                            0.3555  "
      ]
     },
     "execution_count": 17,
     "metadata": {},
     "output_type": "execute_result"
    }
   ],
   "source": [
    "# print the performance summary\n",
    "print(f\"******************************************\")\n",
    "print(f\"Performance Summary for: {dataset_label}\")\n",
    "print(f\"******************************************\")\n",
    "\n",
    "performance_summary"
   ]
  },
  {
   "cell_type": "code",
   "execution_count": 18,
   "metadata": {
    "execution": {
     "iopub.execute_input": "2024-06-10T23:17:18.626124Z",
     "iopub.status.busy": "2024-06-10T23:17:18.625773Z",
     "iopub.status.idle": "2024-06-10T23:17:18.631374Z",
     "shell.execute_reply": "2024-06-10T23:17:18.630178Z"
    }
   },
   "outputs": [
    {
     "name": "stdout",
     "output_type": "stream",
     "text": [
      "Completed: Execution Time 66.46 seconds:\n"
     ]
    }
   ],
   "source": [
    "print(f\"Completed: Execution Time %s seconds:\" % round((time.time() - start_time),2) )"
   ]
  },
  {
   "cell_type": "markdown",
   "metadata": {},
   "source": [
    "---\n",
    "\n",
    "## 6. Conclusions\n",
    "\n",
    "- A first glance at the summary, it appears that the Boosting models may have performed well with test/train scores were >.8 and similar in scale (<.02 delta).  However, the poor test confusion matrix and balanced accuracy highlight the overfitting.\n",
    "\n",
    "- The Base Cleaned data is overfit as indicated by:\n",
    "    - Poor confusion matrix on the detailed report for test sets on all models\n",
    "    - Low balanced accuracy as compared to the model score (less than 50%)\n"
   ]
  },
  {
   "cell_type": "markdown",
   "metadata": {},
   "source": [
    "---\n",
    "\n",
    "---"
   ]
  }
 ],
 "metadata": {
  "kernelspec": {
   "display_name": "dev",
   "language": "python",
   "name": "python3"
  },
  "language_info": {
   "codemirror_mode": {
    "name": "ipython",
    "version": 3
   },
   "file_extension": ".py",
   "mimetype": "text/x-python",
   "name": "python",
   "nbconvert_exporter": "python",
   "pygments_lexer": "ipython3",
   "version": "3.12.2"
  }
 },
 "nbformat": 4,
 "nbformat_minor": 2
}
