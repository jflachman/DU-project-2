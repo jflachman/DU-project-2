{
 "cells": [
  {
   "cell_type": "markdown",
   "metadata": {},
   "source": [
    "---\n",
    "\n",
    "## Data Analysis\n",
    "\n",
    "- This file differs from [2_data_analysis_1_base_data.ipynb](2_data_analysis_1_base_data.ipynb) in that it:\n",
    "    - scales the base cleaned data created in [1_data_cleaning.ipynb](1_data_cleaning.ipynb).\n",
    "\n",
    "Source dataset: 247076 rows × 37 columns\n",
    "Processed and analyzed dataset: 247076 rows × 37 columns\n",
    "\n",
    "---"
   ]
  },
  {
   "cell_type": "code",
   "execution_count": 1,
   "metadata": {
    "execution": {
     "iopub.execute_input": "2024-06-10T23:17:19.984978Z",
     "iopub.status.busy": "2024-06-10T23:17:19.984586Z",
     "iopub.status.idle": "2024-06-10T23:17:21.086610Z",
     "shell.execute_reply": "2024-06-10T23:17:21.085959Z"
    }
   },
   "outputs": [],
   "source": [
    "# package imports go here\n",
    "import pandas as pd\n",
    "import numpy as np\n",
    "import fastparquet as fp\n",
    "import os\n",
    "import sys\n",
    "import pickle\n",
    "import matplotlib.pyplot as plt\n",
    "import importlib\n",
    "import config\n",
    "import time\n",
    "\n",
    "sys.path.insert(1, config.package_path)\n",
    "import ml_analysis as mlanlys\n",
    "import ml_clean_feature as mlclean"
   ]
  },
  {
   "cell_type": "code",
   "execution_count": 2,
   "metadata": {
    "execution": {
     "iopub.execute_input": "2024-06-10T23:17:21.089215Z",
     "iopub.status.busy": "2024-06-10T23:17:21.088803Z",
     "iopub.status.idle": "2024-06-10T23:17:21.092123Z",
     "shell.execute_reply": "2024-06-10T23:17:21.091558Z"
    }
   },
   "outputs": [],
   "source": [
    "start_time = time.time()"
   ]
  },
  {
   "cell_type": "markdown",
   "metadata": {},
   "source": [
    "---\n",
    "\n",
    "## 1. Read the cleaned dataset from file\n",
    "\n",
    "---"
   ]
  },
  {
   "cell_type": "code",
   "execution_count": 3,
   "metadata": {
    "execution": {
     "iopub.execute_input": "2024-06-10T23:17:21.094118Z",
     "iopub.status.busy": "2024-06-10T23:17:21.093873Z",
     "iopub.status.idle": "2024-06-10T23:17:21.106773Z",
     "shell.execute_reply": "2024-06-10T23:17:21.106133Z"
    }
   },
   "outputs": [
    {
     "name": "stdout",
     "output_type": "stream",
     "text": [
      "Year:                        2021\n",
      "Clean File:                  data/brfss_2021_clean.parquet.gzip\n",
      "Performance Report:          reports/performance_report.pkl\n",
      "Detailed Performance Report: reports/5_randomoversampler_dataset_detailed_performance_report.txt\n"
     ]
    }
   ],
   "source": [
    "# reload any changes to Config Settings\n",
    "importlib.reload(config)\n",
    "\n",
    "# BE SURE TO UPDATE THE LABEL FOR THIS ANALYSIS\n",
    "# #############################\n",
    "dataset_label = '5 RandomOverSampler Dataset'\n",
    "# #############################\n",
    "\n",
    "year                        = config.year\n",
    "\n",
    "clean_file                  = config.clean_file\n",
    "performance_report          = config.performance_report\n",
    "\n",
    "report_path                 = config.report_path\n",
    "file_label                  = dataset_label.lower().replace(' ','_')\n",
    "detailed_performance_report = report_path + file_label + '_detailed_performance_report.txt'\n",
    "\n",
    "print(f\"Year:                        {year}\")\n",
    "print(f\"Clean File:                  {clean_file}\")\n",
    "print(f\"Performance Report:          {performance_report}\")\n",
    "print(f\"Detailed Performance Report: {detailed_performance_report}\")"
   ]
  },
  {
   "cell_type": "code",
   "execution_count": 4,
   "metadata": {
    "execution": {
     "iopub.execute_input": "2024-06-10T23:17:21.109333Z",
     "iopub.status.busy": "2024-06-10T23:17:21.108676Z",
     "iopub.status.idle": "2024-06-10T23:17:21.336522Z",
     "shell.execute_reply": "2024-06-10T23:17:21.335304Z"
    }
   },
   "outputs": [],
   "source": [
    "# Read final cleaned dataset from parquet file\n",
    "df = pd.read_parquet(clean_file, engine=\"fastparquet\")"
   ]
  },
  {
   "cell_type": "code",
   "execution_count": 5,
   "metadata": {
    "execution": {
     "iopub.execute_input": "2024-06-10T23:17:21.339528Z",
     "iopub.status.busy": "2024-06-10T23:17:21.339312Z",
     "iopub.status.idle": "2024-06-10T23:17:21.342948Z",
     "shell.execute_reply": "2024-06-10T23:17:21.342333Z"
    }
   },
   "outputs": [],
   "source": [
    "diabetes_labels = df.columns"
   ]
  },
  {
   "cell_type": "code",
   "execution_count": 6,
   "metadata": {
    "execution": {
     "iopub.execute_input": "2024-06-10T23:17:21.345014Z",
     "iopub.status.busy": "2024-06-10T23:17:21.344819Z",
     "iopub.status.idle": "2024-06-10T23:17:21.349978Z",
     "shell.execute_reply": "2024-06-10T23:17:21.349412Z"
    }
   },
   "outputs": [
    {
     "data": {
      "text/plain": [
       "(247076, 37)"
      ]
     },
     "execution_count": 6,
     "metadata": {},
     "output_type": "execute_result"
    }
   ],
   "source": [
    "df.shape"
   ]
  },
  {
   "cell_type": "markdown",
   "metadata": {},
   "source": [
    "---\n",
    "\n",
    "## 2. Prepare the dataset for analysis\n",
    "\n",
    "- Split the dataset into features and labels.\n",
    "- Split the dataset into training and testing sets.\n",
    "- Scale the dataset\n",
    "\n",
    "---"
   ]
  },
  {
   "cell_type": "code",
   "execution_count": 7,
   "metadata": {
    "execution": {
     "iopub.execute_input": "2024-06-10T23:17:21.352147Z",
     "iopub.status.busy": "2024-06-10T23:17:21.351790Z",
     "iopub.status.idle": "2024-06-10T23:17:21.382671Z",
     "shell.execute_reply": "2024-06-10T23:17:21.381685Z"
    }
   },
   "outputs": [],
   "source": [
    "from sklearn.datasets import make_regression, make_swiss_roll\n",
    "from sklearn.model_selection import train_test_split\n",
    "from sklearn.preprocessing import StandardScaler"
   ]
  },
  {
   "cell_type": "code",
   "execution_count": 8,
   "metadata": {
    "execution": {
     "iopub.execute_input": "2024-06-10T23:17:21.386118Z",
     "iopub.status.busy": "2024-06-10T23:17:21.385743Z",
     "iopub.status.idle": "2024-06-10T23:17:21.744198Z",
     "shell.execute_reply": "2024-06-10T23:17:21.743382Z"
    }
   },
   "outputs": [
    {
     "name": "stdout",
     "output_type": "stream",
     "text": [
      "Base Dataset Modifications in Process\n",
      "-------------------------------------\n",
      "**Operation:target_column  diabetes\n",
      "**Operation:convert_to_binary  True\n",
      "  -- Converting dataset to binary (0,1) from (0,1,2)\n",
      "\n",
      "\n",
      "****Cleaning Feature: diabetes\n",
      "  Initial Unique features in [diabetes]:  [0. 1. 2.]\n",
      "  values_to_drop: ********* NO Parameters were specified *********\n",
      "  translate: {1: 0, 2: 1}\n",
      "  scale: ********* NO Parameters were specified *********\n",
      "  FINAL Unique features in [diabetes]:  [0. 1.]\n",
      "**Operation:scaler  standard\n",
      "  -- Performing train_test_split on dataframe with target:'diabetes'\n",
      "     -- Run automatically before scalar or random_sample operations\n",
      "  -- Performing StandardScaler on X_train: Updates X_train, y_test\n",
      "**Operation:random_sample  oversample\n",
      "  -- Performing RandomOverSampler on X_train, y_train: Updates X_train, y_train\n",
      "\n",
      "Dataframe, Train Test Summary\n",
      "-----------------------------\n",
      "Dataframe: (247076, 37)  Data:4, X_train:321070, y_train:321070, X_test:61769, y_test:61769\n",
      "ValueCounts:   y_train: len:2   0: 160535   1:160535\n",
      "ValueCounts:   y_test : len:2   0:  53508   1:  8261\n"
     ]
    }
   ],
   "source": [
    "# reload any changes to mlanlys\n",
    "importlib.reload(mlanlys)\n",
    "\n",
    "target = 'diabetes'\n",
    "# Dictionary defining modification to be made to the base dataset\n",
    "operation_dict = {  'target_column'     :  target,\n",
    "                    'convert_to_binary' :  True,\n",
    "                    'scaler'            : 'standard', # options: none, standard, minmax\n",
    "                    'random_sample'     : 'oversample'      # options: none, undersample, oversample\n",
    "                    }\n",
    "\n",
    "# This insures that df if not modified during the call to modify_base_dataset()\n",
    "df_modified = df.copy()\n",
    "\n",
    "# Modify the base dataset\n",
    "# data is returned where: X_train, X_test, y_train, y_test = data\n",
    "data = mlanlys.modify_base_dataset(df_modified, operation_dict)"
   ]
  },
  {
   "cell_type": "code",
   "execution_count": 9,
   "metadata": {
    "execution": {
     "iopub.execute_input": "2024-06-10T23:17:21.747080Z",
     "iopub.status.busy": "2024-06-10T23:17:21.746787Z",
     "iopub.status.idle": "2024-06-10T23:17:21.756220Z",
     "shell.execute_reply": "2024-06-10T23:17:21.755638Z"
    }
   },
   "outputs": [
    {
     "name": "stdout",
     "output_type": "stream",
     "text": [
      "Original Dataframe\n",
      "------------------\n",
      "df.shape: (247076, 37)\n",
      "df[diabetes].value_counts:  diabetes\n",
      "0.0    208389\n",
      "2.0     33033\n",
      "1.0      5654\n",
      "Name: count, dtype: int64\n",
      "\n",
      "Modified Dataframe\n",
      "------------------\n",
      "df_modified.shape: (247076, 37)\n",
      "df_modified[diabetes].value_counts:  diabetes\n",
      "0.0    214043\n",
      "1.0     33033\n",
      "Name: count, dtype: int64\n"
     ]
    }
   ],
   "source": [
    "# Print some statistics about the original df and the modified dataframe\n",
    "print(f\"Original Dataframe\")\n",
    "print(f\"------------------\")\n",
    "print(f\"df.shape: {df.shape}\")\n",
    "print(f\"df[{target}].value_counts:  {df[target].value_counts()}\")\n",
    "\n",
    "print(f\"\\nModified Dataframe\")\n",
    "print(f\"------------------\")\n",
    "print(f\"df_modified.shape: {df_modified.shape}\")\n",
    "print(f\"df_modified[{target}].value_counts:  {df_modified[target].value_counts()}\")"
   ]
  },
  {
   "cell_type": "code",
   "execution_count": 10,
   "metadata": {
    "execution": {
     "iopub.execute_input": "2024-06-10T23:17:21.758437Z",
     "iopub.status.busy": "2024-06-10T23:17:21.758131Z",
     "iopub.status.idle": "2024-06-10T23:17:21.765443Z",
     "shell.execute_reply": "2024-06-10T23:17:21.764821Z"
    }
   },
   "outputs": [
    {
     "name": "stdout",
     "output_type": "stream",
     "text": [
      "Dataframe: (247076, 37)  Data:4, X_train:321070, y_train:321070, X_test:61769, y_test:61769\n"
     ]
    },
    {
     "data": {
      "text/plain": [
       "diabetes\n",
       "0.0    160535\n",
       "1.0    160535\n",
       "Name: count, dtype: int64"
      ]
     },
     "execution_count": 10,
     "metadata": {},
     "output_type": "execute_result"
    }
   ],
   "source": [
    "X_train, X_test, y_train, y_test = data\n",
    "print(f\"Dataframe: {df_modified.shape}  Data:{len(data)}, X_train:{len(X_train)}, y_train:{len(y_train)}, X_test:{len(X_test)}, y_test:{len(y_test)}\")\n",
    "y_train.value_counts()"
   ]
  },
  {
   "cell_type": "markdown",
   "metadata": {},
   "source": [
    "---\n",
    "\n",
    "## 3. Run initial Tests and get k_value\n",
    "\n",
    "**From step 2:**  Data = [X_train_modified, X_test_modified, y_train_modified, y_test]\n",
    "\n",
    "---"
   ]
  },
  {
   "cell_type": "code",
   "execution_count": 11,
   "metadata": {
    "execution": {
     "iopub.execute_input": "2024-06-10T23:17:21.767852Z",
     "iopub.status.busy": "2024-06-10T23:17:21.767378Z",
     "iopub.status.idle": "2024-06-10T23:17:21.792266Z",
     "shell.execute_reply": "2024-06-10T23:17:21.790500Z"
    }
   },
   "outputs": [
    {
     "data": {
      "text/plain": [
       "<module 'ml_analysis' from '/mnt/c/ML/DU/repos/projects/project-2/DU-project-2-2015/brfss_2021/../pkgs/ml_analysis.py'>"
      ]
     },
     "execution_count": 11,
     "metadata": {},
     "output_type": "execute_result"
    }
   ],
   "source": [
    "# reload any changes to mlanlys\n",
    "importlib.reload(mlanlys)\n",
    "\n",
    "# Determine the k_value\n",
    "# mlanlys.knn_plot(data)"
   ]
  },
  {
   "cell_type": "markdown",
   "metadata": {},
   "source": [
    "**Note:** From the knn plot above, pick a k-value of 3."
   ]
  },
  {
   "cell_type": "markdown",
   "metadata": {},
   "source": [
    "---\n",
    "\n",
    "## 4. Run the Analysis\n",
    "\n",
    "---\n",
    "\n",
    "#### Model Run Times\n",
    "\n",
    "-  Base dataset (247076 rows × 37 columns):\n",
    "\n",
    "| Model | Run Time |\n",
    "| ----- | -------- |\n",
    "| test_model(SVC(kernel='linear'), data)                          | Aborted >35min (Data too large, consider for RandomUndersampling dataset) |\n",
    "| test_model(KNeighborsClassifier(n_neighbors=k_value), data)     | 247.13 seconds |\n",
    "| test_model(tree.DecisionTreeClassifier(), data)                 |   3.89 seconds |\n",
    "| test_model(RandomForestClassifier(), data)                      |  60.94 seconds |\n",
    "| test_model(ExtraTreesClassifier(random_state=1), data)          |  58.54 seconds |\n",
    "| test_model(GradientBoostingClassifier(random_state=1), data)    | 115.21 seconds |\n",
    "| test_model(AdaBoostClassifier(random_state=1), data)            |  11.91 seconds |\n",
    "| test_model(LogisticRegression(), data)                          |   4.90 seconds |\n",
    "| **Total** w/o SVC| 502.52 seconds / **8:23 minutes** |"
   ]
  },
  {
   "cell_type": "code",
   "execution_count": 12,
   "metadata": {
    "execution": {
     "iopub.execute_input": "2024-06-10T23:17:21.796548Z",
     "iopub.status.busy": "2024-06-10T23:17:21.796217Z",
     "iopub.status.idle": "2024-06-10T23:30:55.684833Z",
     "shell.execute_reply": "2024-06-10T23:30:55.683866Z"
    }
   },
   "outputs": [],
   "source": [
    "# reload any changes to nlanlys\n",
    "importlib.reload(mlanlys)\n",
    "\n",
    "k_value = 3\n",
    "\n",
    "#### COMMENT OUT ONE OF THE FOLLOWING SECTIONS\n",
    "\n",
    "## SECTION 1\n",
    "# Capture stdout & stderr into two strings: osc.stdout and osc.stderr that contain the output from the function\n",
    "# -- This allows the output to be printed here or to a file or both.\n",
    "\n",
    "with mlanlys.OutStreamCapture() as osc:\n",
    "    performance_summary = mlanlys.run_classification_models(data, k_value)\n",
    "#    performance_summary = mlanlys.run_classification_models_test(data, k_value)\n",
    "\n",
    "## <OR>\n",
    "## SECTION 2\n",
    "\n",
    "# performance_summary = mlanlys.run_classification_models(data, k_value)\n"
   ]
  },
  {
   "cell_type": "code",
   "execution_count": 13,
   "metadata": {
    "execution": {
     "iopub.execute_input": "2024-06-10T23:30:55.687766Z",
     "iopub.status.busy": "2024-06-10T23:30:55.687563Z",
     "iopub.status.idle": "2024-06-10T23:30:55.690792Z",
     "shell.execute_reply": "2024-06-10T23:30:55.689991Z"
    }
   },
   "outputs": [],
   "source": [
    "# UNCOMMENT if using SECTION 1 in the previous step\n",
    "# print(osc.stdout)\n",
    "\n",
    "# Add code to print osc.stdout to a file if desired."
   ]
  },
  {
   "cell_type": "markdown",
   "metadata": {},
   "source": [
    "---\n",
    "\n",
    "### 4.1 Archive Performance Summary\n",
    "\n",
    "- For use in Project Performance Summary Report\n",
    "---"
   ]
  },
  {
   "cell_type": "code",
   "execution_count": 14,
   "metadata": {
    "execution": {
     "iopub.execute_input": "2024-06-10T23:30:55.693227Z",
     "iopub.status.busy": "2024-06-10T23:30:55.693048Z",
     "iopub.status.idle": "2024-06-10T23:30:55.729384Z",
     "shell.execute_reply": "2024-06-10T23:30:55.727778Z"
    }
   },
   "outputs": [
    {
     "name": "stdout",
     "output_type": "stream",
     "text": [
      "The file reports/performance_report.pkl exists.\n"
     ]
    }
   ],
   "source": [
    "# performance_summary is a dataframe of performance statistics\n",
    "\n",
    "# Add the dataset label as the first column in performance_summary\n",
    "dataset_column = pd.Series([dataset_label] * len(performance_summary), name=dataset_label)\n",
    "performance_summary.insert(0, 'new_column', dataset_column)\n",
    "\n",
    "analysis_perf_summary = { 'dataset_size': list(df.shape), 'report': performance_summary}\n",
    "\n",
    "# Performance_report is a file containing all the performance summary statistics\n",
    "if os.path.exists(performance_report):\n",
    "    print(f\"The file {performance_report} exists.\")\n",
    "    # Load Performance Report\n",
    "    with open(performance_report, 'rb') as file: perf_report = pickle.load(file)\n",
    "else:\n",
    "    print(f\"The file {performance_report} does not exist.\")\n",
    "    perf_report = {}\n",
    "    \n",
    "perf_report[dataset_label] = analysis_perf_summary\n",
    "\n",
    "# Save Performance Report\n",
    "with open(performance_report, 'wb') as file: pickle.dump(perf_report, file)"
   ]
  },
  {
   "cell_type": "markdown",
   "metadata": {},
   "source": [
    "### 4.2 Archive the Performance Detailed Statistics Report\n",
    "---"
   ]
  },
  {
   "cell_type": "code",
   "execution_count": 15,
   "metadata": {
    "execution": {
     "iopub.execute_input": "2024-06-10T23:30:55.733602Z",
     "iopub.status.busy": "2024-06-10T23:30:55.733229Z",
     "iopub.status.idle": "2024-06-10T23:30:55.753608Z",
     "shell.execute_reply": "2024-06-10T23:30:55.752284Z"
    }
   },
   "outputs": [],
   "source": [
    "# osc.stdout contains the details of the performance statistics\n",
    "\n",
    "with open(detailed_performance_report, \"w\") as file:\n",
    "    file.write(osc.stdout)"
   ]
  },
  {
   "cell_type": "markdown",
   "metadata": {},
   "source": [
    "---\n",
    "\n",
    "## 5. Performance Summary\n",
    "\n",
    "---"
   ]
  },
  {
   "cell_type": "code",
   "execution_count": 16,
   "metadata": {
    "execution": {
     "iopub.execute_input": "2024-06-10T23:30:55.758321Z",
     "iopub.status.busy": "2024-06-10T23:30:55.757953Z",
     "iopub.status.idle": "2024-06-10T23:30:55.784280Z",
     "shell.execute_reply": "2024-06-10T23:30:55.782730Z"
    }
   },
   "outputs": [
    {
     "name": "stdout",
     "output_type": "stream",
     "text": [
      "******************************************\n",
      "Performance Summary for: 5 RandomOverSampler Dataset\n",
      "******************************************\n"
     ]
    },
    {
     "data": {
      "text/html": [
       "<div>\n",
       "<style scoped>\n",
       "    .dataframe tbody tr th:only-of-type {\n",
       "        vertical-align: middle;\n",
       "    }\n",
       "\n",
       "    .dataframe tbody tr th {\n",
       "        vertical-align: top;\n",
       "    }\n",
       "\n",
       "    .dataframe thead th {\n",
       "        text-align: right;\n",
       "    }\n",
       "</style>\n",
       "<table border=\"1\" class=\"dataframe\">\n",
       "  <thead>\n",
       "    <tr style=\"text-align: right;\">\n",
       "      <th></th>\n",
       "      <th>new_column</th>\n",
       "      <th>model</th>\n",
       "      <th>slice</th>\n",
       "      <th>score</th>\n",
       "      <th>balanced_accuracy</th>\n",
       "      <th>roc_auc_score</th>\n",
       "      <th>Mean Squared Error</th>\n",
       "      <th>Accuracy</th>\n",
       "      <th>Precision</th>\n",
       "      <th>Recall</th>\n",
       "      <th>F1-score</th>\n",
       "      <th>Specificity</th>\n",
       "      <th>False Positive Rate</th>\n",
       "      <th>Matthews Correlation Coefficient</th>\n",
       "    </tr>\n",
       "  </thead>\n",
       "  <tbody>\n",
       "    <tr>\n",
       "      <th>0</th>\n",
       "      <td>5 RandomOverSampler Dataset</td>\n",
       "      <td>KNeighborsClassifier</td>\n",
       "      <td>Train</td>\n",
       "      <td>0.9440</td>\n",
       "      <td>0.9440</td>\n",
       "      <td>0.9997</td>\n",
       "      <td>0.0560</td>\n",
       "      <td>0.9440</td>\n",
       "      <td>0.8995</td>\n",
       "      <td>0.9997</td>\n",
       "      <td>0.9470</td>\n",
       "      <td>0.8883</td>\n",
       "      <td>0.1117</td>\n",
       "      <td>NaN</td>\n",
       "    </tr>\n",
       "    <tr>\n",
       "      <th>1</th>\n",
       "      <td>5 RandomOverSampler Dataset</td>\n",
       "      <td>KNeighborsClassifier</td>\n",
       "      <td>Test</td>\n",
       "      <td>0.7563</td>\n",
       "      <td>0.6427</td>\n",
       "      <td>0.6801</td>\n",
       "      <td>0.2437</td>\n",
       "      <td>0.7563</td>\n",
       "      <td>0.2713</td>\n",
       "      <td>0.4876</td>\n",
       "      <td>0.3486</td>\n",
       "      <td>0.7978</td>\n",
       "      <td>0.2022</td>\n",
       "      <td>0.2274</td>\n",
       "    </tr>\n",
       "    <tr>\n",
       "      <th>2</th>\n",
       "      <td>5 RandomOverSampler Dataset</td>\n",
       "      <td>DecisionTreeClassifier</td>\n",
       "      <td>Train</td>\n",
       "      <td>1.0000</td>\n",
       "      <td>1.0000</td>\n",
       "      <td>1.0000</td>\n",
       "      <td>0.0000</td>\n",
       "      <td>1.0000</td>\n",
       "      <td>1.0000</td>\n",
       "      <td>1.0000</td>\n",
       "      <td>1.0000</td>\n",
       "      <td>1.0000</td>\n",
       "      <td>0.0000</td>\n",
       "      <td>87.5167</td>\n",
       "    </tr>\n",
       "    <tr>\n",
       "      <th>3</th>\n",
       "      <td>5 RandomOverSampler Dataset</td>\n",
       "      <td>DecisionTreeClassifier</td>\n",
       "      <td>Test</td>\n",
       "      <td>0.8112</td>\n",
       "      <td>0.5923</td>\n",
       "      <td>0.5923</td>\n",
       "      <td>0.1888</td>\n",
       "      <td>0.8112</td>\n",
       "      <td>0.2937</td>\n",
       "      <td>0.2934</td>\n",
       "      <td>0.2935</td>\n",
       "      <td>0.8911</td>\n",
       "      <td>0.1089</td>\n",
       "      <td>0.1846</td>\n",
       "    </tr>\n",
       "    <tr>\n",
       "      <th>4</th>\n",
       "      <td>5 RandomOverSampler Dataset</td>\n",
       "      <td>RandomForestClassifier</td>\n",
       "      <td>Train</td>\n",
       "      <td>1.0000</td>\n",
       "      <td>1.0000</td>\n",
       "      <td>1.0000</td>\n",
       "      <td>0.0000</td>\n",
       "      <td>1.0000</td>\n",
       "      <td>1.0000</td>\n",
       "      <td>1.0000</td>\n",
       "      <td>1.0000</td>\n",
       "      <td>1.0000</td>\n",
       "      <td>0.0000</td>\n",
       "      <td>87.5167</td>\n",
       "    </tr>\n",
       "    <tr>\n",
       "      <th>5</th>\n",
       "      <td>5 RandomOverSampler Dataset</td>\n",
       "      <td>RandomForestClassifier</td>\n",
       "      <td>Test</td>\n",
       "      <td>0.8660</td>\n",
       "      <td>0.6017</td>\n",
       "      <td>0.8280</td>\n",
       "      <td>0.1340</td>\n",
       "      <td>0.8660</td>\n",
       "      <td>0.4976</td>\n",
       "      <td>0.2409</td>\n",
       "      <td>0.3246</td>\n",
       "      <td>0.9625</td>\n",
       "      <td>0.0375</td>\n",
       "      <td>0.2813</td>\n",
       "    </tr>\n",
       "    <tr>\n",
       "      <th>6</th>\n",
       "      <td>5 RandomOverSampler Dataset</td>\n",
       "      <td>ExtraTreesClassifier</td>\n",
       "      <td>Train</td>\n",
       "      <td>1.0000</td>\n",
       "      <td>1.0000</td>\n",
       "      <td>1.0000</td>\n",
       "      <td>0.0000</td>\n",
       "      <td>1.0000</td>\n",
       "      <td>1.0000</td>\n",
       "      <td>1.0000</td>\n",
       "      <td>1.0000</td>\n",
       "      <td>1.0000</td>\n",
       "      <td>0.0000</td>\n",
       "      <td>87.5167</td>\n",
       "    </tr>\n",
       "    <tr>\n",
       "      <th>7</th>\n",
       "      <td>5 RandomOverSampler Dataset</td>\n",
       "      <td>ExtraTreesClassifier</td>\n",
       "      <td>Test</td>\n",
       "      <td>0.8685</td>\n",
       "      <td>0.5520</td>\n",
       "      <td>0.8191</td>\n",
       "      <td>0.1315</td>\n",
       "      <td>0.8685</td>\n",
       "      <td>0.5380</td>\n",
       "      <td>0.1198</td>\n",
       "      <td>0.1960</td>\n",
       "      <td>0.9841</td>\n",
       "      <td>0.0159</td>\n",
       "      <td>0.2081</td>\n",
       "    </tr>\n",
       "    <tr>\n",
       "      <th>8</th>\n",
       "      <td>5 RandomOverSampler Dataset</td>\n",
       "      <td>GradientBoostingClassifier</td>\n",
       "      <td>Train</td>\n",
       "      <td>0.7624</td>\n",
       "      <td>0.7624</td>\n",
       "      <td>0.8401</td>\n",
       "      <td>0.2376</td>\n",
       "      <td>0.7624</td>\n",
       "      <td>0.7404</td>\n",
       "      <td>0.8082</td>\n",
       "      <td>0.7728</td>\n",
       "      <td>0.7166</td>\n",
       "      <td>0.2834</td>\n",
       "      <td>NaN</td>\n",
       "    </tr>\n",
       "    <tr>\n",
       "      <th>9</th>\n",
       "      <td>5 RandomOverSampler Dataset</td>\n",
       "      <td>GradientBoostingClassifier</td>\n",
       "      <td>Test</td>\n",
       "      <td>0.7271</td>\n",
       "      <td>0.7624</td>\n",
       "      <td>0.8398</td>\n",
       "      <td>0.2729</td>\n",
       "      <td>0.7271</td>\n",
       "      <td>0.3045</td>\n",
       "      <td>0.8107</td>\n",
       "      <td>0.4427</td>\n",
       "      <td>0.7142</td>\n",
       "      <td>0.2858</td>\n",
       "      <td>0.3731</td>\n",
       "    </tr>\n",
       "    <tr>\n",
       "      <th>10</th>\n",
       "      <td>5 RandomOverSampler Dataset</td>\n",
       "      <td>AdaBoostClassifier</td>\n",
       "      <td>Train</td>\n",
       "      <td>0.7562</td>\n",
       "      <td>0.7562</td>\n",
       "      <td>0.8340</td>\n",
       "      <td>0.2438</td>\n",
       "      <td>0.7562</td>\n",
       "      <td>0.7437</td>\n",
       "      <td>0.7819</td>\n",
       "      <td>0.7623</td>\n",
       "      <td>0.7305</td>\n",
       "      <td>0.2695</td>\n",
       "      <td>NaN</td>\n",
       "    </tr>\n",
       "    <tr>\n",
       "      <th>11</th>\n",
       "      <td>5 RandomOverSampler Dataset</td>\n",
       "      <td>AdaBoostClassifier</td>\n",
       "      <td>Test</td>\n",
       "      <td>0.7366</td>\n",
       "      <td>0.7572</td>\n",
       "      <td>0.8354</td>\n",
       "      <td>0.2634</td>\n",
       "      <td>0.7366</td>\n",
       "      <td>0.3091</td>\n",
       "      <td>0.7853</td>\n",
       "      <td>0.4436</td>\n",
       "      <td>0.7290</td>\n",
       "      <td>0.2710</td>\n",
       "      <td>0.3696</td>\n",
       "    </tr>\n",
       "    <tr>\n",
       "      <th>12</th>\n",
       "      <td>5 RandomOverSampler Dataset</td>\n",
       "      <td>LogisticRegression</td>\n",
       "      <td>Train</td>\n",
       "      <td>0.7491</td>\n",
       "      <td>0.7491</td>\n",
       "      <td>0.8251</td>\n",
       "      <td>0.2509</td>\n",
       "      <td>0.7491</td>\n",
       "      <td>0.7372</td>\n",
       "      <td>0.7742</td>\n",
       "      <td>0.7552</td>\n",
       "      <td>0.7241</td>\n",
       "      <td>0.2759</td>\n",
       "      <td>NaN</td>\n",
       "    </tr>\n",
       "    <tr>\n",
       "      <th>13</th>\n",
       "      <td>5 RandomOverSampler Dataset</td>\n",
       "      <td>LogisticRegression</td>\n",
       "      <td>Test</td>\n",
       "      <td>0.7299</td>\n",
       "      <td>0.7523</td>\n",
       "      <td>0.8276</td>\n",
       "      <td>0.2701</td>\n",
       "      <td>0.7299</td>\n",
       "      <td>0.3028</td>\n",
       "      <td>0.7828</td>\n",
       "      <td>0.4367</td>\n",
       "      <td>0.7217</td>\n",
       "      <td>0.2783</td>\n",
       "      <td>0.3611</td>\n",
       "    </tr>\n",
       "  </tbody>\n",
       "</table>\n",
       "</div>"
      ],
      "text/plain": [
       "                     new_column                       model  slice   score  \\\n",
       "0   5 RandomOverSampler Dataset        KNeighborsClassifier  Train  0.9440   \n",
       "1   5 RandomOverSampler Dataset        KNeighborsClassifier   Test  0.7563   \n",
       "2   5 RandomOverSampler Dataset      DecisionTreeClassifier  Train  1.0000   \n",
       "3   5 RandomOverSampler Dataset      DecisionTreeClassifier   Test  0.8112   \n",
       "4   5 RandomOverSampler Dataset      RandomForestClassifier  Train  1.0000   \n",
       "5   5 RandomOverSampler Dataset      RandomForestClassifier   Test  0.8660   \n",
       "6   5 RandomOverSampler Dataset        ExtraTreesClassifier  Train  1.0000   \n",
       "7   5 RandomOverSampler Dataset        ExtraTreesClassifier   Test  0.8685   \n",
       "8   5 RandomOverSampler Dataset  GradientBoostingClassifier  Train  0.7624   \n",
       "9   5 RandomOverSampler Dataset  GradientBoostingClassifier   Test  0.7271   \n",
       "10  5 RandomOverSampler Dataset          AdaBoostClassifier  Train  0.7562   \n",
       "11  5 RandomOverSampler Dataset          AdaBoostClassifier   Test  0.7366   \n",
       "12  5 RandomOverSampler Dataset          LogisticRegression  Train  0.7491   \n",
       "13  5 RandomOverSampler Dataset          LogisticRegression   Test  0.7299   \n",
       "\n",
       "    balanced_accuracy  roc_auc_score  Mean Squared Error  Accuracy  Precision  \\\n",
       "0              0.9440         0.9997              0.0560    0.9440     0.8995   \n",
       "1              0.6427         0.6801              0.2437    0.7563     0.2713   \n",
       "2              1.0000         1.0000              0.0000    1.0000     1.0000   \n",
       "3              0.5923         0.5923              0.1888    0.8112     0.2937   \n",
       "4              1.0000         1.0000              0.0000    1.0000     1.0000   \n",
       "5              0.6017         0.8280              0.1340    0.8660     0.4976   \n",
       "6              1.0000         1.0000              0.0000    1.0000     1.0000   \n",
       "7              0.5520         0.8191              0.1315    0.8685     0.5380   \n",
       "8              0.7624         0.8401              0.2376    0.7624     0.7404   \n",
       "9              0.7624         0.8398              0.2729    0.7271     0.3045   \n",
       "10             0.7562         0.8340              0.2438    0.7562     0.7437   \n",
       "11             0.7572         0.8354              0.2634    0.7366     0.3091   \n",
       "12             0.7491         0.8251              0.2509    0.7491     0.7372   \n",
       "13             0.7523         0.8276              0.2701    0.7299     0.3028   \n",
       "\n",
       "    Recall  F1-score  Specificity  False Positive Rate  \\\n",
       "0   0.9997    0.9470       0.8883               0.1117   \n",
       "1   0.4876    0.3486       0.7978               0.2022   \n",
       "2   1.0000    1.0000       1.0000               0.0000   \n",
       "3   0.2934    0.2935       0.8911               0.1089   \n",
       "4   1.0000    1.0000       1.0000               0.0000   \n",
       "5   0.2409    0.3246       0.9625               0.0375   \n",
       "6   1.0000    1.0000       1.0000               0.0000   \n",
       "7   0.1198    0.1960       0.9841               0.0159   \n",
       "8   0.8082    0.7728       0.7166               0.2834   \n",
       "9   0.8107    0.4427       0.7142               0.2858   \n",
       "10  0.7819    0.7623       0.7305               0.2695   \n",
       "11  0.7853    0.4436       0.7290               0.2710   \n",
       "12  0.7742    0.7552       0.7241               0.2759   \n",
       "13  0.7828    0.4367       0.7217               0.2783   \n",
       "\n",
       "    Matthews Correlation Coefficient  \n",
       "0                                NaN  \n",
       "1                             0.2274  \n",
       "2                            87.5167  \n",
       "3                             0.1846  \n",
       "4                            87.5167  \n",
       "5                             0.2813  \n",
       "6                            87.5167  \n",
       "7                             0.2081  \n",
       "8                                NaN  \n",
       "9                             0.3731  \n",
       "10                               NaN  \n",
       "11                            0.3696  \n",
       "12                               NaN  \n",
       "13                            0.3611  "
      ]
     },
     "execution_count": 16,
     "metadata": {},
     "output_type": "execute_result"
    }
   ],
   "source": [
    "# print the performance summary\n",
    "print(f\"******************************************\")\n",
    "print(f\"Performance Summary for: {dataset_label}\")\n",
    "print(f\"******************************************\")\n",
    "\n",
    "performance_summary"
   ]
  },
  {
   "cell_type": "code",
   "execution_count": 17,
   "metadata": {
    "execution": {
     "iopub.execute_input": "2024-06-10T23:30:55.788490Z",
     "iopub.status.busy": "2024-06-10T23:30:55.788106Z",
     "iopub.status.idle": "2024-06-10T23:30:55.794382Z",
     "shell.execute_reply": "2024-06-10T23:30:55.793020Z"
    }
   },
   "outputs": [
    {
     "name": "stdout",
     "output_type": "stream",
     "text": [
      "Completed: Execution Time 814.7 seconds:\n"
     ]
    }
   ],
   "source": [
    "print(f\"Completed: Execution Time %s seconds:\" % round((time.time() - start_time),2) )"
   ]
  },
  {
   "cell_type": "markdown",
   "metadata": {},
   "source": [
    "---\n",
    "\n",
    "## 6. Conclusions\n",
    "\n",
    "- A first glance at the summary, it appears that the Boosting models may have performed well with test/train scores were >.8 and similar in scale (<.02 delta).  However, the poor test confusion matrix and balanced accuracy highlight the overfitting.\n",
    "\n",
    "- The Base Cleaned data is overfit as indicated by:\n",
    "    - Poor confusion matrix on the detailed report for test sets on all models\n",
    "    - Low balanced accuracy as compared to the model score (less than 50%)\n"
   ]
  },
  {
   "cell_type": "markdown",
   "metadata": {},
   "source": [
    "---\n",
    "\n",
    "---"
   ]
  }
 ],
 "metadata": {
  "kernelspec": {
   "display_name": "dev",
   "language": "python",
   "name": "python3"
  },
  "language_info": {
   "codemirror_mode": {
    "name": "ipython",
    "version": 3
   },
   "file_extension": ".py",
   "mimetype": "text/x-python",
   "name": "python",
   "nbconvert_exporter": "python",
   "pygments_lexer": "ipython3",
   "version": "3.12.2"
  }
 },
 "nbformat": 4,
 "nbformat_minor": 2
}
