{
 "cells": [
  {
   "cell_type": "markdown",
   "metadata": {},
   "source": [
    "---\n",
    "\n",
    "## Data Analysis\n",
    "\n",
    "- This file differs from [2_data_analysis_1_base_data.ipynb](2_data_analysis_1_base_data.ipynb) in that it:\n",
    "    - scales the base cleaned data created in [1_data_cleaning.ipynb](1_data_cleaning.ipynb).\n",
    "\n",
    "Source dataset: 247076 rows × 37 columns\n",
    "Processed and analyzed dataset: 247076 rows × 37 columns\n",
    "\n",
    "---"
   ]
  },
  {
   "cell_type": "code",
   "execution_count": 1,
   "metadata": {
    "execution": {
     "iopub.execute_input": "2024-06-10T21:02:09.118973Z",
     "iopub.status.busy": "2024-06-10T21:02:09.118066Z",
     "iopub.status.idle": "2024-06-10T21:02:11.134394Z",
     "shell.execute_reply": "2024-06-10T21:02:11.132735Z"
    }
   },
   "outputs": [],
   "source": [
    "# package imports go here\n",
    "import pandas as pd\n",
    "import numpy as np\n",
    "import fastparquet as fp\n",
    "import os\n",
    "import sys\n",
    "import pickle\n",
    "import matplotlib.pyplot as plt\n",
    "import importlib\n",
    "import config\n",
    "import time\n",
    "\n",
    "sys.path.insert(1, config.package_path)\n",
    "import ml_analysis as mlanlys\n",
    "import ml_clean_feature as mlclean"
   ]
  },
  {
   "cell_type": "code",
   "execution_count": 2,
   "metadata": {
    "execution": {
     "iopub.execute_input": "2024-06-10T21:02:11.139948Z",
     "iopub.status.busy": "2024-06-10T21:02:11.139242Z",
     "iopub.status.idle": "2024-06-10T21:02:11.148036Z",
     "shell.execute_reply": "2024-06-10T21:02:11.146067Z"
    }
   },
   "outputs": [],
   "source": [
    "start_time = time.time()"
   ]
  },
  {
   "cell_type": "markdown",
   "metadata": {},
   "source": [
    "---\n",
    "\n",
    "## 1. Read the cleaned dataset from file\n",
    "\n",
    "---"
   ]
  },
  {
   "cell_type": "code",
   "execution_count": 3,
   "metadata": {
    "execution": {
     "iopub.execute_input": "2024-06-10T21:02:11.152625Z",
     "iopub.status.busy": "2024-06-10T21:02:11.152216Z",
     "iopub.status.idle": "2024-06-10T21:02:11.178684Z",
     "shell.execute_reply": "2024-06-10T21:02:11.177103Z"
    }
   },
   "outputs": [
    {
     "name": "stdout",
     "output_type": "stream",
     "text": [
      "Year:                        2015\n",
      "Clean File:                  data/brfss_2015_clean.parquet.gzip\n",
      "Performance Report:          reports/performance_report.pkl\n",
      "Detailed Performance Report: reports/3_binary_dataset_detailed_performance_report.txt\n"
     ]
    }
   ],
   "source": [
    "# reload any changes to Config Settings\n",
    "importlib.reload(config)\n",
    "\n",
    "# BE SURE TO UPDATE THE LABEL FOR THIS ANALYSIS\n",
    "# #############################\n",
    "dataset_label = '3 Binary Dataset'\n",
    "# #############################\n",
    "\n",
    "year                        = config.year\n",
    "\n",
    "clean_file                  = config.clean_file\n",
    "performance_report          = config.performance_report\n",
    "\n",
    "report_path                 = config.report_path\n",
    "file_label                  = dataset_label.lower().replace(' ','_')\n",
    "detailed_performance_report = report_path + file_label + '_detailed_performance_report.txt'\n",
    "\n",
    "print(f\"Year:                        {year}\")\n",
    "print(f\"Clean File:                  {clean_file}\")\n",
    "print(f\"Performance Report:          {performance_report}\")\n",
    "print(f\"Detailed Performance Report: {detailed_performance_report}\")"
   ]
  },
  {
   "cell_type": "code",
   "execution_count": 4,
   "metadata": {
    "execution": {
     "iopub.execute_input": "2024-06-10T21:02:11.185230Z",
     "iopub.status.busy": "2024-06-10T21:02:11.184016Z",
     "iopub.status.idle": "2024-06-10T21:02:11.435608Z",
     "shell.execute_reply": "2024-06-10T21:02:11.433137Z"
    }
   },
   "outputs": [],
   "source": [
    "# Read final cleaned dataset from parquet file\n",
    "df = pd.read_parquet(clean_file, engine=\"fastparquet\")"
   ]
  },
  {
   "cell_type": "code",
   "execution_count": 5,
   "metadata": {
    "execution": {
     "iopub.execute_input": "2024-06-10T21:02:11.442520Z",
     "iopub.status.busy": "2024-06-10T21:02:11.442058Z",
     "iopub.status.idle": "2024-06-10T21:02:11.448329Z",
     "shell.execute_reply": "2024-06-10T21:02:11.446712Z"
    }
   },
   "outputs": [],
   "source": [
    "diabetes_labels = df.columns"
   ]
  },
  {
   "cell_type": "code",
   "execution_count": 6,
   "metadata": {
    "execution": {
     "iopub.execute_input": "2024-06-10T21:02:11.453031Z",
     "iopub.status.busy": "2024-06-10T21:02:11.452653Z",
     "iopub.status.idle": "2024-06-10T21:02:11.463384Z",
     "shell.execute_reply": "2024-06-10T21:02:11.462260Z"
    }
   },
   "outputs": [
    {
     "data": {
      "text/plain": [
       "(253680, 22)"
      ]
     },
     "execution_count": 6,
     "metadata": {},
     "output_type": "execute_result"
    }
   ],
   "source": [
    "df.shape"
   ]
  },
  {
   "cell_type": "markdown",
   "metadata": {},
   "source": [
    "---\n",
    "\n",
    "## 2. Prepare the dataset for analysis\n",
    "\n",
    "- Split the dataset into features and labels.\n",
    "- Split the dataset into training and testing sets.\n",
    "- Scale the dataset\n",
    "\n",
    "---"
   ]
  },
  {
   "cell_type": "code",
   "execution_count": 7,
   "metadata": {
    "execution": {
     "iopub.execute_input": "2024-06-10T21:02:11.467424Z",
     "iopub.status.busy": "2024-06-10T21:02:11.467056Z",
     "iopub.status.idle": "2024-06-10T21:02:11.515449Z",
     "shell.execute_reply": "2024-06-10T21:02:11.513222Z"
    }
   },
   "outputs": [],
   "source": [
    "from sklearn.datasets import make_regression, make_swiss_roll\n",
    "from sklearn.model_selection import train_test_split\n",
    "from sklearn.preprocessing import StandardScaler"
   ]
  },
  {
   "cell_type": "code",
   "execution_count": 8,
   "metadata": {
    "execution": {
     "iopub.execute_input": "2024-06-10T21:02:11.520253Z",
     "iopub.status.busy": "2024-06-10T21:02:11.519765Z",
     "iopub.status.idle": "2024-06-10T21:02:11.847564Z",
     "shell.execute_reply": "2024-06-10T21:02:11.846281Z"
    }
   },
   "outputs": [
    {
     "name": "stdout",
     "output_type": "stream",
     "text": [
      "Base Dataset Modifications in Process\n",
      "-------------------------------------\n",
      "**Operation:target_column  diabetes\n",
      "**Operation:convert_to_binary  True\n",
      "  -- Converting dataset to binary (0,1) from (0,1,2)\n",
      "\n",
      "\n",
      "****Cleaning Feature: diabetes\n",
      "  Initial Unique features in [diabetes]:  [0. 1. 2.]\n",
      "  values_to_drop: ********* NO Parameters were specified *********\n",
      "  translate: {1: 0, 2: 1}\n",
      "  scale: ********* NO Parameters were specified *********\n",
      "  FINAL Unique features in [diabetes]:  [0. 1.]\n",
      "**Operation:scaler  standard\n",
      "  -- Performing train_test_split on dataframe with target:'diabetes'\n",
      "     -- Run automatically before scalar or random_sample operations\n",
      "  -- Performing StandardScaler on X_train: Updates X_train, y_test\n",
      "**Operation:random_sample  none\n",
      "\n",
      "Dataframe, Train Test Summary\n",
      "-----------------------------\n",
      "Dataframe: (253680, 22)  Data:4, X_train:190260, y_train:190260, X_test:63420, y_test:63420\n",
      "ValueCounts:   y_train: len:2   0: 163660   1: 26600\n",
      "ValueCounts:   y_test : len:2   0:  54674   1:  8746\n"
     ]
    }
   ],
   "source": [
    "# reload any changes to mlanlys\n",
    "importlib.reload(mlanlys)\n",
    "\n",
    "target = 'diabetes'\n",
    "# Dictionary defining modification to be made to the base dataset\n",
    "operation_dict = {  'target_column'     :  target,\n",
    "                    'convert_to_binary' :  True,\n",
    "                    'scaler'            : 'standard', # options: none, standard, minmax\n",
    "                    'random_sample'     : 'none'      # options: none, undersample, oversample\n",
    "                    }\n",
    "\n",
    "# This insures that df if not modified during the call to modify_base_dataset()\n",
    "df_modified = df.copy()\n",
    "\n",
    "# Modify the base dataset\n",
    "# data is returned where: X_train, X_test, y_train, y_test = data\n",
    "data = mlanlys.modify_base_dataset(df_modified, operation_dict)"
   ]
  },
  {
   "cell_type": "code",
   "execution_count": 9,
   "metadata": {
    "execution": {
     "iopub.execute_input": "2024-06-10T21:02:11.852304Z",
     "iopub.status.busy": "2024-06-10T21:02:11.851444Z",
     "iopub.status.idle": "2024-06-10T21:02:11.868730Z",
     "shell.execute_reply": "2024-06-10T21:02:11.867306Z"
    }
   },
   "outputs": [
    {
     "name": "stdout",
     "output_type": "stream",
     "text": [
      "Original Dataframe\n",
      "------------------\n",
      "df.shape: (253680, 22)\n",
      "df[diabetes].value_counts:  diabetes\n",
      "0.0    213703\n",
      "2.0     35346\n",
      "1.0      4631\n",
      "Name: count, dtype: int64\n",
      "\n",
      "Modified Dataframe\n",
      "------------------\n",
      "df_modified.shape: (253680, 22)\n",
      "df_modified[diabetes].value_counts:  diabetes\n",
      "0.0    218334\n",
      "1.0     35346\n",
      "Name: count, dtype: int64\n"
     ]
    }
   ],
   "source": [
    "# Print some statistics about the original df and the modified dataframe\n",
    "print(f\"Original Dataframe\")\n",
    "print(f\"------------------\")\n",
    "print(f\"df.shape: {df.shape}\")\n",
    "print(f\"df[{target}].value_counts:  {df[target].value_counts()}\")\n",
    "\n",
    "print(f\"\\nModified Dataframe\")\n",
    "print(f\"------------------\")\n",
    "print(f\"df_modified.shape: {df_modified.shape}\")\n",
    "print(f\"df_modified[{target}].value_counts:  {df_modified[target].value_counts()}\")"
   ]
  },
  {
   "cell_type": "code",
   "execution_count": 10,
   "metadata": {
    "execution": {
     "iopub.execute_input": "2024-06-10T21:02:11.874001Z",
     "iopub.status.busy": "2024-06-10T21:02:11.873589Z",
     "iopub.status.idle": "2024-06-10T21:02:11.886271Z",
     "shell.execute_reply": "2024-06-10T21:02:11.885208Z"
    }
   },
   "outputs": [
    {
     "name": "stdout",
     "output_type": "stream",
     "text": [
      "Dataframe: (253680, 22)  Data:4, X_train:190260, y_train:190260, X_test:63420, y_test:63420\n"
     ]
    },
    {
     "data": {
      "text/plain": [
       "diabetes\n",
       "0.0    163660\n",
       "1.0     26600\n",
       "Name: count, dtype: int64"
      ]
     },
     "execution_count": 10,
     "metadata": {},
     "output_type": "execute_result"
    }
   ],
   "source": [
    "X_train, X_test, y_train, y_test = data\n",
    "print(f\"Dataframe: {df_modified.shape}  Data:{len(data)}, X_train:{len(X_train)}, y_train:{len(y_train)}, X_test:{len(X_test)}, y_test:{len(y_test)}\")\n",
    "y_train.value_counts()"
   ]
  },
  {
   "cell_type": "code",
   "execution_count": 11,
   "metadata": {
    "execution": {
     "iopub.execute_input": "2024-06-10T21:02:11.890903Z",
     "iopub.status.busy": "2024-06-10T21:02:11.889611Z",
     "iopub.status.idle": "2024-06-10T21:02:11.901656Z",
     "shell.execute_reply": "2024-06-10T21:02:11.900598Z"
    }
   },
   "outputs": [
    {
     "data": {
      "text/plain": [
       "diabetes\n",
       "0.0    54674\n",
       "1.0     8746\n",
       "Name: count, dtype: int64"
      ]
     },
     "execution_count": 11,
     "metadata": {},
     "output_type": "execute_result"
    }
   ],
   "source": [
    "y_test.value_counts()"
   ]
  },
  {
   "cell_type": "markdown",
   "metadata": {},
   "source": [
    "---\n",
    "\n",
    "## 3. Run initial Tests and get k_value\n",
    "\n",
    "**From step 2:**  Data = [X_train_modified, X_test_modified, y_train_modified, y_test]\n",
    "\n",
    "---"
   ]
  },
  {
   "cell_type": "code",
   "execution_count": 12,
   "metadata": {
    "execution": {
     "iopub.execute_input": "2024-06-10T21:02:11.904950Z",
     "iopub.status.busy": "2024-06-10T21:02:11.904635Z",
     "iopub.status.idle": "2024-06-10T21:02:11.929652Z",
     "shell.execute_reply": "2024-06-10T21:02:11.928146Z"
    }
   },
   "outputs": [
    {
     "data": {
      "text/plain": [
       "<module 'ml_analysis' from '/mnt/c/ML/DU/repos/projects/project-2/DU-project-2-2015/brfss_2015/../pkgs/ml_analysis.py'>"
      ]
     },
     "execution_count": 12,
     "metadata": {},
     "output_type": "execute_result"
    }
   ],
   "source": [
    "# reload any changes to mlanlys\n",
    "importlib.reload(mlanlys)\n",
    "\n",
    "# Determine the k_value\n",
    "# mlanlys.knn_plot(data)"
   ]
  },
  {
   "cell_type": "markdown",
   "metadata": {},
   "source": [
    "**Note:** From the knn plot above, pick a k-value of 3."
   ]
  },
  {
   "cell_type": "markdown",
   "metadata": {},
   "source": [
    "---\n",
    "\n",
    "## 4. Run the Analysis\n",
    "\n",
    "---\n",
    "\n",
    "#### Model Run Times\n",
    "\n",
    "-  Base dataset (247076 rows × 37 columns):\n",
    "\n",
    "| Model | Run Time |\n",
    "| ----- | -------- |\n",
    "| test_model(SVC(kernel='linear'), data)                          | Aborted >35min (Data too large, consider for RandomUndersampling dataset) |\n",
    "| test_model(KNeighborsClassifier(n_neighbors=k_value), data)     | 247.13 seconds |\n",
    "| test_model(tree.DecisionTreeClassifier(), data)                 |   3.89 seconds |\n",
    "| test_model(RandomForestClassifier(), data)                      |  60.94 seconds |\n",
    "| test_model(ExtraTreesClassifier(random_state=1), data)          |  58.54 seconds |\n",
    "| test_model(GradientBoostingClassifier(random_state=1), data)    | 115.21 seconds |\n",
    "| test_model(AdaBoostClassifier(random_state=1), data)            |  11.91 seconds |\n",
    "| test_model(LogisticRegression(), data)                          |   4.90 seconds |\n",
    "| **Total** w/o SVC| 502.52 seconds / **8:23 minutes** |"
   ]
  },
  {
   "cell_type": "code",
   "execution_count": 13,
   "metadata": {
    "execution": {
     "iopub.execute_input": "2024-06-10T21:02:11.933754Z",
     "iopub.status.busy": "2024-06-10T21:02:11.933376Z",
     "iopub.status.idle": "2024-06-10T21:08:34.665465Z",
     "shell.execute_reply": "2024-06-10T21:08:34.663718Z"
    }
   },
   "outputs": [],
   "source": [
    "# reload any changes to nlanlys\n",
    "importlib.reload(mlanlys)\n",
    "\n",
    "k_value = 3\n",
    "\n",
    "#### COMMENT OUT ONE OF THE FOLLOWING SECTIONS\n",
    "\n",
    "## SECTION 1\n",
    "# Capture stdout & stderr into two strings: osc.stdout and osc.stderr that contain the output from the function\n",
    "# -- This allows the output to be printed here or to a file or both.\n",
    "\n",
    "with mlanlys.OutStreamCapture() as osc:\n",
    "    performance_summary = mlanlys.run_classification_models(data, k_value)\n",
    "#    performance_summary = mlanlys.run_classification_models_test(data, k_value)\n",
    "\n",
    "## <OR>\n",
    "## SECTION 2\n",
    "\n",
    "# performance_summary = mlanlys.run_classification_models(data, k_value)\n"
   ]
  },
  {
   "cell_type": "code",
   "execution_count": 14,
   "metadata": {
    "execution": {
     "iopub.execute_input": "2024-06-10T21:08:34.672155Z",
     "iopub.status.busy": "2024-06-10T21:08:34.671371Z",
     "iopub.status.idle": "2024-06-10T21:08:34.677109Z",
     "shell.execute_reply": "2024-06-10T21:08:34.675755Z"
    }
   },
   "outputs": [],
   "source": [
    "# UNCOMMENT if using SECTION 1 in the previous step\n",
    "# print(osc.stdout)\n",
    "\n",
    "# Add code to print osc.stdout to a file if desired."
   ]
  },
  {
   "cell_type": "markdown",
   "metadata": {},
   "source": [
    "---\n",
    "\n",
    "### 4.1 Archive Performance Summary\n",
    "\n",
    "- For use in Project-2 Performance Summary Report\n",
    "---"
   ]
  },
  {
   "cell_type": "code",
   "execution_count": 15,
   "metadata": {
    "execution": {
     "iopub.execute_input": "2024-06-10T21:08:34.681890Z",
     "iopub.status.busy": "2024-06-10T21:08:34.681386Z",
     "iopub.status.idle": "2024-06-10T21:08:34.724051Z",
     "shell.execute_reply": "2024-06-10T21:08:34.722520Z"
    }
   },
   "outputs": [
    {
     "name": "stdout",
     "output_type": "stream",
     "text": [
      "The file reports/performance_report.pkl exists.\n"
     ]
    }
   ],
   "source": [
    "# performance_summary is a dataframe of performance statistics\n",
    "\n",
    "# Add the dataset label as the first column in performance_summary\n",
    "dataset_column = pd.Series([dataset_label] * len(performance_summary), name=dataset_label)\n",
    "performance_summary.insert(0, 'new_column', dataset_column)\n",
    "\n",
    "analysis_perf_summary = { 'dataset_size': list(df.shape), 'report': performance_summary}\n",
    "\n",
    "# Performance_report is a file containing all the performance summary statistics\n",
    "if os.path.exists(performance_report):\n",
    "    print(f\"The file {performance_report} exists.\")\n",
    "    # Load Performance Report\n",
    "    with open(performance_report, 'rb') as file: perf_report = pickle.load(file)\n",
    "else:\n",
    "    print(f\"The file {performance_report} does not exist.\")\n",
    "    perf_report = {}\n",
    "    \n",
    "perf_report[dataset_label] = analysis_perf_summary\n",
    "\n",
    "# Save Performance Report\n",
    "with open(performance_report, 'wb') as file: pickle.dump(perf_report, file)"
   ]
  },
  {
   "cell_type": "markdown",
   "metadata": {},
   "source": [
    "### 4.2 Archive the Performance Detailed Statistics Report\n",
    "---"
   ]
  },
  {
   "cell_type": "code",
   "execution_count": 16,
   "metadata": {
    "execution": {
     "iopub.execute_input": "2024-06-10T21:08:34.729337Z",
     "iopub.status.busy": "2024-06-10T21:08:34.728921Z",
     "iopub.status.idle": "2024-06-10T21:08:34.752070Z",
     "shell.execute_reply": "2024-06-10T21:08:34.749937Z"
    }
   },
   "outputs": [],
   "source": [
    "# osc.stdout contains the details of the performance statistics\n",
    "\n",
    "with open(detailed_performance_report, \"w\") as file:\n",
    "    file.write(osc.stdout)"
   ]
  },
  {
   "cell_type": "markdown",
   "metadata": {},
   "source": [
    "---\n",
    "\n",
    "## 5. Performance Summary\n",
    "\n",
    "---"
   ]
  },
  {
   "cell_type": "code",
   "execution_count": 17,
   "metadata": {
    "execution": {
     "iopub.execute_input": "2024-06-10T21:08:34.757635Z",
     "iopub.status.busy": "2024-06-10T21:08:34.757151Z",
     "iopub.status.idle": "2024-06-10T21:08:34.795914Z",
     "shell.execute_reply": "2024-06-10T21:08:34.794534Z"
    }
   },
   "outputs": [
    {
     "name": "stdout",
     "output_type": "stream",
     "text": [
      "******************************************\n",
      "Performance Summary for: 3 Binary Dataset\n",
      "******************************************\n"
     ]
    },
    {
     "data": {
      "text/html": [
       "<div>\n",
       "<style scoped>\n",
       "    .dataframe tbody tr th:only-of-type {\n",
       "        vertical-align: middle;\n",
       "    }\n",
       "\n",
       "    .dataframe tbody tr th {\n",
       "        vertical-align: top;\n",
       "    }\n",
       "\n",
       "    .dataframe thead th {\n",
       "        text-align: right;\n",
       "    }\n",
       "</style>\n",
       "<table border=\"1\" class=\"dataframe\">\n",
       "  <thead>\n",
       "    <tr style=\"text-align: right;\">\n",
       "      <th></th>\n",
       "      <th>new_column</th>\n",
       "      <th>model</th>\n",
       "      <th>slice</th>\n",
       "      <th>score</th>\n",
       "      <th>balanced_accuracy</th>\n",
       "      <th>roc_auc_score</th>\n",
       "      <th>Mean Squared Error</th>\n",
       "      <th>Accuracy</th>\n",
       "      <th>Precision</th>\n",
       "      <th>Recall</th>\n",
       "      <th>F1-score</th>\n",
       "      <th>Specificity</th>\n",
       "      <th>False Positive Rate</th>\n",
       "      <th>Matthews Correlation Coefficient</th>\n",
       "    </tr>\n",
       "  </thead>\n",
       "  <tbody>\n",
       "    <tr>\n",
       "      <th>0</th>\n",
       "      <td>3 Binary Dataset</td>\n",
       "      <td>KNeighborsClassifier</td>\n",
       "      <td>Train</td>\n",
       "      <td>0.9024</td>\n",
       "      <td>0.7268</td>\n",
       "      <td>0.9340</td>\n",
       "      <td>0.0976</td>\n",
       "      <td>0.9024</td>\n",
       "      <td>0.7276</td>\n",
       "      <td>0.4831</td>\n",
       "      <td>0.5807</td>\n",
       "      <td>0.9706</td>\n",
       "      <td>0.0294</td>\n",
       "      <td>NaN</td>\n",
       "    </tr>\n",
       "    <tr>\n",
       "      <th>1</th>\n",
       "      <td>3 Binary Dataset</td>\n",
       "      <td>KNeighborsClassifier</td>\n",
       "      <td>Test</td>\n",
       "      <td>0.8371</td>\n",
       "      <td>0.5851</td>\n",
       "      <td>0.6772</td>\n",
       "      <td>0.1629</td>\n",
       "      <td>0.8371</td>\n",
       "      <td>0.3619</td>\n",
       "      <td>0.2370</td>\n",
       "      <td>0.2864</td>\n",
       "      <td>0.9331</td>\n",
       "      <td>0.0669</td>\n",
       "      <td>0.2047</td>\n",
       "    </tr>\n",
       "    <tr>\n",
       "      <th>2</th>\n",
       "      <td>3 Binary Dataset</td>\n",
       "      <td>DecisionTreeClassifier</td>\n",
       "      <td>Train</td>\n",
       "      <td>0.9944</td>\n",
       "      <td>0.9805</td>\n",
       "      <td>0.9998</td>\n",
       "      <td>0.0056</td>\n",
       "      <td>0.9944</td>\n",
       "      <td>0.9991</td>\n",
       "      <td>0.9611</td>\n",
       "      <td>0.9797</td>\n",
       "      <td>0.9999</td>\n",
       "      <td>0.0001</td>\n",
       "      <td>NaN</td>\n",
       "    </tr>\n",
       "    <tr>\n",
       "      <th>3</th>\n",
       "      <td>3 Binary Dataset</td>\n",
       "      <td>DecisionTreeClassifier</td>\n",
       "      <td>Test</td>\n",
       "      <td>0.7958</td>\n",
       "      <td>0.5959</td>\n",
       "      <td>0.5960</td>\n",
       "      <td>0.2042</td>\n",
       "      <td>0.7958</td>\n",
       "      <td>0.2856</td>\n",
       "      <td>0.3199</td>\n",
       "      <td>0.3018</td>\n",
       "      <td>0.8720</td>\n",
       "      <td>0.1280</td>\n",
       "      <td>0.1831</td>\n",
       "    </tr>\n",
       "    <tr>\n",
       "      <th>4</th>\n",
       "      <td>3 Binary Dataset</td>\n",
       "      <td>RandomForestClassifier</td>\n",
       "      <td>Train</td>\n",
       "      <td>0.9944</td>\n",
       "      <td>0.9819</td>\n",
       "      <td>0.9994</td>\n",
       "      <td>0.0056</td>\n",
       "      <td>0.9944</td>\n",
       "      <td>0.9953</td>\n",
       "      <td>0.9645</td>\n",
       "      <td>0.9797</td>\n",
       "      <td>0.9993</td>\n",
       "      <td>0.0007</td>\n",
       "      <td>41.2378</td>\n",
       "    </tr>\n",
       "    <tr>\n",
       "      <th>5</th>\n",
       "      <td>3 Binary Dataset</td>\n",
       "      <td>RandomForestClassifier</td>\n",
       "      <td>Test</td>\n",
       "      <td>0.8600</td>\n",
       "      <td>0.5712</td>\n",
       "      <td>0.7990</td>\n",
       "      <td>0.1400</td>\n",
       "      <td>0.8600</td>\n",
       "      <td>0.4786</td>\n",
       "      <td>0.1725</td>\n",
       "      <td>0.2536</td>\n",
       "      <td>0.9699</td>\n",
       "      <td>0.0301</td>\n",
       "      <td>0.2260</td>\n",
       "    </tr>\n",
       "    <tr>\n",
       "      <th>6</th>\n",
       "      <td>3 Binary Dataset</td>\n",
       "      <td>ExtraTreesClassifier</td>\n",
       "      <td>Train</td>\n",
       "      <td>0.9944</td>\n",
       "      <td>0.9805</td>\n",
       "      <td>0.9998</td>\n",
       "      <td>0.0056</td>\n",
       "      <td>0.9944</td>\n",
       "      <td>0.9991</td>\n",
       "      <td>0.9611</td>\n",
       "      <td>0.9797</td>\n",
       "      <td>0.9999</td>\n",
       "      <td>0.0001</td>\n",
       "      <td>NaN</td>\n",
       "    </tr>\n",
       "    <tr>\n",
       "      <th>7</th>\n",
       "      <td>3 Binary Dataset</td>\n",
       "      <td>ExtraTreesClassifier</td>\n",
       "      <td>Test</td>\n",
       "      <td>0.8526</td>\n",
       "      <td>0.5686</td>\n",
       "      <td>0.7778</td>\n",
       "      <td>0.1474</td>\n",
       "      <td>0.8526</td>\n",
       "      <td>0.4180</td>\n",
       "      <td>0.1764</td>\n",
       "      <td>0.2481</td>\n",
       "      <td>0.9607</td>\n",
       "      <td>0.0393</td>\n",
       "      <td>0.2020</td>\n",
       "    </tr>\n",
       "    <tr>\n",
       "      <th>8</th>\n",
       "      <td>3 Binary Dataset</td>\n",
       "      <td>GradientBoostingClassifier</td>\n",
       "      <td>Train</td>\n",
       "      <td>0.8668</td>\n",
       "      <td>0.5734</td>\n",
       "      <td>0.8319</td>\n",
       "      <td>0.1332</td>\n",
       "      <td>0.8668</td>\n",
       "      <td>0.5836</td>\n",
       "      <td>0.1661</td>\n",
       "      <td>0.2586</td>\n",
       "      <td>0.9807</td>\n",
       "      <td>0.0193</td>\n",
       "      <td>0.2605</td>\n",
       "    </tr>\n",
       "    <tr>\n",
       "      <th>9</th>\n",
       "      <td>3 Binary Dataset</td>\n",
       "      <td>GradientBoostingClassifier</td>\n",
       "      <td>Test</td>\n",
       "      <td>0.8670</td>\n",
       "      <td>0.5707</td>\n",
       "      <td>0.8301</td>\n",
       "      <td>0.1330</td>\n",
       "      <td>0.8670</td>\n",
       "      <td>0.5616</td>\n",
       "      <td>0.1617</td>\n",
       "      <td>0.2511</td>\n",
       "      <td>0.9798</td>\n",
       "      <td>0.0202</td>\n",
       "      <td>0.2498</td>\n",
       "    </tr>\n",
       "    <tr>\n",
       "      <th>10</th>\n",
       "      <td>3 Binary Dataset</td>\n",
       "      <td>AdaBoostClassifier</td>\n",
       "      <td>Train</td>\n",
       "      <td>0.8645</td>\n",
       "      <td>0.5831</td>\n",
       "      <td>0.8266</td>\n",
       "      <td>0.1355</td>\n",
       "      <td>0.8645</td>\n",
       "      <td>0.5435</td>\n",
       "      <td>0.1925</td>\n",
       "      <td>0.2843</td>\n",
       "      <td>0.9737</td>\n",
       "      <td>0.0263</td>\n",
       "      <td>0.2657</td>\n",
       "    </tr>\n",
       "    <tr>\n",
       "      <th>11</th>\n",
       "      <td>3 Binary Dataset</td>\n",
       "      <td>AdaBoostClassifier</td>\n",
       "      <td>Test</td>\n",
       "      <td>0.8663</td>\n",
       "      <td>0.5837</td>\n",
       "      <td>0.8269</td>\n",
       "      <td>0.1337</td>\n",
       "      <td>0.8663</td>\n",
       "      <td>0.5428</td>\n",
       "      <td>0.1935</td>\n",
       "      <td>0.2853</td>\n",
       "      <td>0.9739</td>\n",
       "      <td>0.0261</td>\n",
       "      <td>0.2670</td>\n",
       "    </tr>\n",
       "    <tr>\n",
       "      <th>12</th>\n",
       "      <td>3 Binary Dataset</td>\n",
       "      <td>LogisticRegression</td>\n",
       "      <td>Train</td>\n",
       "      <td>0.8630</td>\n",
       "      <td>0.5669</td>\n",
       "      <td>0.8220</td>\n",
       "      <td>0.1370</td>\n",
       "      <td>0.8630</td>\n",
       "      <td>0.5343</td>\n",
       "      <td>0.1558</td>\n",
       "      <td>0.2413</td>\n",
       "      <td>0.9779</td>\n",
       "      <td>0.0221</td>\n",
       "      <td>0.2345</td>\n",
       "    </tr>\n",
       "    <tr>\n",
       "      <th>13</th>\n",
       "      <td>3 Binary Dataset</td>\n",
       "      <td>LogisticRegression</td>\n",
       "      <td>Test</td>\n",
       "      <td>0.8649</td>\n",
       "      <td>0.5684</td>\n",
       "      <td>0.8232</td>\n",
       "      <td>0.1351</td>\n",
       "      <td>0.8649</td>\n",
       "      <td>0.5344</td>\n",
       "      <td>0.1589</td>\n",
       "      <td>0.2450</td>\n",
       "      <td>0.9779</td>\n",
       "      <td>0.0221</td>\n",
       "      <td>0.2378</td>\n",
       "    </tr>\n",
       "  </tbody>\n",
       "</table>\n",
       "</div>"
      ],
      "text/plain": [
       "          new_column                       model  slice   score  \\\n",
       "0   3 Binary Dataset        KNeighborsClassifier  Train  0.9024   \n",
       "1   3 Binary Dataset        KNeighborsClassifier   Test  0.8371   \n",
       "2   3 Binary Dataset      DecisionTreeClassifier  Train  0.9944   \n",
       "3   3 Binary Dataset      DecisionTreeClassifier   Test  0.7958   \n",
       "4   3 Binary Dataset      RandomForestClassifier  Train  0.9944   \n",
       "5   3 Binary Dataset      RandomForestClassifier   Test  0.8600   \n",
       "6   3 Binary Dataset        ExtraTreesClassifier  Train  0.9944   \n",
       "7   3 Binary Dataset        ExtraTreesClassifier   Test  0.8526   \n",
       "8   3 Binary Dataset  GradientBoostingClassifier  Train  0.8668   \n",
       "9   3 Binary Dataset  GradientBoostingClassifier   Test  0.8670   \n",
       "10  3 Binary Dataset          AdaBoostClassifier  Train  0.8645   \n",
       "11  3 Binary Dataset          AdaBoostClassifier   Test  0.8663   \n",
       "12  3 Binary Dataset          LogisticRegression  Train  0.8630   \n",
       "13  3 Binary Dataset          LogisticRegression   Test  0.8649   \n",
       "\n",
       "    balanced_accuracy  roc_auc_score  Mean Squared Error  Accuracy  Precision  \\\n",
       "0              0.7268         0.9340              0.0976    0.9024     0.7276   \n",
       "1              0.5851         0.6772              0.1629    0.8371     0.3619   \n",
       "2              0.9805         0.9998              0.0056    0.9944     0.9991   \n",
       "3              0.5959         0.5960              0.2042    0.7958     0.2856   \n",
       "4              0.9819         0.9994              0.0056    0.9944     0.9953   \n",
       "5              0.5712         0.7990              0.1400    0.8600     0.4786   \n",
       "6              0.9805         0.9998              0.0056    0.9944     0.9991   \n",
       "7              0.5686         0.7778              0.1474    0.8526     0.4180   \n",
       "8              0.5734         0.8319              0.1332    0.8668     0.5836   \n",
       "9              0.5707         0.8301              0.1330    0.8670     0.5616   \n",
       "10             0.5831         0.8266              0.1355    0.8645     0.5435   \n",
       "11             0.5837         0.8269              0.1337    0.8663     0.5428   \n",
       "12             0.5669         0.8220              0.1370    0.8630     0.5343   \n",
       "13             0.5684         0.8232              0.1351    0.8649     0.5344   \n",
       "\n",
       "    Recall  F1-score  Specificity  False Positive Rate  \\\n",
       "0   0.4831    0.5807       0.9706               0.0294   \n",
       "1   0.2370    0.2864       0.9331               0.0669   \n",
       "2   0.9611    0.9797       0.9999               0.0001   \n",
       "3   0.3199    0.3018       0.8720               0.1280   \n",
       "4   0.9645    0.9797       0.9993               0.0007   \n",
       "5   0.1725    0.2536       0.9699               0.0301   \n",
       "6   0.9611    0.9797       0.9999               0.0001   \n",
       "7   0.1764    0.2481       0.9607               0.0393   \n",
       "8   0.1661    0.2586       0.9807               0.0193   \n",
       "9   0.1617    0.2511       0.9798               0.0202   \n",
       "10  0.1925    0.2843       0.9737               0.0263   \n",
       "11  0.1935    0.2853       0.9739               0.0261   \n",
       "12  0.1558    0.2413       0.9779               0.0221   \n",
       "13  0.1589    0.2450       0.9779               0.0221   \n",
       "\n",
       "    Matthews Correlation Coefficient  \n",
       "0                                NaN  \n",
       "1                             0.2047  \n",
       "2                                NaN  \n",
       "3                             0.1831  \n",
       "4                            41.2378  \n",
       "5                             0.2260  \n",
       "6                                NaN  \n",
       "7                             0.2020  \n",
       "8                             0.2605  \n",
       "9                             0.2498  \n",
       "10                            0.2657  \n",
       "11                            0.2670  \n",
       "12                            0.2345  \n",
       "13                            0.2378  "
      ]
     },
     "execution_count": 17,
     "metadata": {},
     "output_type": "execute_result"
    }
   ],
   "source": [
    "# print the performance summary\n",
    "print(f\"******************************************\")\n",
    "print(f\"Performance Summary for: {dataset_label}\")\n",
    "print(f\"******************************************\")\n",
    "\n",
    "performance_summary"
   ]
  },
  {
   "cell_type": "code",
   "execution_count": 18,
   "metadata": {
    "execution": {
     "iopub.execute_input": "2024-06-10T21:08:34.800180Z",
     "iopub.status.busy": "2024-06-10T21:08:34.799496Z",
     "iopub.status.idle": "2024-06-10T21:08:34.806248Z",
     "shell.execute_reply": "2024-06-10T21:08:34.805014Z"
    }
   },
   "outputs": [
    {
     "name": "stdout",
     "output_type": "stream",
     "text": [
      "Completed: Execution Time 383.66 seconds:\n"
     ]
    }
   ],
   "source": [
    "print(f\"Completed: Execution Time %s seconds:\" % round((time.time() - start_time),2) )"
   ]
  },
  {
   "cell_type": "markdown",
   "metadata": {},
   "source": [
    "---\n",
    "\n",
    "## 6. Conclusions\n",
    "\n",
    "- A first glance at the summary, it appears that the Boosting models may have performed well with test/train scores were >.8 and similar in scale (<.02 delta).  However, the poor test confusion matrix and balanced accuracy highlight the overfitting.\n",
    "\n",
    "- The Base Cleaned data is overfit as indicated by:\n",
    "    - Poor confusion matrix on the detailed report for test sets on all models\n",
    "    - Low balanced accuracy as compared to the model score (less than 50%)\n"
   ]
  },
  {
   "cell_type": "markdown",
   "metadata": {},
   "source": [
    "---\n",
    "\n",
    "---"
   ]
  }
 ],
 "metadata": {
  "kernelspec": {
   "display_name": "dev",
   "language": "python",
   "name": "python3"
  },
  "language_info": {
   "codemirror_mode": {
    "name": "ipython",
    "version": 3
   },
   "file_extension": ".py",
   "mimetype": "text/x-python",
   "name": "python",
   "nbconvert_exporter": "python",
   "pygments_lexer": "ipython3",
   "version": "3.12.2"
  }
 },
 "nbformat": 4,
 "nbformat_minor": 2
}
