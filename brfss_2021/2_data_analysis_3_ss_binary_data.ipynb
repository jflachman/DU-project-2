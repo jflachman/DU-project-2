{
 "cells": [
  {
   "cell_type": "markdown",
   "metadata": {},
   "source": [
    "---\n",
    "\n",
    "## Data Analysis\n",
    "\n",
    "- This file differs from [2_data_analysis_1_base_data.ipynb](2_data_analysis_1_base_data.ipynb) in that it:\n",
    "    - scales the base cleaned data created in [1_data_cleaning.ipynb](1_data_cleaning.ipynb).\n",
    "\n",
    "Source dataset: 247076 rows × 37 columns\n",
    "Processed and analyzed dataset: 247076 rows × 37 columns\n",
    "\n",
    "---"
   ]
  },
  {
   "cell_type": "code",
   "execution_count": 1,
   "metadata": {
    "execution": {
     "iopub.execute_input": "2024-06-10T23:09:57.327927Z",
     "iopub.status.busy": "2024-06-10T23:09:57.326912Z",
     "iopub.status.idle": "2024-06-10T23:09:59.741501Z",
     "shell.execute_reply": "2024-06-10T23:09:59.740376Z"
    }
   },
   "outputs": [],
   "source": [
    "# package imports go here\n",
    "import pandas as pd\n",
    "import numpy as np\n",
    "import fastparquet as fp\n",
    "import os\n",
    "import sys\n",
    "import pickle\n",
    "import matplotlib.pyplot as plt\n",
    "import importlib\n",
    "import config\n",
    "import time\n",
    "\n",
    "sys.path.insert(1, config.package_path)\n",
    "import ml_analysis as mlanlys\n",
    "import ml_clean_feature as mlclean"
   ]
  },
  {
   "cell_type": "code",
   "execution_count": 2,
   "metadata": {
    "execution": {
     "iopub.execute_input": "2024-06-10T23:09:59.746328Z",
     "iopub.status.busy": "2024-06-10T23:09:59.745192Z",
     "iopub.status.idle": "2024-06-10T23:09:59.751220Z",
     "shell.execute_reply": "2024-06-10T23:09:59.749840Z"
    }
   },
   "outputs": [],
   "source": [
    "start_time = time.time()"
   ]
  },
  {
   "cell_type": "markdown",
   "metadata": {},
   "source": [
    "---\n",
    "\n",
    "## 1. Read the cleaned dataset from file\n",
    "\n",
    "---"
   ]
  },
  {
   "cell_type": "code",
   "execution_count": 3,
   "metadata": {
    "execution": {
     "iopub.execute_input": "2024-06-10T23:09:59.754906Z",
     "iopub.status.busy": "2024-06-10T23:09:59.754572Z",
     "iopub.status.idle": "2024-06-10T23:09:59.774966Z",
     "shell.execute_reply": "2024-06-10T23:09:59.773909Z"
    }
   },
   "outputs": [
    {
     "name": "stdout",
     "output_type": "stream",
     "text": [
      "Year:                        2021\n",
      "Clean File:                  data/brfss_2021_clean.parquet.gzip\n",
      "Performance Report:          reports/performance_report.pkl\n",
      "Detailed Performance Report: reports/3_binary_dataset_detailed_performance_report.txt\n"
     ]
    }
   ],
   "source": [
    "# reload any changes to Config Settings\n",
    "importlib.reload(config)\n",
    "\n",
    "# BE SURE TO UPDATE THE LABEL FOR THIS ANALYSIS\n",
    "# #############################\n",
    "dataset_label = '3 Binary Dataset'\n",
    "# #############################\n",
    "\n",
    "year                        = config.year\n",
    "\n",
    "clean_file                  = config.clean_file\n",
    "performance_report          = config.performance_report\n",
    "\n",
    "report_path                 = config.report_path\n",
    "file_label                  = dataset_label.lower().replace(' ','_')\n",
    "detailed_performance_report = report_path + file_label + '_detailed_performance_report.txt'\n",
    "\n",
    "print(f\"Year:                        {year}\")\n",
    "print(f\"Clean File:                  {clean_file}\")\n",
    "print(f\"Performance Report:          {performance_report}\")\n",
    "print(f\"Detailed Performance Report: {detailed_performance_report}\")"
   ]
  },
  {
   "cell_type": "code",
   "execution_count": 4,
   "metadata": {
    "execution": {
     "iopub.execute_input": "2024-06-10T23:09:59.779266Z",
     "iopub.status.busy": "2024-06-10T23:09:59.778292Z",
     "iopub.status.idle": "2024-06-10T23:10:00.098398Z",
     "shell.execute_reply": "2024-06-10T23:10:00.097534Z"
    }
   },
   "outputs": [],
   "source": [
    "# Read final cleaned dataset from parquet file\n",
    "df = pd.read_parquet(clean_file, engine=\"fastparquet\")"
   ]
  },
  {
   "cell_type": "code",
   "execution_count": 5,
   "metadata": {
    "execution": {
     "iopub.execute_input": "2024-06-10T23:10:00.101355Z",
     "iopub.status.busy": "2024-06-10T23:10:00.101078Z",
     "iopub.status.idle": "2024-06-10T23:10:00.104769Z",
     "shell.execute_reply": "2024-06-10T23:10:00.104012Z"
    }
   },
   "outputs": [],
   "source": [
    "diabetes_labels = df.columns"
   ]
  },
  {
   "cell_type": "code",
   "execution_count": 6,
   "metadata": {
    "execution": {
     "iopub.execute_input": "2024-06-10T23:10:00.107442Z",
     "iopub.status.busy": "2024-06-10T23:10:00.107195Z",
     "iopub.status.idle": "2024-06-10T23:10:00.113403Z",
     "shell.execute_reply": "2024-06-10T23:10:00.112673Z"
    }
   },
   "outputs": [
    {
     "data": {
      "text/plain": [
       "(247076, 37)"
      ]
     },
     "execution_count": 6,
     "metadata": {},
     "output_type": "execute_result"
    }
   ],
   "source": [
    "df.shape"
   ]
  },
  {
   "cell_type": "markdown",
   "metadata": {},
   "source": [
    "---\n",
    "\n",
    "## 2. Prepare the dataset for analysis\n",
    "\n",
    "- Split the dataset into features and labels.\n",
    "- Split the dataset into training and testing sets.\n",
    "- Scale the dataset\n",
    "\n",
    "---"
   ]
  },
  {
   "cell_type": "code",
   "execution_count": 7,
   "metadata": {
    "execution": {
     "iopub.execute_input": "2024-06-10T23:10:00.115767Z",
     "iopub.status.busy": "2024-06-10T23:10:00.115293Z",
     "iopub.status.idle": "2024-06-10T23:10:00.149528Z",
     "shell.execute_reply": "2024-06-10T23:10:00.148771Z"
    }
   },
   "outputs": [],
   "source": [
    "from sklearn.datasets import make_regression, make_swiss_roll\n",
    "from sklearn.model_selection import train_test_split\n",
    "from sklearn.preprocessing import StandardScaler"
   ]
  },
  {
   "cell_type": "code",
   "execution_count": 8,
   "metadata": {
    "execution": {
     "iopub.execute_input": "2024-06-10T23:10:00.151812Z",
     "iopub.status.busy": "2024-06-10T23:10:00.151538Z",
     "iopub.status.idle": "2024-06-10T23:10:00.440713Z",
     "shell.execute_reply": "2024-06-10T23:10:00.439863Z"
    }
   },
   "outputs": [
    {
     "name": "stdout",
     "output_type": "stream",
     "text": [
      "Base Dataset Modifications in Process\n",
      "-------------------------------------\n",
      "**Operation:target_column  diabetes\n",
      "**Operation:convert_to_binary  True\n",
      "  -- Converting dataset to binary (0,1) from (0,1,2)\n",
      "\n",
      "\n",
      "****Cleaning Feature: diabetes\n",
      "  Initial Unique features in [diabetes]:  [0. 1. 2.]\n",
      "  values_to_drop: ********* NO Parameters were specified *********\n",
      "  translate: {1: 0, 2: 1}\n",
      "  scale: ********* NO Parameters were specified *********\n",
      "  FINAL Unique features in [diabetes]:  [0. 1.]\n",
      "**Operation:scaler  standard\n",
      "  -- Performing train_test_split on dataframe with target:'diabetes'\n",
      "     -- Run automatically before scalar or random_sample operations\n",
      "  -- Performing StandardScaler on X_train: Updates X_train, y_test\n",
      "**Operation:random_sample  none\n",
      "\n",
      "Dataframe, Train Test Summary\n",
      "-----------------------------\n",
      "Dataframe: (247076, 37)  Data:4, X_train:185307, y_train:185307, X_test:61769, y_test:61769\n",
      "ValueCounts:   y_train: len:2   0: 160416   1: 24891\n",
      "ValueCounts:   y_test : len:2   0:  53627   1:  8142\n"
     ]
    }
   ],
   "source": [
    "# reload any changes to mlanlys\n",
    "importlib.reload(mlanlys)\n",
    "\n",
    "target = 'diabetes'\n",
    "# Dictionary defining modification to be made to the base dataset\n",
    "operation_dict = {  'target_column'     :  target,\n",
    "                    'convert_to_binary' :  True,\n",
    "                    'scaler'            : 'standard', # options: none, standard, minmax\n",
    "                    'random_sample'     : 'none'      # options: none, undersample, oversample\n",
    "                    }\n",
    "\n",
    "# This insures that df if not modified during the call to modify_base_dataset()\n",
    "df_modified = df.copy()\n",
    "\n",
    "# Modify the base dataset\n",
    "# data is returned where: X_train, X_test, y_train, y_test = data\n",
    "data = mlanlys.modify_base_dataset(df_modified, operation_dict)"
   ]
  },
  {
   "cell_type": "code",
   "execution_count": 9,
   "metadata": {
    "execution": {
     "iopub.execute_input": "2024-06-10T23:10:00.443493Z",
     "iopub.status.busy": "2024-06-10T23:10:00.443147Z",
     "iopub.status.idle": "2024-06-10T23:10:00.452265Z",
     "shell.execute_reply": "2024-06-10T23:10:00.451509Z"
    }
   },
   "outputs": [
    {
     "name": "stdout",
     "output_type": "stream",
     "text": [
      "Original Dataframe\n",
      "------------------\n",
      "df.shape: (247076, 37)\n",
      "df[diabetes].value_counts:  diabetes\n",
      "0.0    208389\n",
      "2.0     33033\n",
      "1.0      5654\n",
      "Name: count, dtype: int64\n",
      "\n",
      "Modified Dataframe\n",
      "------------------\n",
      "df_modified.shape: (247076, 37)\n",
      "df_modified[diabetes].value_counts:  diabetes\n",
      "0.0    214043\n",
      "1.0     33033\n",
      "Name: count, dtype: int64\n"
     ]
    }
   ],
   "source": [
    "# Print some statistics about the original df and the modified dataframe\n",
    "print(f\"Original Dataframe\")\n",
    "print(f\"------------------\")\n",
    "print(f\"df.shape: {df.shape}\")\n",
    "print(f\"df[{target}].value_counts:  {df[target].value_counts()}\")\n",
    "\n",
    "print(f\"\\nModified Dataframe\")\n",
    "print(f\"------------------\")\n",
    "print(f\"df_modified.shape: {df_modified.shape}\")\n",
    "print(f\"df_modified[{target}].value_counts:  {df_modified[target].value_counts()}\")"
   ]
  },
  {
   "cell_type": "code",
   "execution_count": 10,
   "metadata": {
    "execution": {
     "iopub.execute_input": "2024-06-10T23:10:00.454697Z",
     "iopub.status.busy": "2024-06-10T23:10:00.454482Z",
     "iopub.status.idle": "2024-06-10T23:10:00.461744Z",
     "shell.execute_reply": "2024-06-10T23:10:00.460936Z"
    }
   },
   "outputs": [
    {
     "name": "stdout",
     "output_type": "stream",
     "text": [
      "Dataframe: (247076, 37)  Data:4, X_train:185307, y_train:185307, X_test:61769, y_test:61769\n"
     ]
    },
    {
     "data": {
      "text/plain": [
       "diabetes\n",
       "0.0    160416\n",
       "1.0     24891\n",
       "Name: count, dtype: int64"
      ]
     },
     "execution_count": 10,
     "metadata": {},
     "output_type": "execute_result"
    }
   ],
   "source": [
    "X_train, X_test, y_train, y_test = data\n",
    "print(f\"Dataframe: {df_modified.shape}  Data:{len(data)}, X_train:{len(X_train)}, y_train:{len(y_train)}, X_test:{len(X_test)}, y_test:{len(y_test)}\")\n",
    "y_train.value_counts()"
   ]
  },
  {
   "cell_type": "code",
   "execution_count": 11,
   "metadata": {
    "execution": {
     "iopub.execute_input": "2024-06-10T23:10:00.463932Z",
     "iopub.status.busy": "2024-06-10T23:10:00.463752Z",
     "iopub.status.idle": "2024-06-10T23:10:00.469667Z",
     "shell.execute_reply": "2024-06-10T23:10:00.468730Z"
    }
   },
   "outputs": [
    {
     "data": {
      "text/plain": [
       "diabetes\n",
       "0.0    53627\n",
       "1.0     8142\n",
       "Name: count, dtype: int64"
      ]
     },
     "execution_count": 11,
     "metadata": {},
     "output_type": "execute_result"
    }
   ],
   "source": [
    "y_test.value_counts()"
   ]
  },
  {
   "cell_type": "markdown",
   "metadata": {},
   "source": [
    "---\n",
    "\n",
    "## 3. Run initial Tests and get k_value\n",
    "\n",
    "**From step 2:**  Data = [X_train_modified, X_test_modified, y_train_modified, y_test]\n",
    "\n",
    "---"
   ]
  },
  {
   "cell_type": "code",
   "execution_count": 12,
   "metadata": {
    "execution": {
     "iopub.execute_input": "2024-06-10T23:10:00.471865Z",
     "iopub.status.busy": "2024-06-10T23:10:00.471682Z",
     "iopub.status.idle": "2024-06-10T23:10:00.500849Z",
     "shell.execute_reply": "2024-06-10T23:10:00.499338Z"
    }
   },
   "outputs": [
    {
     "data": {
      "text/plain": [
       "<module 'ml_analysis' from '/mnt/c/ML/DU/repos/projects/project-2/DU-project-2-2015/brfss_2021/../pkgs/ml_analysis.py'>"
      ]
     },
     "execution_count": 12,
     "metadata": {},
     "output_type": "execute_result"
    }
   ],
   "source": [
    "# reload any changes to mlanlys\n",
    "importlib.reload(mlanlys)\n",
    "\n",
    "# Determine the k_value\n",
    "# mlanlys.knn_plot(data)"
   ]
  },
  {
   "cell_type": "markdown",
   "metadata": {},
   "source": [
    "**Note:** From the knn plot above, pick a k-value of 3."
   ]
  },
  {
   "cell_type": "markdown",
   "metadata": {},
   "source": [
    "---\n",
    "\n",
    "## 4. Run the Analysis\n",
    "\n",
    "---\n",
    "\n",
    "#### Model Run Times\n",
    "\n",
    "-  Base dataset (247076 rows × 37 columns):\n",
    "\n",
    "| Model | Run Time |\n",
    "| ----- | -------- |\n",
    "| test_model(SVC(kernel='linear'), data)                          | Aborted >35min (Data too large, consider for RandomUndersampling dataset) |\n",
    "| test_model(KNeighborsClassifier(n_neighbors=k_value), data)     | 247.13 seconds |\n",
    "| test_model(tree.DecisionTreeClassifier(), data)                 |   3.89 seconds |\n",
    "| test_model(RandomForestClassifier(), data)                      |  60.94 seconds |\n",
    "| test_model(ExtraTreesClassifier(random_state=1), data)          |  58.54 seconds |\n",
    "| test_model(GradientBoostingClassifier(random_state=1), data)    | 115.21 seconds |\n",
    "| test_model(AdaBoostClassifier(random_state=1), data)            |  11.91 seconds |\n",
    "| test_model(LogisticRegression(), data)                          |   4.90 seconds |\n",
    "| **Total** w/o SVC| 502.52 seconds / **8:23 minutes** |"
   ]
  },
  {
   "cell_type": "code",
   "execution_count": 13,
   "metadata": {
    "execution": {
     "iopub.execute_input": "2024-06-10T23:10:00.505525Z",
     "iopub.status.busy": "2024-06-10T23:10:00.505176Z",
     "iopub.status.idle": "2024-06-10T23:16:09.262634Z",
     "shell.execute_reply": "2024-06-10T23:16:09.261811Z"
    }
   },
   "outputs": [],
   "source": [
    "# reload any changes to nlanlys\n",
    "importlib.reload(mlanlys)\n",
    "\n",
    "k_value = 3\n",
    "\n",
    "#### COMMENT OUT ONE OF THE FOLLOWING SECTIONS\n",
    "\n",
    "## SECTION 1\n",
    "# Capture stdout & stderr into two strings: osc.stdout and osc.stderr that contain the output from the function\n",
    "# -- This allows the output to be printed here or to a file or both.\n",
    "\n",
    "with mlanlys.OutStreamCapture() as osc:\n",
    "    performance_summary = mlanlys.run_classification_models(data, k_value)\n",
    "#    performance_summary = mlanlys.run_classification_models_test(data, k_value)\n",
    "\n",
    "## <OR>\n",
    "## SECTION 2\n",
    "\n",
    "# performance_summary = mlanlys.run_classification_models(data, k_value)\n"
   ]
  },
  {
   "cell_type": "code",
   "execution_count": 14,
   "metadata": {
    "execution": {
     "iopub.execute_input": "2024-06-10T23:16:09.266212Z",
     "iopub.status.busy": "2024-06-10T23:16:09.265985Z",
     "iopub.status.idle": "2024-06-10T23:16:09.268927Z",
     "shell.execute_reply": "2024-06-10T23:16:09.268397Z"
    }
   },
   "outputs": [],
   "source": [
    "# UNCOMMENT if using SECTION 1 in the previous step\n",
    "# print(osc.stdout)\n",
    "\n",
    "# Add code to print osc.stdout to a file if desired."
   ]
  },
  {
   "cell_type": "markdown",
   "metadata": {},
   "source": [
    "---\n",
    "\n",
    "### 4.1 Archive Performance Summary\n",
    "\n",
    "- For use in Project-2 Performance Summary Report\n",
    "---"
   ]
  },
  {
   "cell_type": "code",
   "execution_count": 15,
   "metadata": {
    "execution": {
     "iopub.execute_input": "2024-06-10T23:16:09.271196Z",
     "iopub.status.busy": "2024-06-10T23:16:09.270921Z",
     "iopub.status.idle": "2024-06-10T23:16:09.299439Z",
     "shell.execute_reply": "2024-06-10T23:16:09.298055Z"
    }
   },
   "outputs": [
    {
     "name": "stdout",
     "output_type": "stream",
     "text": [
      "The file reports/performance_report.pkl exists.\n"
     ]
    }
   ],
   "source": [
    "# performance_summary is a dataframe of performance statistics\n",
    "\n",
    "# Add the dataset label as the first column in performance_summary\n",
    "dataset_column = pd.Series([dataset_label] * len(performance_summary), name=dataset_label)\n",
    "performance_summary.insert(0, 'new_column', dataset_column)\n",
    "\n",
    "analysis_perf_summary = { 'dataset_size': list(df.shape), 'report': performance_summary}\n",
    "\n",
    "# Performance_report is a file containing all the performance summary statistics\n",
    "if os.path.exists(performance_report):\n",
    "    print(f\"The file {performance_report} exists.\")\n",
    "    # Load Performance Report\n",
    "    with open(performance_report, 'rb') as file: perf_report = pickle.load(file)\n",
    "else:\n",
    "    print(f\"The file {performance_report} does not exist.\")\n",
    "    perf_report = {}\n",
    "    \n",
    "perf_report[dataset_label] = analysis_perf_summary\n",
    "\n",
    "# Save Performance Report\n",
    "with open(performance_report, 'wb') as file: pickle.dump(perf_report, file)"
   ]
  },
  {
   "cell_type": "markdown",
   "metadata": {},
   "source": [
    "### 4.2 Archive the Performance Detailed Statistics Report\n",
    "---"
   ]
  },
  {
   "cell_type": "code",
   "execution_count": 16,
   "metadata": {
    "execution": {
     "iopub.execute_input": "2024-06-10T23:16:09.303556Z",
     "iopub.status.busy": "2024-06-10T23:16:09.303196Z",
     "iopub.status.idle": "2024-06-10T23:16:09.320443Z",
     "shell.execute_reply": "2024-06-10T23:16:09.319193Z"
    }
   },
   "outputs": [],
   "source": [
    "# osc.stdout contains the details of the performance statistics\n",
    "\n",
    "with open(detailed_performance_report, \"w\") as file:\n",
    "    file.write(osc.stdout)"
   ]
  },
  {
   "cell_type": "markdown",
   "metadata": {},
   "source": [
    "---\n",
    "\n",
    "## 5. Performance Summary\n",
    "\n",
    "---"
   ]
  },
  {
   "cell_type": "code",
   "execution_count": 17,
   "metadata": {
    "execution": {
     "iopub.execute_input": "2024-06-10T23:16:09.325954Z",
     "iopub.status.busy": "2024-06-10T23:16:09.325537Z",
     "iopub.status.idle": "2024-06-10T23:16:09.345094Z",
     "shell.execute_reply": "2024-06-10T23:16:09.344348Z"
    }
   },
   "outputs": [
    {
     "name": "stdout",
     "output_type": "stream",
     "text": [
      "******************************************\n",
      "Performance Summary for: 3 Binary Dataset\n",
      "******************************************\n"
     ]
    },
    {
     "data": {
      "text/html": [
       "<div>\n",
       "<style scoped>\n",
       "    .dataframe tbody tr th:only-of-type {\n",
       "        vertical-align: middle;\n",
       "    }\n",
       "\n",
       "    .dataframe tbody tr th {\n",
       "        vertical-align: top;\n",
       "    }\n",
       "\n",
       "    .dataframe thead th {\n",
       "        text-align: right;\n",
       "    }\n",
       "</style>\n",
       "<table border=\"1\" class=\"dataframe\">\n",
       "  <thead>\n",
       "    <tr style=\"text-align: right;\">\n",
       "      <th></th>\n",
       "      <th>new_column</th>\n",
       "      <th>model</th>\n",
       "      <th>slice</th>\n",
       "      <th>score</th>\n",
       "      <th>balanced_accuracy</th>\n",
       "      <th>roc_auc_score</th>\n",
       "      <th>Mean Squared Error</th>\n",
       "      <th>Accuracy</th>\n",
       "      <th>Precision</th>\n",
       "      <th>Recall</th>\n",
       "      <th>F1-score</th>\n",
       "      <th>Specificity</th>\n",
       "      <th>False Positive Rate</th>\n",
       "      <th>Matthews Correlation Coefficient</th>\n",
       "    </tr>\n",
       "  </thead>\n",
       "  <tbody>\n",
       "    <tr>\n",
       "      <th>0</th>\n",
       "      <td>3 Binary Dataset</td>\n",
       "      <td>KNeighborsClassifier</td>\n",
       "      <td>Train</td>\n",
       "      <td>0.9059</td>\n",
       "      <td>0.7266</td>\n",
       "      <td>0.9362</td>\n",
       "      <td>0.0941</td>\n",
       "      <td>0.9059</td>\n",
       "      <td>0.7258</td>\n",
       "      <td>0.4814</td>\n",
       "      <td>0.5789</td>\n",
       "      <td>0.9718</td>\n",
       "      <td>0.0282</td>\n",
       "      <td>NaN</td>\n",
       "    </tr>\n",
       "    <tr>\n",
       "      <th>1</th>\n",
       "      <td>3 Binary Dataset</td>\n",
       "      <td>KNeighborsClassifier</td>\n",
       "      <td>Test</td>\n",
       "      <td>0.8423</td>\n",
       "      <td>0.5866</td>\n",
       "      <td>0.6823</td>\n",
       "      <td>0.1577</td>\n",
       "      <td>0.8423</td>\n",
       "      <td>0.3546</td>\n",
       "      <td>0.2394</td>\n",
       "      <td>0.2858</td>\n",
       "      <td>0.9338</td>\n",
       "      <td>0.0662</td>\n",
       "      <td>0.2058</td>\n",
       "    </tr>\n",
       "    <tr>\n",
       "      <th>2</th>\n",
       "      <td>3 Binary Dataset</td>\n",
       "      <td>DecisionTreeClassifier</td>\n",
       "      <td>Train</td>\n",
       "      <td>1.0000</td>\n",
       "      <td>1.0000</td>\n",
       "      <td>1.0000</td>\n",
       "      <td>0.0000</td>\n",
       "      <td>1.0000</td>\n",
       "      <td>1.0000</td>\n",
       "      <td>1.0000</td>\n",
       "      <td>1.0000</td>\n",
       "      <td>1.0000</td>\n",
       "      <td>0.0000</td>\n",
       "      <td>NaN</td>\n",
       "    </tr>\n",
       "    <tr>\n",
       "      <th>3</th>\n",
       "      <td>3 Binary Dataset</td>\n",
       "      <td>DecisionTreeClassifier</td>\n",
       "      <td>Test</td>\n",
       "      <td>0.8021</td>\n",
       "      <td>0.5972</td>\n",
       "      <td>0.5972</td>\n",
       "      <td>0.1979</td>\n",
       "      <td>0.8021</td>\n",
       "      <td>0.2800</td>\n",
       "      <td>0.3188</td>\n",
       "      <td>0.2981</td>\n",
       "      <td>0.8755</td>\n",
       "      <td>0.1245</td>\n",
       "      <td>0.1841</td>\n",
       "    </tr>\n",
       "    <tr>\n",
       "      <th>4</th>\n",
       "      <td>3 Binary Dataset</td>\n",
       "      <td>RandomForestClassifier</td>\n",
       "      <td>Train</td>\n",
       "      <td>1.0000</td>\n",
       "      <td>0.9999</td>\n",
       "      <td>1.0000</td>\n",
       "      <td>0.0000</td>\n",
       "      <td>1.0000</td>\n",
       "      <td>1.0000</td>\n",
       "      <td>0.9998</td>\n",
       "      <td>0.9999</td>\n",
       "      <td>1.0000</td>\n",
       "      <td>0.0000</td>\n",
       "      <td>NaN</td>\n",
       "    </tr>\n",
       "    <tr>\n",
       "      <th>5</th>\n",
       "      <td>3 Binary Dataset</td>\n",
       "      <td>RandomForestClassifier</td>\n",
       "      <td>Test</td>\n",
       "      <td>0.8719</td>\n",
       "      <td>0.5576</td>\n",
       "      <td>0.8262</td>\n",
       "      <td>0.1281</td>\n",
       "      <td>0.8719</td>\n",
       "      <td>0.5605</td>\n",
       "      <td>0.1308</td>\n",
       "      <td>0.2121</td>\n",
       "      <td>0.9844</td>\n",
       "      <td>0.0156</td>\n",
       "      <td>0.2258</td>\n",
       "    </tr>\n",
       "    <tr>\n",
       "      <th>6</th>\n",
       "      <td>3 Binary Dataset</td>\n",
       "      <td>ExtraTreesClassifier</td>\n",
       "      <td>Train</td>\n",
       "      <td>1.0000</td>\n",
       "      <td>1.0000</td>\n",
       "      <td>1.0000</td>\n",
       "      <td>0.0000</td>\n",
       "      <td>1.0000</td>\n",
       "      <td>1.0000</td>\n",
       "      <td>1.0000</td>\n",
       "      <td>1.0000</td>\n",
       "      <td>1.0000</td>\n",
       "      <td>0.0000</td>\n",
       "      <td>NaN</td>\n",
       "    </tr>\n",
       "    <tr>\n",
       "      <th>7</th>\n",
       "      <td>3 Binary Dataset</td>\n",
       "      <td>ExtraTreesClassifier</td>\n",
       "      <td>Test</td>\n",
       "      <td>0.8699</td>\n",
       "      <td>0.5614</td>\n",
       "      <td>0.8163</td>\n",
       "      <td>0.1301</td>\n",
       "      <td>0.8699</td>\n",
       "      <td>0.5232</td>\n",
       "      <td>0.1426</td>\n",
       "      <td>0.2241</td>\n",
       "      <td>0.9803</td>\n",
       "      <td>0.0197</td>\n",
       "      <td>0.2233</td>\n",
       "    </tr>\n",
       "    <tr>\n",
       "      <th>8</th>\n",
       "      <td>3 Binary Dataset</td>\n",
       "      <td>GradientBoostingClassifier</td>\n",
       "      <td>Train</td>\n",
       "      <td>0.8725</td>\n",
       "      <td>0.5765</td>\n",
       "      <td>0.8391</td>\n",
       "      <td>0.1275</td>\n",
       "      <td>0.8725</td>\n",
       "      <td>0.5871</td>\n",
       "      <td>0.1717</td>\n",
       "      <td>0.2657</td>\n",
       "      <td>0.9813</td>\n",
       "      <td>0.0187</td>\n",
       "      <td>0.2685</td>\n",
       "    </tr>\n",
       "    <tr>\n",
       "      <th>9</th>\n",
       "      <td>3 Binary Dataset</td>\n",
       "      <td>GradientBoostingClassifier</td>\n",
       "      <td>Test</td>\n",
       "      <td>0.8728</td>\n",
       "      <td>0.5738</td>\n",
       "      <td>0.8377</td>\n",
       "      <td>0.1272</td>\n",
       "      <td>0.8728</td>\n",
       "      <td>0.5587</td>\n",
       "      <td>0.1678</td>\n",
       "      <td>0.2581</td>\n",
       "      <td>0.9799</td>\n",
       "      <td>0.0201</td>\n",
       "      <td>0.2562</td>\n",
       "    </tr>\n",
       "    <tr>\n",
       "      <th>10</th>\n",
       "      <td>3 Binary Dataset</td>\n",
       "      <td>AdaBoostClassifier</td>\n",
       "      <td>Train</td>\n",
       "      <td>0.8699</td>\n",
       "      <td>0.5858</td>\n",
       "      <td>0.8342</td>\n",
       "      <td>0.1301</td>\n",
       "      <td>0.8699</td>\n",
       "      <td>0.5432</td>\n",
       "      <td>0.1973</td>\n",
       "      <td>0.2895</td>\n",
       "      <td>0.9743</td>\n",
       "      <td>0.0257</td>\n",
       "      <td>0.2716</td>\n",
       "    </tr>\n",
       "    <tr>\n",
       "      <th>11</th>\n",
       "      <td>3 Binary Dataset</td>\n",
       "      <td>AdaBoostClassifier</td>\n",
       "      <td>Test</td>\n",
       "      <td>0.8727</td>\n",
       "      <td>0.5901</td>\n",
       "      <td>0.8344</td>\n",
       "      <td>0.1273</td>\n",
       "      <td>0.8727</td>\n",
       "      <td>0.5455</td>\n",
       "      <td>0.2063</td>\n",
       "      <td>0.2994</td>\n",
       "      <td>0.9739</td>\n",
       "      <td>0.0261</td>\n",
       "      <td>0.2801</td>\n",
       "    </tr>\n",
       "    <tr>\n",
       "      <th>12</th>\n",
       "      <td>3 Binary Dataset</td>\n",
       "      <td>LogisticRegression</td>\n",
       "      <td>Train</td>\n",
       "      <td>0.8688</td>\n",
       "      <td>0.5654</td>\n",
       "      <td>0.8255</td>\n",
       "      <td>0.1312</td>\n",
       "      <td>0.8688</td>\n",
       "      <td>0.5412</td>\n",
       "      <td>0.1506</td>\n",
       "      <td>0.2356</td>\n",
       "      <td>0.9802</td>\n",
       "      <td>0.0198</td>\n",
       "      <td>0.2351</td>\n",
       "    </tr>\n",
       "    <tr>\n",
       "      <th>13</th>\n",
       "      <td>3 Binary Dataset</td>\n",
       "      <td>LogisticRegression</td>\n",
       "      <td>Test</td>\n",
       "      <td>0.8706</td>\n",
       "      <td>0.5674</td>\n",
       "      <td>0.8259</td>\n",
       "      <td>0.1294</td>\n",
       "      <td>0.8706</td>\n",
       "      <td>0.5310</td>\n",
       "      <td>0.1556</td>\n",
       "      <td>0.2407</td>\n",
       "      <td>0.9791</td>\n",
       "      <td>0.0209</td>\n",
       "      <td>0.2365</td>\n",
       "    </tr>\n",
       "  </tbody>\n",
       "</table>\n",
       "</div>"
      ],
      "text/plain": [
       "          new_column                       model  slice   score  \\\n",
       "0   3 Binary Dataset        KNeighborsClassifier  Train  0.9059   \n",
       "1   3 Binary Dataset        KNeighborsClassifier   Test  0.8423   \n",
       "2   3 Binary Dataset      DecisionTreeClassifier  Train  1.0000   \n",
       "3   3 Binary Dataset      DecisionTreeClassifier   Test  0.8021   \n",
       "4   3 Binary Dataset      RandomForestClassifier  Train  1.0000   \n",
       "5   3 Binary Dataset      RandomForestClassifier   Test  0.8719   \n",
       "6   3 Binary Dataset        ExtraTreesClassifier  Train  1.0000   \n",
       "7   3 Binary Dataset        ExtraTreesClassifier   Test  0.8699   \n",
       "8   3 Binary Dataset  GradientBoostingClassifier  Train  0.8725   \n",
       "9   3 Binary Dataset  GradientBoostingClassifier   Test  0.8728   \n",
       "10  3 Binary Dataset          AdaBoostClassifier  Train  0.8699   \n",
       "11  3 Binary Dataset          AdaBoostClassifier   Test  0.8727   \n",
       "12  3 Binary Dataset          LogisticRegression  Train  0.8688   \n",
       "13  3 Binary Dataset          LogisticRegression   Test  0.8706   \n",
       "\n",
       "    balanced_accuracy  roc_auc_score  Mean Squared Error  Accuracy  Precision  \\\n",
       "0              0.7266         0.9362              0.0941    0.9059     0.7258   \n",
       "1              0.5866         0.6823              0.1577    0.8423     0.3546   \n",
       "2              1.0000         1.0000              0.0000    1.0000     1.0000   \n",
       "3              0.5972         0.5972              0.1979    0.8021     0.2800   \n",
       "4              0.9999         1.0000              0.0000    1.0000     1.0000   \n",
       "5              0.5576         0.8262              0.1281    0.8719     0.5605   \n",
       "6              1.0000         1.0000              0.0000    1.0000     1.0000   \n",
       "7              0.5614         0.8163              0.1301    0.8699     0.5232   \n",
       "8              0.5765         0.8391              0.1275    0.8725     0.5871   \n",
       "9              0.5738         0.8377              0.1272    0.8728     0.5587   \n",
       "10             0.5858         0.8342              0.1301    0.8699     0.5432   \n",
       "11             0.5901         0.8344              0.1273    0.8727     0.5455   \n",
       "12             0.5654         0.8255              0.1312    0.8688     0.5412   \n",
       "13             0.5674         0.8259              0.1294    0.8706     0.5310   \n",
       "\n",
       "    Recall  F1-score  Specificity  False Positive Rate  \\\n",
       "0   0.4814    0.5789       0.9718               0.0282   \n",
       "1   0.2394    0.2858       0.9338               0.0662   \n",
       "2   1.0000    1.0000       1.0000               0.0000   \n",
       "3   0.3188    0.2981       0.8755               0.1245   \n",
       "4   0.9998    0.9999       1.0000               0.0000   \n",
       "5   0.1308    0.2121       0.9844               0.0156   \n",
       "6   1.0000    1.0000       1.0000               0.0000   \n",
       "7   0.1426    0.2241       0.9803               0.0197   \n",
       "8   0.1717    0.2657       0.9813               0.0187   \n",
       "9   0.1678    0.2581       0.9799               0.0201   \n",
       "10  0.1973    0.2895       0.9743               0.0257   \n",
       "11  0.2063    0.2994       0.9739               0.0261   \n",
       "12  0.1506    0.2356       0.9802               0.0198   \n",
       "13  0.1556    0.2407       0.9791               0.0209   \n",
       "\n",
       "    Matthews Correlation Coefficient  \n",
       "0                                NaN  \n",
       "1                             0.2058  \n",
       "2                                NaN  \n",
       "3                             0.1841  \n",
       "4                                NaN  \n",
       "5                             0.2258  \n",
       "6                                NaN  \n",
       "7                             0.2233  \n",
       "8                             0.2685  \n",
       "9                             0.2562  \n",
       "10                            0.2716  \n",
       "11                            0.2801  \n",
       "12                            0.2351  \n",
       "13                            0.2365  "
      ]
     },
     "execution_count": 17,
     "metadata": {},
     "output_type": "execute_result"
    }
   ],
   "source": [
    "# print the performance summary\n",
    "print(f\"******************************************\")\n",
    "print(f\"Performance Summary for: {dataset_label}\")\n",
    "print(f\"******************************************\")\n",
    "\n",
    "performance_summary"
   ]
  },
  {
   "cell_type": "code",
   "execution_count": 18,
   "metadata": {
    "execution": {
     "iopub.execute_input": "2024-06-10T23:16:09.347363Z",
     "iopub.status.busy": "2024-06-10T23:16:09.347180Z",
     "iopub.status.idle": "2024-06-10T23:16:09.350959Z",
     "shell.execute_reply": "2024-06-10T23:16:09.350170Z"
    }
   },
   "outputs": [
    {
     "name": "stdout",
     "output_type": "stream",
     "text": [
      "Completed: Execution Time 369.6 seconds:\n"
     ]
    }
   ],
   "source": [
    "print(f\"Completed: Execution Time %s seconds:\" % round((time.time() - start_time),2) )"
   ]
  },
  {
   "cell_type": "markdown",
   "metadata": {},
   "source": [
    "---\n",
    "\n",
    "## 6. Conclusions\n",
    "\n",
    "- A first glance at the summary, it appears that the Boosting models may have performed well with test/train scores were >.8 and similar in scale (<.02 delta).  However, the poor test confusion matrix and balanced accuracy highlight the overfitting.\n",
    "\n",
    "- The Base Cleaned data is overfit as indicated by:\n",
    "    - Poor confusion matrix on the detailed report for test sets on all models\n",
    "    - Low balanced accuracy as compared to the model score (less than 50%)\n"
   ]
  },
  {
   "cell_type": "markdown",
   "metadata": {},
   "source": [
    "---\n",
    "\n",
    "---"
   ]
  }
 ],
 "metadata": {
  "kernelspec": {
   "display_name": "dev",
   "language": "python",
   "name": "python3"
  },
  "language_info": {
   "codemirror_mode": {
    "name": "ipython",
    "version": 3
   },
   "file_extension": ".py",
   "mimetype": "text/x-python",
   "name": "python",
   "nbconvert_exporter": "python",
   "pygments_lexer": "ipython3",
   "version": "3.12.2"
  }
 },
 "nbformat": 4,
 "nbformat_minor": 2
}
