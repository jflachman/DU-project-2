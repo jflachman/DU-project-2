{
 "cells": [
  {
   "cell_type": "markdown",
   "metadata": {},
   "source": [
    "---\n",
    "\n",
    "## Data Analysis\n",
    "\n",
    "- This file differs from [2_data_analysis_1_base_data.ipynb](2_data_analysis_1_base_data.ipynb) in that it:\n",
    "    - scales the base cleaned data created in [1_data_cleaning.ipynb](1_data_cleaning.ipynb).\n",
    "\n",
    "Source dataset: 247076 rows × 37 columns\n",
    "Processed and analyzed dataset: 247076 rows × 37 columns\n",
    "\n",
    "---"
   ]
  },
  {
   "cell_type": "code",
   "execution_count": 1,
   "metadata": {
    "execution": {
     "iopub.execute_input": "2024-06-10T21:39:20.420355Z",
     "iopub.status.busy": "2024-06-10T21:39:20.419911Z",
     "iopub.status.idle": "2024-06-10T21:39:21.553903Z",
     "shell.execute_reply": "2024-06-10T21:39:21.552822Z"
    }
   },
   "outputs": [],
   "source": [
    "# package imports go here\n",
    "import pandas as pd\n",
    "import numpy as np\n",
    "import fastparquet as fp\n",
    "import os\n",
    "import sys\n",
    "import pickle\n",
    "import matplotlib.pyplot as plt\n",
    "import importlib\n",
    "import config\n",
    "import time\n",
    "\n",
    "sys.path.insert(1, config.package_path)\n",
    "import ml_analysis as mlanlys\n",
    "import ml_clean_feature as mlclean"
   ]
  },
  {
   "cell_type": "code",
   "execution_count": 2,
   "metadata": {
    "execution": {
     "iopub.execute_input": "2024-06-10T21:39:21.558406Z",
     "iopub.status.busy": "2024-06-10T21:39:21.557969Z",
     "iopub.status.idle": "2024-06-10T21:39:21.562275Z",
     "shell.execute_reply": "2024-06-10T21:39:21.561517Z"
    }
   },
   "outputs": [],
   "source": [
    "start_time = time.time()"
   ]
  },
  {
   "cell_type": "markdown",
   "metadata": {},
   "source": [
    "---\n",
    "\n",
    "## 1. Read the cleaned dataset from file\n",
    "\n",
    "---"
   ]
  },
  {
   "cell_type": "code",
   "execution_count": 3,
   "metadata": {
    "execution": {
     "iopub.execute_input": "2024-06-10T21:39:21.564750Z",
     "iopub.status.busy": "2024-06-10T21:39:21.564528Z",
     "iopub.status.idle": "2024-06-10T21:39:21.576658Z",
     "shell.execute_reply": "2024-06-10T21:39:21.575792Z"
    }
   },
   "outputs": [
    {
     "name": "stdout",
     "output_type": "stream",
     "text": [
      "Year:                        2015\n",
      "Clean File:                  data/brfss_2015_clean.parquet.gzip\n",
      "Performance Report:          reports/performance_report.pkl\n",
      "Detailed Performance Report: reports/8_smoteenn_dataset_detailed_performance_report.txt\n"
     ]
    }
   ],
   "source": [
    "# reload any changes to Config Settings\n",
    "importlib.reload(config)\n",
    "\n",
    "# BE SURE TO UPDATE THE LABEL FOR THIS ANALYSIS\n",
    "# #############################\n",
    "dataset_label = '8 SMOTEENN Dataset'\n",
    "# #############################\n",
    "\n",
    "year                        = config.year\n",
    "\n",
    "clean_file                  = config.clean_file\n",
    "performance_report          = config.performance_report\n",
    "\n",
    "report_path                 = config.report_path\n",
    "file_label                  = dataset_label.lower().replace(' ','_')\n",
    "detailed_performance_report = report_path + file_label + '_detailed_performance_report.txt'\n",
    "\n",
    "print(f\"Year:                        {year}\")\n",
    "print(f\"Clean File:                  {clean_file}\")\n",
    "print(f\"Performance Report:          {performance_report}\")\n",
    "print(f\"Detailed Performance Report: {detailed_performance_report}\")"
   ]
  },
  {
   "cell_type": "code",
   "execution_count": 4,
   "metadata": {
    "execution": {
     "iopub.execute_input": "2024-06-10T21:39:21.579647Z",
     "iopub.status.busy": "2024-06-10T21:39:21.579130Z",
     "iopub.status.idle": "2024-06-10T21:39:21.725513Z",
     "shell.execute_reply": "2024-06-10T21:39:21.724709Z"
    }
   },
   "outputs": [],
   "source": [
    "# Read final cleaned dataset from parquet file\n",
    "df = pd.read_parquet(clean_file, engine=\"fastparquet\")"
   ]
  },
  {
   "cell_type": "code",
   "execution_count": 5,
   "metadata": {
    "execution": {
     "iopub.execute_input": "2024-06-10T21:39:21.729146Z",
     "iopub.status.busy": "2024-06-10T21:39:21.728195Z",
     "iopub.status.idle": "2024-06-10T21:39:21.733149Z",
     "shell.execute_reply": "2024-06-10T21:39:21.732025Z"
    }
   },
   "outputs": [],
   "source": [
    "diabetes_labels = df.columns"
   ]
  },
  {
   "cell_type": "code",
   "execution_count": 6,
   "metadata": {
    "execution": {
     "iopub.execute_input": "2024-06-10T21:39:21.735969Z",
     "iopub.status.busy": "2024-06-10T21:39:21.735725Z",
     "iopub.status.idle": "2024-06-10T21:39:21.747662Z",
     "shell.execute_reply": "2024-06-10T21:39:21.745565Z"
    }
   },
   "outputs": [
    {
     "data": {
      "text/plain": [
       "(253680, 22)"
      ]
     },
     "execution_count": 6,
     "metadata": {},
     "output_type": "execute_result"
    }
   ],
   "source": [
    "df.shape"
   ]
  },
  {
   "cell_type": "markdown",
   "metadata": {},
   "source": [
    "---\n",
    "\n",
    "## 2. Prepare the dataset for analysis\n",
    "\n",
    "- Split the dataset into features and labels.\n",
    "- Split the dataset into training and testing sets.\n",
    "- Scale the dataset\n",
    "\n",
    "---"
   ]
  },
  {
   "cell_type": "code",
   "execution_count": 7,
   "metadata": {
    "execution": {
     "iopub.execute_input": "2024-06-10T21:39:21.753943Z",
     "iopub.status.busy": "2024-06-10T21:39:21.752886Z",
     "iopub.status.idle": "2024-06-10T21:39:21.786976Z",
     "shell.execute_reply": "2024-06-10T21:39:21.786111Z"
    }
   },
   "outputs": [],
   "source": [
    "from sklearn.datasets import make_regression, make_swiss_roll\n",
    "from sklearn.model_selection import train_test_split\n",
    "from sklearn.preprocessing import StandardScaler"
   ]
  },
  {
   "cell_type": "code",
   "execution_count": 8,
   "metadata": {
    "execution": {
     "iopub.execute_input": "2024-06-10T21:39:21.790650Z",
     "iopub.status.busy": "2024-06-10T21:39:21.789923Z",
     "iopub.status.idle": "2024-06-10T21:39:22.018525Z",
     "shell.execute_reply": "2024-06-10T21:39:22.017096Z"
    }
   },
   "outputs": [
    {
     "name": "stdout",
     "output_type": "stream",
     "text": [
      "Base Dataset Modifications in Process\n",
      "-------------------------------------\n",
      "**Operation:target_column  diabetes\n",
      "**Operation:convert_to_binary  True\n",
      "  -- Converting dataset to binary (0,1) from (0,1,2)\n",
      "\n",
      "\n",
      "****Cleaning Feature: diabetes\n",
      "  Initial Unique features in [diabetes]:  [0. 1. 2.]\n",
      "  values_to_drop: ********* NO Parameters were specified *********\n",
      "  translate: {1: 0, 2: 1}\n",
      "  scale: ********* NO Parameters were specified *********\n",
      "  FINAL Unique features in [diabetes]:  [0. 1.]\n",
      "**Operation:scaler  standard\n",
      "  -- Performing train_test_split on dataframe with target:'diabetes'\n",
      "     -- Run automatically before scalar or random_sample operations\n",
      "  -- Performing StandardScaler on X_train: Updates X_train, y_test\n",
      "**Operation:random_sample  smoteen\n",
      "\n",
      "Dataframe, Train Test Summary\n",
      "-----------------------------\n",
      "Dataframe: (253680, 22)  Data:4, X_train:190260, y_train:190260, X_test:63420, y_test:63420\n",
      "ValueCounts:   y_train: len:2   0: 163646   1: 26614\n",
      "ValueCounts:   y_test : len:2   0:  54688   1:  8732\n"
     ]
    }
   ],
   "source": [
    "# reload any changes to mlanlys\n",
    "importlib.reload(mlanlys)\n",
    "\n",
    "target = 'diabetes'\n",
    "# Dictionary defining modification to be made to the base dataset\n",
    "operation_dict = {  'target_column'     :  target,\n",
    "                    'convert_to_binary' :  True,\n",
    "                    'scaler'            : 'standard', # options: none, standard, minmax\n",
    "                    'random_sample'     : 'smoteen'   # options: none, undersample, oversample\n",
    "                    }\n",
    "\n",
    "# This insures that df if not modified during the call to modify_base_dataset()\n",
    "df_modified = df.copy()\n",
    "\n",
    "# Modify the base dataset\n",
    "# data is returned where: X_train, X_test, y_train, y_test = data\n",
    "data = mlanlys.modify_base_dataset(df_modified, operation_dict)"
   ]
  },
  {
   "cell_type": "code",
   "execution_count": 9,
   "metadata": {
    "execution": {
     "iopub.execute_input": "2024-06-10T21:39:22.022877Z",
     "iopub.status.busy": "2024-06-10T21:39:22.022215Z",
     "iopub.status.idle": "2024-06-10T21:39:22.039367Z",
     "shell.execute_reply": "2024-06-10T21:39:22.038012Z"
    }
   },
   "outputs": [
    {
     "name": "stdout",
     "output_type": "stream",
     "text": [
      "Original Dataframe\n",
      "------------------\n",
      "df.shape: (253680, 22)\n",
      "df[diabetes].value_counts:  diabetes\n",
      "0.0    213703\n",
      "2.0     35346\n",
      "1.0      4631\n",
      "Name: count, dtype: int64\n",
      "\n",
      "Modified Dataframe\n",
      "------------------\n",
      "df_modified.shape: (253680, 22)\n",
      "df_modified[diabetes].value_counts:  diabetes\n",
      "0.0    218334\n",
      "1.0     35346\n",
      "Name: count, dtype: int64\n"
     ]
    }
   ],
   "source": [
    "# Print some statistics about the original df and the modified dataframe\n",
    "print(f\"Original Dataframe\")\n",
    "print(f\"------------------\")\n",
    "print(f\"df.shape: {df.shape}\")\n",
    "print(f\"df[{target}].value_counts:  {df[target].value_counts()}\")\n",
    "\n",
    "print(f\"\\nModified Dataframe\")\n",
    "print(f\"------------------\")\n",
    "print(f\"df_modified.shape: {df_modified.shape}\")\n",
    "print(f\"df_modified[{target}].value_counts:  {df_modified[target].value_counts()}\")"
   ]
  },
  {
   "cell_type": "code",
   "execution_count": 10,
   "metadata": {
    "execution": {
     "iopub.execute_input": "2024-06-10T21:39:22.043746Z",
     "iopub.status.busy": "2024-06-10T21:39:22.042688Z",
     "iopub.status.idle": "2024-06-10T21:39:22.055343Z",
     "shell.execute_reply": "2024-06-10T21:39:22.053876Z"
    }
   },
   "outputs": [
    {
     "name": "stdout",
     "output_type": "stream",
     "text": [
      "Dataframe: (253680, 22)  Data:4, X_train:190260, y_train:190260, X_test:63420, y_test:63420\n"
     ]
    },
    {
     "data": {
      "text/plain": [
       "diabetes\n",
       "0.0    163646\n",
       "1.0     26614\n",
       "Name: count, dtype: int64"
      ]
     },
     "execution_count": 10,
     "metadata": {},
     "output_type": "execute_result"
    }
   ],
   "source": [
    "X_train, X_test, y_train, y_test = data\n",
    "print(f\"Dataframe: {df_modified.shape}  Data:{len(data)}, X_train:{len(X_train)}, y_train:{len(y_train)}, X_test:{len(X_test)}, y_test:{len(y_test)}\")\n",
    "y_train.value_counts()"
   ]
  },
  {
   "cell_type": "markdown",
   "metadata": {},
   "source": [
    "---\n",
    "\n",
    "## 3. Run initial Tests and get k_value\n",
    "\n",
    "**From step 2:**  Data = [X_train_modified, X_test_modified, y_train_modified, y_test]\n",
    "\n",
    "---"
   ]
  },
  {
   "cell_type": "code",
   "execution_count": 11,
   "metadata": {
    "execution": {
     "iopub.execute_input": "2024-06-10T21:39:22.059853Z",
     "iopub.status.busy": "2024-06-10T21:39:22.059216Z",
     "iopub.status.idle": "2024-06-10T21:39:22.085949Z",
     "shell.execute_reply": "2024-06-10T21:39:22.084976Z"
    }
   },
   "outputs": [
    {
     "data": {
      "text/plain": [
       "<module 'ml_analysis' from '/mnt/c/ML/DU/repos/projects/project-2/DU-project-2-2015/brfss_2015/../pkgs/ml_analysis.py'>"
      ]
     },
     "execution_count": 11,
     "metadata": {},
     "output_type": "execute_result"
    }
   ],
   "source": [
    "# reload any changes to mlanlys\n",
    "importlib.reload(mlanlys)\n",
    "\n",
    "# Determine the k_value\n",
    "# mlanlys.knn_plot(data)"
   ]
  },
  {
   "cell_type": "markdown",
   "metadata": {},
   "source": [
    "**Note:** From the knn plot above, pick a k-value of 3."
   ]
  },
  {
   "cell_type": "markdown",
   "metadata": {},
   "source": [
    "---\n",
    "\n",
    "## 4. Run the Analysis\n",
    "\n",
    "---\n",
    "\n",
    "#### Model Run Times\n",
    "\n",
    "-  Base dataset (247076 rows × 37 columns):\n",
    "\n",
    "| Model | Run Time |\n",
    "| ----- | -------- |\n",
    "| test_model(SVC(kernel='linear'), data)                          | Aborted >35min (Data too large, consider for RandomUndersampling dataset) |\n",
    "| test_model(KNeighborsClassifier(n_neighbors=k_value), data)     | 247.13 seconds |\n",
    "| test_model(tree.DecisionTreeClassifier(), data)                 |   3.89 seconds |\n",
    "| test_model(RandomForestClassifier(), data)                      |  60.94 seconds |\n",
    "| test_model(ExtraTreesClassifier(random_state=1), data)          |  58.54 seconds |\n",
    "| test_model(GradientBoostingClassifier(random_state=1), data)    | 115.21 seconds |\n",
    "| test_model(AdaBoostClassifier(random_state=1), data)            |  11.91 seconds |\n",
    "| test_model(LogisticRegression(), data)                          |   4.90 seconds |\n",
    "| **Total** w/o SVC| 502.52 seconds / **8:23 minutes** |"
   ]
  },
  {
   "cell_type": "code",
   "execution_count": 12,
   "metadata": {
    "execution": {
     "iopub.execute_input": "2024-06-10T21:39:22.089981Z",
     "iopub.status.busy": "2024-06-10T21:39:22.089541Z",
     "iopub.status.idle": "2024-06-10T21:45:22.292143Z",
     "shell.execute_reply": "2024-06-10T21:45:22.290205Z"
    }
   },
   "outputs": [],
   "source": [
    "# reload any changes to nlanlys\n",
    "importlib.reload(mlanlys)\n",
    "\n",
    "k_value = 3\n",
    "\n",
    "#### COMMENT OUT ONE OF THE FOLLOWING SECTIONS\n",
    "\n",
    "## SECTION 1\n",
    "# Capture stdout & stderr into two strings: osc.stdout and osc.stderr that contain the output from the function\n",
    "# -- This allows the output to be printed here or to a file or both.\n",
    "\n",
    "with mlanlys.OutStreamCapture() as osc:\n",
    "    performance_summary = mlanlys.run_classification_models(data, k_value)\n",
    "#    performance_summary = mlanlys.run_classification_models_test(data, k_value)\n",
    "\n",
    "## <OR>\n",
    "## SECTION 2\n",
    "\n",
    "# performance_summary = mlanlys.run_classification_models(data, k_value)\n"
   ]
  },
  {
   "cell_type": "code",
   "execution_count": 13,
   "metadata": {
    "execution": {
     "iopub.execute_input": "2024-06-10T21:45:22.299869Z",
     "iopub.status.busy": "2024-06-10T21:45:22.299480Z",
     "iopub.status.idle": "2024-06-10T21:45:22.306163Z",
     "shell.execute_reply": "2024-06-10T21:45:22.304650Z"
    }
   },
   "outputs": [],
   "source": [
    "# UNCOMMENT if using SECTION 1 in the previous step\n",
    "# print(osc.stdout)\n",
    "\n",
    "# Add code to print osc.stdout to a file if desired."
   ]
  },
  {
   "cell_type": "markdown",
   "metadata": {},
   "source": [
    "---\n",
    "\n",
    "### 4.1 Archive Performance Summary\n",
    "\n",
    "- For use in Project-2 Performance Summary Report\n",
    "---"
   ]
  },
  {
   "cell_type": "code",
   "execution_count": 14,
   "metadata": {
    "execution": {
     "iopub.execute_input": "2024-06-10T21:45:22.311244Z",
     "iopub.status.busy": "2024-06-10T21:45:22.310876Z",
     "iopub.status.idle": "2024-06-10T21:45:22.348863Z",
     "shell.execute_reply": "2024-06-10T21:45:22.347219Z"
    }
   },
   "outputs": [
    {
     "name": "stdout",
     "output_type": "stream",
     "text": [
      "The file reports/performance_report.pkl exists.\n"
     ]
    }
   ],
   "source": [
    "# performance_summary is a dataframe of performance statistics\n",
    "\n",
    "# Add the dataset label as the first column in performance_summary\n",
    "dataset_column = pd.Series([dataset_label] * len(performance_summary), name=dataset_label)\n",
    "performance_summary.insert(0, 'new_column', dataset_column)\n",
    "\n",
    "analysis_perf_summary = { 'dataset_size': list(df.shape), 'report': performance_summary}\n",
    "\n",
    "# Performance_report is a file containing all the performance summary statistics\n",
    "if os.path.exists(performance_report):\n",
    "    print(f\"The file {performance_report} exists.\")\n",
    "    # Load Performance Report\n",
    "    with open(performance_report, 'rb') as file: perf_report = pickle.load(file)\n",
    "else:\n",
    "    print(f\"The file {performance_report} does not exist.\")\n",
    "    perf_report = {}\n",
    "    \n",
    "perf_report[dataset_label] = analysis_perf_summary\n",
    "\n",
    "# Save Performance Report\n",
    "with open(performance_report, 'wb') as file: pickle.dump(perf_report, file)"
   ]
  },
  {
   "cell_type": "markdown",
   "metadata": {},
   "source": [
    "### 4.2 Archive the Performance Detailed Statistics Report\n",
    "---"
   ]
  },
  {
   "cell_type": "code",
   "execution_count": 15,
   "metadata": {
    "execution": {
     "iopub.execute_input": "2024-06-10T21:45:22.353964Z",
     "iopub.status.busy": "2024-06-10T21:45:22.353591Z",
     "iopub.status.idle": "2024-06-10T21:45:22.374010Z",
     "shell.execute_reply": "2024-06-10T21:45:22.372777Z"
    }
   },
   "outputs": [],
   "source": [
    "# osc.stdout contains the details of the performance statistics\n",
    "\n",
    "with open(detailed_performance_report, \"w\") as file:\n",
    "    file.write(osc.stdout)"
   ]
  },
  {
   "cell_type": "markdown",
   "metadata": {},
   "source": [
    "---\n",
    "\n",
    "## 5. Performance Summary\n",
    "\n",
    "---"
   ]
  },
  {
   "cell_type": "code",
   "execution_count": 16,
   "metadata": {
    "execution": {
     "iopub.execute_input": "2024-06-10T21:45:22.380250Z",
     "iopub.status.busy": "2024-06-10T21:45:22.379830Z",
     "iopub.status.idle": "2024-06-10T21:45:22.408525Z",
     "shell.execute_reply": "2024-06-10T21:45:22.407473Z"
    }
   },
   "outputs": [
    {
     "name": "stdout",
     "output_type": "stream",
     "text": [
      "******************************************\n",
      "Performance Summary for: 8 SMOTEENN Dataset\n",
      "******************************************\n"
     ]
    },
    {
     "data": {
      "text/html": [
       "<div>\n",
       "<style scoped>\n",
       "    .dataframe tbody tr th:only-of-type {\n",
       "        vertical-align: middle;\n",
       "    }\n",
       "\n",
       "    .dataframe tbody tr th {\n",
       "        vertical-align: top;\n",
       "    }\n",
       "\n",
       "    .dataframe thead th {\n",
       "        text-align: right;\n",
       "    }\n",
       "</style>\n",
       "<table border=\"1\" class=\"dataframe\">\n",
       "  <thead>\n",
       "    <tr style=\"text-align: right;\">\n",
       "      <th></th>\n",
       "      <th>new_column</th>\n",
       "      <th>model</th>\n",
       "      <th>slice</th>\n",
       "      <th>score</th>\n",
       "      <th>balanced_accuracy</th>\n",
       "      <th>roc_auc_score</th>\n",
       "      <th>Mean Squared Error</th>\n",
       "      <th>Accuracy</th>\n",
       "      <th>Precision</th>\n",
       "      <th>Recall</th>\n",
       "      <th>F1-score</th>\n",
       "      <th>Specificity</th>\n",
       "      <th>False Positive Rate</th>\n",
       "      <th>Matthews Correlation Coefficient</th>\n",
       "    </tr>\n",
       "  </thead>\n",
       "  <tbody>\n",
       "    <tr>\n",
       "      <th>0</th>\n",
       "      <td>8 SMOTEENN Dataset</td>\n",
       "      <td>KNeighborsClassifier</td>\n",
       "      <td>Train</td>\n",
       "      <td>0.9022</td>\n",
       "      <td>0.7247</td>\n",
       "      <td>0.9334</td>\n",
       "      <td>0.0978</td>\n",
       "      <td>0.9022</td>\n",
       "      <td>0.7290</td>\n",
       "      <td>0.4784</td>\n",
       "      <td>0.5777</td>\n",
       "      <td>0.9711</td>\n",
       "      <td>0.0289</td>\n",
       "      <td>NaN</td>\n",
       "    </tr>\n",
       "    <tr>\n",
       "      <th>1</th>\n",
       "      <td>8 SMOTEENN Dataset</td>\n",
       "      <td>KNeighborsClassifier</td>\n",
       "      <td>Test</td>\n",
       "      <td>0.8370</td>\n",
       "      <td>0.5887</td>\n",
       "      <td>0.6828</td>\n",
       "      <td>0.1630</td>\n",
       "      <td>0.8370</td>\n",
       "      <td>0.3638</td>\n",
       "      <td>0.2460</td>\n",
       "      <td>0.2935</td>\n",
       "      <td>0.9313</td>\n",
       "      <td>0.0687</td>\n",
       "      <td>0.2103</td>\n",
       "    </tr>\n",
       "    <tr>\n",
       "      <th>2</th>\n",
       "      <td>8 SMOTEENN Dataset</td>\n",
       "      <td>DecisionTreeClassifier</td>\n",
       "      <td>Train</td>\n",
       "      <td>0.9947</td>\n",
       "      <td>0.9814</td>\n",
       "      <td>0.9999</td>\n",
       "      <td>0.0053</td>\n",
       "      <td>0.9947</td>\n",
       "      <td>0.9992</td>\n",
       "      <td>0.9628</td>\n",
       "      <td>0.9807</td>\n",
       "      <td>0.9999</td>\n",
       "      <td>0.0001</td>\n",
       "      <td>NaN</td>\n",
       "    </tr>\n",
       "    <tr>\n",
       "      <th>3</th>\n",
       "      <td>8 SMOTEENN Dataset</td>\n",
       "      <td>DecisionTreeClassifier</td>\n",
       "      <td>Test</td>\n",
       "      <td>0.7979</td>\n",
       "      <td>0.5978</td>\n",
       "      <td>0.5984</td>\n",
       "      <td>0.2021</td>\n",
       "      <td>0.7979</td>\n",
       "      <td>0.2896</td>\n",
       "      <td>0.3217</td>\n",
       "      <td>0.3048</td>\n",
       "      <td>0.8740</td>\n",
       "      <td>0.1260</td>\n",
       "      <td>0.1873</td>\n",
       "    </tr>\n",
       "    <tr>\n",
       "      <th>4</th>\n",
       "      <td>8 SMOTEENN Dataset</td>\n",
       "      <td>RandomForestClassifier</td>\n",
       "      <td>Train</td>\n",
       "      <td>0.9947</td>\n",
       "      <td>0.9826</td>\n",
       "      <td>0.9994</td>\n",
       "      <td>0.0053</td>\n",
       "      <td>0.9947</td>\n",
       "      <td>0.9958</td>\n",
       "      <td>0.9659</td>\n",
       "      <td>0.9806</td>\n",
       "      <td>0.9993</td>\n",
       "      <td>0.0007</td>\n",
       "      <td>20.5026</td>\n",
       "    </tr>\n",
       "    <tr>\n",
       "      <th>5</th>\n",
       "      <td>8 SMOTEENN Dataset</td>\n",
       "      <td>RandomForestClassifier</td>\n",
       "      <td>Test</td>\n",
       "      <td>0.8602</td>\n",
       "      <td>0.5720</td>\n",
       "      <td>0.7991</td>\n",
       "      <td>0.1398</td>\n",
       "      <td>0.8602</td>\n",
       "      <td>0.4794</td>\n",
       "      <td>0.1742</td>\n",
       "      <td>0.2555</td>\n",
       "      <td>0.9698</td>\n",
       "      <td>0.0302</td>\n",
       "      <td>0.2276</td>\n",
       "    </tr>\n",
       "    <tr>\n",
       "      <th>6</th>\n",
       "      <td>8 SMOTEENN Dataset</td>\n",
       "      <td>ExtraTreesClassifier</td>\n",
       "      <td>Train</td>\n",
       "      <td>0.9947</td>\n",
       "      <td>0.9814</td>\n",
       "      <td>0.9999</td>\n",
       "      <td>0.0053</td>\n",
       "      <td>0.9947</td>\n",
       "      <td>0.9992</td>\n",
       "      <td>0.9628</td>\n",
       "      <td>0.9807</td>\n",
       "      <td>0.9999</td>\n",
       "      <td>0.0001</td>\n",
       "      <td>NaN</td>\n",
       "    </tr>\n",
       "    <tr>\n",
       "      <th>7</th>\n",
       "      <td>8 SMOTEENN Dataset</td>\n",
       "      <td>ExtraTreesClassifier</td>\n",
       "      <td>Test</td>\n",
       "      <td>0.8524</td>\n",
       "      <td>0.5691</td>\n",
       "      <td>0.7768</td>\n",
       "      <td>0.1476</td>\n",
       "      <td>0.8524</td>\n",
       "      <td>0.4159</td>\n",
       "      <td>0.1782</td>\n",
       "      <td>0.2495</td>\n",
       "      <td>0.9600</td>\n",
       "      <td>0.0400</td>\n",
       "      <td>0.2022</td>\n",
       "    </tr>\n",
       "    <tr>\n",
       "      <th>8</th>\n",
       "      <td>8 SMOTEENN Dataset</td>\n",
       "      <td>GradientBoostingClassifier</td>\n",
       "      <td>Train</td>\n",
       "      <td>0.8668</td>\n",
       "      <td>0.5752</td>\n",
       "      <td>0.8317</td>\n",
       "      <td>0.1332</td>\n",
       "      <td>0.8668</td>\n",
       "      <td>0.5812</td>\n",
       "      <td>0.1704</td>\n",
       "      <td>0.2635</td>\n",
       "      <td>0.9800</td>\n",
       "      <td>0.0200</td>\n",
       "      <td>0.2632</td>\n",
       "    </tr>\n",
       "    <tr>\n",
       "      <th>9</th>\n",
       "      <td>8 SMOTEENN Dataset</td>\n",
       "      <td>GradientBoostingClassifier</td>\n",
       "      <td>Test</td>\n",
       "      <td>0.8668</td>\n",
       "      <td>0.5705</td>\n",
       "      <td>0.8294</td>\n",
       "      <td>0.1332</td>\n",
       "      <td>0.8668</td>\n",
       "      <td>0.5562</td>\n",
       "      <td>0.1615</td>\n",
       "      <td>0.2503</td>\n",
       "      <td>0.9794</td>\n",
       "      <td>0.0206</td>\n",
       "      <td>0.2478</td>\n",
       "    </tr>\n",
       "    <tr>\n",
       "      <th>10</th>\n",
       "      <td>8 SMOTEENN Dataset</td>\n",
       "      <td>AdaBoostClassifier</td>\n",
       "      <td>Train</td>\n",
       "      <td>0.8645</td>\n",
       "      <td>0.5844</td>\n",
       "      <td>0.8269</td>\n",
       "      <td>0.1355</td>\n",
       "      <td>0.8645</td>\n",
       "      <td>0.5432</td>\n",
       "      <td>0.1956</td>\n",
       "      <td>0.2876</td>\n",
       "      <td>0.9732</td>\n",
       "      <td>0.0268</td>\n",
       "      <td>0.2678</td>\n",
       "    </tr>\n",
       "    <tr>\n",
       "      <th>11</th>\n",
       "      <td>8 SMOTEENN Dataset</td>\n",
       "      <td>AdaBoostClassifier</td>\n",
       "      <td>Test</td>\n",
       "      <td>0.8655</td>\n",
       "      <td>0.5822</td>\n",
       "      <td>0.8259</td>\n",
       "      <td>0.1345</td>\n",
       "      <td>0.8655</td>\n",
       "      <td>0.5320</td>\n",
       "      <td>0.1913</td>\n",
       "      <td>0.2814</td>\n",
       "      <td>0.9731</td>\n",
       "      <td>0.0269</td>\n",
       "      <td>0.2612</td>\n",
       "    </tr>\n",
       "    <tr>\n",
       "      <th>12</th>\n",
       "      <td>8 SMOTEENN Dataset</td>\n",
       "      <td>LogisticRegression</td>\n",
       "      <td>Train</td>\n",
       "      <td>0.8634</td>\n",
       "      <td>0.5684</td>\n",
       "      <td>0.8222</td>\n",
       "      <td>0.1366</td>\n",
       "      <td>0.8634</td>\n",
       "      <td>0.5400</td>\n",
       "      <td>0.1588</td>\n",
       "      <td>0.2454</td>\n",
       "      <td>0.9780</td>\n",
       "      <td>0.0220</td>\n",
       "      <td>0.2389</td>\n",
       "    </tr>\n",
       "    <tr>\n",
       "      <th>13</th>\n",
       "      <td>8 SMOTEENN Dataset</td>\n",
       "      <td>LogisticRegression</td>\n",
       "      <td>Test</td>\n",
       "      <td>0.8641</td>\n",
       "      <td>0.5665</td>\n",
       "      <td>0.8217</td>\n",
       "      <td>0.1359</td>\n",
       "      <td>0.8641</td>\n",
       "      <td>0.5219</td>\n",
       "      <td>0.1559</td>\n",
       "      <td>0.2401</td>\n",
       "      <td>0.9772</td>\n",
       "      <td>0.0228</td>\n",
       "      <td>0.2309</td>\n",
       "    </tr>\n",
       "  </tbody>\n",
       "</table>\n",
       "</div>"
      ],
      "text/plain": [
       "            new_column                       model  slice   score  \\\n",
       "0   8 SMOTEENN Dataset        KNeighborsClassifier  Train  0.9022   \n",
       "1   8 SMOTEENN Dataset        KNeighborsClassifier   Test  0.8370   \n",
       "2   8 SMOTEENN Dataset      DecisionTreeClassifier  Train  0.9947   \n",
       "3   8 SMOTEENN Dataset      DecisionTreeClassifier   Test  0.7979   \n",
       "4   8 SMOTEENN Dataset      RandomForestClassifier  Train  0.9947   \n",
       "5   8 SMOTEENN Dataset      RandomForestClassifier   Test  0.8602   \n",
       "6   8 SMOTEENN Dataset        ExtraTreesClassifier  Train  0.9947   \n",
       "7   8 SMOTEENN Dataset        ExtraTreesClassifier   Test  0.8524   \n",
       "8   8 SMOTEENN Dataset  GradientBoostingClassifier  Train  0.8668   \n",
       "9   8 SMOTEENN Dataset  GradientBoostingClassifier   Test  0.8668   \n",
       "10  8 SMOTEENN Dataset          AdaBoostClassifier  Train  0.8645   \n",
       "11  8 SMOTEENN Dataset          AdaBoostClassifier   Test  0.8655   \n",
       "12  8 SMOTEENN Dataset          LogisticRegression  Train  0.8634   \n",
       "13  8 SMOTEENN Dataset          LogisticRegression   Test  0.8641   \n",
       "\n",
       "    balanced_accuracy  roc_auc_score  Mean Squared Error  Accuracy  Precision  \\\n",
       "0              0.7247         0.9334              0.0978    0.9022     0.7290   \n",
       "1              0.5887         0.6828              0.1630    0.8370     0.3638   \n",
       "2              0.9814         0.9999              0.0053    0.9947     0.9992   \n",
       "3              0.5978         0.5984              0.2021    0.7979     0.2896   \n",
       "4              0.9826         0.9994              0.0053    0.9947     0.9958   \n",
       "5              0.5720         0.7991              0.1398    0.8602     0.4794   \n",
       "6              0.9814         0.9999              0.0053    0.9947     0.9992   \n",
       "7              0.5691         0.7768              0.1476    0.8524     0.4159   \n",
       "8              0.5752         0.8317              0.1332    0.8668     0.5812   \n",
       "9              0.5705         0.8294              0.1332    0.8668     0.5562   \n",
       "10             0.5844         0.8269              0.1355    0.8645     0.5432   \n",
       "11             0.5822         0.8259              0.1345    0.8655     0.5320   \n",
       "12             0.5684         0.8222              0.1366    0.8634     0.5400   \n",
       "13             0.5665         0.8217              0.1359    0.8641     0.5219   \n",
       "\n",
       "    Recall  F1-score  Specificity  False Positive Rate  \\\n",
       "0   0.4784    0.5777       0.9711               0.0289   \n",
       "1   0.2460    0.2935       0.9313               0.0687   \n",
       "2   0.9628    0.9807       0.9999               0.0001   \n",
       "3   0.3217    0.3048       0.8740               0.1260   \n",
       "4   0.9659    0.9806       0.9993               0.0007   \n",
       "5   0.1742    0.2555       0.9698               0.0302   \n",
       "6   0.9628    0.9807       0.9999               0.0001   \n",
       "7   0.1782    0.2495       0.9600               0.0400   \n",
       "8   0.1704    0.2635       0.9800               0.0200   \n",
       "9   0.1615    0.2503       0.9794               0.0206   \n",
       "10  0.1956    0.2876       0.9732               0.0268   \n",
       "11  0.1913    0.2814       0.9731               0.0269   \n",
       "12  0.1588    0.2454       0.9780               0.0220   \n",
       "13  0.1559    0.2401       0.9772               0.0228   \n",
       "\n",
       "    Matthews Correlation Coefficient  \n",
       "0                                NaN  \n",
       "1                             0.2103  \n",
       "2                                NaN  \n",
       "3                             0.1873  \n",
       "4                            20.5026  \n",
       "5                             0.2276  \n",
       "6                                NaN  \n",
       "7                             0.2022  \n",
       "8                             0.2632  \n",
       "9                             0.2478  \n",
       "10                            0.2678  \n",
       "11                            0.2612  \n",
       "12                            0.2389  \n",
       "13                            0.2309  "
      ]
     },
     "execution_count": 16,
     "metadata": {},
     "output_type": "execute_result"
    }
   ],
   "source": [
    "# print the performance summary\n",
    "print(f\"******************************************\")\n",
    "print(f\"Performance Summary for: {dataset_label}\")\n",
    "print(f\"******************************************\")\n",
    "\n",
    "performance_summary"
   ]
  },
  {
   "cell_type": "code",
   "execution_count": 17,
   "metadata": {
    "execution": {
     "iopub.execute_input": "2024-06-10T21:45:22.412874Z",
     "iopub.status.busy": "2024-06-10T21:45:22.412524Z",
     "iopub.status.idle": "2024-06-10T21:45:22.419771Z",
     "shell.execute_reply": "2024-06-10T21:45:22.417426Z"
    }
   },
   "outputs": [
    {
     "name": "stdout",
     "output_type": "stream",
     "text": [
      "Completed: Execution Time 360.86 seconds:\n"
     ]
    }
   ],
   "source": [
    "print(f\"Completed: Execution Time %s seconds:\" % round((time.time() - start_time),2) )"
   ]
  },
  {
   "cell_type": "markdown",
   "metadata": {},
   "source": [
    "---\n",
    "\n",
    "## 6. Conclusions\n",
    "\n",
    "- A first glance at the summary, it appears that the Boosting models may have performed well with test/train scores were >.8 and similar in scale (<.02 delta).  However, the poor test confusion matrix and balanced accuracy highlight the overfitting.\n",
    "\n",
    "- The Base Cleaned data is overfit as indicated by:\n",
    "    - Poor confusion matrix on the detailed report for test sets on all models\n",
    "    - Low balanced accuracy as compared to the model score (less than 50%)\n"
   ]
  },
  {
   "cell_type": "markdown",
   "metadata": {},
   "source": [
    "---\n",
    "\n",
    "---"
   ]
  }
 ],
 "metadata": {
  "kernelspec": {
   "display_name": "dev",
   "language": "python",
   "name": "python3"
  },
  "language_info": {
   "codemirror_mode": {
    "name": "ipython",
    "version": 3
   },
   "file_extension": ".py",
   "mimetype": "text/x-python",
   "name": "python",
   "nbconvert_exporter": "python",
   "pygments_lexer": "ipython3",
   "version": "3.12.2"
  }
 },
 "nbformat": 4,
 "nbformat_minor": 2
}
