{
 "cells": [
  {
   "cell_type": "markdown",
   "metadata": {},
   "source": [
    "---\n",
    "\n",
    "## Data Analysis\n",
    "\n",
    "- This file differs from [2_data_analysis_1_base_data.ipynb](2_data_analysis_1_base_data.ipynb) in that it:\n",
    "    - scales the base cleaned data created in [1_data_cleaning.ipynb](1_data_cleaning.ipynb).\n",
    "\n",
    "Source dataset: 247076 rows × 37 columns\n",
    "Processed and analyzed dataset: 247076 rows × 37 columns\n",
    "\n",
    "---"
   ]
  },
  {
   "cell_type": "code",
   "execution_count": 1,
   "metadata": {
    "execution": {
     "iopub.execute_input": "2024-06-11T00:14:31.962696Z",
     "iopub.status.busy": "2024-06-11T00:14:31.961913Z",
     "iopub.status.idle": "2024-06-11T00:14:33.436867Z",
     "shell.execute_reply": "2024-06-11T00:14:33.435178Z"
    }
   },
   "outputs": [],
   "source": [
    "# package imports go here\n",
    "import pandas as pd\n",
    "import numpy as np\n",
    "import fastparquet as fp\n",
    "import os\n",
    "import sys\n",
    "import pickle\n",
    "import matplotlib.pyplot as plt\n",
    "import importlib\n",
    "import config\n",
    "import time\n",
    "\n",
    "sys.path.insert(1, config.package_path)\n",
    "import ml_analysis as mlanlys\n",
    "import ml_clean_feature as mlclean"
   ]
  },
  {
   "cell_type": "code",
   "execution_count": 2,
   "metadata": {
    "execution": {
     "iopub.execute_input": "2024-06-11T00:14:33.443838Z",
     "iopub.status.busy": "2024-06-11T00:14:33.442999Z",
     "iopub.status.idle": "2024-06-11T00:14:33.450219Z",
     "shell.execute_reply": "2024-06-11T00:14:33.448428Z"
    }
   },
   "outputs": [],
   "source": [
    "start_time = time.time()"
   ]
  },
  {
   "cell_type": "markdown",
   "metadata": {},
   "source": [
    "---\n",
    "\n",
    "## 1. Read the cleaned dataset from file\n",
    "\n",
    "---"
   ]
  },
  {
   "cell_type": "code",
   "execution_count": 3,
   "metadata": {
    "execution": {
     "iopub.execute_input": "2024-06-11T00:14:33.455674Z",
     "iopub.status.busy": "2024-06-11T00:14:33.454095Z",
     "iopub.status.idle": "2024-06-11T00:14:33.474045Z",
     "shell.execute_reply": "2024-06-11T00:14:33.472494Z"
    }
   },
   "outputs": [
    {
     "name": "stdout",
     "output_type": "stream",
     "text": [
      "Year:                        2021\n",
      "Clean File:                  data/brfss_2021_clean.parquet.gzip\n",
      "Performance Report:          reports/performance_report.pkl\n",
      "Detailed Performance Report: reports/8_smoteenn_dataset_detailed_performance_report.txt\n"
     ]
    }
   ],
   "source": [
    "# reload any changes to Config Settings\n",
    "importlib.reload(config)\n",
    "\n",
    "# BE SURE TO UPDATE THE LABEL FOR THIS ANALYSIS\n",
    "# #############################\n",
    "dataset_label = '8 SMOTEENN Dataset'\n",
    "# #############################\n",
    "\n",
    "year                        = config.year\n",
    "\n",
    "clean_file                  = config.clean_file\n",
    "performance_report          = config.performance_report\n",
    "\n",
    "report_path                 = config.report_path\n",
    "file_label                  = dataset_label.lower().replace(' ','_')\n",
    "detailed_performance_report = report_path + file_label + '_detailed_performance_report.txt'\n",
    "\n",
    "print(f\"Year:                        {year}\")\n",
    "print(f\"Clean File:                  {clean_file}\")\n",
    "print(f\"Performance Report:          {performance_report}\")\n",
    "print(f\"Detailed Performance Report: {detailed_performance_report}\")"
   ]
  },
  {
   "cell_type": "code",
   "execution_count": 4,
   "metadata": {
    "execution": {
     "iopub.execute_input": "2024-06-11T00:14:33.479977Z",
     "iopub.status.busy": "2024-06-11T00:14:33.478432Z",
     "iopub.status.idle": "2024-06-11T00:14:34.007501Z",
     "shell.execute_reply": "2024-06-11T00:14:34.005908Z"
    }
   },
   "outputs": [],
   "source": [
    "# Read final cleaned dataset from parquet file\n",
    "df = pd.read_parquet(clean_file, engine=\"fastparquet\")"
   ]
  },
  {
   "cell_type": "code",
   "execution_count": 5,
   "metadata": {
    "execution": {
     "iopub.execute_input": "2024-06-11T00:14:34.012662Z",
     "iopub.status.busy": "2024-06-11T00:14:34.012017Z",
     "iopub.status.idle": "2024-06-11T00:14:34.018772Z",
     "shell.execute_reply": "2024-06-11T00:14:34.016633Z"
    }
   },
   "outputs": [],
   "source": [
    "diabetes_labels = df.columns"
   ]
  },
  {
   "cell_type": "code",
   "execution_count": 6,
   "metadata": {
    "execution": {
     "iopub.execute_input": "2024-06-11T00:14:34.024418Z",
     "iopub.status.busy": "2024-06-11T00:14:34.024080Z",
     "iopub.status.idle": "2024-06-11T00:14:34.040051Z",
     "shell.execute_reply": "2024-06-11T00:14:34.038302Z"
    }
   },
   "outputs": [
    {
     "data": {
      "text/plain": [
       "(247076, 37)"
      ]
     },
     "execution_count": 6,
     "metadata": {},
     "output_type": "execute_result"
    }
   ],
   "source": [
    "df.shape"
   ]
  },
  {
   "cell_type": "markdown",
   "metadata": {},
   "source": [
    "---\n",
    "\n",
    "## 2. Prepare the dataset for analysis\n",
    "\n",
    "- Split the dataset into features and labels.\n",
    "- Split the dataset into training and testing sets.\n",
    "- Scale the dataset\n",
    "\n",
    "---"
   ]
  },
  {
   "cell_type": "code",
   "execution_count": 7,
   "metadata": {
    "execution": {
     "iopub.execute_input": "2024-06-11T00:14:34.046432Z",
     "iopub.status.busy": "2024-06-11T00:14:34.045113Z",
     "iopub.status.idle": "2024-06-11T00:14:34.103104Z",
     "shell.execute_reply": "2024-06-11T00:14:34.100964Z"
    }
   },
   "outputs": [],
   "source": [
    "from sklearn.datasets import make_regression, make_swiss_roll\n",
    "from sklearn.model_selection import train_test_split\n",
    "from sklearn.preprocessing import StandardScaler"
   ]
  },
  {
   "cell_type": "code",
   "execution_count": 8,
   "metadata": {
    "execution": {
     "iopub.execute_input": "2024-06-11T00:14:34.109882Z",
     "iopub.status.busy": "2024-06-11T00:14:34.107952Z",
     "iopub.status.idle": "2024-06-11T00:14:34.629925Z",
     "shell.execute_reply": "2024-06-11T00:14:34.628435Z"
    }
   },
   "outputs": [
    {
     "name": "stdout",
     "output_type": "stream",
     "text": [
      "Base Dataset Modifications in Process\n",
      "-------------------------------------\n",
      "**Operation:target_column  diabetes\n",
      "**Operation:convert_to_binary  True\n",
      "  -- Converting dataset to binary (0,1) from (0,1,2)\n",
      "\n",
      "\n",
      "****Cleaning Feature: diabetes\n",
      "  Initial Unique features in [diabetes]:  [0. 1. 2.]\n",
      "  values_to_drop: ********* NO Parameters were specified *********\n",
      "  translate: {1: 0, 2: 1}\n",
      "  scale: ********* NO Parameters were specified *********\n",
      "  FINAL Unique features in [diabetes]:  [0. 1.]\n",
      "**Operation:scaler  standard\n",
      "  -- Performing train_test_split on dataframe with target:'diabetes'\n",
      "     -- Run automatically before scalar or random_sample operations\n",
      "  -- Performing StandardScaler on X_train: Updates X_train, y_test\n",
      "**Operation:random_sample  smoteen\n",
      "\n",
      "Dataframe, Train Test Summary\n",
      "-----------------------------\n",
      "Dataframe: (247076, 37)  Data:4, X_train:185307, y_train:185307, X_test:61769, y_test:61769\n",
      "ValueCounts:   y_train: len:2   0: 160547   1: 24760\n",
      "ValueCounts:   y_test : len:2   0:  53496   1:  8273\n"
     ]
    }
   ],
   "source": [
    "# reload any changes to mlanlys\n",
    "importlib.reload(mlanlys)\n",
    "\n",
    "target = 'diabetes'\n",
    "# Dictionary defining modification to be made to the base dataset\n",
    "operation_dict = {  'target_column'     :  target,\n",
    "                    'convert_to_binary' :  True,\n",
    "                    'scaler'            : 'standard', # options: none, standard, minmax\n",
    "                    'random_sample'     : 'smoteen'   # options: none, undersample, oversample\n",
    "                    }\n",
    "\n",
    "# This insures that df if not modified during the call to modify_base_dataset()\n",
    "df_modified = df.copy()\n",
    "\n",
    "# Modify the base dataset\n",
    "# data is returned where: X_train, X_test, y_train, y_test = data\n",
    "data = mlanlys.modify_base_dataset(df_modified, operation_dict)"
   ]
  },
  {
   "cell_type": "code",
   "execution_count": 9,
   "metadata": {
    "execution": {
     "iopub.execute_input": "2024-06-11T00:14:34.634763Z",
     "iopub.status.busy": "2024-06-11T00:14:34.633972Z",
     "iopub.status.idle": "2024-06-11T00:14:34.653395Z",
     "shell.execute_reply": "2024-06-11T00:14:34.650947Z"
    }
   },
   "outputs": [
    {
     "name": "stdout",
     "output_type": "stream",
     "text": [
      "Original Dataframe\n",
      "------------------\n",
      "df.shape: (247076, 37)\n",
      "df[diabetes].value_counts:  diabetes\n",
      "0.0    208389\n",
      "2.0     33033\n",
      "1.0      5654\n",
      "Name: count, dtype: int64\n",
      "\n",
      "Modified Dataframe\n",
      "------------------\n",
      "df_modified.shape: (247076, 37)\n",
      "df_modified[diabetes].value_counts:  diabetes\n",
      "0.0    214043\n",
      "1.0     33033\n",
      "Name: count, dtype: int64\n"
     ]
    }
   ],
   "source": [
    "# Print some statistics about the original df and the modified dataframe\n",
    "print(f\"Original Dataframe\")\n",
    "print(f\"------------------\")\n",
    "print(f\"df.shape: {df.shape}\")\n",
    "print(f\"df[{target}].value_counts:  {df[target].value_counts()}\")\n",
    "\n",
    "print(f\"\\nModified Dataframe\")\n",
    "print(f\"------------------\")\n",
    "print(f\"df_modified.shape: {df_modified.shape}\")\n",
    "print(f\"df_modified[{target}].value_counts:  {df_modified[target].value_counts()}\")"
   ]
  },
  {
   "cell_type": "code",
   "execution_count": 10,
   "metadata": {
    "execution": {
     "iopub.execute_input": "2024-06-11T00:14:34.659514Z",
     "iopub.status.busy": "2024-06-11T00:14:34.658275Z",
     "iopub.status.idle": "2024-06-11T00:14:34.674663Z",
     "shell.execute_reply": "2024-06-11T00:14:34.673336Z"
    }
   },
   "outputs": [
    {
     "name": "stdout",
     "output_type": "stream",
     "text": [
      "Dataframe: (247076, 37)  Data:4, X_train:185307, y_train:185307, X_test:61769, y_test:61769\n"
     ]
    },
    {
     "data": {
      "text/plain": [
       "diabetes\n",
       "0.0    160547\n",
       "1.0     24760\n",
       "Name: count, dtype: int64"
      ]
     },
     "execution_count": 10,
     "metadata": {},
     "output_type": "execute_result"
    }
   ],
   "source": [
    "X_train, X_test, y_train, y_test = data\n",
    "print(f\"Dataframe: {df_modified.shape}  Data:{len(data)}, X_train:{len(X_train)}, y_train:{len(y_train)}, X_test:{len(X_test)}, y_test:{len(y_test)}\")\n",
    "y_train.value_counts()"
   ]
  },
  {
   "cell_type": "markdown",
   "metadata": {},
   "source": [
    "---\n",
    "\n",
    "## 3. Run initial Tests and get k_value\n",
    "\n",
    "**From step 2:**  Data = [X_train_modified, X_test_modified, y_train_modified, y_test]\n",
    "\n",
    "---"
   ]
  },
  {
   "cell_type": "code",
   "execution_count": 11,
   "metadata": {
    "execution": {
     "iopub.execute_input": "2024-06-11T00:14:34.679909Z",
     "iopub.status.busy": "2024-06-11T00:14:34.679164Z",
     "iopub.status.idle": "2024-06-11T00:14:34.727295Z",
     "shell.execute_reply": "2024-06-11T00:14:34.725834Z"
    }
   },
   "outputs": [
    {
     "data": {
      "text/plain": [
       "<module 'ml_analysis' from '/mnt/c/ML/DU/repos/projects/project-2/DU-project-2-2015/brfss_2021/../pkgs/ml_analysis.py'>"
      ]
     },
     "execution_count": 11,
     "metadata": {},
     "output_type": "execute_result"
    }
   ],
   "source": [
    "# reload any changes to mlanlys\n",
    "importlib.reload(mlanlys)\n",
    "\n",
    "# Determine the k_value\n",
    "# mlanlys.knn_plot(data)"
   ]
  },
  {
   "cell_type": "markdown",
   "metadata": {},
   "source": [
    "**Note:** From the knn plot above, pick a k-value of 3."
   ]
  },
  {
   "cell_type": "markdown",
   "metadata": {},
   "source": [
    "---\n",
    "\n",
    "## 4. Run the Analysis\n",
    "\n",
    "---\n",
    "\n",
    "#### Model Run Times\n",
    "\n",
    "-  Base dataset (247076 rows × 37 columns):\n",
    "\n",
    "| Model | Run Time |\n",
    "| ----- | -------- |\n",
    "| test_model(SVC(kernel='linear'), data)                          | Aborted >35min (Data too large, consider for RandomUndersampling dataset) |\n",
    "| test_model(KNeighborsClassifier(n_neighbors=k_value), data)     | 247.13 seconds |\n",
    "| test_model(tree.DecisionTreeClassifier(), data)                 |   3.89 seconds |\n",
    "| test_model(RandomForestClassifier(), data)                      |  60.94 seconds |\n",
    "| test_model(ExtraTreesClassifier(random_state=1), data)          |  58.54 seconds |\n",
    "| test_model(GradientBoostingClassifier(random_state=1), data)    | 115.21 seconds |\n",
    "| test_model(AdaBoostClassifier(random_state=1), data)            |  11.91 seconds |\n",
    "| test_model(LogisticRegression(), data)                          |   4.90 seconds |\n",
    "| **Total** w/o SVC| 502.52 seconds / **8:23 minutes** |"
   ]
  },
  {
   "cell_type": "code",
   "execution_count": 12,
   "metadata": {
    "execution": {
     "iopub.execute_input": "2024-06-11T00:14:34.735093Z",
     "iopub.status.busy": "2024-06-11T00:14:34.733811Z",
     "iopub.status.idle": "2024-06-11T00:24:05.421419Z",
     "shell.execute_reply": "2024-06-11T00:24:05.420362Z"
    }
   },
   "outputs": [],
   "source": [
    "# reload any changes to nlanlys\n",
    "importlib.reload(mlanlys)\n",
    "\n",
    "k_value = 3\n",
    "\n",
    "#### COMMENT OUT ONE OF THE FOLLOWING SECTIONS\n",
    "\n",
    "## SECTION 1\n",
    "# Capture stdout & stderr into two strings: osc.stdout and osc.stderr that contain the output from the function\n",
    "# -- This allows the output to be printed here or to a file or both.\n",
    "\n",
    "with mlanlys.OutStreamCapture() as osc:\n",
    "    performance_summary = mlanlys.run_classification_models(data, k_value)\n",
    "#    performance_summary = mlanlys.run_classification_models_test(data, k_value)\n",
    "\n",
    "## <OR>\n",
    "## SECTION 2\n",
    "\n",
    "# performance_summary = mlanlys.run_classification_models(data, k_value)\n"
   ]
  },
  {
   "cell_type": "code",
   "execution_count": 13,
   "metadata": {
    "execution": {
     "iopub.execute_input": "2024-06-11T00:24:05.427066Z",
     "iopub.status.busy": "2024-06-11T00:24:05.426824Z",
     "iopub.status.idle": "2024-06-11T00:24:05.430263Z",
     "shell.execute_reply": "2024-06-11T00:24:05.429625Z"
    }
   },
   "outputs": [],
   "source": [
    "# UNCOMMENT if using SECTION 1 in the previous step\n",
    "# print(osc.stdout)\n",
    "\n",
    "# Add code to print osc.stdout to a file if desired."
   ]
  },
  {
   "cell_type": "markdown",
   "metadata": {},
   "source": [
    "---\n",
    "\n",
    "### 4.1 Archive Performance Summary\n",
    "\n",
    "- For use in Project-2 Performance Summary Report\n",
    "---"
   ]
  },
  {
   "cell_type": "code",
   "execution_count": 14,
   "metadata": {
    "execution": {
     "iopub.execute_input": "2024-06-11T00:24:05.432869Z",
     "iopub.status.busy": "2024-06-11T00:24:05.432687Z",
     "iopub.status.idle": "2024-06-11T00:24:05.464128Z",
     "shell.execute_reply": "2024-06-11T00:24:05.462658Z"
    }
   },
   "outputs": [
    {
     "name": "stdout",
     "output_type": "stream",
     "text": [
      "The file reports/performance_report.pkl exists.\n"
     ]
    }
   ],
   "source": [
    "# performance_summary is a dataframe of performance statistics\n",
    "\n",
    "# Add the dataset label as the first column in performance_summary\n",
    "dataset_column = pd.Series([dataset_label] * len(performance_summary), name=dataset_label)\n",
    "performance_summary.insert(0, 'new_column', dataset_column)\n",
    "\n",
    "analysis_perf_summary = { 'dataset_size': list(df.shape), 'report': performance_summary}\n",
    "\n",
    "# Performance_report is a file containing all the performance summary statistics\n",
    "if os.path.exists(performance_report):\n",
    "    print(f\"The file {performance_report} exists.\")\n",
    "    # Load Performance Report\n",
    "    with open(performance_report, 'rb') as file: perf_report = pickle.load(file)\n",
    "else:\n",
    "    print(f\"The file {performance_report} does not exist.\")\n",
    "    perf_report = {}\n",
    "    \n",
    "perf_report[dataset_label] = analysis_perf_summary\n",
    "\n",
    "# Save Performance Report\n",
    "with open(performance_report, 'wb') as file: pickle.dump(perf_report, file)"
   ]
  },
  {
   "cell_type": "markdown",
   "metadata": {},
   "source": [
    "### 4.2 Archive the Performance Detailed Statistics Report\n",
    "---"
   ]
  },
  {
   "cell_type": "code",
   "execution_count": 15,
   "metadata": {
    "execution": {
     "iopub.execute_input": "2024-06-11T00:24:05.468117Z",
     "iopub.status.busy": "2024-06-11T00:24:05.467817Z",
     "iopub.status.idle": "2024-06-11T00:24:05.488713Z",
     "shell.execute_reply": "2024-06-11T00:24:05.486988Z"
    }
   },
   "outputs": [],
   "source": [
    "# osc.stdout contains the details of the performance statistics\n",
    "\n",
    "with open(detailed_performance_report, \"w\") as file:\n",
    "    file.write(osc.stdout)"
   ]
  },
  {
   "cell_type": "markdown",
   "metadata": {},
   "source": [
    "---\n",
    "\n",
    "## 5. Performance Summary\n",
    "\n",
    "---"
   ]
  },
  {
   "cell_type": "code",
   "execution_count": 16,
   "metadata": {
    "execution": {
     "iopub.execute_input": "2024-06-11T00:24:05.493882Z",
     "iopub.status.busy": "2024-06-11T00:24:05.493512Z",
     "iopub.status.idle": "2024-06-11T00:24:05.522870Z",
     "shell.execute_reply": "2024-06-11T00:24:05.521434Z"
    }
   },
   "outputs": [
    {
     "name": "stdout",
     "output_type": "stream",
     "text": [
      "******************************************\n",
      "Performance Summary for: 8 SMOTEENN Dataset\n",
      "******************************************\n"
     ]
    },
    {
     "data": {
      "text/html": [
       "<div>\n",
       "<style scoped>\n",
       "    .dataframe tbody tr th:only-of-type {\n",
       "        vertical-align: middle;\n",
       "    }\n",
       "\n",
       "    .dataframe tbody tr th {\n",
       "        vertical-align: top;\n",
       "    }\n",
       "\n",
       "    .dataframe thead th {\n",
       "        text-align: right;\n",
       "    }\n",
       "</style>\n",
       "<table border=\"1\" class=\"dataframe\">\n",
       "  <thead>\n",
       "    <tr style=\"text-align: right;\">\n",
       "      <th></th>\n",
       "      <th>new_column</th>\n",
       "      <th>model</th>\n",
       "      <th>slice</th>\n",
       "      <th>score</th>\n",
       "      <th>balanced_accuracy</th>\n",
       "      <th>roc_auc_score</th>\n",
       "      <th>Mean Squared Error</th>\n",
       "      <th>Accuracy</th>\n",
       "      <th>Precision</th>\n",
       "      <th>Recall</th>\n",
       "      <th>F1-score</th>\n",
       "      <th>Specificity</th>\n",
       "      <th>False Positive Rate</th>\n",
       "      <th>Matthews Correlation Coefficient</th>\n",
       "    </tr>\n",
       "  </thead>\n",
       "  <tbody>\n",
       "    <tr>\n",
       "      <th>0</th>\n",
       "      <td>8 SMOTEENN Dataset</td>\n",
       "      <td>KNeighborsClassifier</td>\n",
       "      <td>Train</td>\n",
       "      <td>0.9053</td>\n",
       "      <td>0.7236</td>\n",
       "      <td>0.9352</td>\n",
       "      <td>0.0947</td>\n",
       "      <td>0.9053</td>\n",
       "      <td>0.7209</td>\n",
       "      <td>0.4755</td>\n",
       "      <td>0.5730</td>\n",
       "      <td>0.9716</td>\n",
       "      <td>0.0284</td>\n",
       "      <td>NaN</td>\n",
       "    </tr>\n",
       "    <tr>\n",
       "      <th>1</th>\n",
       "      <td>8 SMOTEENN Dataset</td>\n",
       "      <td>KNeighborsClassifier</td>\n",
       "      <td>Test</td>\n",
       "      <td>0.8426</td>\n",
       "      <td>0.5849</td>\n",
       "      <td>0.6819</td>\n",
       "      <td>0.1574</td>\n",
       "      <td>0.8426</td>\n",
       "      <td>0.3634</td>\n",
       "      <td>0.2328</td>\n",
       "      <td>0.2838</td>\n",
       "      <td>0.9369</td>\n",
       "      <td>0.0631</td>\n",
       "      <td>0.2064</td>\n",
       "    </tr>\n",
       "    <tr>\n",
       "      <th>2</th>\n",
       "      <td>8 SMOTEENN Dataset</td>\n",
       "      <td>DecisionTreeClassifier</td>\n",
       "      <td>Train</td>\n",
       "      <td>1.0000</td>\n",
       "      <td>1.0000</td>\n",
       "      <td>1.0000</td>\n",
       "      <td>0.0000</td>\n",
       "      <td>1.0000</td>\n",
       "      <td>1.0000</td>\n",
       "      <td>1.0000</td>\n",
       "      <td>1.0000</td>\n",
       "      <td>1.0000</td>\n",
       "      <td>0.0000</td>\n",
       "      <td>NaN</td>\n",
       "    </tr>\n",
       "    <tr>\n",
       "      <th>3</th>\n",
       "      <td>8 SMOTEENN Dataset</td>\n",
       "      <td>DecisionTreeClassifier</td>\n",
       "      <td>Test</td>\n",
       "      <td>0.8037</td>\n",
       "      <td>0.6011</td>\n",
       "      <td>0.6011</td>\n",
       "      <td>0.1963</td>\n",
       "      <td>0.8037</td>\n",
       "      <td>0.2910</td>\n",
       "      <td>0.3243</td>\n",
       "      <td>0.3067</td>\n",
       "      <td>0.8778</td>\n",
       "      <td>0.1222</td>\n",
       "      <td>0.1932</td>\n",
       "    </tr>\n",
       "    <tr>\n",
       "      <th>4</th>\n",
       "      <td>8 SMOTEENN Dataset</td>\n",
       "      <td>RandomForestClassifier</td>\n",
       "      <td>Train</td>\n",
       "      <td>1.0000</td>\n",
       "      <td>0.9998</td>\n",
       "      <td>1.0000</td>\n",
       "      <td>0.0000</td>\n",
       "      <td>1.0000</td>\n",
       "      <td>1.0000</td>\n",
       "      <td>0.9997</td>\n",
       "      <td>0.9998</td>\n",
       "      <td>1.0000</td>\n",
       "      <td>0.0000</td>\n",
       "      <td>NaN</td>\n",
       "    </tr>\n",
       "    <tr>\n",
       "      <th>5</th>\n",
       "      <td>8 SMOTEENN Dataset</td>\n",
       "      <td>RandomForestClassifier</td>\n",
       "      <td>Test</td>\n",
       "      <td>0.8711</td>\n",
       "      <td>0.5570</td>\n",
       "      <td>0.8249</td>\n",
       "      <td>0.1289</td>\n",
       "      <td>0.8711</td>\n",
       "      <td>0.5870</td>\n",
       "      <td>0.1280</td>\n",
       "      <td>0.2102</td>\n",
       "      <td>0.9861</td>\n",
       "      <td>0.0139</td>\n",
       "      <td>0.2307</td>\n",
       "    </tr>\n",
       "    <tr>\n",
       "      <th>6</th>\n",
       "      <td>8 SMOTEENN Dataset</td>\n",
       "      <td>ExtraTreesClassifier</td>\n",
       "      <td>Train</td>\n",
       "      <td>1.0000</td>\n",
       "      <td>1.0000</td>\n",
       "      <td>1.0000</td>\n",
       "      <td>0.0000</td>\n",
       "      <td>1.0000</td>\n",
       "      <td>1.0000</td>\n",
       "      <td>1.0000</td>\n",
       "      <td>1.0000</td>\n",
       "      <td>1.0000</td>\n",
       "      <td>0.0000</td>\n",
       "      <td>NaN</td>\n",
       "    </tr>\n",
       "    <tr>\n",
       "      <th>7</th>\n",
       "      <td>8 SMOTEENN Dataset</td>\n",
       "      <td>ExtraTreesClassifier</td>\n",
       "      <td>Test</td>\n",
       "      <td>0.8697</td>\n",
       "      <td>0.5611</td>\n",
       "      <td>0.8189</td>\n",
       "      <td>0.1303</td>\n",
       "      <td>0.8697</td>\n",
       "      <td>0.5543</td>\n",
       "      <td>0.1395</td>\n",
       "      <td>0.2229</td>\n",
       "      <td>0.9827</td>\n",
       "      <td>0.0173</td>\n",
       "      <td>0.2305</td>\n",
       "    </tr>\n",
       "    <tr>\n",
       "      <th>8</th>\n",
       "      <td>8 SMOTEENN Dataset</td>\n",
       "      <td>GradientBoostingClassifier</td>\n",
       "      <td>Train</td>\n",
       "      <td>0.8731</td>\n",
       "      <td>0.5739</td>\n",
       "      <td>0.8402</td>\n",
       "      <td>0.1269</td>\n",
       "      <td>0.8731</td>\n",
       "      <td>0.5891</td>\n",
       "      <td>0.1656</td>\n",
       "      <td>0.2585</td>\n",
       "      <td>0.9822</td>\n",
       "      <td>0.0178</td>\n",
       "      <td>0.2645</td>\n",
       "    </tr>\n",
       "    <tr>\n",
       "      <th>9</th>\n",
       "      <td>8 SMOTEENN Dataset</td>\n",
       "      <td>GradientBoostingClassifier</td>\n",
       "      <td>Test</td>\n",
       "      <td>0.8723</td>\n",
       "      <td>0.5744</td>\n",
       "      <td>0.8356</td>\n",
       "      <td>0.1277</td>\n",
       "      <td>0.8723</td>\n",
       "      <td>0.5810</td>\n",
       "      <td>0.1674</td>\n",
       "      <td>0.2599</td>\n",
       "      <td>0.9813</td>\n",
       "      <td>0.0187</td>\n",
       "      <td>0.2630</td>\n",
       "    </tr>\n",
       "    <tr>\n",
       "      <th>10</th>\n",
       "      <td>8 SMOTEENN Dataset</td>\n",
       "      <td>AdaBoostClassifier</td>\n",
       "      <td>Train</td>\n",
       "      <td>0.8707</td>\n",
       "      <td>0.5822</td>\n",
       "      <td>0.8348</td>\n",
       "      <td>0.1293</td>\n",
       "      <td>0.8707</td>\n",
       "      <td>0.5468</td>\n",
       "      <td>0.1884</td>\n",
       "      <td>0.2802</td>\n",
       "      <td>0.9759</td>\n",
       "      <td>0.0241</td>\n",
       "      <td>0.2668</td>\n",
       "    </tr>\n",
       "    <tr>\n",
       "      <th>11</th>\n",
       "      <td>8 SMOTEENN Dataset</td>\n",
       "      <td>AdaBoostClassifier</td>\n",
       "      <td>Test</td>\n",
       "      <td>0.8715</td>\n",
       "      <td>0.5849</td>\n",
       "      <td>0.8325</td>\n",
       "      <td>0.1285</td>\n",
       "      <td>0.8715</td>\n",
       "      <td>0.5580</td>\n",
       "      <td>0.1935</td>\n",
       "      <td>0.2874</td>\n",
       "      <td>0.9763</td>\n",
       "      <td>0.0237</td>\n",
       "      <td>0.2748</td>\n",
       "    </tr>\n",
       "    <tr>\n",
       "      <th>12</th>\n",
       "      <td>8 SMOTEENN Dataset</td>\n",
       "      <td>LogisticRegression</td>\n",
       "      <td>Train</td>\n",
       "      <td>0.8694</td>\n",
       "      <td>0.5648</td>\n",
       "      <td>0.8252</td>\n",
       "      <td>0.1306</td>\n",
       "      <td>0.8694</td>\n",
       "      <td>0.5404</td>\n",
       "      <td>0.1493</td>\n",
       "      <td>0.2340</td>\n",
       "      <td>0.9804</td>\n",
       "      <td>0.0196</td>\n",
       "      <td>0.2340</td>\n",
       "    </tr>\n",
       "    <tr>\n",
       "      <th>13</th>\n",
       "      <td>8 SMOTEENN Dataset</td>\n",
       "      <td>LogisticRegression</td>\n",
       "      <td>Test</td>\n",
       "      <td>0.8690</td>\n",
       "      <td>0.5659</td>\n",
       "      <td>0.8263</td>\n",
       "      <td>0.1310</td>\n",
       "      <td>0.8690</td>\n",
       "      <td>0.5388</td>\n",
       "      <td>0.1519</td>\n",
       "      <td>0.2370</td>\n",
       "      <td>0.9799</td>\n",
       "      <td>0.0201</td>\n",
       "      <td>0.2355</td>\n",
       "    </tr>\n",
       "  </tbody>\n",
       "</table>\n",
       "</div>"
      ],
      "text/plain": [
       "            new_column                       model  slice   score  \\\n",
       "0   8 SMOTEENN Dataset        KNeighborsClassifier  Train  0.9053   \n",
       "1   8 SMOTEENN Dataset        KNeighborsClassifier   Test  0.8426   \n",
       "2   8 SMOTEENN Dataset      DecisionTreeClassifier  Train  1.0000   \n",
       "3   8 SMOTEENN Dataset      DecisionTreeClassifier   Test  0.8037   \n",
       "4   8 SMOTEENN Dataset      RandomForestClassifier  Train  1.0000   \n",
       "5   8 SMOTEENN Dataset      RandomForestClassifier   Test  0.8711   \n",
       "6   8 SMOTEENN Dataset        ExtraTreesClassifier  Train  1.0000   \n",
       "7   8 SMOTEENN Dataset        ExtraTreesClassifier   Test  0.8697   \n",
       "8   8 SMOTEENN Dataset  GradientBoostingClassifier  Train  0.8731   \n",
       "9   8 SMOTEENN Dataset  GradientBoostingClassifier   Test  0.8723   \n",
       "10  8 SMOTEENN Dataset          AdaBoostClassifier  Train  0.8707   \n",
       "11  8 SMOTEENN Dataset          AdaBoostClassifier   Test  0.8715   \n",
       "12  8 SMOTEENN Dataset          LogisticRegression  Train  0.8694   \n",
       "13  8 SMOTEENN Dataset          LogisticRegression   Test  0.8690   \n",
       "\n",
       "    balanced_accuracy  roc_auc_score  Mean Squared Error  Accuracy  Precision  \\\n",
       "0              0.7236         0.9352              0.0947    0.9053     0.7209   \n",
       "1              0.5849         0.6819              0.1574    0.8426     0.3634   \n",
       "2              1.0000         1.0000              0.0000    1.0000     1.0000   \n",
       "3              0.6011         0.6011              0.1963    0.8037     0.2910   \n",
       "4              0.9998         1.0000              0.0000    1.0000     1.0000   \n",
       "5              0.5570         0.8249              0.1289    0.8711     0.5870   \n",
       "6              1.0000         1.0000              0.0000    1.0000     1.0000   \n",
       "7              0.5611         0.8189              0.1303    0.8697     0.5543   \n",
       "8              0.5739         0.8402              0.1269    0.8731     0.5891   \n",
       "9              0.5744         0.8356              0.1277    0.8723     0.5810   \n",
       "10             0.5822         0.8348              0.1293    0.8707     0.5468   \n",
       "11             0.5849         0.8325              0.1285    0.8715     0.5580   \n",
       "12             0.5648         0.8252              0.1306    0.8694     0.5404   \n",
       "13             0.5659         0.8263              0.1310    0.8690     0.5388   \n",
       "\n",
       "    Recall  F1-score  Specificity  False Positive Rate  \\\n",
       "0   0.4755    0.5730       0.9716               0.0284   \n",
       "1   0.2328    0.2838       0.9369               0.0631   \n",
       "2   1.0000    1.0000       1.0000               0.0000   \n",
       "3   0.3243    0.3067       0.8778               0.1222   \n",
       "4   0.9997    0.9998       1.0000               0.0000   \n",
       "5   0.1280    0.2102       0.9861               0.0139   \n",
       "6   1.0000    1.0000       1.0000               0.0000   \n",
       "7   0.1395    0.2229       0.9827               0.0173   \n",
       "8   0.1656    0.2585       0.9822               0.0178   \n",
       "9   0.1674    0.2599       0.9813               0.0187   \n",
       "10  0.1884    0.2802       0.9759               0.0241   \n",
       "11  0.1935    0.2874       0.9763               0.0237   \n",
       "12  0.1493    0.2340       0.9804               0.0196   \n",
       "13  0.1519    0.2370       0.9799               0.0201   \n",
       "\n",
       "    Matthews Correlation Coefficient  \n",
       "0                                NaN  \n",
       "1                             0.2064  \n",
       "2                                NaN  \n",
       "3                             0.1932  \n",
       "4                                NaN  \n",
       "5                             0.2307  \n",
       "6                                NaN  \n",
       "7                             0.2305  \n",
       "8                             0.2645  \n",
       "9                             0.2630  \n",
       "10                            0.2668  \n",
       "11                            0.2748  \n",
       "12                            0.2340  \n",
       "13                            0.2355  "
      ]
     },
     "execution_count": 16,
     "metadata": {},
     "output_type": "execute_result"
    }
   ],
   "source": [
    "# print the performance summary\n",
    "print(f\"******************************************\")\n",
    "print(f\"Performance Summary for: {dataset_label}\")\n",
    "print(f\"******************************************\")\n",
    "\n",
    "performance_summary"
   ]
  },
  {
   "cell_type": "code",
   "execution_count": 17,
   "metadata": {
    "execution": {
     "iopub.execute_input": "2024-06-11T00:24:05.527384Z",
     "iopub.status.busy": "2024-06-11T00:24:05.526993Z",
     "iopub.status.idle": "2024-06-11T00:24:05.534079Z",
     "shell.execute_reply": "2024-06-11T00:24:05.532529Z"
    }
   },
   "outputs": [
    {
     "name": "stdout",
     "output_type": "stream",
     "text": [
      "Completed: Execution Time 572.08 seconds:\n"
     ]
    }
   ],
   "source": [
    "print(f\"Completed: Execution Time %s seconds:\" % round((time.time() - start_time),2) )"
   ]
  },
  {
   "cell_type": "markdown",
   "metadata": {},
   "source": [
    "---\n",
    "\n",
    "## 6. Conclusions\n",
    "\n",
    "- A first glance at the summary, it appears that the Boosting models may have performed well with test/train scores were >.8 and similar in scale (<.02 delta).  However, the poor test confusion matrix and balanced accuracy highlight the overfitting.\n",
    "\n",
    "- The Base Cleaned data is overfit as indicated by:\n",
    "    - Poor confusion matrix on the detailed report for test sets on all models\n",
    "    - Low balanced accuracy as compared to the model score (less than 50%)\n"
   ]
  },
  {
   "cell_type": "markdown",
   "metadata": {},
   "source": [
    "---\n",
    "\n",
    "---"
   ]
  }
 ],
 "metadata": {
  "kernelspec": {
   "display_name": "dev",
   "language": "python",
   "name": "python3"
  },
  "language_info": {
   "codemirror_mode": {
    "name": "ipython",
    "version": 3
   },
   "file_extension": ".py",
   "mimetype": "text/x-python",
   "name": "python",
   "nbconvert_exporter": "python",
   "pygments_lexer": "ipython3",
   "version": "3.12.2"
  }
 },
 "nbformat": 4,
 "nbformat_minor": 2
}
