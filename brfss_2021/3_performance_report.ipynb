{
 "cells": [
  {
   "cell_type": "markdown",
   "metadata": {},
   "source": [
    "---\n",
    "\n",
    "# Process the Performance Report\n",
    "\n",
    "---"
   ]
  },
  {
   "cell_type": "code",
   "execution_count": 1,
   "metadata": {
    "execution": {
     "iopub.execute_input": "2024-06-11T00:24:06.987641Z",
     "iopub.status.busy": "2024-06-11T00:24:06.987240Z",
     "iopub.status.idle": "2024-06-11T00:24:08.034645Z",
     "shell.execute_reply": "2024-06-11T00:24:08.033801Z"
    }
   },
   "outputs": [],
   "source": [
    "# package imports go here\n",
    "import pandas as pd\n",
    "import numpy as np\n",
    "import fastparquet as fp\n",
    "import os\n",
    "import sys\n",
    "import pickle\n",
    "import matplotlib.pyplot as plt\n",
    "import importlib\n",
    "import config\n",
    "import time\n",
    "\n",
    "sys.path.insert(1, config.package_path)\n",
    "import ml_analysis as mlanlys"
   ]
  },
  {
   "cell_type": "code",
   "execution_count": 2,
   "metadata": {
    "execution": {
     "iopub.execute_input": "2024-06-11T00:24:08.039938Z",
     "iopub.status.busy": "2024-06-11T00:24:08.039321Z",
     "iopub.status.idle": "2024-06-11T00:24:08.042896Z",
     "shell.execute_reply": "2024-06-11T00:24:08.042077Z"
    }
   },
   "outputs": [],
   "source": [
    "start_time = time.time()"
   ]
  },
  {
   "cell_type": "code",
   "execution_count": 3,
   "metadata": {
    "execution": {
     "iopub.execute_input": "2024-06-11T00:24:08.046033Z",
     "iopub.status.busy": "2024-06-11T00:24:08.045330Z",
     "iopub.status.idle": "2024-06-11T00:24:08.048809Z",
     "shell.execute_reply": "2024-06-11T00:24:08.048194Z"
    }
   },
   "outputs": [],
   "source": [
    "# Path to performance report\n",
    "report_path = 'reports/'\n",
    "performance_report              = report_path + 'performance_report.pkl'\n",
    "performance_report_text_file    = report_path + 'performance_report.txt'"
   ]
  },
  {
   "cell_type": "markdown",
   "metadata": {},
   "source": [
    "---\n",
    "\n",
    "## 1. Read performance report\n",
    "\n",
    "---"
   ]
  },
  {
   "cell_type": "code",
   "execution_count": 4,
   "metadata": {
    "execution": {
     "iopub.execute_input": "2024-06-11T00:24:08.051301Z",
     "iopub.status.busy": "2024-06-11T00:24:08.050716Z",
     "iopub.status.idle": "2024-06-11T00:24:08.064603Z",
     "shell.execute_reply": "2024-06-11T00:24:08.063934Z"
    }
   },
   "outputs": [
    {
     "name": "stdout",
     "output_type": "stream",
     "text": [
      "The file reports/performance_report.pkl exists and the Performance Report was read successfully\n"
     ]
    }
   ],
   "source": [
    "if os.path.exists(performance_report):\n",
    "    # Load Performance Report\n",
    "    with open(performance_report, 'rb') as file: perf_report = pickle.load(file)\n",
    "    print(f\"The file {performance_report} exists and the Performance Report was read successfully\")\n",
    "else:\n",
    "    print(f\"******************************************************\")\n",
    "    print(f\"The file: '{performance_report}' DOES NOT EXIST\")\n",
    "    print(f\"******************************************************\")"
   ]
  },
  {
   "cell_type": "markdown",
   "metadata": {},
   "source": [
    "---\n",
    "\n",
    "## 2. Write the Performance Report\n",
    "\n",
    "---"
   ]
  },
  {
   "cell_type": "code",
   "execution_count": 5,
   "metadata": {
    "execution": {
     "iopub.execute_input": "2024-06-11T00:24:08.067156Z",
     "iopub.status.busy": "2024-06-11T00:24:08.066925Z",
     "iopub.status.idle": "2024-06-11T00:24:08.072110Z",
     "shell.execute_reply": "2024-06-11T00:24:08.071442Z"
    }
   },
   "outputs": [
    {
     "data": {
      "text/plain": [
       "dict_keys(['Base Dataset', '2.0 StandardScaler Dataset', '1 Base Dataset', '2.1 MinMaxScaler Dataset', '3 Binary Dataset', '4 RandomUnderSampler Dataset', '5 RandomOverSampler Dataset', '6 ClusterCentroids Dataset', '7 SMOTE Dataset', '8 SMOTEENN Dataset'])"
      ]
     },
     "execution_count": 5,
     "metadata": {},
     "output_type": "execute_result"
    }
   ],
   "source": [
    "\n",
    "perf_datasets_in = perf_report.keys()\n",
    "\n",
    "perf_datasets_in"
   ]
  },
  {
   "cell_type": "markdown",
   "metadata": {},
   "source": [
    "#### 2.1 Modify the order of the reported datasets\n",
    "\n",
    "---"
   ]
  },
  {
   "cell_type": "code",
   "execution_count": 6,
   "metadata": {
    "execution": {
     "iopub.execute_input": "2024-06-11T00:24:08.074582Z",
     "iopub.status.busy": "2024-06-11T00:24:08.074325Z",
     "iopub.status.idle": "2024-06-11T00:24:08.077278Z",
     "shell.execute_reply": "2024-06-11T00:24:08.076689Z"
    }
   },
   "outputs": [],
   "source": [
    "# Use this cell to re-order the datasets for the report\n",
    "\n",
    "perf_datasets = perf_datasets_in"
   ]
  },
  {
   "cell_type": "markdown",
   "metadata": {},
   "source": [
    "#### 2.2 Print the report\n",
    "\n",
    "---"
   ]
  },
  {
   "cell_type": "code",
   "execution_count": 7,
   "metadata": {
    "execution": {
     "iopub.execute_input": "2024-06-11T00:24:08.079362Z",
     "iopub.status.busy": "2024-06-11T00:24:08.079177Z",
     "iopub.status.idle": "2024-06-11T00:24:08.083397Z",
     "shell.execute_reply": "2024-06-11T00:24:08.082780Z"
    }
   },
   "outputs": [],
   "source": [
    "def print_performance_report(perf_report):\n",
    "    # Print header and then every performance report in the reports dictionary\n",
    "\n",
    "    print(f\"**********************************************************\")\n",
    "    print(f\"Diabetes Predictions Performance Summary Report\")\n",
    "    print(f\"**********************************************************\")\n",
    "\n",
    "    print(f\"----------------------------------------\")\n",
    "    print(f\"Report Summary\")\n",
    "    print(f\"----------------------------------------\")\n",
    "\n",
    "    for report in perf_report:\n",
    "        print(f\"Performance for: {report}\")\n",
    "\n",
    "    print(f\"----------------------------------------\")\n",
    "\n",
    "    for report in perf_report:\n",
    "        report_dict = perf_report[report]\n",
    "        dataset_size = report_dict['dataset_size']\n",
    "        report_df = report_dict['report']\n",
    "        print(f\"----------------------------------------\")\n",
    "        print(f\"Performance for: {report}\")\n",
    "        print(f\"Dataset Size:    {dataset_size[0]} Rows, {dataset_size[1]} Columns\")\n",
    "        print(f\"----------------------------------------\")\n",
    "        print(f\"{report_df.to_string(index=False)}\")"
   ]
  },
  {
   "cell_type": "code",
   "execution_count": 8,
   "metadata": {
    "execution": {
     "iopub.execute_input": "2024-06-11T00:24:08.086025Z",
     "iopub.status.busy": "2024-06-11T00:24:08.085806Z",
     "iopub.status.idle": "2024-06-11T00:24:08.121707Z",
     "shell.execute_reply": "2024-06-11T00:24:08.120779Z"
    }
   },
   "outputs": [],
   "source": [
    "# Generate the Performance Report and send prints to osc.stdout\n",
    "with mlanlys.OutStreamCapture() as osc:\n",
    "    print_performance_report(perf_report)"
   ]
  },
  {
   "cell_type": "code",
   "execution_count": 9,
   "metadata": {
    "execution": {
     "iopub.execute_input": "2024-06-11T00:24:08.124549Z",
     "iopub.status.busy": "2024-06-11T00:24:08.124353Z",
     "iopub.status.idle": "2024-06-11T00:24:08.153382Z",
     "shell.execute_reply": "2024-06-11T00:24:08.151769Z"
    }
   },
   "outputs": [],
   "source": [
    "# osc.stdout contains the details of the performance report\n",
    "# write the performance report to the performance_report_text_file\n",
    "with open(performance_report_text_file, \"w\") as file:\n",
    "    file.write(osc.stdout)"
   ]
  },
  {
   "cell_type": "code",
   "execution_count": 10,
   "metadata": {
    "execution": {
     "iopub.execute_input": "2024-06-11T00:24:08.158533Z",
     "iopub.status.busy": "2024-06-11T00:24:08.158144Z",
     "iopub.status.idle": "2024-06-11T00:24:08.164933Z",
     "shell.execute_reply": "2024-06-11T00:24:08.163372Z"
    }
   },
   "outputs": [
    {
     "name": "stdout",
     "output_type": "stream",
     "text": [
      "**********************************************************\n",
      "Diabetes Predictions Performance Summary Report\n",
      "**********************************************************\n",
      "----------------------------------------\n",
      "Report Summary\n",
      "----------------------------------------\n",
      "Performance for: Base Dataset\n",
      "Performance for: 2.0 StandardScaler Dataset\n",
      "Performance for: 1 Base Dataset\n",
      "Performance for: 2.1 MinMaxScaler Dataset\n",
      "Performance for: 3 Binary Dataset\n",
      "Performance for: 4 RandomUnderSampler Dataset\n",
      "Performance for: 5 RandomOverSampler Dataset\n",
      "Performance for: 6 ClusterCentroids Dataset\n",
      "Performance for: 7 SMOTE Dataset\n",
      "Performance for: 8 SMOTEENN Dataset\n",
      "----------------------------------------\n",
      "----------------------------------------\n",
      "Performance for: Base Dataset\n",
      "Dataset Size:    247076 Rows, 37 Columns\n",
      "----------------------------------------\n",
      "                     model slice    score  balanced_accuracy  roc_auc_score\n",
      "      KNeighborsClassifier Train 0.874673           0.460255       0.936634\n",
      "      KNeighborsClassifier  Test 0.814243           0.356203       0.559228\n",
      "    DecisionTreeClassifier Train 1.000000           1.000000       1.000000\n",
      "    DecisionTreeClassifier  Test 0.763020           0.403209       0.565936\n",
      "    RandomForestClassifier Train 0.999978           0.999880       1.000000\n",
      "    RandomForestClassifier  Test 0.847642           0.377031       0.759786\n",
      "      ExtraTreesClassifier Train 1.000000           1.000000       1.000000\n",
      "      ExtraTreesClassifier  Test 0.846217           0.379957       0.752219\n",
      "GradientBoostingClassifier Train 0.852682           0.394406       0.799712\n",
      "GradientBoostingClassifier  Test 0.849099           0.388075       0.790442\n",
      "        AdaBoostClassifier Train 0.849968           0.398056       0.769415\n",
      "        AdaBoostClassifier  Test 0.846752           0.393584       0.762831\n",
      "        LogisticRegression Train 0.841835           0.343885       0.659646\n",
      "        LogisticRegression  Test 0.840503           0.343649       0.657271\n",
      "----------------------------------------\n",
      "Performance for: 2.0 StandardScaler Dataset\n",
      "Dataset Size:    247076 Rows, 37 Columns\n",
      "----------------------------------------\n",
      "                new_column                      model slice  score  balanced_accuracy  roc_auc_score  Mean Squared Error  Accuracy  Precision  Recall  F1-score  Specificity  False Positive Rate  Matthews Correlation Coefficient\n",
      "2.0 StandardScaler Dataset       KNeighborsClassifier Train 0.8861             0.5072         0.9485              0.3901    0.9063     0.7268  0.4823    0.5798       0.9719               0.0281                               NaN\n",
      "2.0 StandardScaler Dataset       KNeighborsClassifier  Test 0.8197             0.3909         0.6249              0.6447    0.8409     0.3504  0.2335    0.2802       0.9338               0.0662                            0.1999\n",
      "2.0 StandardScaler Dataset     DecisionTreeClassifier Train 1.0000             1.0000         1.0000              0.0000    1.0000     1.0000  1.0000    1.0000       1.0000               0.0000                               NaN\n",
      "2.0 StandardScaler Dataset     DecisionTreeClassifier  Test 0.7640             0.4032         0.5679              0.7947    0.8021     0.2809  0.3155    0.2972       0.8765               0.1235                            0.1829\n",
      "2.0 StandardScaler Dataset     RandomForestClassifier Train 1.0000             0.9999         1.0000              0.0000    1.0000     1.0000  1.0000    1.0000       1.0000               0.0000                               NaN\n",
      "2.0 StandardScaler Dataset     RandomForestClassifier  Test 0.8497             0.3812         0.7648              0.5309    0.8716     0.5542  0.1623    0.2511       0.9800               0.0200                            0.2499\n",
      "2.0 StandardScaler Dataset       ExtraTreesClassifier Train 1.0000             1.0000         1.0000              0.0000    1.0000     1.0000  1.0000    1.0000       1.0000               0.0000                               NaN\n",
      "2.0 StandardScaler Dataset       ExtraTreesClassifier  Test 0.8466             0.3800         0.7564              0.5430    0.8684     0.5121  0.1622    0.2464       0.9764               0.0236                            0.2343\n",
      "2.0 StandardScaler Dataset GradientBoostingClassifier Train 0.8521             0.3932         0.7983              0.5235    0.8729     0.5742  0.2001    0.2968       0.9770               0.0230                            0.2860\n",
      "2.0 StandardScaler Dataset GradientBoostingClassifier  Test 0.8511             0.3924         0.7955              0.5251    0.8727     0.5554  0.2000    0.2941       0.9755               0.0245                            0.2792\n",
      "2.0 StandardScaler Dataset         AdaBoostClassifier Train 0.8489             0.3971         0.7644              0.5361    0.8692     0.5296  0.2195    0.3104       0.9698               0.0302                            0.2816\n",
      "2.0 StandardScaler Dataset         AdaBoostClassifier  Test 0.8492             0.3985         0.7666              0.5327    0.8703     0.5256  0.2245    0.3146       0.9690               0.0310                            0.2839\n",
      "2.0 StandardScaler Dataset         LogisticRegression Train 0.8472             0.3830         0.7782              0.5432    0.8681     0.5243  0.1717    0.2587       0.9759               0.0241                            0.2455\n",
      "2.0 StandardScaler Dataset         LogisticRegression  Test 0.8485             0.3850         0.7832              0.5359    0.8700     0.5295  0.1776    0.2660       0.9759               0.0241                            0.2525\n",
      "----------------------------------------\n",
      "Performance for: 1 Base Dataset\n",
      "Dataset Size:    247076 Rows, 37 Columns\n",
      "----------------------------------------\n",
      "    new_column                      model slice  score  balanced_accuracy  roc_auc_score  Mean Squared Error  Accuracy  Precision  Recall  F1-score  Specificity  False Positive Rate  Matthews Correlation Coefficient\n",
      "1 Base Dataset       KNeighborsClassifier Train 0.8743             0.4599         0.9362              0.4353    0.8959     0.7259  0.3544    0.4763       0.9794               0.0206                            0.4599\n",
      "1 Base Dataset       KNeighborsClassifier  Test 0.8135             0.3548         0.5604              0.6743    0.8350     0.2509  0.1162    0.1588       0.9463               0.0537                            0.0882\n",
      "1 Base Dataset     DecisionTreeClassifier Train 1.0000             1.0000         1.0000              0.0000    1.0000     1.0000  1.0000    1.0000       1.0000               0.0000                               NaN\n",
      "1 Base Dataset     DecisionTreeClassifier  Test 0.7672             0.4079         0.5714              0.7853    0.8046     0.2919  0.3211    0.3058       0.8794               0.1206                            0.1927\n",
      "1 Base Dataset     RandomForestClassifier Train 1.0000             0.9997         1.0000              0.0001    1.0000     1.0000  0.9999    0.9999       1.0000               0.0000                               NaN\n",
      "1 Base Dataset     RandomForestClassifier  Test 0.8500             0.3805         0.7582              0.5324    0.8710     0.5671  0.1588    0.2481       0.9812               0.0188                            0.2510\n",
      "1 Base Dataset       ExtraTreesClassifier Train 1.0000             1.0000         1.0000              0.0000    1.0000     1.0000  1.0000    1.0000       1.0000               0.0000                               NaN\n",
      "1 Base Dataset       ExtraTreesClassifier  Test 0.8481             0.3815         0.7507              0.5401    0.8690     0.5369  0.1652    0.2527       0.9779               0.0221                            0.2453\n",
      "1 Base Dataset GradientBoostingClassifier Train 0.8522             0.3928         0.7992              0.5223    0.8732     0.5737  0.1987    0.2952       0.9772               0.0228                            0.2849\n",
      "1 Base Dataset GradientBoostingClassifier  Test 0.8507             0.3905         0.7928              0.5295    0.8712     0.5568  0.1936    0.2873       0.9761               0.0239                            0.2743\n",
      "1 Base Dataset         AdaBoostClassifier Train 0.8494             0.3979         0.7645              0.5336    0.8700     0.5321  0.2217    0.3130       0.9699               0.0301                            0.2844\n",
      "1 Base Dataset         AdaBoostClassifier  Test 0.8492             0.3970         0.7598              0.5355    0.8693     0.5298  0.2188    0.3097       0.9699               0.0301                            0.2812\n",
      "1 Base Dataset         LogisticRegression Train 0.8421             0.3427         0.6533              0.5625    0.8647     0.4224  0.0354    0.0653       0.9925               0.0075                            0.0903\n",
      "1 Base Dataset         LogisticRegression  Test 0.8423             0.3429         0.6570              0.5633    0.8644     0.4294  0.0356    0.0657       0.9927               0.0073                            0.0919\n",
      "----------------------------------------\n",
      "Performance for: 2.1 MinMaxScaler Dataset\n",
      "Dataset Size:    247076 Rows, 37 Columns\n",
      "----------------------------------------\n",
      "              new_column                      model slice  score  balanced_accuracy  roc_auc_score  Mean Squared Error  Accuracy  Precision  Recall  F1-score  Specificity  False Positive Rate  Matthews Correlation Coefficient\n",
      "2.1 MinMaxScaler Dataset       KNeighborsClassifier Train 0.8853             0.5048         0.9474              0.3930    0.9055     0.7245  0.4673    0.5681       0.9727               0.0273                               NaN\n",
      "2.1 MinMaxScaler Dataset       KNeighborsClassifier  Test 0.8178             0.3887         0.6195              0.6546    0.8386     0.3533  0.2272    0.2766       0.9347               0.0653                            0.1964\n",
      "2.1 MinMaxScaler Dataset     DecisionTreeClassifier Train 1.0000             1.0000         1.0000              0.0000    1.0000     1.0000  1.0000    1.0000       1.0000               0.0000                               NaN\n",
      "2.1 MinMaxScaler Dataset     DecisionTreeClassifier  Test 0.7673             0.4059         0.5696              0.7806    0.8057     0.2944  0.3089    0.3015       0.8837               0.1163                            0.1888\n",
      "2.1 MinMaxScaler Dataset     RandomForestClassifier Train 1.0000             0.9997         1.0000              0.0001    1.0000     1.0000  0.9999    0.9999       1.0000               0.0000                               NaN\n",
      "2.1 MinMaxScaler Dataset     RandomForestClassifier  Test 0.8469             0.3776         0.7585              0.5435    0.8681     0.5519  0.1504    0.2364       0.9808               0.0192                            0.2381\n",
      "2.1 MinMaxScaler Dataset       ExtraTreesClassifier Train 1.0000             1.0000         1.0000              0.0000    1.0000     1.0000  1.0000    1.0000       1.0000               0.0000                               NaN\n",
      "2.1 MinMaxScaler Dataset       ExtraTreesClassifier  Test 0.8448             0.3787         0.7488              0.5520    0.8657     0.5172  0.1574    0.2413       0.9769               0.0231                            0.2312\n",
      "2.1 MinMaxScaler Dataset GradientBoostingClassifier Train 0.8528             0.3929         0.8001              0.5203    0.8738     0.5736  0.1988    0.2953       0.9773               0.0227                            0.2853\n",
      "2.1 MinMaxScaler Dataset GradientBoostingClassifier  Test 0.8480             0.3886         0.7906              0.5392    0.8687     0.5483  0.1875    0.2794       0.9757               0.0243                            0.2657\n",
      "2.1 MinMaxScaler Dataset         AdaBoostClassifier Train 0.8501             0.3972         0.7661              0.5310    0.8708     0.5348  0.2190    0.3107       0.9708               0.0292                            0.2840\n",
      "2.1 MinMaxScaler Dataset         AdaBoostClassifier  Test 0.8467             0.3943         0.7583              0.5443    0.8670     0.5255  0.2104    0.3005       0.9702               0.0298                            0.2728\n",
      "2.1 MinMaxScaler Dataset         LogisticRegression Train 0.8483             0.3839         0.7801              0.5380    0.8695     0.5287  0.1740    0.2618       0.9762               0.0238                            0.2493\n",
      "2.1 MinMaxScaler Dataset         LogisticRegression  Test 0.8445             0.3802         0.7777              0.5532    0.8654     0.5129  0.1631    0.2475       0.9757               0.0243                            0.2339\n",
      "----------------------------------------\n",
      "Performance for: 3 Binary Dataset\n",
      "Dataset Size:    247076 Rows, 37 Columns\n",
      "----------------------------------------\n",
      "      new_column                      model slice  score  balanced_accuracy  roc_auc_score  Mean Squared Error  Accuracy  Precision  Recall  F1-score  Specificity  False Positive Rate  Matthews Correlation Coefficient\n",
      "3 Binary Dataset       KNeighborsClassifier Train 0.9059             0.7266         0.9362              0.0941    0.9059     0.7258  0.4814    0.5789       0.9718               0.0282                               NaN\n",
      "3 Binary Dataset       KNeighborsClassifier  Test 0.8423             0.5866         0.6823              0.1577    0.8423     0.3546  0.2394    0.2858       0.9338               0.0662                            0.2058\n",
      "3 Binary Dataset     DecisionTreeClassifier Train 1.0000             1.0000         1.0000              0.0000    1.0000     1.0000  1.0000    1.0000       1.0000               0.0000                               NaN\n",
      "3 Binary Dataset     DecisionTreeClassifier  Test 0.8021             0.5972         0.5972              0.1979    0.8021     0.2800  0.3188    0.2981       0.8755               0.1245                            0.1841\n",
      "3 Binary Dataset     RandomForestClassifier Train 1.0000             0.9999         1.0000              0.0000    1.0000     1.0000  0.9998    0.9999       1.0000               0.0000                               NaN\n",
      "3 Binary Dataset     RandomForestClassifier  Test 0.8719             0.5576         0.8262              0.1281    0.8719     0.5605  0.1308    0.2121       0.9844               0.0156                            0.2258\n",
      "3 Binary Dataset       ExtraTreesClassifier Train 1.0000             1.0000         1.0000              0.0000    1.0000     1.0000  1.0000    1.0000       1.0000               0.0000                               NaN\n",
      "3 Binary Dataset       ExtraTreesClassifier  Test 0.8699             0.5614         0.8163              0.1301    0.8699     0.5232  0.1426    0.2241       0.9803               0.0197                            0.2233\n",
      "3 Binary Dataset GradientBoostingClassifier Train 0.8725             0.5765         0.8391              0.1275    0.8725     0.5871  0.1717    0.2657       0.9813               0.0187                            0.2685\n",
      "3 Binary Dataset GradientBoostingClassifier  Test 0.8728             0.5738         0.8377              0.1272    0.8728     0.5587  0.1678    0.2581       0.9799               0.0201                            0.2562\n",
      "3 Binary Dataset         AdaBoostClassifier Train 0.8699             0.5858         0.8342              0.1301    0.8699     0.5432  0.1973    0.2895       0.9743               0.0257                            0.2716\n",
      "3 Binary Dataset         AdaBoostClassifier  Test 0.8727             0.5901         0.8344              0.1273    0.8727     0.5455  0.2063    0.2994       0.9739               0.0261                            0.2801\n",
      "3 Binary Dataset         LogisticRegression Train 0.8688             0.5654         0.8255              0.1312    0.8688     0.5412  0.1506    0.2356       0.9802               0.0198                            0.2351\n",
      "3 Binary Dataset         LogisticRegression  Test 0.8706             0.5674         0.8259              0.1294    0.8706     0.5310  0.1556    0.2407       0.9791               0.0209                            0.2365\n",
      "----------------------------------------\n",
      "Performance for: 4 RandomUnderSampler Dataset\n",
      "Dataset Size:    247076 Rows, 37 Columns\n",
      "----------------------------------------\n",
      "                  new_column                      model slice  score  balanced_accuracy  roc_auc_score  Mean Squared Error  Accuracy  Precision  Recall  F1-score  Specificity  False Positive Rate  Matthews Correlation Coefficient\n",
      "4 RandomUnderSampler Dataset       KNeighborsClassifier Train 0.8331             0.8331         0.9140              0.1669    0.8331     0.8179  0.8571    0.8370       0.8092               0.1908                            0.6670\n",
      "4 RandomUnderSampler Dataset       KNeighborsClassifier  Test 0.6690             0.6864         0.7356              0.3310    0.6690     0.2422  0.7101    0.3612       0.6627               0.3373                            0.2590\n",
      "4 RandomUnderSampler Dataset     DecisionTreeClassifier Train 1.0000             1.0000         1.0000              0.0000    1.0000     1.0000  1.0000    1.0000       1.0000               0.0000                            1.0000\n",
      "4 RandomUnderSampler Dataset     DecisionTreeClassifier  Test 0.6643             0.6634         0.6634              0.3357    0.6643     0.2307  0.6620    0.3422       0.6647               0.3353                            0.2279\n",
      "4 RandomUnderSampler Dataset     RandomForestClassifier Train 1.0000             1.0000         1.0000              0.0000    1.0000     1.0000  1.0000    1.0000       1.0000               0.0000                            1.0000\n",
      "4 RandomUnderSampler Dataset     RandomForestClassifier  Test 0.7223             0.7559         0.8296              0.2777    0.7223     0.2958  0.8015    0.4321       0.7103               0.2897                            0.3614\n",
      "4 RandomUnderSampler Dataset       ExtraTreesClassifier Train 1.0000             1.0000         1.0000              0.0000    1.0000     1.0000  1.0000    1.0000       1.0000               0.0000                            1.0000\n",
      "4 RandomUnderSampler Dataset       ExtraTreesClassifier  Test 0.7181             0.7486         0.8235              0.2819    0.7181     0.2906  0.7900    0.4249       0.7072               0.2928                            0.3507\n",
      "4 RandomUnderSampler Dataset GradientBoostingClassifier Train 0.7651             0.7651         0.8426              0.2349    0.7651     0.7451  0.8057    0.7742       0.7244               0.2756                            0.5319\n",
      "4 RandomUnderSampler Dataset GradientBoostingClassifier  Test 0.7280             0.7574         0.8356              0.2720    0.7280     0.3000  0.7972    0.4359       0.7175               0.2825                            0.3650\n",
      "4 RandomUnderSampler Dataset         AdaBoostClassifier Train 0.7579             0.7579         0.8354              0.2421    0.7579     0.7463  0.7814    0.7634       0.7344               0.2656                            0.5164\n",
      "4 RandomUnderSampler Dataset         AdaBoostClassifier  Test 0.7372             0.7547         0.8328              0.2628    0.7372     0.3052  0.7786    0.4385       0.7309               0.2691                            0.3648\n",
      "4 RandomUnderSampler Dataset         LogisticRegression Train 0.7500             0.7500         0.8263              0.2500    0.7500     0.7386  0.7739    0.7558       0.7261               0.2739                            0.5006\n",
      "4 RandomUnderSampler Dataset         LogisticRegression  Test 0.7311             0.7490         0.8247              0.2689    0.7311     0.2990  0.7734    0.4313       0.7246               0.2754                            0.3555\n",
      "----------------------------------------\n",
      "Performance for: 5 RandomOverSampler Dataset\n",
      "Dataset Size:    247076 Rows, 37 Columns\n",
      "----------------------------------------\n",
      "                 new_column                      model slice  score  balanced_accuracy  roc_auc_score  Mean Squared Error  Accuracy  Precision  Recall  F1-score  Specificity  False Positive Rate  Matthews Correlation Coefficient\n",
      "5 RandomOverSampler Dataset       KNeighborsClassifier Train 0.9440             0.9440         0.9997              0.0560    0.9440     0.8995  0.9997    0.9470       0.8883               0.1117                               NaN\n",
      "5 RandomOverSampler Dataset       KNeighborsClassifier  Test 0.7563             0.6427         0.6801              0.2437    0.7563     0.2713  0.4876    0.3486       0.7978               0.2022                            0.2274\n",
      "5 RandomOverSampler Dataset     DecisionTreeClassifier Train 1.0000             1.0000         1.0000              0.0000    1.0000     1.0000  1.0000    1.0000       1.0000               0.0000                           87.5167\n",
      "5 RandomOverSampler Dataset     DecisionTreeClassifier  Test 0.8112             0.5923         0.5923              0.1888    0.8112     0.2937  0.2934    0.2935       0.8911               0.1089                            0.1846\n",
      "5 RandomOverSampler Dataset     RandomForestClassifier Train 1.0000             1.0000         1.0000              0.0000    1.0000     1.0000  1.0000    1.0000       1.0000               0.0000                           87.5167\n",
      "5 RandomOverSampler Dataset     RandomForestClassifier  Test 0.8660             0.6017         0.8280              0.1340    0.8660     0.4976  0.2409    0.3246       0.9625               0.0375                            0.2813\n",
      "5 RandomOverSampler Dataset       ExtraTreesClassifier Train 1.0000             1.0000         1.0000              0.0000    1.0000     1.0000  1.0000    1.0000       1.0000               0.0000                           87.5167\n",
      "5 RandomOverSampler Dataset       ExtraTreesClassifier  Test 0.8685             0.5520         0.8191              0.1315    0.8685     0.5380  0.1198    0.1960       0.9841               0.0159                            0.2081\n",
      "5 RandomOverSampler Dataset GradientBoostingClassifier Train 0.7624             0.7624         0.8401              0.2376    0.7624     0.7404  0.8082    0.7728       0.7166               0.2834                               NaN\n",
      "5 RandomOverSampler Dataset GradientBoostingClassifier  Test 0.7271             0.7624         0.8398              0.2729    0.7271     0.3045  0.8107    0.4427       0.7142               0.2858                            0.3731\n",
      "5 RandomOverSampler Dataset         AdaBoostClassifier Train 0.7562             0.7562         0.8340              0.2438    0.7562     0.7437  0.7819    0.7623       0.7305               0.2695                               NaN\n",
      "5 RandomOverSampler Dataset         AdaBoostClassifier  Test 0.7366             0.7572         0.8354              0.2634    0.7366     0.3091  0.7853    0.4436       0.7290               0.2710                            0.3696\n",
      "5 RandomOverSampler Dataset         LogisticRegression Train 0.7491             0.7491         0.8251              0.2509    0.7491     0.7372  0.7742    0.7552       0.7241               0.2759                               NaN\n",
      "5 RandomOverSampler Dataset         LogisticRegression  Test 0.7299             0.7523         0.8276              0.2701    0.7299     0.3028  0.7828    0.4367       0.7217               0.2783                            0.3611\n",
      "----------------------------------------\n",
      "Performance for: 6 ClusterCentroids Dataset\n",
      "Dataset Size:    247076 Rows, 37 Columns\n",
      "----------------------------------------\n",
      "                new_column                      model slice  score  balanced_accuracy  roc_auc_score  Mean Squared Error  Accuracy  Precision  Recall  F1-score  Specificity  False Positive Rate  Matthews Correlation Coefficient\n",
      "6 ClusterCentroids Dataset       KNeighborsClassifier Train 0.8040             0.8040         0.8855              0.1960    0.8040     0.8159  0.7853    0.8003       0.8228               0.1772                            0.6085\n",
      "6 ClusterCentroids Dataset       KNeighborsClassifier  Test 0.6896             0.6494         0.6994              0.3104    0.6896     0.2393  0.5944    0.3412       0.7044               0.2956                            0.2164\n",
      "6 ClusterCentroids Dataset     DecisionTreeClassifier Train 1.0000             1.0000         1.0000              0.0000    1.0000     1.0000  1.0000    1.0000       1.0000               0.0000                            1.0000\n",
      "6 ClusterCentroids Dataset     DecisionTreeClassifier  Test 0.3708             0.5846         0.5846              0.6292    0.3708     0.1624  0.8776    0.2741       0.2916               0.7084                            0.1305\n",
      "6 ClusterCentroids Dataset     RandomForestClassifier Train 1.0000             1.0000         1.0000              0.0000    1.0000     1.0000  1.0000    1.0000       1.0000               0.0000                            1.0000\n",
      "6 ClusterCentroids Dataset     RandomForestClassifier  Test 0.3878             0.6210         0.6702              0.6122    0.3878     0.1740  0.9408    0.2937       0.3013               0.6987                            0.1868\n",
      "6 ClusterCentroids Dataset       ExtraTreesClassifier Train 1.0000             1.0000         1.0000              0.0000    1.0000     1.0000  1.0000    1.0000       1.0000               0.0000                            1.0000\n",
      "6 ClusterCentroids Dataset       ExtraTreesClassifier  Test 0.4133             0.6315         0.6950              0.5867    0.4133     0.1790  0.9306    0.3002       0.3324               0.6676                            0.1969\n",
      "6 ClusterCentroids Dataset GradientBoostingClassifier Train 0.9222             0.9222         0.9795              0.0778    0.9222     0.9018  0.9475    0.9241       0.8968               0.1032                            0.8454\n",
      "6 ClusterCentroids Dataset GradientBoostingClassifier  Test 0.3417             0.5972         0.6806              0.6583    0.3417     0.1645  0.9475    0.2803       0.2469               0.7531                            0.1603\n",
      "6 ClusterCentroids Dataset         AdaBoostClassifier Train 0.9115             0.9115         0.9739              0.0885    0.9115     0.8897  0.9396    0.9140       0.8835               0.1165                            0.8244\n",
      "6 ClusterCentroids Dataset         AdaBoostClassifier  Test 0.3323             0.5891         0.6836              0.6677    0.3323     0.1618  0.9412    0.2761       0.2370               0.7630                            0.1489\n",
      "6 ClusterCentroids Dataset         LogisticRegression Train 0.7587             0.7587         0.8406              0.2413    0.7587     0.7372  0.8040    0.7692       0.7133               0.2867                            0.5194\n",
      "6 ClusterCentroids Dataset         LogisticRegression  Test 0.6417             0.7094         0.7788              0.3583    0.6417     0.2466  0.8021    0.3772       0.6166               0.3834                            0.2885\n",
      "----------------------------------------\n",
      "Performance for: 7 SMOTE Dataset\n",
      "Dataset Size:    247076 Rows, 37 Columns\n",
      "----------------------------------------\n",
      "     new_column                      model slice  score  balanced_accuracy  roc_auc_score  Mean Squared Error  Accuracy  Precision  Recall  F1-score  Specificity  False Positive Rate  Matthews Correlation Coefficient\n",
      "7 SMOTE Dataset       KNeighborsClassifier Train 0.9285             0.9285         0.9990              0.0715    0.9285     0.8755  0.9991    0.9332       0.8579               0.1421                           10.8406\n",
      "7 SMOTE Dataset       KNeighborsClassifier  Test 0.7293             0.6623         0.7050              0.2707    0.7293     0.2615  0.5712    0.3588       0.7535               0.2465                            0.2427\n",
      "7 SMOTE Dataset     DecisionTreeClassifier Train 1.0000             1.0000         1.0000              0.0000    1.0000     1.0000  1.0000    1.0000       1.0000               0.0000                               NaN\n",
      "7 SMOTE Dataset     DecisionTreeClassifier  Test 0.7975             0.6043         0.6043              0.2025    0.7975     0.2821  0.3413    0.3089       0.8672               0.1328                            0.1927\n",
      "7 SMOTE Dataset     RandomForestClassifier Train 1.0000             1.0000         1.0000              0.0000    1.0000     1.0000  1.0000    1.0000       1.0000               0.0000                               NaN\n",
      "7 SMOTE Dataset     RandomForestClassifier  Test 0.8656             0.5999         0.8212              0.1344    0.8656     0.4864  0.2383    0.3199       0.9615               0.0385                            0.2750\n",
      "7 SMOTE Dataset       ExtraTreesClassifier Train 1.0000             1.0000         1.0000              0.0000    1.0000     1.0000  1.0000    1.0000       1.0000               0.0000                               NaN\n",
      "7 SMOTE Dataset       ExtraTreesClassifier  Test 0.8624             0.6092         0.8163              0.1376    0.8624     0.4665  0.2647    0.3378       0.9537               0.0463                            0.2809\n",
      "7 SMOTE Dataset GradientBoostingClassifier Train 0.9042             0.9042         0.9683              0.0958    0.9042     0.9170  0.8890    0.9028       0.9195               0.0805                               NaN\n",
      "7 SMOTE Dataset GradientBoostingClassifier  Test 0.8499             0.6597         0.8216              0.1501    0.8499     0.4292  0.4010    0.4146       0.9185               0.0815                            0.3288\n",
      "7 SMOTE Dataset         AdaBoostClassifier Train 0.8615             0.8615         0.9466              0.1385    0.8615     0.8457  0.8843    0.8646       0.8386               0.1614                               NaN\n",
      "7 SMOTE Dataset         AdaBoostClassifier  Test 0.8011             0.7040         0.8095              0.1989    0.8011     0.3479  0.5719    0.4326       0.8362               0.1638                            0.3352\n",
      "7 SMOTE Dataset         LogisticRegression Train 0.7623             0.7623         0.8368              0.2377    0.7623     0.7458  0.7959    0.7700       0.7287               0.2713                               NaN\n",
      "7 SMOTE Dataset         LogisticRegression  Test 0.7298             0.7436         0.8216              0.2702    0.7298     0.2975  0.7623    0.4280       0.7249               0.2751                            0.3488\n",
      "----------------------------------------\n",
      "Performance for: 8 SMOTEENN Dataset\n",
      "Dataset Size:    247076 Rows, 37 Columns\n",
      "----------------------------------------\n",
      "        new_column                      model slice  score  balanced_accuracy  roc_auc_score  Mean Squared Error  Accuracy  Precision  Recall  F1-score  Specificity  False Positive Rate  Matthews Correlation Coefficient\n",
      "8 SMOTEENN Dataset       KNeighborsClassifier Train 0.9053             0.7236         0.9352              0.0947    0.9053     0.7209  0.4755    0.5730       0.9716               0.0284                               NaN\n",
      "8 SMOTEENN Dataset       KNeighborsClassifier  Test 0.8426             0.5849         0.6819              0.1574    0.8426     0.3634  0.2328    0.2838       0.9369               0.0631                            0.2064\n",
      "8 SMOTEENN Dataset     DecisionTreeClassifier Train 1.0000             1.0000         1.0000              0.0000    1.0000     1.0000  1.0000    1.0000       1.0000               0.0000                               NaN\n",
      "8 SMOTEENN Dataset     DecisionTreeClassifier  Test 0.8037             0.6011         0.6011              0.1963    0.8037     0.2910  0.3243    0.3067       0.8778               0.1222                            0.1932\n",
      "8 SMOTEENN Dataset     RandomForestClassifier Train 1.0000             0.9998         1.0000              0.0000    1.0000     1.0000  0.9997    0.9998       1.0000               0.0000                               NaN\n",
      "8 SMOTEENN Dataset     RandomForestClassifier  Test 0.8711             0.5570         0.8249              0.1289    0.8711     0.5870  0.1280    0.2102       0.9861               0.0139                            0.2307\n",
      "8 SMOTEENN Dataset       ExtraTreesClassifier Train 1.0000             1.0000         1.0000              0.0000    1.0000     1.0000  1.0000    1.0000       1.0000               0.0000                               NaN\n",
      "8 SMOTEENN Dataset       ExtraTreesClassifier  Test 0.8697             0.5611         0.8189              0.1303    0.8697     0.5543  0.1395    0.2229       0.9827               0.0173                            0.2305\n",
      "8 SMOTEENN Dataset GradientBoostingClassifier Train 0.8731             0.5739         0.8402              0.1269    0.8731     0.5891  0.1656    0.2585       0.9822               0.0178                            0.2645\n",
      "8 SMOTEENN Dataset GradientBoostingClassifier  Test 0.8723             0.5744         0.8356              0.1277    0.8723     0.5810  0.1674    0.2599       0.9813               0.0187                            0.2630\n",
      "8 SMOTEENN Dataset         AdaBoostClassifier Train 0.8707             0.5822         0.8348              0.1293    0.8707     0.5468  0.1884    0.2802       0.9759               0.0241                            0.2668\n",
      "8 SMOTEENN Dataset         AdaBoostClassifier  Test 0.8715             0.5849         0.8325              0.1285    0.8715     0.5580  0.1935    0.2874       0.9763               0.0237                            0.2748\n",
      "8 SMOTEENN Dataset         LogisticRegression Train 0.8694             0.5648         0.8252              0.1306    0.8694     0.5404  0.1493    0.2340       0.9804               0.0196                            0.2340\n",
      "8 SMOTEENN Dataset         LogisticRegression  Test 0.8690             0.5659         0.8263              0.1310    0.8690     0.5388  0.1519    0.2370       0.9799               0.0201                            0.2355\n",
      "\n"
     ]
    }
   ],
   "source": [
    "# Display the performance report here:\n",
    "print(osc.stdout)"
   ]
  },
  {
   "cell_type": "code",
   "execution_count": 11,
   "metadata": {
    "execution": {
     "iopub.execute_input": "2024-06-11T00:24:08.169018Z",
     "iopub.status.busy": "2024-06-11T00:24:08.168641Z",
     "iopub.status.idle": "2024-06-11T00:24:08.176807Z",
     "shell.execute_reply": "2024-06-11T00:24:08.175084Z"
    }
   },
   "outputs": [
    {
     "name": "stdout",
     "output_type": "stream",
     "text": [
      "Completed: Execution Time 0.13 seconds:\n"
     ]
    }
   ],
   "source": [
    "print(f\"Completed: Execution Time %s seconds:\" % round((time.time() - start_time),2) )"
   ]
  },
  {
   "cell_type": "markdown",
   "metadata": {},
   "source": [
    "## 3. Merge Performance Metrics into a single dataframe"
   ]
  },
  {
   "cell_type": "code",
   "execution_count": 12,
   "metadata": {
    "execution": {
     "iopub.execute_input": "2024-06-11T00:24:08.181616Z",
     "iopub.status.busy": "2024-06-11T00:24:08.181219Z",
     "iopub.status.idle": "2024-06-11T00:24:08.199166Z",
     "shell.execute_reply": "2024-06-11T00:24:08.198056Z"
    }
   },
   "outputs": [],
   "source": [
    "# Concatenate all the Reports into one dataframe\n",
    "df = pd.DataFrame()\n",
    "\n",
    "for report in perf_report:\n",
    "    report_dict = perf_report[report]\n",
    "    report_df = report_dict['report']\n",
    "    df = pd.concat([df, report_df], ignore_index=True)"
   ]
  },
  {
   "cell_type": "code",
   "execution_count": 13,
   "metadata": {
    "execution": {
     "iopub.execute_input": "2024-06-11T00:24:08.202830Z",
     "iopub.status.busy": "2024-06-11T00:24:08.202503Z",
     "iopub.status.idle": "2024-06-11T00:24:08.220668Z",
     "shell.execute_reply": "2024-06-11T00:24:08.219892Z"
    }
   },
   "outputs": [
    {
     "data": {
      "text/html": [
       "<div>\n",
       "<style scoped>\n",
       "    .dataframe tbody tr th:only-of-type {\n",
       "        vertical-align: middle;\n",
       "    }\n",
       "\n",
       "    .dataframe tbody tr th {\n",
       "        vertical-align: top;\n",
       "    }\n",
       "\n",
       "    .dataframe thead th {\n",
       "        text-align: right;\n",
       "    }\n",
       "</style>\n",
       "<table border=\"1\" class=\"dataframe\">\n",
       "  <thead>\n",
       "    <tr style=\"text-align: right;\">\n",
       "      <th></th>\n",
       "      <th>model</th>\n",
       "      <th>slice</th>\n",
       "      <th>score</th>\n",
       "      <th>balanced_accuracy</th>\n",
       "      <th>roc_auc_score</th>\n",
       "      <th>dataset</th>\n",
       "      <th>Mean Squared Error</th>\n",
       "      <th>Accuracy</th>\n",
       "      <th>Precision</th>\n",
       "      <th>Recall</th>\n",
       "      <th>F1-score</th>\n",
       "      <th>Specificity</th>\n",
       "      <th>False Positive Rate</th>\n",
       "      <th>Matthews Correlation Coefficient</th>\n",
       "    </tr>\n",
       "  </thead>\n",
       "  <tbody>\n",
       "    <tr>\n",
       "      <th>0</th>\n",
       "      <td>KNeighborsClassifier</td>\n",
       "      <td>Train</td>\n",
       "      <td>0.874673</td>\n",
       "      <td>0.460255</td>\n",
       "      <td>0.936634</td>\n",
       "      <td>NaN</td>\n",
       "      <td>NaN</td>\n",
       "      <td>NaN</td>\n",
       "      <td>NaN</td>\n",
       "      <td>NaN</td>\n",
       "      <td>NaN</td>\n",
       "      <td>NaN</td>\n",
       "      <td>NaN</td>\n",
       "      <td>NaN</td>\n",
       "    </tr>\n",
       "    <tr>\n",
       "      <th>1</th>\n",
       "      <td>KNeighborsClassifier</td>\n",
       "      <td>Test</td>\n",
       "      <td>0.814243</td>\n",
       "      <td>0.356203</td>\n",
       "      <td>0.559228</td>\n",
       "      <td>NaN</td>\n",
       "      <td>NaN</td>\n",
       "      <td>NaN</td>\n",
       "      <td>NaN</td>\n",
       "      <td>NaN</td>\n",
       "      <td>NaN</td>\n",
       "      <td>NaN</td>\n",
       "      <td>NaN</td>\n",
       "      <td>NaN</td>\n",
       "    </tr>\n",
       "    <tr>\n",
       "      <th>2</th>\n",
       "      <td>DecisionTreeClassifier</td>\n",
       "      <td>Train</td>\n",
       "      <td>1.000000</td>\n",
       "      <td>1.000000</td>\n",
       "      <td>1.000000</td>\n",
       "      <td>NaN</td>\n",
       "      <td>NaN</td>\n",
       "      <td>NaN</td>\n",
       "      <td>NaN</td>\n",
       "      <td>NaN</td>\n",
       "      <td>NaN</td>\n",
       "      <td>NaN</td>\n",
       "      <td>NaN</td>\n",
       "      <td>NaN</td>\n",
       "    </tr>\n",
       "    <tr>\n",
       "      <th>3</th>\n",
       "      <td>DecisionTreeClassifier</td>\n",
       "      <td>Test</td>\n",
       "      <td>0.763020</td>\n",
       "      <td>0.403209</td>\n",
       "      <td>0.565936</td>\n",
       "      <td>NaN</td>\n",
       "      <td>NaN</td>\n",
       "      <td>NaN</td>\n",
       "      <td>NaN</td>\n",
       "      <td>NaN</td>\n",
       "      <td>NaN</td>\n",
       "      <td>NaN</td>\n",
       "      <td>NaN</td>\n",
       "      <td>NaN</td>\n",
       "    </tr>\n",
       "    <tr>\n",
       "      <th>4</th>\n",
       "      <td>RandomForestClassifier</td>\n",
       "      <td>Train</td>\n",
       "      <td>0.999978</td>\n",
       "      <td>0.999880</td>\n",
       "      <td>1.000000</td>\n",
       "      <td>NaN</td>\n",
       "      <td>NaN</td>\n",
       "      <td>NaN</td>\n",
       "      <td>NaN</td>\n",
       "      <td>NaN</td>\n",
       "      <td>NaN</td>\n",
       "      <td>NaN</td>\n",
       "      <td>NaN</td>\n",
       "      <td>NaN</td>\n",
       "    </tr>\n",
       "    <tr>\n",
       "      <th>...</th>\n",
       "      <td>...</td>\n",
       "      <td>...</td>\n",
       "      <td>...</td>\n",
       "      <td>...</td>\n",
       "      <td>...</td>\n",
       "      <td>...</td>\n",
       "      <td>...</td>\n",
       "      <td>...</td>\n",
       "      <td>...</td>\n",
       "      <td>...</td>\n",
       "      <td>...</td>\n",
       "      <td>...</td>\n",
       "      <td>...</td>\n",
       "      <td>...</td>\n",
       "    </tr>\n",
       "    <tr>\n",
       "      <th>135</th>\n",
       "      <td>GradientBoostingClassifier</td>\n",
       "      <td>Test</td>\n",
       "      <td>0.872300</td>\n",
       "      <td>0.574400</td>\n",
       "      <td>0.835600</td>\n",
       "      <td>8 SMOTEENN Dataset</td>\n",
       "      <td>0.1277</td>\n",
       "      <td>0.8723</td>\n",
       "      <td>0.5810</td>\n",
       "      <td>0.1674</td>\n",
       "      <td>0.2599</td>\n",
       "      <td>0.9813</td>\n",
       "      <td>0.0187</td>\n",
       "      <td>0.2630</td>\n",
       "    </tr>\n",
       "    <tr>\n",
       "      <th>136</th>\n",
       "      <td>AdaBoostClassifier</td>\n",
       "      <td>Train</td>\n",
       "      <td>0.870700</td>\n",
       "      <td>0.582200</td>\n",
       "      <td>0.834800</td>\n",
       "      <td>8 SMOTEENN Dataset</td>\n",
       "      <td>0.1293</td>\n",
       "      <td>0.8707</td>\n",
       "      <td>0.5468</td>\n",
       "      <td>0.1884</td>\n",
       "      <td>0.2802</td>\n",
       "      <td>0.9759</td>\n",
       "      <td>0.0241</td>\n",
       "      <td>0.2668</td>\n",
       "    </tr>\n",
       "    <tr>\n",
       "      <th>137</th>\n",
       "      <td>AdaBoostClassifier</td>\n",
       "      <td>Test</td>\n",
       "      <td>0.871500</td>\n",
       "      <td>0.584900</td>\n",
       "      <td>0.832500</td>\n",
       "      <td>8 SMOTEENN Dataset</td>\n",
       "      <td>0.1285</td>\n",
       "      <td>0.8715</td>\n",
       "      <td>0.5580</td>\n",
       "      <td>0.1935</td>\n",
       "      <td>0.2874</td>\n",
       "      <td>0.9763</td>\n",
       "      <td>0.0237</td>\n",
       "      <td>0.2748</td>\n",
       "    </tr>\n",
       "    <tr>\n",
       "      <th>138</th>\n",
       "      <td>LogisticRegression</td>\n",
       "      <td>Train</td>\n",
       "      <td>0.869400</td>\n",
       "      <td>0.564800</td>\n",
       "      <td>0.825200</td>\n",
       "      <td>8 SMOTEENN Dataset</td>\n",
       "      <td>0.1306</td>\n",
       "      <td>0.8694</td>\n",
       "      <td>0.5404</td>\n",
       "      <td>0.1493</td>\n",
       "      <td>0.2340</td>\n",
       "      <td>0.9804</td>\n",
       "      <td>0.0196</td>\n",
       "      <td>0.2340</td>\n",
       "    </tr>\n",
       "    <tr>\n",
       "      <th>139</th>\n",
       "      <td>LogisticRegression</td>\n",
       "      <td>Test</td>\n",
       "      <td>0.869000</td>\n",
       "      <td>0.565900</td>\n",
       "      <td>0.826300</td>\n",
       "      <td>8 SMOTEENN Dataset</td>\n",
       "      <td>0.1310</td>\n",
       "      <td>0.8690</td>\n",
       "      <td>0.5388</td>\n",
       "      <td>0.1519</td>\n",
       "      <td>0.2370</td>\n",
       "      <td>0.9799</td>\n",
       "      <td>0.0201</td>\n",
       "      <td>0.2355</td>\n",
       "    </tr>\n",
       "  </tbody>\n",
       "</table>\n",
       "<p>140 rows × 14 columns</p>\n",
       "</div>"
      ],
      "text/plain": [
       "                          model  slice     score  balanced_accuracy  \\\n",
       "0          KNeighborsClassifier  Train  0.874673           0.460255   \n",
       "1          KNeighborsClassifier   Test  0.814243           0.356203   \n",
       "2        DecisionTreeClassifier  Train  1.000000           1.000000   \n",
       "3        DecisionTreeClassifier   Test  0.763020           0.403209   \n",
       "4        RandomForestClassifier  Train  0.999978           0.999880   \n",
       "..                          ...    ...       ...                ...   \n",
       "135  GradientBoostingClassifier   Test  0.872300           0.574400   \n",
       "136          AdaBoostClassifier  Train  0.870700           0.582200   \n",
       "137          AdaBoostClassifier   Test  0.871500           0.584900   \n",
       "138          LogisticRegression  Train  0.869400           0.564800   \n",
       "139          LogisticRegression   Test  0.869000           0.565900   \n",
       "\n",
       "     roc_auc_score             dataset  Mean Squared Error  Accuracy  \\\n",
       "0         0.936634                 NaN                 NaN       NaN   \n",
       "1         0.559228                 NaN                 NaN       NaN   \n",
       "2         1.000000                 NaN                 NaN       NaN   \n",
       "3         0.565936                 NaN                 NaN       NaN   \n",
       "4         1.000000                 NaN                 NaN       NaN   \n",
       "..             ...                 ...                 ...       ...   \n",
       "135       0.835600  8 SMOTEENN Dataset              0.1277    0.8723   \n",
       "136       0.834800  8 SMOTEENN Dataset              0.1293    0.8707   \n",
       "137       0.832500  8 SMOTEENN Dataset              0.1285    0.8715   \n",
       "138       0.825200  8 SMOTEENN Dataset              0.1306    0.8694   \n",
       "139       0.826300  8 SMOTEENN Dataset              0.1310    0.8690   \n",
       "\n",
       "     Precision  Recall  F1-score  Specificity  False Positive Rate  \\\n",
       "0          NaN     NaN       NaN          NaN                  NaN   \n",
       "1          NaN     NaN       NaN          NaN                  NaN   \n",
       "2          NaN     NaN       NaN          NaN                  NaN   \n",
       "3          NaN     NaN       NaN          NaN                  NaN   \n",
       "4          NaN     NaN       NaN          NaN                  NaN   \n",
       "..         ...     ...       ...          ...                  ...   \n",
       "135     0.5810  0.1674    0.2599       0.9813               0.0187   \n",
       "136     0.5468  0.1884    0.2802       0.9759               0.0241   \n",
       "137     0.5580  0.1935    0.2874       0.9763               0.0237   \n",
       "138     0.5404  0.1493    0.2340       0.9804               0.0196   \n",
       "139     0.5388  0.1519    0.2370       0.9799               0.0201   \n",
       "\n",
       "     Matthews Correlation Coefficient  \n",
       "0                                 NaN  \n",
       "1                                 NaN  \n",
       "2                                 NaN  \n",
       "3                                 NaN  \n",
       "4                                 NaN  \n",
       "..                                ...  \n",
       "135                            0.2630  \n",
       "136                            0.2668  \n",
       "137                            0.2748  \n",
       "138                            0.2340  \n",
       "139                            0.2355  \n",
       "\n",
       "[140 rows x 14 columns]"
      ]
     },
     "execution_count": 13,
     "metadata": {},
     "output_type": "execute_result"
    }
   ],
   "source": [
    "df.rename(columns={ 'new_column': 'dataset'}, inplace=True)\n",
    "df"
   ]
  },
  {
   "cell_type": "markdown",
   "metadata": {},
   "source": [
    "## 4. Filter and sort test results"
   ]
  },
  {
   "cell_type": "code",
   "execution_count": 14,
   "metadata": {
    "execution": {
     "iopub.execute_input": "2024-06-11T00:24:08.222862Z",
     "iopub.status.busy": "2024-06-11T00:24:08.222658Z",
     "iopub.status.idle": "2024-06-11T00:24:08.427462Z",
     "shell.execute_reply": "2024-06-11T00:24:08.426854Z"
    }
   },
   "outputs": [
    {
     "name": "stdout",
     "output_type": "stream",
     "text": [
      "balanced_accuracy\n",
      "Precision\n"
     ]
    },
    {
     "ename": "NameError",
     "evalue": "name 'column_to_maximize' is not defined",
     "output_type": "error",
     "traceback": [
      "\u001b[0;31m---------------------------------------------------------------------------\u001b[0m",
      "\u001b[0;31mNameError\u001b[0m                                 Traceback (most recent call last)",
      "Cell \u001b[0;32mIn[14], line 20\u001b[0m\n\u001b[1;32m     17\u001b[0m     limit_df \u001b[38;5;241m=\u001b[39m limit_df[limit_df[limit]\u001b[38;5;241m>\u001b[39mlimit_value]\n\u001b[1;32m     19\u001b[0m \u001b[38;5;66;03m# sort by column_to_maximize fro highest to lowest\u001b[39;00m\n\u001b[0;32m---> 20\u001b[0m sorted_df \u001b[38;5;241m=\u001b[39m limit_df\u001b[38;5;241m.\u001b[39msort_values(by\u001b[38;5;241m=\u001b[39m\u001b[43mcolumn_to_maximize\u001b[49m, ascending\u001b[38;5;241m=\u001b[39m\u001b[38;5;28;01mFalse\u001b[39;00m, inplace\u001b[38;5;241m=\u001b[39m\u001b[38;5;28;01mFalse\u001b[39;00m)\n\u001b[1;32m     23\u001b[0m sorted_df\n",
      "\u001b[0;31mNameError\u001b[0m: name 'column_to_maximize' is not defined"
     ]
    }
   ],
   "source": [
    "# Sort Dataframe by column to maximize\n",
    "maximize = 'Accuracy'\n",
    "limits = {\n",
    "    'balanced_accuracy': .5,\n",
    "    'Precision': .2\n",
    "}\n",
    "\n",
    "# Create dataframe with only the test metrics\n",
    "test_df = df[df['slice'] == 'Test']\n",
    "\n",
    "limit_df = test_df.copy()\n",
    "\n",
    "# limit the rows based on the values in the limits dictionary above\n",
    "for limit in limits:\n",
    "    print(limit)\n",
    "    limit_value = limits[limit]\n",
    "    limit_df = limit_df[limit_df[limit]>limit_value]\n",
    "\n",
    "# sort by column_to_maximize fro highest to lowest\n",
    "sorted_df = limit_df.sort_values(by=column_to_maximize, ascending=False, inplace=False)\n",
    "\n",
    "\n",
    "sorted_df"
   ]
  },
  {
   "cell_type": "markdown",
   "metadata": {},
   "source": []
  },
  {
   "cell_type": "code",
   "execution_count": 15,
   "metadata": {
    "execution": {
     "iopub.execute_input": "2024-06-11T00:24:08.429904Z",
     "iopub.status.busy": "2024-06-11T00:24:08.429694Z",
     "iopub.status.idle": "2024-06-11T00:24:08.444197Z",
     "shell.execute_reply": "2024-06-11T00:24:08.443181Z"
    }
   },
   "outputs": [
    {
     "ename": "NameError",
     "evalue": "name 'sorted_df' is not defined",
     "output_type": "error",
     "traceback": [
      "\u001b[0;31m---------------------------------------------------------------------------\u001b[0m",
      "\u001b[0;31mNameError\u001b[0m                                 Traceback (most recent call last)",
      "Cell \u001b[0;32mIn[15], line 1\u001b[0m\n\u001b[0;32m----> 1\u001b[0m \u001b[43msorted_df\u001b[49m\u001b[38;5;241m.\u001b[39mcolumns\n",
      "\u001b[0;31mNameError\u001b[0m: name 'sorted_df' is not defined"
     ]
    }
   ],
   "source": [
    "sorted_df.columns"
   ]
  }
 ],
 "metadata": {
  "kernelspec": {
   "display_name": "dev",
   "language": "python",
   "name": "python3"
  },
  "language_info": {
   "codemirror_mode": {
    "name": "ipython",
    "version": 3
   },
   "file_extension": ".py",
   "mimetype": "text/x-python",
   "name": "python",
   "nbconvert_exporter": "python",
   "pygments_lexer": "ipython3",
   "version": "3.12.2"
  }
 },
 "nbformat": 4,
 "nbformat_minor": 2
}
