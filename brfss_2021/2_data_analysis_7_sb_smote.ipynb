{
 "cells": [
  {
   "cell_type": "markdown",
   "metadata": {},
   "source": [
    "---\n",
    "\n",
    "## Data Analysis\n",
    "\n",
    "- This file differs from [2_data_analysis_1_base_data.ipynb](2_data_analysis_1_base_data.ipynb) in that it:\n",
    "    - scales the base cleaned data created in [1_data_cleaning.ipynb](1_data_cleaning.ipynb).\n",
    "\n",
    "Source dataset: 247076 rows × 37 columns\n",
    "Processed and analyzed dataset: 247076 rows × 37 columns\n",
    "\n",
    "---"
   ]
  },
  {
   "cell_type": "code",
   "execution_count": 1,
   "metadata": {
    "execution": {
     "iopub.execute_input": "2024-06-10T23:53:13.480718Z",
     "iopub.status.busy": "2024-06-10T23:53:13.480243Z",
     "iopub.status.idle": "2024-06-10T23:53:15.408305Z",
     "shell.execute_reply": "2024-06-10T23:53:15.406777Z"
    }
   },
   "outputs": [],
   "source": [
    "# package imports go here\n",
    "import pandas as pd\n",
    "import numpy as np\n",
    "import fastparquet as fp\n",
    "import os\n",
    "import sys\n",
    "import pickle\n",
    "import matplotlib.pyplot as plt\n",
    "import importlib\n",
    "import config\n",
    "import time\n",
    "\n",
    "sys.path.insert(1, config.package_path)\n",
    "import ml_analysis as mlanlys\n",
    "import ml_clean_feature as mlclean"
   ]
  },
  {
   "cell_type": "code",
   "execution_count": 2,
   "metadata": {
    "execution": {
     "iopub.execute_input": "2024-06-10T23:53:15.413389Z",
     "iopub.status.busy": "2024-06-10T23:53:15.412232Z",
     "iopub.status.idle": "2024-06-10T23:53:15.418894Z",
     "shell.execute_reply": "2024-06-10T23:53:15.417317Z"
    }
   },
   "outputs": [],
   "source": [
    "start_time = time.time()"
   ]
  },
  {
   "cell_type": "markdown",
   "metadata": {},
   "source": [
    "---\n",
    "\n",
    "## 1. Read the cleaned dataset from file\n",
    "\n",
    "---"
   ]
  },
  {
   "cell_type": "code",
   "execution_count": 3,
   "metadata": {
    "execution": {
     "iopub.execute_input": "2024-06-10T23:53:15.423805Z",
     "iopub.status.busy": "2024-06-10T23:53:15.422931Z",
     "iopub.status.idle": "2024-06-10T23:53:15.442641Z",
     "shell.execute_reply": "2024-06-10T23:53:15.441316Z"
    }
   },
   "outputs": [
    {
     "name": "stdout",
     "output_type": "stream",
     "text": [
      "Year:                        2021\n",
      "Clean File:                  data/brfss_2021_clean.parquet.gzip\n",
      "Performance Report:          reports/performance_report.pkl\n",
      "Detailed Performance Report: reports/7_smote_dataset_detailed_performance_report.txt\n"
     ]
    }
   ],
   "source": [
    "# reload any changes to Config Settings\n",
    "importlib.reload(config)\n",
    "\n",
    "# BE SURE TO UPDATE THE LABEL FOR THIS ANALYSIS\n",
    "# #############################\n",
    "dataset_label = '7 SMOTE Dataset'\n",
    "# #############################\n",
    "\n",
    "year                        = config.year\n",
    "\n",
    "clean_file                  = config.clean_file\n",
    "performance_report          = config.performance_report\n",
    "\n",
    "report_path                 = config.report_path\n",
    "file_label                  = dataset_label.lower().replace(' ','_')\n",
    "detailed_performance_report = report_path + file_label + '_detailed_performance_report.txt'\n",
    "\n",
    "print(f\"Year:                        {year}\")\n",
    "print(f\"Clean File:                  {clean_file}\")\n",
    "print(f\"Performance Report:          {performance_report}\")\n",
    "print(f\"Detailed Performance Report: {detailed_performance_report}\")"
   ]
  },
  {
   "cell_type": "code",
   "execution_count": 4,
   "metadata": {
    "execution": {
     "iopub.execute_input": "2024-06-10T23:53:15.447376Z",
     "iopub.status.busy": "2024-06-10T23:53:15.446586Z",
     "iopub.status.idle": "2024-06-10T23:53:15.797462Z",
     "shell.execute_reply": "2024-06-10T23:53:15.796360Z"
    }
   },
   "outputs": [],
   "source": [
    "# Read final cleaned dataset from parquet file\n",
    "df = pd.read_parquet(clean_file, engine=\"fastparquet\")"
   ]
  },
  {
   "cell_type": "code",
   "execution_count": 5,
   "metadata": {
    "execution": {
     "iopub.execute_input": "2024-06-10T23:53:15.803151Z",
     "iopub.status.busy": "2024-06-10T23:53:15.802448Z",
     "iopub.status.idle": "2024-06-10T23:53:15.808677Z",
     "shell.execute_reply": "2024-06-10T23:53:15.807048Z"
    }
   },
   "outputs": [],
   "source": [
    "diabetes_labels = df.columns"
   ]
  },
  {
   "cell_type": "code",
   "execution_count": 6,
   "metadata": {
    "execution": {
     "iopub.execute_input": "2024-06-10T23:53:15.812235Z",
     "iopub.status.busy": "2024-06-10T23:53:15.811817Z",
     "iopub.status.idle": "2024-06-10T23:53:15.821936Z",
     "shell.execute_reply": "2024-06-10T23:53:15.820433Z"
    }
   },
   "outputs": [
    {
     "data": {
      "text/plain": [
       "(247076, 37)"
      ]
     },
     "execution_count": 6,
     "metadata": {},
     "output_type": "execute_result"
    }
   ],
   "source": [
    "df.shape"
   ]
  },
  {
   "cell_type": "markdown",
   "metadata": {},
   "source": [
    "---\n",
    "\n",
    "## 2. Prepare the dataset for analysis\n",
    "\n",
    "- Split the dataset into features and labels.\n",
    "- Split the dataset into training and testing sets.\n",
    "- Scale the dataset\n",
    "\n",
    "---"
   ]
  },
  {
   "cell_type": "code",
   "execution_count": 7,
   "metadata": {
    "execution": {
     "iopub.execute_input": "2024-06-10T23:53:15.825516Z",
     "iopub.status.busy": "2024-06-10T23:53:15.824892Z",
     "iopub.status.idle": "2024-06-10T23:53:15.874567Z",
     "shell.execute_reply": "2024-06-10T23:53:15.873341Z"
    }
   },
   "outputs": [],
   "source": [
    "from sklearn.datasets import make_regression, make_swiss_roll\n",
    "from sklearn.model_selection import train_test_split\n",
    "from sklearn.preprocessing import StandardScaler"
   ]
  },
  {
   "cell_type": "code",
   "execution_count": 8,
   "metadata": {
    "execution": {
     "iopub.execute_input": "2024-06-10T23:53:15.878610Z",
     "iopub.status.busy": "2024-06-10T23:53:15.878077Z",
     "iopub.status.idle": "2024-06-10T23:53:16.738707Z",
     "shell.execute_reply": "2024-06-10T23:53:16.737975Z"
    }
   },
   "outputs": [
    {
     "name": "stdout",
     "output_type": "stream",
     "text": [
      "Base Dataset Modifications in Process\n",
      "-------------------------------------\n",
      "**Operation:target_column  diabetes\n",
      "**Operation:convert_to_binary  True\n",
      "  -- Converting dataset to binary (0,1) from (0,1,2)\n",
      "\n",
      "\n",
      "****Cleaning Feature: diabetes\n",
      "  Initial Unique features in [diabetes]:  [0. 1. 2.]\n",
      "  values_to_drop: ********* NO Parameters were specified *********\n",
      "  translate: {1: 0, 2: 1}\n",
      "  scale: ********* NO Parameters were specified *********\n",
      "  FINAL Unique features in [diabetes]:  [0. 1.]\n",
      "**Operation:scaler  standard\n",
      "  -- Performing train_test_split on dataframe with target:'diabetes'\n",
      "     -- Run automatically before scalar or random_sample operations\n",
      "  -- Performing StandardScaler on X_train: Updates X_train, y_test\n",
      "**Operation:random_sample  smote\n",
      "  -- Performing SMOTE on X_train, y_train: Updates X_train, y_train\n",
      "\n",
      "Dataframe, Train Test Summary\n",
      "-----------------------------\n",
      "Dataframe: (247076, 37)  Data:4, X_train:320928, y_train:320928, X_test:61769, y_test:61769\n",
      "ValueCounts:   y_train: len:2   0: 160464   1:160464\n",
      "ValueCounts:   y_test : len:2   0:  53579   1:  8190\n"
     ]
    }
   ],
   "source": [
    "# reload any changes to mlanlys\n",
    "importlib.reload(mlanlys)\n",
    "\n",
    "target = 'diabetes'\n",
    "# Dictionary defining modification to be made to the base dataset\n",
    "operation_dict = {  'target_column'     :  target,\n",
    "                    'convert_to_binary' :  True,\n",
    "                    'scaler'            : 'standard', # options: none, standard, minmax\n",
    "                    'random_sample'     : 'smote'      # options: none, undersample, oversample\n",
    "                    }\n",
    "\n",
    "# This insures that df if not modified during the call to modify_base_dataset()\n",
    "df_modified = df.copy()\n",
    "\n",
    "# Modify the base dataset\n",
    "# data is returned where: X_train, X_test, y_train, y_test = data\n",
    "data = mlanlys.modify_base_dataset(df_modified, operation_dict)"
   ]
  },
  {
   "cell_type": "code",
   "execution_count": 9,
   "metadata": {
    "execution": {
     "iopub.execute_input": "2024-06-10T23:53:16.741390Z",
     "iopub.status.busy": "2024-06-10T23:53:16.740704Z",
     "iopub.status.idle": "2024-06-10T23:53:16.750109Z",
     "shell.execute_reply": "2024-06-10T23:53:16.749408Z"
    }
   },
   "outputs": [
    {
     "name": "stdout",
     "output_type": "stream",
     "text": [
      "Original Dataframe\n",
      "------------------\n",
      "df.shape: (247076, 37)\n",
      "df[diabetes].value_counts:  diabetes\n",
      "0.0    208389\n",
      "2.0     33033\n",
      "1.0      5654\n",
      "Name: count, dtype: int64\n",
      "\n",
      "Modified Dataframe\n",
      "------------------\n",
      "df_modified.shape: (247076, 37)\n",
      "df_modified[diabetes].value_counts:  diabetes\n",
      "0.0    214043\n",
      "1.0     33033\n",
      "Name: count, dtype: int64\n"
     ]
    }
   ],
   "source": [
    "# Print some statistics about the original df and the modified dataframe\n",
    "print(f\"Original Dataframe\")\n",
    "print(f\"------------------\")\n",
    "print(f\"df.shape: {df.shape}\")\n",
    "print(f\"df[{target}].value_counts:  {df[target].value_counts()}\")\n",
    "\n",
    "print(f\"\\nModified Dataframe\")\n",
    "print(f\"------------------\")\n",
    "print(f\"df_modified.shape: {df_modified.shape}\")\n",
    "print(f\"df_modified[{target}].value_counts:  {df_modified[target].value_counts()}\")"
   ]
  },
  {
   "cell_type": "code",
   "execution_count": 10,
   "metadata": {
    "execution": {
     "iopub.execute_input": "2024-06-10T23:53:16.752048Z",
     "iopub.status.busy": "2024-06-10T23:53:16.751852Z",
     "iopub.status.idle": "2024-06-10T23:53:16.759562Z",
     "shell.execute_reply": "2024-06-10T23:53:16.758879Z"
    }
   },
   "outputs": [
    {
     "name": "stdout",
     "output_type": "stream",
     "text": [
      "Dataframe: (247076, 37)  Data:4, X_train:320928, y_train:320928, X_test:61769, y_test:61769\n"
     ]
    },
    {
     "data": {
      "text/plain": [
       "diabetes\n",
       "0.0    160464\n",
       "1.0    160464\n",
       "Name: count, dtype: int64"
      ]
     },
     "execution_count": 10,
     "metadata": {},
     "output_type": "execute_result"
    }
   ],
   "source": [
    "X_train, X_test, y_train, y_test = data\n",
    "print(f\"Dataframe: {df_modified.shape}  Data:{len(data)}, X_train:{len(X_train)}, y_train:{len(y_train)}, X_test:{len(X_test)}, y_test:{len(y_test)}\")\n",
    "y_train.value_counts()"
   ]
  },
  {
   "cell_type": "code",
   "execution_count": 11,
   "metadata": {
    "execution": {
     "iopub.execute_input": "2024-06-10T23:53:16.762280Z",
     "iopub.status.busy": "2024-06-10T23:53:16.761435Z",
     "iopub.status.idle": "2024-06-10T23:53:16.767000Z",
     "shell.execute_reply": "2024-06-10T23:53:16.766321Z"
    }
   },
   "outputs": [
    {
     "data": {
      "text/plain": [
       "diabetes\n",
       "0.0    53579\n",
       "1.0     8190\n",
       "Name: count, dtype: int64"
      ]
     },
     "execution_count": 11,
     "metadata": {},
     "output_type": "execute_result"
    }
   ],
   "source": [
    "y_test.value_counts()"
   ]
  },
  {
   "cell_type": "markdown",
   "metadata": {},
   "source": [
    "---\n",
    "\n",
    "## 3. Run initial Tests and get k_value\n",
    "\n",
    "**From step 2:**  Data = [X_train_modified, X_test_modified, y_train_modified, y_test]\n",
    "\n",
    "---"
   ]
  },
  {
   "cell_type": "code",
   "execution_count": 12,
   "metadata": {
    "execution": {
     "iopub.execute_input": "2024-06-10T23:53:16.768986Z",
     "iopub.status.busy": "2024-06-10T23:53:16.768802Z",
     "iopub.status.idle": "2024-06-10T23:53:16.782974Z",
     "shell.execute_reply": "2024-06-10T23:53:16.782240Z"
    }
   },
   "outputs": [
    {
     "data": {
      "text/plain": [
       "<module 'ml_analysis' from '/mnt/c/ML/DU/repos/projects/project-2/DU-project-2-2015/brfss_2021/../pkgs/ml_analysis.py'>"
      ]
     },
     "execution_count": 12,
     "metadata": {},
     "output_type": "execute_result"
    }
   ],
   "source": [
    "# reload any changes to mlanlys\n",
    "importlib.reload(mlanlys)\n",
    "\n",
    "# Determine the k_value\n",
    "# mlanlys.knn_plot(data)"
   ]
  },
  {
   "cell_type": "markdown",
   "metadata": {},
   "source": [
    "**Note:** From the knn plot above, pick a k-value of 3."
   ]
  },
  {
   "cell_type": "markdown",
   "metadata": {},
   "source": [
    "---\n",
    "\n",
    "## 4. Run the Analysis\n",
    "\n",
    "---\n",
    "\n",
    "#### Model Run Times\n",
    "\n",
    "-  Base dataset (247076 rows × 37 columns):\n",
    "\n",
    "| Model | Run Time |\n",
    "| ----- | -------- |\n",
    "| test_model(SVC(kernel='linear'), data)                          | Aborted >35min (Data too large, consider for RandomUndersampling dataset) |\n",
    "| test_model(KNeighborsClassifier(n_neighbors=k_value), data)     | 247.13 seconds |\n",
    "| test_model(tree.DecisionTreeClassifier(), data)                 |   3.89 seconds |\n",
    "| test_model(RandomForestClassifier(), data)                      |  60.94 seconds |\n",
    "| test_model(ExtraTreesClassifier(random_state=1), data)          |  58.54 seconds |\n",
    "| test_model(GradientBoostingClassifier(random_state=1), data)    | 115.21 seconds |\n",
    "| test_model(AdaBoostClassifier(random_state=1), data)            |  11.91 seconds |\n",
    "| test_model(LogisticRegression(), data)                          |   4.90 seconds |\n",
    "| **Total** w/o SVC| 502.52 seconds / **8:23 minutes** |"
   ]
  },
  {
   "cell_type": "code",
   "execution_count": 13,
   "metadata": {
    "execution": {
     "iopub.execute_input": "2024-06-10T23:53:16.785655Z",
     "iopub.status.busy": "2024-06-10T23:53:16.784817Z",
     "iopub.status.idle": "2024-06-11T00:14:29.645503Z",
     "shell.execute_reply": "2024-06-11T00:14:29.642111Z"
    }
   },
   "outputs": [],
   "source": [
    "# reload any changes to nlanlys\n",
    "importlib.reload(mlanlys)\n",
    "\n",
    "k_value = 3\n",
    "\n",
    "#### COMMENT OUT ONE OF THE FOLLOWING SECTIONS\n",
    "\n",
    "## SECTION 1\n",
    "# Capture stdout & stderr into two strings: osc.stdout and osc.stderr that contain the output from the function\n",
    "# -- This allows the output to be printed here or to a file or both.\n",
    "\n",
    "with mlanlys.OutStreamCapture() as osc:\n",
    "    performance_summary = mlanlys.run_classification_models(data, k_value)\n",
    "#    performance_summary = mlanlys.run_classification_models_test(data, k_value)\n",
    "\n",
    "## <OR>\n",
    "## SECTION 2\n",
    "\n",
    "# performance_summary = mlanlys.run_classification_models(data, k_value)\n"
   ]
  },
  {
   "cell_type": "code",
   "execution_count": 14,
   "metadata": {
    "execution": {
     "iopub.execute_input": "2024-06-11T00:14:29.655025Z",
     "iopub.status.busy": "2024-06-11T00:14:29.653643Z",
     "iopub.status.idle": "2024-06-11T00:14:29.661086Z",
     "shell.execute_reply": "2024-06-11T00:14:29.659903Z"
    }
   },
   "outputs": [],
   "source": [
    "# UNCOMMENT if using SECTION 1 in the previous step\n",
    "# print(osc.stdout)\n",
    "\n",
    "# Add code to print osc.stdout to a file if desired."
   ]
  },
  {
   "cell_type": "markdown",
   "metadata": {},
   "source": [
    "---\n",
    "\n",
    "### 4.1 Archive Performance Summary\n",
    "\n",
    "- For use in Project Performance Summary Report\n",
    "---"
   ]
  },
  {
   "cell_type": "code",
   "execution_count": 15,
   "metadata": {
    "execution": {
     "iopub.execute_input": "2024-06-11T00:14:29.666365Z",
     "iopub.status.busy": "2024-06-11T00:14:29.665522Z",
     "iopub.status.idle": "2024-06-11T00:14:29.740722Z",
     "shell.execute_reply": "2024-06-11T00:14:29.738991Z"
    }
   },
   "outputs": [
    {
     "name": "stdout",
     "output_type": "stream",
     "text": [
      "The file reports/performance_report.pkl exists.\n"
     ]
    }
   ],
   "source": [
    "# performance_summary is a dataframe of performance statistics\n",
    "\n",
    "# Add the dataset label as the first column in performance_summary\n",
    "dataset_column = pd.Series([dataset_label] * len(performance_summary), name=dataset_label)\n",
    "performance_summary.insert(0, 'new_column', dataset_column)\n",
    "\n",
    "analysis_perf_summary = { 'dataset_size': list(df.shape), 'report': performance_summary}\n",
    "\n",
    "# Performance_report is a file containing all the performance summary statistics\n",
    "if os.path.exists(performance_report):\n",
    "    print(f\"The file {performance_report} exists.\")\n",
    "    # Load Performance Report\n",
    "    with open(performance_report, 'rb') as file: perf_report = pickle.load(file)\n",
    "else:\n",
    "    print(f\"The file {performance_report} does not exist.\")\n",
    "    perf_report = {}\n",
    "    \n",
    "perf_report[dataset_label] = analysis_perf_summary\n",
    "\n",
    "# Save Performance Report\n",
    "with open(performance_report, 'wb') as file: pickle.dump(perf_report, file)"
   ]
  },
  {
   "cell_type": "markdown",
   "metadata": {},
   "source": [
    "### 4.2 Archive the Performance Detailed Statistics Report\n",
    "---"
   ]
  },
  {
   "cell_type": "code",
   "execution_count": 16,
   "metadata": {
    "execution": {
     "iopub.execute_input": "2024-06-11T00:14:29.746978Z",
     "iopub.status.busy": "2024-06-11T00:14:29.744857Z",
     "iopub.status.idle": "2024-06-11T00:14:29.790566Z",
     "shell.execute_reply": "2024-06-11T00:14:29.788362Z"
    }
   },
   "outputs": [],
   "source": [
    "# osc.stdout contains the details of the performance statistics\n",
    "\n",
    "with open(detailed_performance_report, \"w\") as file:\n",
    "    file.write(osc.stdout)"
   ]
  },
  {
   "cell_type": "markdown",
   "metadata": {},
   "source": [
    "---\n",
    "\n",
    "## 5. Performance Summary\n",
    "\n",
    "---"
   ]
  },
  {
   "cell_type": "code",
   "execution_count": 17,
   "metadata": {
    "execution": {
     "iopub.execute_input": "2024-06-11T00:14:29.795820Z",
     "iopub.status.busy": "2024-06-11T00:14:29.795174Z",
     "iopub.status.idle": "2024-06-11T00:14:29.821545Z",
     "shell.execute_reply": "2024-06-11T00:14:29.820001Z"
    }
   },
   "outputs": [
    {
     "name": "stdout",
     "output_type": "stream",
     "text": [
      "******************************************\n",
      "Performance Summary for: 7 SMOTE Dataset\n",
      "******************************************\n"
     ]
    },
    {
     "data": {
      "text/html": [
       "<div>\n",
       "<style scoped>\n",
       "    .dataframe tbody tr th:only-of-type {\n",
       "        vertical-align: middle;\n",
       "    }\n",
       "\n",
       "    .dataframe tbody tr th {\n",
       "        vertical-align: top;\n",
       "    }\n",
       "\n",
       "    .dataframe thead th {\n",
       "        text-align: right;\n",
       "    }\n",
       "</style>\n",
       "<table border=\"1\" class=\"dataframe\">\n",
       "  <thead>\n",
       "    <tr style=\"text-align: right;\">\n",
       "      <th></th>\n",
       "      <th>new_column</th>\n",
       "      <th>model</th>\n",
       "      <th>slice</th>\n",
       "      <th>score</th>\n",
       "      <th>balanced_accuracy</th>\n",
       "      <th>roc_auc_score</th>\n",
       "      <th>Mean Squared Error</th>\n",
       "      <th>Accuracy</th>\n",
       "      <th>Precision</th>\n",
       "      <th>Recall</th>\n",
       "      <th>F1-score</th>\n",
       "      <th>Specificity</th>\n",
       "      <th>False Positive Rate</th>\n",
       "      <th>Matthews Correlation Coefficient</th>\n",
       "    </tr>\n",
       "  </thead>\n",
       "  <tbody>\n",
       "    <tr>\n",
       "      <th>0</th>\n",
       "      <td>7 SMOTE Dataset</td>\n",
       "      <td>KNeighborsClassifier</td>\n",
       "      <td>Train</td>\n",
       "      <td>0.9285</td>\n",
       "      <td>0.9285</td>\n",
       "      <td>0.9990</td>\n",
       "      <td>0.0715</td>\n",
       "      <td>0.9285</td>\n",
       "      <td>0.8755</td>\n",
       "      <td>0.9991</td>\n",
       "      <td>0.9332</td>\n",
       "      <td>0.8579</td>\n",
       "      <td>0.1421</td>\n",
       "      <td>10.8406</td>\n",
       "    </tr>\n",
       "    <tr>\n",
       "      <th>1</th>\n",
       "      <td>7 SMOTE Dataset</td>\n",
       "      <td>KNeighborsClassifier</td>\n",
       "      <td>Test</td>\n",
       "      <td>0.7293</td>\n",
       "      <td>0.6623</td>\n",
       "      <td>0.7050</td>\n",
       "      <td>0.2707</td>\n",
       "      <td>0.7293</td>\n",
       "      <td>0.2615</td>\n",
       "      <td>0.5712</td>\n",
       "      <td>0.3588</td>\n",
       "      <td>0.7535</td>\n",
       "      <td>0.2465</td>\n",
       "      <td>0.2427</td>\n",
       "    </tr>\n",
       "    <tr>\n",
       "      <th>2</th>\n",
       "      <td>7 SMOTE Dataset</td>\n",
       "      <td>DecisionTreeClassifier</td>\n",
       "      <td>Train</td>\n",
       "      <td>1.0000</td>\n",
       "      <td>1.0000</td>\n",
       "      <td>1.0000</td>\n",
       "      <td>0.0000</td>\n",
       "      <td>1.0000</td>\n",
       "      <td>1.0000</td>\n",
       "      <td>1.0000</td>\n",
       "      <td>1.0000</td>\n",
       "      <td>1.0000</td>\n",
       "      <td>0.0000</td>\n",
       "      <td>NaN</td>\n",
       "    </tr>\n",
       "    <tr>\n",
       "      <th>3</th>\n",
       "      <td>7 SMOTE Dataset</td>\n",
       "      <td>DecisionTreeClassifier</td>\n",
       "      <td>Test</td>\n",
       "      <td>0.7975</td>\n",
       "      <td>0.6043</td>\n",
       "      <td>0.6043</td>\n",
       "      <td>0.2025</td>\n",
       "      <td>0.7975</td>\n",
       "      <td>0.2821</td>\n",
       "      <td>0.3413</td>\n",
       "      <td>0.3089</td>\n",
       "      <td>0.8672</td>\n",
       "      <td>0.1328</td>\n",
       "      <td>0.1927</td>\n",
       "    </tr>\n",
       "    <tr>\n",
       "      <th>4</th>\n",
       "      <td>7 SMOTE Dataset</td>\n",
       "      <td>RandomForestClassifier</td>\n",
       "      <td>Train</td>\n",
       "      <td>1.0000</td>\n",
       "      <td>1.0000</td>\n",
       "      <td>1.0000</td>\n",
       "      <td>0.0000</td>\n",
       "      <td>1.0000</td>\n",
       "      <td>1.0000</td>\n",
       "      <td>1.0000</td>\n",
       "      <td>1.0000</td>\n",
       "      <td>1.0000</td>\n",
       "      <td>0.0000</td>\n",
       "      <td>NaN</td>\n",
       "    </tr>\n",
       "    <tr>\n",
       "      <th>5</th>\n",
       "      <td>7 SMOTE Dataset</td>\n",
       "      <td>RandomForestClassifier</td>\n",
       "      <td>Test</td>\n",
       "      <td>0.8656</td>\n",
       "      <td>0.5999</td>\n",
       "      <td>0.8212</td>\n",
       "      <td>0.1344</td>\n",
       "      <td>0.8656</td>\n",
       "      <td>0.4864</td>\n",
       "      <td>0.2383</td>\n",
       "      <td>0.3199</td>\n",
       "      <td>0.9615</td>\n",
       "      <td>0.0385</td>\n",
       "      <td>0.2750</td>\n",
       "    </tr>\n",
       "    <tr>\n",
       "      <th>6</th>\n",
       "      <td>7 SMOTE Dataset</td>\n",
       "      <td>ExtraTreesClassifier</td>\n",
       "      <td>Train</td>\n",
       "      <td>1.0000</td>\n",
       "      <td>1.0000</td>\n",
       "      <td>1.0000</td>\n",
       "      <td>0.0000</td>\n",
       "      <td>1.0000</td>\n",
       "      <td>1.0000</td>\n",
       "      <td>1.0000</td>\n",
       "      <td>1.0000</td>\n",
       "      <td>1.0000</td>\n",
       "      <td>0.0000</td>\n",
       "      <td>NaN</td>\n",
       "    </tr>\n",
       "    <tr>\n",
       "      <th>7</th>\n",
       "      <td>7 SMOTE Dataset</td>\n",
       "      <td>ExtraTreesClassifier</td>\n",
       "      <td>Test</td>\n",
       "      <td>0.8624</td>\n",
       "      <td>0.6092</td>\n",
       "      <td>0.8163</td>\n",
       "      <td>0.1376</td>\n",
       "      <td>0.8624</td>\n",
       "      <td>0.4665</td>\n",
       "      <td>0.2647</td>\n",
       "      <td>0.3378</td>\n",
       "      <td>0.9537</td>\n",
       "      <td>0.0463</td>\n",
       "      <td>0.2809</td>\n",
       "    </tr>\n",
       "    <tr>\n",
       "      <th>8</th>\n",
       "      <td>7 SMOTE Dataset</td>\n",
       "      <td>GradientBoostingClassifier</td>\n",
       "      <td>Train</td>\n",
       "      <td>0.9042</td>\n",
       "      <td>0.9042</td>\n",
       "      <td>0.9683</td>\n",
       "      <td>0.0958</td>\n",
       "      <td>0.9042</td>\n",
       "      <td>0.9170</td>\n",
       "      <td>0.8890</td>\n",
       "      <td>0.9028</td>\n",
       "      <td>0.9195</td>\n",
       "      <td>0.0805</td>\n",
       "      <td>NaN</td>\n",
       "    </tr>\n",
       "    <tr>\n",
       "      <th>9</th>\n",
       "      <td>7 SMOTE Dataset</td>\n",
       "      <td>GradientBoostingClassifier</td>\n",
       "      <td>Test</td>\n",
       "      <td>0.8499</td>\n",
       "      <td>0.6597</td>\n",
       "      <td>0.8216</td>\n",
       "      <td>0.1501</td>\n",
       "      <td>0.8499</td>\n",
       "      <td>0.4292</td>\n",
       "      <td>0.4010</td>\n",
       "      <td>0.4146</td>\n",
       "      <td>0.9185</td>\n",
       "      <td>0.0815</td>\n",
       "      <td>0.3288</td>\n",
       "    </tr>\n",
       "    <tr>\n",
       "      <th>10</th>\n",
       "      <td>7 SMOTE Dataset</td>\n",
       "      <td>AdaBoostClassifier</td>\n",
       "      <td>Train</td>\n",
       "      <td>0.8615</td>\n",
       "      <td>0.8615</td>\n",
       "      <td>0.9466</td>\n",
       "      <td>0.1385</td>\n",
       "      <td>0.8615</td>\n",
       "      <td>0.8457</td>\n",
       "      <td>0.8843</td>\n",
       "      <td>0.8646</td>\n",
       "      <td>0.8386</td>\n",
       "      <td>0.1614</td>\n",
       "      <td>NaN</td>\n",
       "    </tr>\n",
       "    <tr>\n",
       "      <th>11</th>\n",
       "      <td>7 SMOTE Dataset</td>\n",
       "      <td>AdaBoostClassifier</td>\n",
       "      <td>Test</td>\n",
       "      <td>0.8011</td>\n",
       "      <td>0.7040</td>\n",
       "      <td>0.8095</td>\n",
       "      <td>0.1989</td>\n",
       "      <td>0.8011</td>\n",
       "      <td>0.3479</td>\n",
       "      <td>0.5719</td>\n",
       "      <td>0.4326</td>\n",
       "      <td>0.8362</td>\n",
       "      <td>0.1638</td>\n",
       "      <td>0.3352</td>\n",
       "    </tr>\n",
       "    <tr>\n",
       "      <th>12</th>\n",
       "      <td>7 SMOTE Dataset</td>\n",
       "      <td>LogisticRegression</td>\n",
       "      <td>Train</td>\n",
       "      <td>0.7623</td>\n",
       "      <td>0.7623</td>\n",
       "      <td>0.8368</td>\n",
       "      <td>0.2377</td>\n",
       "      <td>0.7623</td>\n",
       "      <td>0.7458</td>\n",
       "      <td>0.7959</td>\n",
       "      <td>0.7700</td>\n",
       "      <td>0.7287</td>\n",
       "      <td>0.2713</td>\n",
       "      <td>NaN</td>\n",
       "    </tr>\n",
       "    <tr>\n",
       "      <th>13</th>\n",
       "      <td>7 SMOTE Dataset</td>\n",
       "      <td>LogisticRegression</td>\n",
       "      <td>Test</td>\n",
       "      <td>0.7298</td>\n",
       "      <td>0.7436</td>\n",
       "      <td>0.8216</td>\n",
       "      <td>0.2702</td>\n",
       "      <td>0.7298</td>\n",
       "      <td>0.2975</td>\n",
       "      <td>0.7623</td>\n",
       "      <td>0.4280</td>\n",
       "      <td>0.7249</td>\n",
       "      <td>0.2751</td>\n",
       "      <td>0.3488</td>\n",
       "    </tr>\n",
       "  </tbody>\n",
       "</table>\n",
       "</div>"
      ],
      "text/plain": [
       "         new_column                       model  slice   score  \\\n",
       "0   7 SMOTE Dataset        KNeighborsClassifier  Train  0.9285   \n",
       "1   7 SMOTE Dataset        KNeighborsClassifier   Test  0.7293   \n",
       "2   7 SMOTE Dataset      DecisionTreeClassifier  Train  1.0000   \n",
       "3   7 SMOTE Dataset      DecisionTreeClassifier   Test  0.7975   \n",
       "4   7 SMOTE Dataset      RandomForestClassifier  Train  1.0000   \n",
       "5   7 SMOTE Dataset      RandomForestClassifier   Test  0.8656   \n",
       "6   7 SMOTE Dataset        ExtraTreesClassifier  Train  1.0000   \n",
       "7   7 SMOTE Dataset        ExtraTreesClassifier   Test  0.8624   \n",
       "8   7 SMOTE Dataset  GradientBoostingClassifier  Train  0.9042   \n",
       "9   7 SMOTE Dataset  GradientBoostingClassifier   Test  0.8499   \n",
       "10  7 SMOTE Dataset          AdaBoostClassifier  Train  0.8615   \n",
       "11  7 SMOTE Dataset          AdaBoostClassifier   Test  0.8011   \n",
       "12  7 SMOTE Dataset          LogisticRegression  Train  0.7623   \n",
       "13  7 SMOTE Dataset          LogisticRegression   Test  0.7298   \n",
       "\n",
       "    balanced_accuracy  roc_auc_score  Mean Squared Error  Accuracy  Precision  \\\n",
       "0              0.9285         0.9990              0.0715    0.9285     0.8755   \n",
       "1              0.6623         0.7050              0.2707    0.7293     0.2615   \n",
       "2              1.0000         1.0000              0.0000    1.0000     1.0000   \n",
       "3              0.6043         0.6043              0.2025    0.7975     0.2821   \n",
       "4              1.0000         1.0000              0.0000    1.0000     1.0000   \n",
       "5              0.5999         0.8212              0.1344    0.8656     0.4864   \n",
       "6              1.0000         1.0000              0.0000    1.0000     1.0000   \n",
       "7              0.6092         0.8163              0.1376    0.8624     0.4665   \n",
       "8              0.9042         0.9683              0.0958    0.9042     0.9170   \n",
       "9              0.6597         0.8216              0.1501    0.8499     0.4292   \n",
       "10             0.8615         0.9466              0.1385    0.8615     0.8457   \n",
       "11             0.7040         0.8095              0.1989    0.8011     0.3479   \n",
       "12             0.7623         0.8368              0.2377    0.7623     0.7458   \n",
       "13             0.7436         0.8216              0.2702    0.7298     0.2975   \n",
       "\n",
       "    Recall  F1-score  Specificity  False Positive Rate  \\\n",
       "0   0.9991    0.9332       0.8579               0.1421   \n",
       "1   0.5712    0.3588       0.7535               0.2465   \n",
       "2   1.0000    1.0000       1.0000               0.0000   \n",
       "3   0.3413    0.3089       0.8672               0.1328   \n",
       "4   1.0000    1.0000       1.0000               0.0000   \n",
       "5   0.2383    0.3199       0.9615               0.0385   \n",
       "6   1.0000    1.0000       1.0000               0.0000   \n",
       "7   0.2647    0.3378       0.9537               0.0463   \n",
       "8   0.8890    0.9028       0.9195               0.0805   \n",
       "9   0.4010    0.4146       0.9185               0.0815   \n",
       "10  0.8843    0.8646       0.8386               0.1614   \n",
       "11  0.5719    0.4326       0.8362               0.1638   \n",
       "12  0.7959    0.7700       0.7287               0.2713   \n",
       "13  0.7623    0.4280       0.7249               0.2751   \n",
       "\n",
       "    Matthews Correlation Coefficient  \n",
       "0                            10.8406  \n",
       "1                             0.2427  \n",
       "2                                NaN  \n",
       "3                             0.1927  \n",
       "4                                NaN  \n",
       "5                             0.2750  \n",
       "6                                NaN  \n",
       "7                             0.2809  \n",
       "8                                NaN  \n",
       "9                             0.3288  \n",
       "10                               NaN  \n",
       "11                            0.3352  \n",
       "12                               NaN  \n",
       "13                            0.3488  "
      ]
     },
     "execution_count": 17,
     "metadata": {},
     "output_type": "execute_result"
    }
   ],
   "source": [
    "# print the performance summary\n",
    "print(f\"******************************************\")\n",
    "print(f\"Performance Summary for: {dataset_label}\")\n",
    "print(f\"******************************************\")\n",
    "\n",
    "performance_summary"
   ]
  },
  {
   "cell_type": "code",
   "execution_count": 18,
   "metadata": {
    "execution": {
     "iopub.execute_input": "2024-06-11T00:14:29.826053Z",
     "iopub.status.busy": "2024-06-11T00:14:29.824963Z",
     "iopub.status.idle": "2024-06-11T00:14:29.833009Z",
     "shell.execute_reply": "2024-06-11T00:14:29.831387Z"
    }
   },
   "outputs": [
    {
     "name": "stdout",
     "output_type": "stream",
     "text": [
      "Completed: Execution Time 1274.41 seconds:\n"
     ]
    }
   ],
   "source": [
    "print(f\"Completed: Execution Time %s seconds:\" % round((time.time() - start_time),2) )"
   ]
  },
  {
   "cell_type": "markdown",
   "metadata": {},
   "source": [
    "---\n",
    "\n",
    "## 6. Conclusions\n",
    "\n",
    "- A first glance at the summary, it appears that the Boosting models may have performed well with test/train scores were >.8 and similar in scale (<.02 delta).  However, the poor test confusion matrix and balanced accuracy highlight the overfitting.\n",
    "\n",
    "- The Base Cleaned data is overfit as indicated by:\n",
    "    - Poor confusion matrix on the detailed report for test sets on all models\n",
    "    - Low balanced accuracy as compared to the model score (less than 50%)\n"
   ]
  },
  {
   "cell_type": "markdown",
   "metadata": {},
   "source": [
    "---\n",
    "\n",
    "---"
   ]
  }
 ],
 "metadata": {
  "kernelspec": {
   "display_name": "dev",
   "language": "python",
   "name": "python3"
  },
  "language_info": {
   "codemirror_mode": {
    "name": "ipython",
    "version": 3
   },
   "file_extension": ".py",
   "mimetype": "text/x-python",
   "name": "python",
   "nbconvert_exporter": "python",
   "pygments_lexer": "ipython3",
   "version": "3.12.2"
  }
 },
 "nbformat": 4,
 "nbformat_minor": 2
}
