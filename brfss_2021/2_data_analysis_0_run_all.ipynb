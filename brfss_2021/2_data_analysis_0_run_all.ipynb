{
 "cells": [
  {
   "cell_type": "markdown",
   "metadata": {},
   "source": [
    "## Run All Notebookes\n",
    "\n",
    "This Notebook reads a list of notbooks from 2_data_analysis_0_notebooks.txt and runs each sequentially."
   ]
  },
  {
   "cell_type": "code",
   "execution_count": 1,
   "metadata": {},
   "outputs": [],
   "source": [
    "# 2_data_analysis_1_base_data.ipynb\n",
    "# 2_data_analysis_2.0_standard_scaled_data.ipynb\n",
    "# 2_data_analysis_2.1_minmax_scaled_data.ipynb\n",
    "# 2_data_analysis_3_ss_binary_data.ipynb\n",
    "# 2_data_analysis_4_ss_b_random_undersample.ipynb\n",
    "# 2_data_analysis_5_ss_b_random_oversample.ipynb\n",
    "# 2_data_analysis_6_sb_cluster.ipynb\n",
    "# 2_data_analysis_7_sb_smote.ipynb\n",
    "# 2_data_analysis_8_sb_smoteen.ipynb\n",
    "# 3_performance_report.ipynb"
   ]
  },
  {
   "cell_type": "code",
   "execution_count": 2,
   "metadata": {},
   "outputs": [],
   "source": [
    "import nbconvert\n",
    "import time"
   ]
  },
  {
   "cell_type": "code",
   "execution_count": 3,
   "metadata": {},
   "outputs": [],
   "source": [
    "start_time = time.time()"
   ]
  },
  {
   "cell_type": "code",
   "execution_count": 4,
   "metadata": {},
   "outputs": [
    {
     "name": "stdout",
     "output_type": "stream",
     "text": [
      "[NbConvertApp] Converting notebook 2_data_analysis_1_base_data.ipynb to notebook\n",
      "[NbConvertApp] Writing 123194 bytes to 2_data_analysis_1_base_data.ipynb\n",
      "[NbConvertApp] Converting notebook 2_data_analysis_2.0_standard_scaled_data.ipynb to notebook\n",
      "[NbConvertApp] Writing 35145 bytes to 2_data_analysis_2.0_standard_scaled_data.ipynb\n",
      "[NbConvertApp] Converting notebook 2_data_analysis_2.1_minmax_scaled_data.ipynb to notebook\n",
      "[NbConvertApp] Writing 35075 bytes to 2_data_analysis_2.1_minmax_scaled_data.ipynb\n",
      "[NbConvertApp] Converting notebook 2_data_analysis_3_ss_binary_data.ipynb to notebook\n",
      "[NbConvertApp] Writing 35183 bytes to 2_data_analysis_3_ss_binary_data.ipynb\n",
      "[NbConvertApp] Converting notebook 2_data_analysis_4_ss_b_random_undersample.ipynb to notebook\n",
      "[NbConvertApp] Writing 35390 bytes to 2_data_analysis_4_ss_b_random_undersample.ipynb\n",
      "[NbConvertApp] Converting notebook 2_data_analysis_5_ss_b_random_oversample.ipynb to notebook\n",
      "[NbConvertApp] Writing 34976 bytes to 2_data_analysis_5_ss_b_random_oversample.ipynb\n",
      "[NbConvertApp] Converting notebook 2_data_analysis_6_sb_cluster.ipynb to notebook\n",
      "[NbConvertApp] Writing 34942 bytes to 2_data_analysis_6_sb_cluster.ipynb\n",
      "[NbConvertApp] Converting notebook 2_data_analysis_7_sb_smote.ipynb to notebook\n",
      "[NbConvertApp] Writing 35229 bytes to 2_data_analysis_7_sb_smote.ipynb\n",
      "[NbConvertApp] Converting notebook 2_data_analysis_8_sb_smoteen.ipynb to notebook\n",
      "[NbConvertApp] Writing 34586 bytes to 2_data_analysis_8_sb_smoteen.ipynb\n",
      "[NbConvertApp] Converting notebook 3_performance_report.ipynb to notebook\n",
      "[NbConvertApp] Writing 61505 bytes to 3_performance_report.ipynb\n"
     ]
    }
   ],
   "source": [
    "!jupyter nbconvert --to notebook --inplace --execute --ExecutePreprocessor.timeout=None --allow-errors $(< 2_data_analysis_0_notebooks.txt)"
   ]
  },
  {
   "cell_type": "code",
   "execution_count": 5,
   "metadata": {},
   "outputs": [
    {
     "name": "stdout",
     "output_type": "stream",
     "text": [
      "Completed: Execution Time 6363.83 seconds:\n"
     ]
    }
   ],
   "source": [
    "print(f\"Completed: Execution Time %s seconds:\" % round((time.time() - start_time),2) )"
   ]
  }
 ],
 "metadata": {
  "kernelspec": {
   "display_name": "dev",
   "language": "python",
   "name": "python3"
  },
  "language_info": {
   "codemirror_mode": {
    "name": "ipython",
    "version": 3
   },
   "file_extension": ".py",
   "mimetype": "text/x-python",
   "name": "python",
   "nbconvert_exporter": "python",
   "pygments_lexer": "ipython3",
   "version": "3.1.undefined"
  }
 },
 "nbformat": 4,
 "nbformat_minor": 2
}
