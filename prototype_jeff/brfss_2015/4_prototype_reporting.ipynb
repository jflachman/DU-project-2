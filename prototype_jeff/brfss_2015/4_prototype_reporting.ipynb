{
 "cells": [
  {
   "cell_type": "code",
   "execution_count": 1,
   "metadata": {},
   "outputs": [],
   "source": [
    "# package imports go here\n",
    "import pandas as pd\n",
    "import numpy as np\n",
    "import fastparquet as fp\n",
    "import os\n",
    "import sys\n",
    "import pickle\n",
    "import matplotlib.pyplot as plt\n",
    "import importlib\n",
    "import config\n",
    "import sklearn\n",
    "\n",
    "\n",
    "sys.path.insert(1, config.package_path)\n",
    "import ml_analysis as mlanlys\n",
    "import ml_clean_feature as mlclean"
   ]
  },
  {
   "cell_type": "code",
   "execution_count": 2,
   "metadata": {},
   "outputs": [
    {
     "name": "stdout",
     "output_type": "stream",
     "text": [
      "Year:                        2015\n"
     ]
    }
   ],
   "source": [
    "# reload any changes to Config Settings\n",
    "importlib.reload(config)\n",
    "\n",
    "# BE SURE TO UPDATE THE LABEL FOR THIS ANALYSIS\n",
    "# #############################\n",
    "dataset_label = '2.0 StandardScaler Dataset'\n",
    "# #############################\n",
    "\n",
    "year                        = config.year\n",
    "clean_file                  = config.clean_file\n",
    "\n",
    "prepared_data_standard              = config.prepared_data_standard\n",
    "prepared_data_minmax                = config.prepared_data_minmax\n",
    "prepared_data_binary                = config.prepared_data_binary\n",
    "prepared_data_sb_random_undersample = config.prepared_data_sb_random_undersample\n",
    "prepared_data_sb_random_oversample  = config.prepared_data_sb_random_oversample\n",
    "prepared_data_sb_cluster            = config.prepared_data_sb_cluster\n",
    "prepared_data_sb_smote              = config.prepared_data_sb_smote\n",
    "prepared_data_sb_smoteenn           = config.prepared_data_sb_smoteenn\n",
    "\n",
    "print(f\"Year:                        {year}\")\n"
   ]
  },
  {
   "cell_type": "code",
   "execution_count": 3,
   "metadata": {},
   "outputs": [],
   "source": [
    "# Read File\n",
    "prepared_file = prepared_data_binary\n",
    "\n",
    "with open(prepared_file, 'rb') as file: data_prepared = pickle.load(file)\n"
   ]
  },
  {
   "cell_type": "code",
   "execution_count": 4,
   "metadata": {},
   "outputs": [
    {
     "name": "stdout",
     "output_type": "stream",
     "text": [
      "After write:  lengths:  X_train: 190260  X_test: 63420  y_train: 190260 y_test: 63420\n",
      "\n",
      "y_train.value_counts diabetes\n",
      "0.0    163788\n",
      "1.0     26472\n",
      "Name: count, dtype: int64\n",
      "\n",
      "y_test.value_counts diabetes\n",
      "0.0    54546\n",
      "1.0     8874\n",
      "Name: count, dtype: int64\n"
     ]
    }
   ],
   "source": [
    "X_train, X_test, y_train, y_test = data_prepared\n",
    "print(f\"After write:  lengths:  X_train: {len(X_train)}  X_test: {len(X_test)}  y_train: {len(y_train)} y_test: {len(y_test)}\")\n",
    "print(f\"\\ny_train.value_counts {y_train.value_counts()}\")\n",
    "print(f\"\\ny_test.value_counts {y_test.value_counts()}\")"
   ]
  },
  {
   "cell_type": "code",
   "execution_count": 5,
   "metadata": {},
   "outputs": [
    {
     "name": "stdout",
     "output_type": "stream",
     "text": [
      "        HighBP  HighChol  CholCheck   BMI  Smoker  Stroke  \\\n",
      "74419      1.0       1.0        1.0  27.0     0.0     0.0   \n",
      "253053     1.0       1.0        1.0  25.0     0.0     0.0   \n",
      "57832      0.0       0.0        1.0  54.0     0.0     0.0   \n",
      "159068     0.0       0.0        1.0  25.0     0.0     0.0   \n",
      "115612     0.0       0.0        1.0  26.0     0.0     0.0   \n",
      "...        ...       ...        ...   ...     ...     ...   \n",
      "132687     0.0       1.0        1.0  27.0     0.0     0.0   \n",
      "102716     1.0       0.0        1.0  36.0     1.0     0.0   \n",
      "178749     1.0       0.0        1.0  25.0     1.0     0.0   \n",
      "209799     0.0       1.0        1.0  32.0     0.0     0.0   \n",
      "213270     1.0       0.0        1.0  38.0     0.0     0.0   \n",
      "\n",
      "        HeartDiseaseorAttack  PhysActivity  Fruits  Veggies  ...  \\\n",
      "74419                    0.0           1.0     1.0      1.0  ...   \n",
      "253053                   0.0           0.0     0.0      1.0  ...   \n",
      "57832                    0.0           1.0     0.0      0.0  ...   \n",
      "159068                   0.0           1.0     0.0      1.0  ...   \n",
      "115612                   0.0           1.0     1.0      1.0  ...   \n",
      "...                      ...           ...     ...      ...  ...   \n",
      "132687                   0.0           1.0     0.0      1.0  ...   \n",
      "102716                   0.0           0.0     0.0      1.0  ...   \n",
      "178749                   0.0           1.0     0.0      1.0  ...   \n",
      "209799                   0.0           1.0     0.0      0.0  ...   \n",
      "213270                   0.0           1.0     0.0      1.0  ...   \n",
      "\n",
      "        AnyHealthcare  NoDocbcCost  GenHlth  MentHlth  PhysHlth  DiffWalk  \\\n",
      "74419             1.0          0.0      3.0       0.0      30.0       1.0   \n",
      "253053            1.0          0.0      3.0      10.0      15.0       0.0   \n",
      "57832             1.0          0.0      3.0       0.0       0.0       0.0   \n",
      "159068            1.0          0.0      1.0      10.0       0.0       0.0   \n",
      "115612            1.0          0.0      1.0       0.0       0.0       0.0   \n",
      "...               ...          ...      ...       ...       ...       ...   \n",
      "132687            1.0          0.0      3.0       2.0       2.0       0.0   \n",
      "102716            1.0          0.0      2.0       0.0       0.0       0.0   \n",
      "178749            1.0          0.0      1.0       0.0       0.0       0.0   \n",
      "209799            1.0          0.0      3.0       0.0       0.0       0.0   \n",
      "213270            1.0          0.0      3.0       0.0       0.0       0.0   \n",
      "\n",
      "        Sex   Age  Education  Income  \n",
      "74419   1.0   8.0        6.0     7.0  \n",
      "253053  0.0   6.0        6.0     8.0  \n",
      "57832   0.0   7.0        5.0     4.0  \n",
      "159068  0.0   7.0        5.0     8.0  \n",
      "115612  1.0   3.0        5.0     6.0  \n",
      "...     ...   ...        ...     ...  \n",
      "132687  0.0  10.0        6.0     8.0  \n",
      "102716  1.0   8.0        5.0     8.0  \n",
      "178749  0.0  11.0        4.0     8.0  \n",
      "209799  1.0   5.0        3.0     1.0  \n",
      "213270  0.0   6.0        5.0     8.0  \n",
      "\n",
      "[190260 rows x 21 columns]\n"
     ]
    }
   ],
   "source": [
    "print(X_train)"
   ]
  },
  {
   "cell_type": "code",
   "execution_count": 6,
   "metadata": {},
   "outputs": [
    {
     "name": "stdout",
     "output_type": "stream",
     "text": [
      "        HighBP  HighChol  CholCheck   BMI  Smoker  Stroke  \\\n",
      "37649      0.0       1.0        1.0  27.0     0.0     0.0   \n",
      "85527      0.0       0.0        1.0  27.0     1.0     0.0   \n",
      "189766     1.0       0.0        1.0  34.0     0.0     0.0   \n",
      "77560      1.0       0.0        1.0  39.0     0.0     0.0   \n",
      "77669      1.0       1.0        1.0  29.0     0.0     0.0   \n",
      "...        ...       ...        ...   ...     ...     ...   \n",
      "93647      0.0       0.0        1.0  33.0     1.0     0.0   \n",
      "195977     1.0       0.0        1.0  28.0     0.0     0.0   \n",
      "140958     0.0       0.0        1.0  23.0     1.0     0.0   \n",
      "19157      1.0       1.0        1.0  31.0     0.0     0.0   \n",
      "154301     1.0       0.0        1.0  26.0     1.0     0.0   \n",
      "\n",
      "        HeartDiseaseorAttack  PhysActivity  Fruits  Veggies  ...  \\\n",
      "37649                    0.0           1.0     0.0      1.0  ...   \n",
      "85527                    0.0           1.0     0.0      1.0  ...   \n",
      "189766                   0.0           1.0     1.0      1.0  ...   \n",
      "77560                    1.0           1.0     1.0      0.0  ...   \n",
      "77669                    0.0           1.0     1.0      1.0  ...   \n",
      "...                      ...           ...     ...      ...  ...   \n",
      "93647                    0.0           1.0     1.0      1.0  ...   \n",
      "195977                   0.0           1.0     1.0      1.0  ...   \n",
      "140958                   0.0           1.0     1.0      1.0  ...   \n",
      "19157                    0.0           1.0     1.0      1.0  ...   \n",
      "154301                   0.0           1.0     1.0      1.0  ...   \n",
      "\n",
      "        AnyHealthcare  NoDocbcCost  GenHlth  MentHlth  PhysHlth  DiffWalk  \\\n",
      "37649             1.0          0.0      2.0       0.0       0.0       0.0   \n",
      "85527             0.0          0.0      2.0       3.0       0.0       0.0   \n",
      "189766            1.0          0.0      2.0       0.0       0.0       0.0   \n",
      "77560             1.0          0.0      4.0       0.0       0.0       0.0   \n",
      "77669             1.0          0.0      3.0       0.0       0.0       0.0   \n",
      "...               ...          ...      ...       ...       ...       ...   \n",
      "93647             1.0          0.0      2.0       0.0       0.0       0.0   \n",
      "195977            1.0          0.0      2.0       0.0       0.0       1.0   \n",
      "140958            1.0          0.0      2.0       0.0       0.0       0.0   \n",
      "19157             1.0          0.0      4.0      30.0      10.0       0.0   \n",
      "154301            1.0          0.0      1.0       1.0       0.0       0.0   \n",
      "\n",
      "        Sex   Age  Education  Income  \n",
      "37649   1.0   9.0        6.0     7.0  \n",
      "85527   0.0   4.0        6.0     2.0  \n",
      "189766  0.0   7.0        4.0     8.0  \n",
      "77560   1.0   7.0        5.0     6.0  \n",
      "77669   0.0   9.0        6.0     7.0  \n",
      "...     ...   ...        ...     ...  \n",
      "93647   0.0   4.0        6.0     7.0  \n",
      "195977  0.0  12.0        6.0     5.0  \n",
      "140958  0.0   6.0        4.0     8.0  \n",
      "19157   0.0   6.0        4.0     7.0  \n",
      "154301  1.0  11.0        6.0     8.0  \n",
      "\n",
      "[63420 rows x 21 columns]\n"
     ]
    }
   ],
   "source": [
    "print(X_test)"
   ]
  },
  {
   "cell_type": "code",
   "execution_count": 7,
   "metadata": {},
   "outputs": [],
   "source": [
    "from sklearn.tree import DecisionTreeClassifier\n",
    "from sklearn.model_selection import RandomizedSearchCV\n",
    "from sklearn.metrics import mean_squared_error"
   ]
  },
  {
   "cell_type": "code",
   "execution_count": 8,
   "metadata": {},
   "outputs": [],
   "source": [
    "def model_performance_metrics(model, data, datalabel):\n",
    "    from sklearn.metrics import confusion_matrix\n",
    "    from sklearn.metrics import classification_report\n",
    "    from sklearn.metrics import balanced_accuracy_score\n",
    "    from sklearn.metrics import roc_auc_score    \n",
    "    # Expand the model data\n",
    "    X, y, y_pred = data\n",
    "\n",
    "    # -------------------------------------- Model Performance\n",
    "    print(f'------------------------------------------------------------------------')\n",
    "    print(f'---------- {datalabel}ing Data Performance\\n------------------------------------------------------------------------')\n",
    "    # -----  Create a confusion matrix\n",
    "    conf_mat = confusion_matrix(y, y_pred)\n",
    "    print(f\"Confusion Matrix\\n{conf_mat}\")\n",
    "#        print(f\"Confusion Matrix\\n{confusion_matrix(y, y_pred, labels = [1,0])}\")\n",
    "    \n",
    "    # -----  Score\n",
    "    score_model = model.score(X, y)\n",
    "    print(f'\\n-----------------------\\n{datalabel} score: {score_model}')\n",
    "\n",
    "    # -----  Balanced Accuracy\n",
    "    score_ba = balanced_accuracy_score(y, y_pred)\n",
    "    print(f\"Balanced Accuracy Score: {score_ba}\")\n",
    "\n",
    "    # -----  ROC AUC Score\n",
    "    if len(y.value_counts())>2:\n",
    "        score_roc_auc = roc_auc_score(y, model.predict_proba(X), multi_class='ovr')\n",
    "    else:\n",
    "        score_roc_auc = roc_auc_score(y, model.predict_proba(X)[:, 1])\n",
    "\n",
    "    print(f\"ROC AUC Score: {score_roc_auc}\")\n",
    "\n",
    "    # -----  Create a classification report\n",
    "    print(f\"\\n-----------------------\\nClassification Report\\n{classification_report(y, y_pred)}\")\n",
    "\n",
    "    # ----- metrics caluculated from the Confusion Matrix\n",
    "    # Unravel the confusion matrix\n",
    "    tn, fp, fn, tp = conf_mat.ravel()\n",
    "\n",
    "    print(f\"------------------------------\")\n",
    "    print(f\"--- Classification values\")\n",
    "    print(f\"------------------------------\")\n",
    "    # Computer acuracy\n",
    "    accuracy = (tp + tn) / (tp + tn + fp + fn)\n",
    "    print(\"Accuracy:\", accuracy)\n",
    "\n",
    "    precision = tp / (tp + fp)\n",
    "    print(\"Precision:\", precision)\n",
    "\n",
    "    recall = tp / (tp + fn)\n",
    "    print(\"Recall:\", recall)\n",
    "\n",
    "    f1 = 2 * (precision * recall) / (precision + recall)\n",
    "    print(\"F1-score:\", f1)\n",
    "\n",
    "    specificity = tn / (tn + fp)\n",
    "    print(\"Specificity:\", specificity)\n",
    "\n",
    "    fpr = fp / (fp + tn)\n",
    "    print(\"False Positive Rate:\", fpr)\n",
    "\n",
    "    mcc = (tp * tn - fp * fn) / (((tp + fp) * (tp + fn) * (tn + fp) * (tn + fn)) ** 0.5)\n",
    "    print(\"Matthews Correlation Coefficient:\", mcc)\n",
    "\n",
    "    return {'model': type(model).__name__, \n",
    "            'slice': datalabel,\n",
    "            'score':score_model, \n",
    "            'balanced_accuracy': score_ba, \n",
    "            'roc_auc_score':score_roc_auc,\n",
    "            'Accuracy': accuracy,\n",
    "            'Precision': precision,\n",
    "            'Recall': recall,\n",
    "            'F1-score': f1,\n",
    "            'Specificity': specificity,\n",
    "            'False Positive Rate': fpr,\n",
    "            'Matthews Correlation Coefficient': mcc\n",
    "            }"
   ]
  },
  {
   "cell_type": "code",
   "execution_count": 9,
   "metadata": {},
   "outputs": [
    {
     "data": {
      "text/plain": [
       "pandas.core.frame.DataFrame"
      ]
     },
     "execution_count": 9,
     "metadata": {},
     "output_type": "execute_result"
    }
   ],
   "source": [
    "type(X_train)"
   ]
  },
  {
   "cell_type": "code",
   "execution_count": 10,
   "metadata": {},
   "outputs": [
    {
     "data": {
      "text/plain": [
       "pandas.core.series.Series"
      ]
     },
     "execution_count": 10,
     "metadata": {},
     "output_type": "execute_result"
    }
   ],
   "source": [
    "type(y_train)"
   ]
  },
  {
   "cell_type": "code",
   "execution_count": 11,
   "metadata": {},
   "outputs": [],
   "source": [
    "# Read final cleaned dataset from parquet file\n",
    "df = pd.read_parquet(clean_file, engine=\"fastparquet\")\n",
    "target = 'diabetes'\n",
    "X = df.copy().drop(columns=[target])\n",
    "y = df[target]\n",
    "\n",
    "from sklearn.model_selection import train_test_split\n",
    "data = sklearn.model_selection.train_test_split(X, y)\n",
    "X_train, X_test, y_train, y_test = data"
   ]
  },
  {
   "cell_type": "code",
   "execution_count": 15,
   "metadata": {},
   "outputs": [],
   "source": [
    "X_train, X_test, y_train, y_test = data_prepared\n",
    "\n",
    "data = data_prepared.copy()\n",
    "X_train, X_test, y_train, y_test = data"
   ]
  },
  {
   "cell_type": "code",
   "execution_count": 16,
   "metadata": {},
   "outputs": [
    {
     "ename": "ValueError",
     "evalue": "cannot set WRITEABLE flag to True of this array",
     "output_type": "error",
     "traceback": [
      "\u001b[0;31m---------------------------------------------------------------------------\u001b[0m",
      "\u001b[0;31mValueError\u001b[0m                                Traceback (most recent call last)",
      "Cell \u001b[0;32mIn[16], line 3\u001b[0m\n\u001b[1;32m      1\u001b[0m model \u001b[38;5;241m=\u001b[39m DecisionTreeClassifier()\n\u001b[1;32m      2\u001b[0m \u001b[38;5;66;03m# Train the model\u001b[39;00m\n\u001b[0;32m----> 3\u001b[0m model \u001b[38;5;241m=\u001b[39m \u001b[43mmodel\u001b[49m\u001b[38;5;241;43m.\u001b[39;49m\u001b[43mfit\u001b[49m\u001b[43m(\u001b[49m\u001b[43mX_train\u001b[49m\u001b[43m,\u001b[49m\u001b[43m \u001b[49m\u001b[43my_train\u001b[49m\u001b[43m)\u001b[49m\n\u001b[1;32m      5\u001b[0m y_train_pred \u001b[38;5;241m=\u001b[39m model\u001b[38;5;241m.\u001b[39mpredict(X_train)\n\u001b[1;32m      6\u001b[0m y_test_pred \u001b[38;5;241m=\u001b[39m model\u001b[38;5;241m.\u001b[39mpredict(X_test)\n",
      "File \u001b[0;32m~/anaconda3/envs/dev/lib/python3.12/site-packages/sklearn/base.py:1473\u001b[0m, in \u001b[0;36m_fit_context.<locals>.decorator.<locals>.wrapper\u001b[0;34m(estimator, *args, **kwargs)\u001b[0m\n\u001b[1;32m   1466\u001b[0m     estimator\u001b[38;5;241m.\u001b[39m_validate_params()\n\u001b[1;32m   1468\u001b[0m \u001b[38;5;28;01mwith\u001b[39;00m config_context(\n\u001b[1;32m   1469\u001b[0m     skip_parameter_validation\u001b[38;5;241m=\u001b[39m(\n\u001b[1;32m   1470\u001b[0m         prefer_skip_nested_validation \u001b[38;5;129;01mor\u001b[39;00m global_skip_validation\n\u001b[1;32m   1471\u001b[0m     )\n\u001b[1;32m   1472\u001b[0m ):\n\u001b[0;32m-> 1473\u001b[0m     \u001b[38;5;28;01mreturn\u001b[39;00m \u001b[43mfit_method\u001b[49m\u001b[43m(\u001b[49m\u001b[43mestimator\u001b[49m\u001b[43m,\u001b[49m\u001b[43m \u001b[49m\u001b[38;5;241;43m*\u001b[39;49m\u001b[43margs\u001b[49m\u001b[43m,\u001b[49m\u001b[43m \u001b[49m\u001b[38;5;241;43m*\u001b[39;49m\u001b[38;5;241;43m*\u001b[39;49m\u001b[43mkwargs\u001b[49m\u001b[43m)\u001b[49m\n",
      "File \u001b[0;32m~/anaconda3/envs/dev/lib/python3.12/site-packages/sklearn/tree/_classes.py:1009\u001b[0m, in \u001b[0;36mDecisionTreeClassifier.fit\u001b[0;34m(self, X, y, sample_weight, check_input)\u001b[0m\n\u001b[1;32m    978\u001b[0m \u001b[38;5;129m@_fit_context\u001b[39m(prefer_skip_nested_validation\u001b[38;5;241m=\u001b[39m\u001b[38;5;28;01mTrue\u001b[39;00m)\n\u001b[1;32m    979\u001b[0m \u001b[38;5;28;01mdef\u001b[39;00m \u001b[38;5;21mfit\u001b[39m(\u001b[38;5;28mself\u001b[39m, X, y, sample_weight\u001b[38;5;241m=\u001b[39m\u001b[38;5;28;01mNone\u001b[39;00m, check_input\u001b[38;5;241m=\u001b[39m\u001b[38;5;28;01mTrue\u001b[39;00m):\n\u001b[1;32m    980\u001b[0m \u001b[38;5;250m    \u001b[39m\u001b[38;5;124;03m\"\"\"Build a decision tree classifier from the training set (X, y).\u001b[39;00m\n\u001b[1;32m    981\u001b[0m \n\u001b[1;32m    982\u001b[0m \u001b[38;5;124;03m    Parameters\u001b[39;00m\n\u001b[0;32m   (...)\u001b[0m\n\u001b[1;32m   1006\u001b[0m \u001b[38;5;124;03m        Fitted estimator.\u001b[39;00m\n\u001b[1;32m   1007\u001b[0m \u001b[38;5;124;03m    \"\"\"\u001b[39;00m\n\u001b[0;32m-> 1009\u001b[0m     \u001b[38;5;28;43msuper\u001b[39;49m\u001b[43m(\u001b[49m\u001b[43m)\u001b[49m\u001b[38;5;241;43m.\u001b[39;49m\u001b[43m_fit\u001b[49m\u001b[43m(\u001b[49m\n\u001b[1;32m   1010\u001b[0m \u001b[43m        \u001b[49m\u001b[43mX\u001b[49m\u001b[43m,\u001b[49m\n\u001b[1;32m   1011\u001b[0m \u001b[43m        \u001b[49m\u001b[43my\u001b[49m\u001b[43m,\u001b[49m\n\u001b[1;32m   1012\u001b[0m \u001b[43m        \u001b[49m\u001b[43msample_weight\u001b[49m\u001b[38;5;241;43m=\u001b[39;49m\u001b[43msample_weight\u001b[49m\u001b[43m,\u001b[49m\n\u001b[1;32m   1013\u001b[0m \u001b[43m        \u001b[49m\u001b[43mcheck_input\u001b[49m\u001b[38;5;241;43m=\u001b[39;49m\u001b[43mcheck_input\u001b[49m\u001b[43m,\u001b[49m\n\u001b[1;32m   1014\u001b[0m \u001b[43m    \u001b[49m\u001b[43m)\u001b[49m\n\u001b[1;32m   1015\u001b[0m     \u001b[38;5;28;01mreturn\u001b[39;00m \u001b[38;5;28mself\u001b[39m\n",
      "File \u001b[0;32m~/anaconda3/envs/dev/lib/python3.12/site-packages/sklearn/tree/_classes.py:252\u001b[0m, in \u001b[0;36mBaseDecisionTree._fit\u001b[0;34m(self, X, y, sample_weight, check_input, missing_values_in_feature_mask)\u001b[0m\n\u001b[1;32m    248\u001b[0m check_X_params \u001b[38;5;241m=\u001b[39m \u001b[38;5;28mdict\u001b[39m(\n\u001b[1;32m    249\u001b[0m     dtype\u001b[38;5;241m=\u001b[39mDTYPE, accept_sparse\u001b[38;5;241m=\u001b[39m\u001b[38;5;124m\"\u001b[39m\u001b[38;5;124mcsc\u001b[39m\u001b[38;5;124m\"\u001b[39m, force_all_finite\u001b[38;5;241m=\u001b[39m\u001b[38;5;28;01mFalse\u001b[39;00m\n\u001b[1;32m    250\u001b[0m )\n\u001b[1;32m    251\u001b[0m check_y_params \u001b[38;5;241m=\u001b[39m \u001b[38;5;28mdict\u001b[39m(ensure_2d\u001b[38;5;241m=\u001b[39m\u001b[38;5;28;01mFalse\u001b[39;00m, dtype\u001b[38;5;241m=\u001b[39m\u001b[38;5;28;01mNone\u001b[39;00m)\n\u001b[0;32m--> 252\u001b[0m X, y \u001b[38;5;241m=\u001b[39m \u001b[38;5;28;43mself\u001b[39;49m\u001b[38;5;241;43m.\u001b[39;49m\u001b[43m_validate_data\u001b[49m\u001b[43m(\u001b[49m\n\u001b[1;32m    253\u001b[0m \u001b[43m    \u001b[49m\u001b[43mX\u001b[49m\u001b[43m,\u001b[49m\u001b[43m \u001b[49m\u001b[43my\u001b[49m\u001b[43m,\u001b[49m\u001b[43m \u001b[49m\u001b[43mvalidate_separately\u001b[49m\u001b[38;5;241;43m=\u001b[39;49m\u001b[43m(\u001b[49m\u001b[43mcheck_X_params\u001b[49m\u001b[43m,\u001b[49m\u001b[43m \u001b[49m\u001b[43mcheck_y_params\u001b[49m\u001b[43m)\u001b[49m\n\u001b[1;32m    254\u001b[0m \u001b[43m\u001b[49m\u001b[43m)\u001b[49m\n\u001b[1;32m    256\u001b[0m missing_values_in_feature_mask \u001b[38;5;241m=\u001b[39m (\n\u001b[1;32m    257\u001b[0m     \u001b[38;5;28mself\u001b[39m\u001b[38;5;241m.\u001b[39m_compute_missing_values_in_feature_mask(X)\n\u001b[1;32m    258\u001b[0m )\n\u001b[1;32m    259\u001b[0m \u001b[38;5;28;01mif\u001b[39;00m issparse(X):\n",
      "File \u001b[0;32m~/anaconda3/envs/dev/lib/python3.12/site-packages/sklearn/base.py:648\u001b[0m, in \u001b[0;36mBaseEstimator._validate_data\u001b[0;34m(self, X, y, reset, validate_separately, cast_to_ndarray, **check_params)\u001b[0m\n\u001b[1;32m    646\u001b[0m     \u001b[38;5;28;01mif\u001b[39;00m \u001b[38;5;124m\"\u001b[39m\u001b[38;5;124mestimator\u001b[39m\u001b[38;5;124m\"\u001b[39m \u001b[38;5;129;01mnot\u001b[39;00m \u001b[38;5;129;01min\u001b[39;00m check_y_params:\n\u001b[1;32m    647\u001b[0m         check_y_params \u001b[38;5;241m=\u001b[39m {\u001b[38;5;241m*\u001b[39m\u001b[38;5;241m*\u001b[39mdefault_check_params, \u001b[38;5;241m*\u001b[39m\u001b[38;5;241m*\u001b[39mcheck_y_params}\n\u001b[0;32m--> 648\u001b[0m     y \u001b[38;5;241m=\u001b[39m \u001b[43mcheck_array\u001b[49m\u001b[43m(\u001b[49m\u001b[43my\u001b[49m\u001b[43m,\u001b[49m\u001b[43m \u001b[49m\u001b[43minput_name\u001b[49m\u001b[38;5;241;43m=\u001b[39;49m\u001b[38;5;124;43m\"\u001b[39;49m\u001b[38;5;124;43my\u001b[39;49m\u001b[38;5;124;43m\"\u001b[39;49m\u001b[43m,\u001b[49m\u001b[43m \u001b[49m\u001b[38;5;241;43m*\u001b[39;49m\u001b[38;5;241;43m*\u001b[39;49m\u001b[43mcheck_y_params\u001b[49m\u001b[43m)\u001b[49m\n\u001b[1;32m    649\u001b[0m \u001b[38;5;28;01melse\u001b[39;00m:\n\u001b[1;32m    650\u001b[0m     X, y \u001b[38;5;241m=\u001b[39m check_X_y(X, y, \u001b[38;5;241m*\u001b[39m\u001b[38;5;241m*\u001b[39mcheck_params)\n",
      "File \u001b[0;32m~/anaconda3/envs/dev/lib/python3.12/site-packages/sklearn/utils/validation.py:1107\u001b[0m, in \u001b[0;36mcheck_array\u001b[0;34m(array, accept_sparse, accept_large_sparse, dtype, order, copy, force_all_finite, ensure_2d, allow_nd, ensure_min_samples, ensure_min_features, estimator, input_name)\u001b[0m\n\u001b[1;32m   1097\u001b[0m \u001b[38;5;66;03m# With an input pandas dataframe or series, we know we can always make the\u001b[39;00m\n\u001b[1;32m   1098\u001b[0m \u001b[38;5;66;03m# resulting array writeable:\u001b[39;00m\n\u001b[1;32m   1099\u001b[0m \u001b[38;5;66;03m# - if copy=True, we have already made a copy so it is fine to make the\u001b[39;00m\n\u001b[0;32m   (...)\u001b[0m\n\u001b[1;32m   1104\u001b[0m \u001b[38;5;66;03m# for more details about pandas copy-on-write mechanism, that is enabled by\u001b[39;00m\n\u001b[1;32m   1105\u001b[0m \u001b[38;5;66;03m# default in pandas 3.0.0.dev.\u001b[39;00m\n\u001b[1;32m   1106\u001b[0m \u001b[38;5;28;01mif\u001b[39;00m _is_pandas_df_or_series(array_orig) \u001b[38;5;129;01mand\u001b[39;00m \u001b[38;5;28mhasattr\u001b[39m(array, \u001b[38;5;124m\"\u001b[39m\u001b[38;5;124mflags\u001b[39m\u001b[38;5;124m\"\u001b[39m):\n\u001b[0;32m-> 1107\u001b[0m     \u001b[43marray\u001b[49m\u001b[38;5;241;43m.\u001b[39;49m\u001b[43mflags\u001b[49m\u001b[38;5;241;43m.\u001b[39;49m\u001b[43mwriteable\u001b[49m \u001b[38;5;241m=\u001b[39m \u001b[38;5;28;01mTrue\u001b[39;00m\n\u001b[1;32m   1109\u001b[0m \u001b[38;5;28;01mreturn\u001b[39;00m array\n",
      "\u001b[0;31mValueError\u001b[0m: cannot set WRITEABLE flag to True of this array"
     ]
    }
   ],
   "source": [
    "model = DecisionTreeClassifier()\n",
    "# Train the model\n",
    "model = model.fit(X_train, y_train)\n",
    "\n",
    "y_train_pred = model.predict(X_train)\n",
    "y_test_pred = model.predict(X_test)\n",
    "\n",
    "test_data = [ X_test, y_test, y_test_pred]\n",
    "\n",
    "mymetrics = model_performance_metrics(model, test_data, \"Original Decision Tree Classifier\" )\n",
    "\n",
    "# Evaluate the classifier\n",
    "mse_orig = mean_squared_error(y_test, y_test_pred)\n",
    "\n",
    "print(f\"Mean Squared Error of Decision Tree Classifier: {mse_orig}\")\n",
    "print(mymetrics)"
   ]
  }
 ],
 "metadata": {
  "kernelspec": {
   "display_name": "dev",
   "language": "python",
   "name": "python3"
  },
  "language_info": {
   "codemirror_mode": {
    "name": "ipython",
    "version": 3
   },
   "file_extension": ".py",
   "mimetype": "text/x-python",
   "name": "python",
   "nbconvert_exporter": "python",
   "pygments_lexer": "ipython3",
   "version": "3.12.2"
  }
 },
 "nbformat": 4,
 "nbformat_minor": 2
}
