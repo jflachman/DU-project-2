{
 "cells": [
  {
   "cell_type": "markdown",
   "metadata": {},
   "source": [
    "## Run All Notebookes\n",
    "\n",
    "This Notebook reads a list of notbooks from 2_data_analysis_0_notebooks.txt and runs each sequentially."
   ]
  },
  {
   "cell_type": "code",
   "execution_count": 3,
   "metadata": {},
   "outputs": [],
   "source": [
    "import nbconvert"
   ]
  },
  {
   "cell_type": "code",
   "execution_count": 4,
   "metadata": {},
   "outputs": [
    {
     "name": "stdout",
     "output_type": "stream",
     "text": [
      "[NbConvertApp] Converting notebook 2_data_analysis_1_base_data.ipynb to notebook\n",
      "[NbConvertApp] Writing 99562 bytes to 2_data_analysis_1_base_data.ipynb\n",
      "[NbConvertApp] Converting notebook 2_data_analysis_2.0_standard_scaled_data.ipynb to notebook\n",
      "[NbConvertApp] Writing 29958 bytes to 2_data_analysis_2.0_standard_scaled_data.ipynb\n",
      "[NbConvertApp] Converting notebook 2_data_analysis_2.1_minmax_scaled_data.ipynb to notebook\n",
      "[NbConvertApp] Writing 29952 bytes to 2_data_analysis_2.1_minmax_scaled_data.ipynb\n",
      "[NbConvertApp] Converting notebook 2_data_analysis_3_ss_binary_data.ipynb to notebook\n",
      "[NbConvertApp] Writing 29791 bytes to 2_data_analysis_3_ss_binary_data.ipynb\n",
      "[NbConvertApp] Converting notebook 2_data_analysis_4_ss_b_random_undersample.ipynb to notebook\n",
      "[NbConvertApp] Writing 29571 bytes to 2_data_analysis_4_ss_b_random_undersample.ipynb\n",
      "[NbConvertApp] Converting notebook 2_data_analysis_5_ss_b_random_oversample.ipynb to notebook\n",
      "[NbConvertApp] Writing 29279 bytes to 2_data_analysis_5_ss_b_random_oversample.ipynb\n",
      "[NbConvertApp] Converting notebook 2_data_analysis_6_sb_cluster.ipynb to notebook\n",
      "[NbConvertApp] Writing 29172 bytes to 2_data_analysis_6_sb_cluster.ipynb\n",
      "[NbConvertApp] Converting notebook 2_data_analysis_7_sb_smote.ipynb to notebook\n",
      "[NbConvertApp] Writing 29918 bytes to 2_data_analysis_7_sb_smote.ipynb\n",
      "[NbConvertApp] Converting notebook 2_data_analysis_8_sb_smoteen.ipynb to notebook\n"
     ]
    }
   ],
   "source": [
    "!jupyter nbconvert --to notebook --inplace --execute --ExecutePreprocessor.timeout=None --allow-errors $(< 2_data_analysis_0_notebooks.txt)"
   ]
  },
  {
   "cell_type": "code",
   "execution_count": null,
   "metadata": {},
   "outputs": [],
   "source": []
  },
  {
   "cell_type": "code",
   "execution_count": null,
   "metadata": {},
   "outputs": [],
   "source": []
  }
 ],
 "metadata": {
  "kernelspec": {
   "display_name": "dev",
   "language": "python",
   "name": "python3"
  },
  "language_info": {
   "codemirror_mode": {
    "name": "ipython",
    "version": 3
   },
   "file_extension": ".py",
   "mimetype": "text/x-python",
   "name": "python",
   "nbconvert_exporter": "python",
   "pygments_lexer": "ipython3",
   "version": "3.12.2"
  }
 },
 "nbformat": 4,
 "nbformat_minor": 2
}
