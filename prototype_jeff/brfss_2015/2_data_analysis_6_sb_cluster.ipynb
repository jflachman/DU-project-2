{
 "cells": [
  {
   "cell_type": "markdown",
   "metadata": {},
   "source": [
    "---\n",
    "\n",
    "## Data Analysis\n",
    "\n",
    "- This file differs from [2_data_analysis_1_base_data.ipynb](2_data_analysis_1_base_data.ipynb) in that it:\n",
    "    - scales the base cleaned data created in [1_data_cleaning.ipynb](1_data_cleaning.ipynb).\n",
    "\n",
    "Source dataset: 247076 rows × 37 columns\n",
    "Processed and analyzed dataset: 247076 rows × 37 columns\n",
    "\n",
    "---"
   ]
  },
  {
   "cell_type": "code",
   "execution_count": 1,
   "metadata": {
    "execution": {
     "iopub.execute_input": "2024-06-10T06:32:53.654600Z",
     "iopub.status.busy": "2024-06-10T06:32:53.654166Z",
     "iopub.status.idle": "2024-06-10T06:32:54.742096Z",
     "shell.execute_reply": "2024-06-10T06:32:54.741109Z"
    }
   },
   "outputs": [],
   "source": [
    "# package imports go here\n",
    "import pandas as pd\n",
    "import numpy as np\n",
    "import fastparquet as fp\n",
    "import os\n",
    "import sys\n",
    "import pickle\n",
    "import matplotlib.pyplot as plt\n",
    "import importlib\n",
    "import config\n",
    "\n",
    "sys.path.insert(1, '../pkgs')\n",
    "import ml_analysis as mlanlys\n",
    "import ml_clean_feature as mlclean"
   ]
  },
  {
   "cell_type": "markdown",
   "metadata": {},
   "source": [
    "---\n",
    "\n",
    "## 1. Read the cleaned dataset from file\n",
    "\n",
    "---"
   ]
  },
  {
   "cell_type": "code",
   "execution_count": 2,
   "metadata": {
    "execution": {
     "iopub.execute_input": "2024-06-10T06:32:54.744924Z",
     "iopub.status.busy": "2024-06-10T06:32:54.744585Z",
     "iopub.status.idle": "2024-06-10T06:32:54.758357Z",
     "shell.execute_reply": "2024-06-10T06:32:54.757681Z"
    }
   },
   "outputs": [
    {
     "name": "stdout",
     "output_type": "stream",
     "text": [
      "Year:                        2021\n",
      "Clean File:                  data/brfss_2021_clean.parquet.gzip\n",
      "Performance Report:          reports/performance_report.pkl\n",
      "Detailed Performance Report: reports/6_clustercentroids_dataset_detailed_performance_report.txt\n"
     ]
    }
   ],
   "source": [
    "# reload any changes to Config Settings\n",
    "importlib.reload(config)\n",
    "\n",
    "# BE SURE TO UPDATE THE LABEL FOR THIS ANALYSIS\n",
    "# #############################\n",
    "dataset_label = '6 ClusterCentroids Dataset'\n",
    "# #############################\n",
    "\n",
    "year                        = config.year\n",
    "\n",
    "clean_file                  = config.clean_file\n",
    "performance_report          = config.performance_report\n",
    "\n",
    "report_path                 = config.report_path\n",
    "file_label                  = dataset_label.lower().replace(' ','_')\n",
    "detailed_performance_report = report_path + file_label + '_detailed_performance_report.txt'\n",
    "\n",
    "print(f\"Year:                        {year}\")\n",
    "print(f\"Clean File:                  {clean_file}\")\n",
    "print(f\"Performance Report:          {performance_report}\")\n",
    "print(f\"Detailed Performance Report: {detailed_performance_report}\")"
   ]
  },
  {
   "cell_type": "code",
   "execution_count": 3,
   "metadata": {
    "execution": {
     "iopub.execute_input": "2024-06-10T06:32:54.760990Z",
     "iopub.status.busy": "2024-06-10T06:32:54.760730Z",
     "iopub.status.idle": "2024-06-10T06:32:54.983246Z",
     "shell.execute_reply": "2024-06-10T06:32:54.982360Z"
    }
   },
   "outputs": [],
   "source": [
    "# Read final cleaned dataset from parquet file\n",
    "df = pd.read_parquet(clean_file, engine=\"fastparquet\")"
   ]
  },
  {
   "cell_type": "code",
   "execution_count": 4,
   "metadata": {
    "execution": {
     "iopub.execute_input": "2024-06-10T06:32:54.985921Z",
     "iopub.status.busy": "2024-06-10T06:32:54.985718Z",
     "iopub.status.idle": "2024-06-10T06:32:54.988771Z",
     "shell.execute_reply": "2024-06-10T06:32:54.988153Z"
    }
   },
   "outputs": [],
   "source": [
    "diabetes_labels = df.columns"
   ]
  },
  {
   "cell_type": "code",
   "execution_count": 5,
   "metadata": {
    "execution": {
     "iopub.execute_input": "2024-06-10T06:32:54.991126Z",
     "iopub.status.busy": "2024-06-10T06:32:54.990812Z",
     "iopub.status.idle": "2024-06-10T06:32:54.996776Z",
     "shell.execute_reply": "2024-06-10T06:32:54.995985Z"
    }
   },
   "outputs": [
    {
     "data": {
      "text/plain": [
       "(247076, 37)"
      ]
     },
     "execution_count": 5,
     "metadata": {},
     "output_type": "execute_result"
    }
   ],
   "source": [
    "df.shape"
   ]
  },
  {
   "cell_type": "markdown",
   "metadata": {},
   "source": [
    "---\n",
    "\n",
    "## 2. Prepare the dataset for analysis\n",
    "\n",
    "- Split the dataset into features and labels.\n",
    "- Split the dataset into training and testing sets.\n",
    "- Scale the dataset\n",
    "\n",
    "---"
   ]
  },
  {
   "cell_type": "code",
   "execution_count": 6,
   "metadata": {
    "execution": {
     "iopub.execute_input": "2024-06-10T06:32:54.999385Z",
     "iopub.status.busy": "2024-06-10T06:32:54.998984Z",
     "iopub.status.idle": "2024-06-10T06:32:55.028069Z",
     "shell.execute_reply": "2024-06-10T06:32:55.027146Z"
    }
   },
   "outputs": [],
   "source": [
    "from sklearn.datasets import make_regression, make_swiss_roll\n",
    "from sklearn.model_selection import train_test_split\n",
    "from sklearn.preprocessing import StandardScaler"
   ]
  },
  {
   "cell_type": "code",
   "execution_count": 7,
   "metadata": {
    "execution": {
     "iopub.execute_input": "2024-06-10T06:32:55.030940Z",
     "iopub.status.busy": "2024-06-10T06:32:55.030621Z",
     "iopub.status.idle": "2024-06-10T06:54:48.058300Z",
     "shell.execute_reply": "2024-06-10T06:54:48.050257Z"
    }
   },
   "outputs": [
    {
     "name": "stdout",
     "output_type": "stream",
     "text": [
      "Base Dataset Modifications in Process\n",
      "-------------------------------------\n",
      "**Operation:target_column  diabetes\n",
      "**Operation:convert_to_binary  True\n",
      "  -- Converting dataset to binary (0,1) from (0,1,2)\n",
      "\n",
      "\n",
      "****Cleaning Feature: diabetes\n",
      "  Initial Unique features in [diabetes]:  [0. 1. 2.]\n",
      "  values_to_drop: ********* NO Parameters were specified *********\n",
      "  translate: {1: 0, 2: 1}\n",
      "  scale: ********* NO Parameters were specified *********\n",
      "  FINAL Unique features in [diabetes]:  [0. 1.]\n",
      "**Operation:scaler  standard\n",
      "  -- Performing train_test_split on dataframe with target:'diabetes'\n",
      "     -- Run automatically before scalar or random_sample operations\n",
      "  -- Performing StandardScaler on X_train: Updates X_train, y_test\n",
      "**Operation:random_sample  cluster\n",
      "  -- Performing ClusterCentroids on X_train, y_train: Updates X_train, y_train\n",
      "\n",
      "Dataframe, Train Test Summary\n",
      "-----------------------------\n",
      "Dataframe: (247076, 37)  Data:4, X_train:185307, y_train:185307, X_test:61769, y_test:61769\n",
      "ValueCounts:   y_train: len:2   0: 160390   1: 24917\n",
      "ValueCounts:   y_test : len:2   0:  53653   1:  8116\n"
     ]
    }
   ],
   "source": [
    "# reload any changes to mlanlys\n",
    "importlib.reload(mlanlys)\n",
    "\n",
    "target = 'diabetes'\n",
    "# Dictionary defining modification to be made to the base dataset\n",
    "operation_dict = {  'target_column'     :  target,\n",
    "                    'convert_to_binary' :  True,\n",
    "                    'scaler'            : 'standard', # options: none, standard, minmax\n",
    "                    'random_sample'     : 'cluster'      # options: none, undersample, oversample\n",
    "                    }\n",
    "\n",
    "# This insures that df if not modified during the call to modify_base_dataset()\n",
    "df_modified = df.copy()\n",
    "\n",
    "# Modify the base dataset\n",
    "# data is returned where: X_train, X_test, y_train, y_test = data\n",
    "data = mlanlys.modify_base_dataset(df_modified, operation_dict)"
   ]
  },
  {
   "cell_type": "code",
   "execution_count": 8,
   "metadata": {
    "execution": {
     "iopub.execute_input": "2024-06-10T06:54:48.077289Z",
     "iopub.status.busy": "2024-06-10T06:54:48.076497Z",
     "iopub.status.idle": "2024-06-10T06:54:48.145586Z",
     "shell.execute_reply": "2024-06-10T06:54:48.137729Z"
    }
   },
   "outputs": [
    {
     "name": "stdout",
     "output_type": "stream",
     "text": [
      "Original Dataframe\n",
      "------------------\n",
      "df.shape: (247076, 37)\n",
      "df[diabetes].value_counts:  diabetes\n",
      "0.0    208389\n",
      "2.0     33033\n",
      "1.0      5654\n",
      "Name: count, dtype: int64\n",
      "\n",
      "Modified Dataframe\n",
      "------------------\n",
      "df_modified.shape: (247076, 37)\n",
      "df_modified[diabetes].value_counts:  diabetes\n",
      "0.0    214043\n",
      "1.0     33033\n",
      "Name: count, dtype: int64\n"
     ]
    }
   ],
   "source": [
    "# Print some statistics about the original df and the modified dataframe\n",
    "print(f\"Original Dataframe\")\n",
    "print(f\"------------------\")\n",
    "print(f\"df.shape: {df.shape}\")\n",
    "print(f\"df[{target}].value_counts:  {df[target].value_counts()}\")\n",
    "\n",
    "print(f\"\\nModified Dataframe\")\n",
    "print(f\"------------------\")\n",
    "print(f\"df_modified.shape: {df_modified.shape}\")\n",
    "print(f\"df_modified[{target}].value_counts:  {df_modified[target].value_counts()}\")"
   ]
  },
  {
   "cell_type": "code",
   "execution_count": 9,
   "metadata": {
    "execution": {
     "iopub.execute_input": "2024-06-10T06:54:48.170345Z",
     "iopub.status.busy": "2024-06-10T06:54:48.166706Z",
     "iopub.status.idle": "2024-06-10T06:54:48.206336Z",
     "shell.execute_reply": "2024-06-10T06:54:48.197825Z"
    }
   },
   "outputs": [
    {
     "name": "stdout",
     "output_type": "stream",
     "text": [
      "Dataframe: (247076, 37)  Data:4, X_train:49834, y_train:49834, X_test:61769, y_test:61769\n"
     ]
    },
    {
     "data": {
      "text/plain": [
       "diabetes\n",
       "0.0    24917\n",
       "1.0    24917\n",
       "Name: count, dtype: int64"
      ]
     },
     "execution_count": 9,
     "metadata": {},
     "output_type": "execute_result"
    }
   ],
   "source": [
    "X_train, X_test, y_train, y_test = data\n",
    "print(f\"Dataframe: {df_modified.shape}  Data:{len(data)}, X_train:{len(X_train)}, y_train:{len(y_train)}, X_test:{len(X_test)}, y_test:{len(y_test)}\")\n",
    "y_train.value_counts()"
   ]
  },
  {
   "cell_type": "markdown",
   "metadata": {},
   "source": [
    "---\n",
    "\n",
    "## 3. Run initial Tests and get k_value\n",
    "\n",
    "**From step 2:**  Data = [X_train_modified, X_test_modified, y_train_modified, y_test]\n",
    "\n",
    "---"
   ]
  },
  {
   "cell_type": "code",
   "execution_count": 10,
   "metadata": {
    "execution": {
     "iopub.execute_input": "2024-06-10T06:54:48.228128Z",
     "iopub.status.busy": "2024-06-10T06:54:48.222799Z",
     "iopub.status.idle": "2024-06-10T06:54:48.295910Z",
     "shell.execute_reply": "2024-06-10T06:54:48.291990Z"
    }
   },
   "outputs": [
    {
     "data": {
      "text/plain": [
       "<module 'ml_analysis' from '/mnt/c/ML/DU/repos/projects/project-2/DU-project-2-2015/brfss_2021/../pkgs/ml_analysis.py'>"
      ]
     },
     "execution_count": 10,
     "metadata": {},
     "output_type": "execute_result"
    }
   ],
   "source": [
    "# reload any changes to mlanlys\n",
    "importlib.reload(mlanlys)\n",
    "\n",
    "# Determine the k_value\n",
    "# mlanlys.knn_plot(data)"
   ]
  },
  {
   "cell_type": "markdown",
   "metadata": {},
   "source": [
    "**Note:** From the knn plot above, pick a k-value of 3."
   ]
  },
  {
   "cell_type": "markdown",
   "metadata": {},
   "source": [
    "---\n",
    "\n",
    "## 4. Run the Analysis\n",
    "\n",
    "---\n",
    "\n",
    "#### Model Run Times\n",
    "\n",
    "-  Base dataset (247076 rows × 37 columns):\n",
    "\n",
    "| Model | Run Time |\n",
    "| ----- | -------- |\n",
    "| test_model(SVC(kernel='linear'), data)                          | Aborted >35min (Data too large, consider for RandomUndersampling dataset) |\n",
    "| test_model(KNeighborsClassifier(n_neighbors=k_value), data)     | 247.13 seconds |\n",
    "| test_model(tree.DecisionTreeClassifier(), data)                 |   3.89 seconds |\n",
    "| test_model(RandomForestClassifier(), data)                      |  60.94 seconds |\n",
    "| test_model(ExtraTreesClassifier(random_state=1), data)          |  58.54 seconds |\n",
    "| test_model(GradientBoostingClassifier(random_state=1), data)    | 115.21 seconds |\n",
    "| test_model(AdaBoostClassifier(random_state=1), data)            |  11.91 seconds |\n",
    "| test_model(LogisticRegression(), data)                          |   4.90 seconds |\n",
    "| **Total** w/o SVC| 502.52 seconds / **8:23 minutes** |"
   ]
  },
  {
   "cell_type": "code",
   "execution_count": 11,
   "metadata": {
    "execution": {
     "iopub.execute_input": "2024-06-10T06:54:48.313280Z",
     "iopub.status.busy": "2024-06-10T06:54:48.311167Z",
     "iopub.status.idle": "2024-06-10T06:57:54.951741Z",
     "shell.execute_reply": "2024-06-10T06:57:54.945268Z"
    }
   },
   "outputs": [],
   "source": [
    "# reload any changes to nlanlys\n",
    "importlib.reload(mlanlys)\n",
    "\n",
    "k_value = 3\n",
    "\n",
    "#### COMMENT OUT ONE OF THE FOLLOWING SECTIONS\n",
    "\n",
    "## SECTION 1\n",
    "# Capture stdout & stderr into two strings: osc.stdout and osc.stderr that contain the output from the function\n",
    "# -- This allows the output to be printed here or to a file or both.\n",
    "\n",
    "with mlanlys.OutStreamCapture() as osc:\n",
    "    performance_summary = mlanlys.run_classification_models(data, k_value)\n",
    "#    performance_summary = mlanlys.run_classification_models_test(data, k_value)\n",
    "\n",
    "## <OR>\n",
    "## SECTION 2\n",
    "\n",
    "# performance_summary = mlanlys.run_classification_models(data, k_value)\n"
   ]
  },
  {
   "cell_type": "code",
   "execution_count": 12,
   "metadata": {
    "execution": {
     "iopub.execute_input": "2024-06-10T06:57:54.961825Z",
     "iopub.status.busy": "2024-06-10T06:57:54.961196Z",
     "iopub.status.idle": "2024-06-10T06:57:54.980022Z",
     "shell.execute_reply": "2024-06-10T06:57:54.971331Z"
    }
   },
   "outputs": [],
   "source": [
    "# UNCOMMENT if using SECTION 1 in the previous step\n",
    "# print(osc.stdout)\n",
    "\n",
    "# Add code to print osc.stdout to a file if desired."
   ]
  },
  {
   "cell_type": "markdown",
   "metadata": {},
   "source": [
    "---\n",
    "\n",
    "### 4.1 Archive Performance Summary\n",
    "\n",
    "- For use in Project-2 Performance Summary Report\n",
    "---"
   ]
  },
  {
   "cell_type": "code",
   "execution_count": 13,
   "metadata": {
    "execution": {
     "iopub.execute_input": "2024-06-10T06:57:54.993871Z",
     "iopub.status.busy": "2024-06-10T06:57:54.990748Z",
     "iopub.status.idle": "2024-06-10T06:57:55.088390Z",
     "shell.execute_reply": "2024-06-10T06:57:55.085280Z"
    }
   },
   "outputs": [
    {
     "name": "stdout",
     "output_type": "stream",
     "text": [
      "The file reports/performance_report.pkl exists.\n"
     ]
    }
   ],
   "source": [
    "# performance_summary is a dataframe of performance statistics\n",
    "\n",
    "analysis_perf_summary = { 'dataset_size': list(df.shape), 'report': performance_summary}\n",
    "\n",
    "# Performance_report is a file containing all the performance summary statistics\n",
    "if os.path.exists(performance_report):\n",
    "    print(f\"The file {performance_report} exists.\")\n",
    "    # Load Performance Report\n",
    "    with open(performance_report, 'rb') as file: perf_report = pickle.load(file)\n",
    "else:\n",
    "    print(f\"The file {performance_report} does not exist.\")\n",
    "    perf_report = {}\n",
    "    \n",
    "perf_report[dataset_label] = analysis_perf_summary\n",
    "\n",
    "# Save Performance Report\n",
    "with open(performance_report, 'wb') as file: pickle.dump(perf_report, file)"
   ]
  },
  {
   "cell_type": "markdown",
   "metadata": {},
   "source": [
    "### 4.2 Archive the Performance Detailed Statistics Report\n",
    "---"
   ]
  },
  {
   "cell_type": "code",
   "execution_count": 14,
   "metadata": {
    "execution": {
     "iopub.execute_input": "2024-06-10T06:57:55.103594Z",
     "iopub.status.busy": "2024-06-10T06:57:55.096817Z",
     "iopub.status.idle": "2024-06-10T06:57:55.157599Z",
     "shell.execute_reply": "2024-06-10T06:57:55.153354Z"
    }
   },
   "outputs": [],
   "source": [
    "# osc.stdout contains the details of the performance statistics\n",
    "\n",
    "with open(detailed_performance_report, \"w\") as file:\n",
    "    file.write(osc.stdout)"
   ]
  },
  {
   "cell_type": "markdown",
   "metadata": {},
   "source": [
    "---\n",
    "\n",
    "## 5. Performance Summary\n",
    "\n",
    "---"
   ]
  },
  {
   "cell_type": "code",
   "execution_count": 15,
   "metadata": {
    "execution": {
     "iopub.execute_input": "2024-06-10T06:57:55.164160Z",
     "iopub.status.busy": "2024-06-10T06:57:55.163707Z",
     "iopub.status.idle": "2024-06-10T06:57:55.237553Z",
     "shell.execute_reply": "2024-06-10T06:57:55.233584Z"
    }
   },
   "outputs": [
    {
     "name": "stdout",
     "output_type": "stream",
     "text": [
      "******************************************\n",
      "Performance Summary for: 6 ClusterCentroids Dataset\n",
      "******************************************\n"
     ]
    },
    {
     "data": {
      "text/html": [
       "<div>\n",
       "<style scoped>\n",
       "    .dataframe tbody tr th:only-of-type {\n",
       "        vertical-align: middle;\n",
       "    }\n",
       "\n",
       "    .dataframe tbody tr th {\n",
       "        vertical-align: top;\n",
       "    }\n",
       "\n",
       "    .dataframe thead th {\n",
       "        text-align: right;\n",
       "    }\n",
       "</style>\n",
       "<table border=\"1\" class=\"dataframe\">\n",
       "  <thead>\n",
       "    <tr style=\"text-align: right;\">\n",
       "      <th></th>\n",
       "      <th>model</th>\n",
       "      <th>slice</th>\n",
       "      <th>score</th>\n",
       "      <th>balanced_accuracy</th>\n",
       "      <th>roc_auc_score</th>\n",
       "      <th>confusion_matrix</th>\n",
       "      <th>classification_report</th>\n",
       "    </tr>\n",
       "  </thead>\n",
       "  <tbody>\n",
       "    <tr>\n",
       "      <th>0</th>\n",
       "      <td>KNeighborsClassifier</td>\n",
       "      <td>Train</td>\n",
       "      <td>0.807521</td>\n",
       "      <td>0.807521</td>\n",
       "      <td>0.887873</td>\n",
       "      <td>[[20507, 4410], [5182, 19735]]</td>\n",
       "      <td>precision    recall  f1-score   ...</td>\n",
       "    </tr>\n",
       "    <tr>\n",
       "      <th>1</th>\n",
       "      <td>KNeighborsClassifier</td>\n",
       "      <td>Test</td>\n",
       "      <td>0.688468</td>\n",
       "      <td>0.649535</td>\n",
       "      <td>0.698056</td>\n",
       "      <td>[[37683, 15970], [3273, 4843]]</td>\n",
       "      <td>precision    recall  f1-score   ...</td>\n",
       "    </tr>\n",
       "    <tr>\n",
       "      <th>2</th>\n",
       "      <td>DecisionTreeClassifier</td>\n",
       "      <td>Train</td>\n",
       "      <td>1.000000</td>\n",
       "      <td>1.000000</td>\n",
       "      <td>1.000000</td>\n",
       "      <td>[[24917, 0], [0, 24917]]</td>\n",
       "      <td>precision    recall  f1-score   ...</td>\n",
       "    </tr>\n",
       "    <tr>\n",
       "      <th>3</th>\n",
       "      <td>DecisionTreeClassifier</td>\n",
       "      <td>Test</td>\n",
       "      <td>0.382198</td>\n",
       "      <td>0.589732</td>\n",
       "      <td>0.589732</td>\n",
       "      <td>[[16537, 37116], [1045, 7071]]</td>\n",
       "      <td>precision    recall  f1-score   ...</td>\n",
       "    </tr>\n",
       "    <tr>\n",
       "      <th>4</th>\n",
       "      <td>RandomForestClassifier</td>\n",
       "      <td>Train</td>\n",
       "      <td>1.000000</td>\n",
       "      <td>1.000000</td>\n",
       "      <td>1.000000</td>\n",
       "      <td>[[24917, 0], [0, 24917]]</td>\n",
       "      <td>precision    recall  f1-score   ...</td>\n",
       "    </tr>\n",
       "    <tr>\n",
       "      <th>5</th>\n",
       "      <td>RandomForestClassifier</td>\n",
       "      <td>Test</td>\n",
       "      <td>0.388949</td>\n",
       "      <td>0.621016</td>\n",
       "      <td>0.670252</td>\n",
       "      <td>[[16430, 37223], [521, 7595]]</td>\n",
       "      <td>precision    recall  f1-score   ...</td>\n",
       "    </tr>\n",
       "    <tr>\n",
       "      <th>6</th>\n",
       "      <td>ExtraTreesClassifier</td>\n",
       "      <td>Train</td>\n",
       "      <td>1.000000</td>\n",
       "      <td>1.000000</td>\n",
       "      <td>1.000000</td>\n",
       "      <td>[[24917, 0], [0, 24917]]</td>\n",
       "      <td>precision    recall  f1-score   ...</td>\n",
       "    </tr>\n",
       "    <tr>\n",
       "      <th>7</th>\n",
       "      <td>ExtraTreesClassifier</td>\n",
       "      <td>Test</td>\n",
       "      <td>0.414739</td>\n",
       "      <td>0.630319</td>\n",
       "      <td>0.690412</td>\n",
       "      <td>[[18129, 35524], [627, 7489]]</td>\n",
       "      <td>precision    recall  f1-score   ...</td>\n",
       "    </tr>\n",
       "    <tr>\n",
       "      <th>8</th>\n",
       "      <td>GradientBoostingClassifier</td>\n",
       "      <td>Train</td>\n",
       "      <td>0.922101</td>\n",
       "      <td>0.922101</td>\n",
       "      <td>0.979452</td>\n",
       "      <td>[[22345, 2572], [1310, 23607]]</td>\n",
       "      <td>precision    recall  f1-score   ...</td>\n",
       "    </tr>\n",
       "    <tr>\n",
       "      <th>9</th>\n",
       "      <td>GradientBoostingClassifier</td>\n",
       "      <td>Test</td>\n",
       "      <td>0.344267</td>\n",
       "      <td>0.597701</td>\n",
       "      <td>0.684232</td>\n",
       "      <td>[[13624, 40029], [475, 7641]]</td>\n",
       "      <td>precision    recall  f1-score   ...</td>\n",
       "    </tr>\n",
       "    <tr>\n",
       "      <th>10</th>\n",
       "      <td>AdaBoostClassifier</td>\n",
       "      <td>Train</td>\n",
       "      <td>0.912249</td>\n",
       "      <td>0.912249</td>\n",
       "      <td>0.972646</td>\n",
       "      <td>[[22073, 2844], [1529, 23388]]</td>\n",
       "      <td>precision    recall  f1-score   ...</td>\n",
       "    </tr>\n",
       "    <tr>\n",
       "      <th>11</th>\n",
       "      <td>AdaBoostClassifier</td>\n",
       "      <td>Test</td>\n",
       "      <td>0.344267</td>\n",
       "      <td>0.596603</td>\n",
       "      <td>0.694037</td>\n",
       "      <td>[[13645, 40008], [496, 7620]]</td>\n",
       "      <td>precision    recall  f1-score   ...</td>\n",
       "    </tr>\n",
       "    <tr>\n",
       "      <th>12</th>\n",
       "      <td>LogisticRegression</td>\n",
       "      <td>Train</td>\n",
       "      <td>0.759381</td>\n",
       "      <td>0.759381</td>\n",
       "      <td>0.841639</td>\n",
       "      <td>[[17768, 7149], [4842, 20075]]</td>\n",
       "      <td>precision    recall  f1-score   ...</td>\n",
       "    </tr>\n",
       "    <tr>\n",
       "      <th>13</th>\n",
       "      <td>LogisticRegression</td>\n",
       "      <td>Test</td>\n",
       "      <td>0.640758</td>\n",
       "      <td>0.710489</td>\n",
       "      <td>0.777741</td>\n",
       "      <td>[[33045, 20608], [1582, 6534]]</td>\n",
       "      <td>precision    recall  f1-score   ...</td>\n",
       "    </tr>\n",
       "  </tbody>\n",
       "</table>\n",
       "</div>"
      ],
      "text/plain": [
       "                         model  slice     score  balanced_accuracy  \\\n",
       "0         KNeighborsClassifier  Train  0.807521           0.807521   \n",
       "1         KNeighborsClassifier   Test  0.688468           0.649535   \n",
       "2       DecisionTreeClassifier  Train  1.000000           1.000000   \n",
       "3       DecisionTreeClassifier   Test  0.382198           0.589732   \n",
       "4       RandomForestClassifier  Train  1.000000           1.000000   \n",
       "5       RandomForestClassifier   Test  0.388949           0.621016   \n",
       "6         ExtraTreesClassifier  Train  1.000000           1.000000   \n",
       "7         ExtraTreesClassifier   Test  0.414739           0.630319   \n",
       "8   GradientBoostingClassifier  Train  0.922101           0.922101   \n",
       "9   GradientBoostingClassifier   Test  0.344267           0.597701   \n",
       "10          AdaBoostClassifier  Train  0.912249           0.912249   \n",
       "11          AdaBoostClassifier   Test  0.344267           0.596603   \n",
       "12          LogisticRegression  Train  0.759381           0.759381   \n",
       "13          LogisticRegression   Test  0.640758           0.710489   \n",
       "\n",
       "    roc_auc_score                confusion_matrix  \\\n",
       "0        0.887873  [[20507, 4410], [5182, 19735]]   \n",
       "1        0.698056  [[37683, 15970], [3273, 4843]]   \n",
       "2        1.000000        [[24917, 0], [0, 24917]]   \n",
       "3        0.589732  [[16537, 37116], [1045, 7071]]   \n",
       "4        1.000000        [[24917, 0], [0, 24917]]   \n",
       "5        0.670252   [[16430, 37223], [521, 7595]]   \n",
       "6        1.000000        [[24917, 0], [0, 24917]]   \n",
       "7        0.690412   [[18129, 35524], [627, 7489]]   \n",
       "8        0.979452  [[22345, 2572], [1310, 23607]]   \n",
       "9        0.684232   [[13624, 40029], [475, 7641]]   \n",
       "10       0.972646  [[22073, 2844], [1529, 23388]]   \n",
       "11       0.694037   [[13645, 40008], [496, 7620]]   \n",
       "12       0.841639  [[17768, 7149], [4842, 20075]]   \n",
       "13       0.777741  [[33045, 20608], [1582, 6534]]   \n",
       "\n",
       "                                classification_report  \n",
       "0                 precision    recall  f1-score   ...  \n",
       "1                 precision    recall  f1-score   ...  \n",
       "2                 precision    recall  f1-score   ...  \n",
       "3                 precision    recall  f1-score   ...  \n",
       "4                 precision    recall  f1-score   ...  \n",
       "5                 precision    recall  f1-score   ...  \n",
       "6                 precision    recall  f1-score   ...  \n",
       "7                 precision    recall  f1-score   ...  \n",
       "8                 precision    recall  f1-score   ...  \n",
       "9                 precision    recall  f1-score   ...  \n",
       "10                precision    recall  f1-score   ...  \n",
       "11                precision    recall  f1-score   ...  \n",
       "12                precision    recall  f1-score   ...  \n",
       "13                precision    recall  f1-score   ...  "
      ]
     },
     "execution_count": 15,
     "metadata": {},
     "output_type": "execute_result"
    }
   ],
   "source": [
    "# print the performance summary\n",
    "print(f\"******************************************\")\n",
    "print(f\"Performance Summary for: {dataset_label}\")\n",
    "print(f\"******************************************\")\n",
    "\n",
    "performance_summary"
   ]
  },
  {
   "cell_type": "markdown",
   "metadata": {},
   "source": [
    "---\n",
    "\n",
    "## 6. Conclusions\n",
    "\n",
    "- A first glance at the summary, it appears that the Boosting models may have performed well with test/train scores were >.8 and similar in scale (<.02 delta).  However, the poor test confusion matrix and balanced accuracy highlight the overfitting.\n",
    "\n",
    "- The Base Cleaned data is overfit as indicated by:\n",
    "    - Poor confusion matrix on the detailed report for test sets on all models\n",
    "    - Low balanced accuracy as compared to the model score (less than 50%)\n"
   ]
  },
  {
   "cell_type": "markdown",
   "metadata": {},
   "source": [
    "---\n",
    "\n",
    "---"
   ]
  }
 ],
 "metadata": {
  "kernelspec": {
   "display_name": "dev",
   "language": "python",
   "name": "python3"
  },
  "language_info": {
   "codemirror_mode": {
    "name": "ipython",
    "version": 3
   },
   "file_extension": ".py",
   "mimetype": "text/x-python",
   "name": "python",
   "nbconvert_exporter": "python",
   "pygments_lexer": "ipython3",
   "version": "3.12.2"
  }
 },
 "nbformat": 4,
 "nbformat_minor": 2
}
