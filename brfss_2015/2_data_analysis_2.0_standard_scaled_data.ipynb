{
 "cells": [
  {
   "cell_type": "markdown",
   "metadata": {},
   "source": [
    "---\n",
    "\n",
    "## Data Analysis\n",
    "\n",
    "- This file differs from [2_data_analysis_1_base_data.ipynb](2_data_analysis_1_base_data.ipynb) in that it:\n",
    "    - scales the base cleaned data created in [1_data_cleaning.ipynb](1_data_cleaning.ipynb).\n",
    "\n",
    "Source dataset: 247076 rows × 37 columns\n",
    "Processed and analyzed dataset: 247076 rows × 37 columns\n",
    "\n",
    "---"
   ]
  },
  {
   "cell_type": "code",
   "execution_count": 1,
   "metadata": {
    "execution": {
     "iopub.execute_input": "2024-06-10T20:49:32.678118Z",
     "iopub.status.busy": "2024-06-10T20:49:32.677568Z",
     "iopub.status.idle": "2024-06-10T20:49:33.915454Z",
     "shell.execute_reply": "2024-06-10T20:49:33.914662Z"
    }
   },
   "outputs": [],
   "source": [
    "# package imports go here\n",
    "import pandas as pd\n",
    "import numpy as np\n",
    "import fastparquet as fp\n",
    "import os\n",
    "import sys\n",
    "import pickle\n",
    "import matplotlib.pyplot as plt\n",
    "import importlib\n",
    "import config\n",
    "import time\n",
    "\n",
    "sys.path.insert(1, config.package_path)\n",
    "import ml_analysis as mlanlys\n",
    "import ml_clean_feature as mlclean"
   ]
  },
  {
   "cell_type": "code",
   "execution_count": 2,
   "metadata": {
    "execution": {
     "iopub.execute_input": "2024-06-10T20:49:33.918349Z",
     "iopub.status.busy": "2024-06-10T20:49:33.918041Z",
     "iopub.status.idle": "2024-06-10T20:49:33.921765Z",
     "shell.execute_reply": "2024-06-10T20:49:33.921031Z"
    }
   },
   "outputs": [],
   "source": [
    "start_time = time.time()"
   ]
  },
  {
   "cell_type": "markdown",
   "metadata": {},
   "source": [
    "---\n",
    "\n",
    "## 1. Read the cleaned dataset from file\n",
    "\n",
    "---"
   ]
  },
  {
   "cell_type": "code",
   "execution_count": 3,
   "metadata": {
    "execution": {
     "iopub.execute_input": "2024-06-10T20:49:33.924577Z",
     "iopub.status.busy": "2024-06-10T20:49:33.924172Z",
     "iopub.status.idle": "2024-06-10T20:49:33.940255Z",
     "shell.execute_reply": "2024-06-10T20:49:33.939231Z"
    }
   },
   "outputs": [
    {
     "name": "stdout",
     "output_type": "stream",
     "text": [
      "Year:                        2015\n",
      "Clean File:                  data/brfss_2015_clean.parquet.gzip\n",
      "Performance Report:          reports/performance_report.pkl\n",
      "Detailed Performance Report: reports/2.0_standardscaler_dataset_detailed_performance_report.txt\n"
     ]
    }
   ],
   "source": [
    "# reload any changes to Config Settings\n",
    "importlib.reload(config)\n",
    "\n",
    "# BE SURE TO UPDATE THE LABEL FOR THIS ANALYSIS\n",
    "# #############################\n",
    "dataset_label = '2.0 StandardScaler Dataset'\n",
    "# #############################\n",
    "\n",
    "year                        = config.year\n",
    "\n",
    "clean_file                  = config.clean_file\n",
    "performance_report          = config.performance_report\n",
    "\n",
    "report_path                 = config.report_path\n",
    "file_label                  = dataset_label.lower().replace(' ','_')\n",
    "detailed_performance_report = report_path + file_label + '_detailed_performance_report.txt'\n",
    "\n",
    "print(f\"Year:                        {year}\")\n",
    "print(f\"Clean File:                  {clean_file}\")\n",
    "print(f\"Performance Report:          {performance_report}\")\n",
    "print(f\"Detailed Performance Report: {detailed_performance_report}\")"
   ]
  },
  {
   "cell_type": "code",
   "execution_count": 4,
   "metadata": {
    "execution": {
     "iopub.execute_input": "2024-06-10T20:49:33.968038Z",
     "iopub.status.busy": "2024-06-10T20:49:33.967803Z",
     "iopub.status.idle": "2024-06-10T20:49:34.166281Z",
     "shell.execute_reply": "2024-06-10T20:49:34.165293Z"
    }
   },
   "outputs": [],
   "source": [
    "# Read final cleaned dataset from parquet file\n",
    "df = pd.read_parquet(clean_file, engine=\"fastparquet\")"
   ]
  },
  {
   "cell_type": "code",
   "execution_count": 5,
   "metadata": {
    "execution": {
     "iopub.execute_input": "2024-06-10T20:49:34.170559Z",
     "iopub.status.busy": "2024-06-10T20:49:34.170114Z",
     "iopub.status.idle": "2024-06-10T20:49:34.175880Z",
     "shell.execute_reply": "2024-06-10T20:49:34.174553Z"
    }
   },
   "outputs": [],
   "source": [
    "diabetes_labels = df.columns"
   ]
  },
  {
   "cell_type": "code",
   "execution_count": 6,
   "metadata": {
    "execution": {
     "iopub.execute_input": "2024-06-10T20:49:34.179645Z",
     "iopub.status.busy": "2024-06-10T20:49:34.179316Z",
     "iopub.status.idle": "2024-06-10T20:49:34.188176Z",
     "shell.execute_reply": "2024-06-10T20:49:34.186913Z"
    }
   },
   "outputs": [
    {
     "data": {
      "text/plain": [
       "(253680, 22)"
      ]
     },
     "execution_count": 6,
     "metadata": {},
     "output_type": "execute_result"
    }
   ],
   "source": [
    "df.shape"
   ]
  },
  {
   "cell_type": "markdown",
   "metadata": {},
   "source": [
    "---\n",
    "\n",
    "## 2. Prepare the dataset for analysis\n",
    "\n",
    "- Split the dataset into features and labels.\n",
    "- Split the dataset into training and testing sets.\n",
    "- Scale the dataset\n",
    "\n",
    "---"
   ]
  },
  {
   "cell_type": "code",
   "execution_count": 7,
   "metadata": {
    "execution": {
     "iopub.execute_input": "2024-06-10T20:49:34.191181Z",
     "iopub.status.busy": "2024-06-10T20:49:34.190905Z",
     "iopub.status.idle": "2024-06-10T20:49:34.222098Z",
     "shell.execute_reply": "2024-06-10T20:49:34.221158Z"
    }
   },
   "outputs": [],
   "source": [
    "from sklearn.datasets import make_regression, make_swiss_roll\n",
    "from sklearn.model_selection import train_test_split\n",
    "from sklearn.preprocessing import StandardScaler"
   ]
  },
  {
   "cell_type": "code",
   "execution_count": 8,
   "metadata": {
    "execution": {
     "iopub.execute_input": "2024-06-10T20:49:34.224766Z",
     "iopub.status.busy": "2024-06-10T20:49:34.224316Z",
     "iopub.status.idle": "2024-06-10T20:49:34.386555Z",
     "shell.execute_reply": "2024-06-10T20:49:34.385681Z"
    }
   },
   "outputs": [
    {
     "name": "stdout",
     "output_type": "stream",
     "text": [
      "Base Dataset Modifications in Process\n",
      "-------------------------------------\n",
      "**Operation:target_column  diabetes\n",
      "**Operation:convert_to_binary  False\n",
      "**Operation:scaler  standard\n",
      "  -- Performing train_test_split on dataframe with target:'diabetes'\n",
      "     -- Run automatically before scalar or random_sample operations\n",
      "  -- Performing StandardScaler on X_train: Updates X_train, y_test\n",
      "**Operation:random_sample  none\n",
      "\n",
      "Dataframe, Train Test Summary\n",
      "-----------------------------\n",
      "Dataframe: (253680, 22)  Data:4, X_train:190260, y_train:190260, X_test:63420, y_test:63420\n",
      "ValueCounts:   y_train: len:2   0: 160385   1:  3460\n",
      "ValueCounts:   y_test : len:2   0:  53318   1:  1171\n"
     ]
    }
   ],
   "source": [
    "# reload any changes to mlanlys\n",
    "importlib.reload(mlanlys)\n",
    "\n",
    "target = 'diabetes'\n",
    "# Dictionary defining modification to be made to the base dataset\n",
    "operation_dict = {  'target_column'     :  target,\n",
    "                    'convert_to_binary' :  False,\n",
    "                    'scaler'            : 'standard', # options: none, standard, minmax\n",
    "                    'random_sample'     : 'none'      # options: none, undersample, oversample\n",
    "                    }\n",
    "\n",
    "# This insures that df if not modified during the call to modify_base_dataset()\n",
    "df_modified = df.copy()\n",
    "\n",
    "# Modify the base dataset\n",
    "# data is returned where: X_train, X_test, y_train, y_test = data\n",
    "data = mlanlys.modify_base_dataset(df_modified, operation_dict)"
   ]
  },
  {
   "cell_type": "code",
   "execution_count": 9,
   "metadata": {
    "execution": {
     "iopub.execute_input": "2024-06-10T20:49:34.389570Z",
     "iopub.status.busy": "2024-06-10T20:49:34.389245Z",
     "iopub.status.idle": "2024-06-10T20:49:34.399293Z",
     "shell.execute_reply": "2024-06-10T20:49:34.398390Z"
    }
   },
   "outputs": [
    {
     "name": "stdout",
     "output_type": "stream",
     "text": [
      "Original Dataframe\n",
      "------------------\n",
      "df.shape: (253680, 22)\n",
      "df[diabetes].value_counts:  diabetes\n",
      "0.0    213703\n",
      "2.0     35346\n",
      "1.0      4631\n",
      "Name: count, dtype: int64\n",
      "\n",
      "Modified Dataframe\n",
      "------------------\n",
      "df_modified.shape: (253680, 22)\n",
      "df_modified[diabetes].value_counts:  diabetes\n",
      "0.0    213703\n",
      "2.0     35346\n",
      "1.0      4631\n",
      "Name: count, dtype: int64\n"
     ]
    }
   ],
   "source": [
    "# Print some statistics about the original df and the modified dataframe\n",
    "print(f\"Original Dataframe\")\n",
    "print(f\"------------------\")\n",
    "print(f\"df.shape: {df.shape}\")\n",
    "print(f\"df[{target}].value_counts:  {df[target].value_counts()}\")\n",
    "\n",
    "print(f\"\\nModified Dataframe\")\n",
    "print(f\"------------------\")\n",
    "print(f\"df_modified.shape: {df_modified.shape}\")\n",
    "print(f\"df_modified[{target}].value_counts:  {df_modified[target].value_counts()}\")"
   ]
  },
  {
   "cell_type": "code",
   "execution_count": 10,
   "metadata": {
    "execution": {
     "iopub.execute_input": "2024-06-10T20:49:34.401673Z",
     "iopub.status.busy": "2024-06-10T20:49:34.401482Z",
     "iopub.status.idle": "2024-06-10T20:49:34.409492Z",
     "shell.execute_reply": "2024-06-10T20:49:34.408639Z"
    }
   },
   "outputs": [
    {
     "name": "stdout",
     "output_type": "stream",
     "text": [
      "Dataframe: (253680, 22)  Data:4, X_train:190260, y_train:190260, X_test:63420, y_test:63420\n"
     ]
    },
    {
     "data": {
      "text/plain": [
       "diabetes\n",
       "0.0    160385\n",
       "2.0     26415\n",
       "1.0      3460\n",
       "Name: count, dtype: int64"
      ]
     },
     "execution_count": 10,
     "metadata": {},
     "output_type": "execute_result"
    }
   ],
   "source": [
    "X_train, X_test, y_train, y_test = data\n",
    "print(f\"Dataframe: {df_modified.shape}  Data:{len(data)}, X_train:{len(X_train)}, y_train:{len(y_train)}, X_test:{len(X_test)}, y_test:{len(y_test)}\")\n",
    "y_train.value_counts()"
   ]
  },
  {
   "cell_type": "code",
   "execution_count": 11,
   "metadata": {
    "execution": {
     "iopub.execute_input": "2024-06-10T20:49:34.411969Z",
     "iopub.status.busy": "2024-06-10T20:49:34.411763Z",
     "iopub.status.idle": "2024-06-10T20:49:34.417305Z",
     "shell.execute_reply": "2024-06-10T20:49:34.416385Z"
    }
   },
   "outputs": [
    {
     "data": {
      "text/plain": [
       "diabetes\n",
       "0.0    53318\n",
       "2.0     8931\n",
       "1.0     1171\n",
       "Name: count, dtype: int64"
      ]
     },
     "execution_count": 11,
     "metadata": {},
     "output_type": "execute_result"
    }
   ],
   "source": [
    "y_test.value_counts()"
   ]
  },
  {
   "cell_type": "markdown",
   "metadata": {},
   "source": [
    "---\n",
    "\n",
    "## 3. Run initial Tests and get k_value\n",
    "\n",
    "**From step 2:**  Data = [X_train_modified, X_test_modified, y_train_modified, y_test]\n",
    "\n",
    "---"
   ]
  },
  {
   "cell_type": "code",
   "execution_count": 12,
   "metadata": {
    "execution": {
     "iopub.execute_input": "2024-06-10T20:49:34.419695Z",
     "iopub.status.busy": "2024-06-10T20:49:34.419478Z",
     "iopub.status.idle": "2024-06-10T20:49:34.437028Z",
     "shell.execute_reply": "2024-06-10T20:49:34.435842Z"
    }
   },
   "outputs": [
    {
     "data": {
      "text/plain": [
       "<module 'ml_analysis' from '/mnt/c/ML/DU/repos/projects/project-2/DU-project-2-2015/brfss_2015/../pkgs/ml_analysis.py'>"
      ]
     },
     "execution_count": 12,
     "metadata": {},
     "output_type": "execute_result"
    }
   ],
   "source": [
    "# reload any changes to mlanlys\n",
    "importlib.reload(mlanlys)\n",
    "\n",
    "# Determine the k_value\n",
    "# mlanlys.knn_plot(data)"
   ]
  },
  {
   "cell_type": "markdown",
   "metadata": {},
   "source": [
    "**Note:** From the knn plot above, pick a k-value of 3."
   ]
  },
  {
   "cell_type": "markdown",
   "metadata": {},
   "source": [
    "---\n",
    "\n",
    "## 4. Run the Analysis\n",
    "\n",
    "---\n",
    "\n",
    "#### Model Run Times\n",
    "\n",
    "-  Base dataset (247076 rows × 37 columns):\n",
    "\n",
    "| Model | Run Time |\n",
    "| ----- | -------- |\n",
    "| test_model(SVC(kernel='linear'), data)                          | Aborted >35min (Data too large, consider for RandomUndersampling dataset) |\n",
    "| test_model(KNeighborsClassifier(n_neighbors=k_value), data)     | 247.13 seconds |\n",
    "| test_model(tree.DecisionTreeClassifier(), data)                 |   3.89 seconds |\n",
    "| test_model(RandomForestClassifier(), data)                      |  60.94 seconds |\n",
    "| test_model(ExtraTreesClassifier(random_state=1), data)          |  58.54 seconds |\n",
    "| test_model(GradientBoostingClassifier(random_state=1), data)    | 115.21 seconds |\n",
    "| test_model(AdaBoostClassifier(random_state=1), data)            |  11.91 seconds |\n",
    "| test_model(LogisticRegression(), data)                          |   4.90 seconds |\n",
    "| **Total** w/o SVC| 502.52 seconds / **8:23 minutes** |"
   ]
  },
  {
   "cell_type": "code",
   "execution_count": 13,
   "metadata": {
    "execution": {
     "iopub.execute_input": "2024-06-10T20:49:34.440175Z",
     "iopub.status.busy": "2024-06-10T20:49:34.439943Z",
     "iopub.status.idle": "2024-06-10T20:55:47.557101Z",
     "shell.execute_reply": "2024-06-10T20:55:47.555410Z"
    }
   },
   "outputs": [],
   "source": [
    "# reload any changes to nlanlys\n",
    "importlib.reload(mlanlys)\n",
    "\n",
    "k_value = 3\n",
    "\n",
    "#### COMMENT OUT ONE OF THE FOLLOWING SECTIONS\n",
    "\n",
    "## SECTION 1\n",
    "# Capture stdout & stderr into two strings: osc.stdout and osc.stderr that contain the output from the function\n",
    "# -- This allows the output to be printed here or to a file or both.\n",
    "\n",
    "with mlanlys.OutStreamCapture() as osc:\n",
    "    performance_summary = mlanlys.run_classification_models(data, k_value)\n",
    "#    performance_summary = mlanlys.run_classification_models_test(data, k_value)\n",
    "\n",
    "## <OR>\n",
    "## SECTION 2\n",
    "\n",
    "# performance_summary = mlanlys.run_classification_models(data, k_value)\n"
   ]
  },
  {
   "cell_type": "code",
   "execution_count": 14,
   "metadata": {
    "execution": {
     "iopub.execute_input": "2024-06-10T20:55:47.562853Z",
     "iopub.status.busy": "2024-06-10T20:55:47.562501Z",
     "iopub.status.idle": "2024-06-10T20:55:47.568385Z",
     "shell.execute_reply": "2024-06-10T20:55:47.566931Z"
    }
   },
   "outputs": [],
   "source": [
    "# UNCOMMENT if using SECTION 1 in the previous step\n",
    "# print(osc.stdout)\n",
    "\n",
    "# Add code to print osc.stdout to a file if desired."
   ]
  },
  {
   "cell_type": "markdown",
   "metadata": {},
   "source": [
    "---\n",
    "\n",
    "### 4.1 Archive Performance Summary\n",
    "\n",
    "- For use in Project-2 Performance Summary Report\n",
    "---"
   ]
  },
  {
   "cell_type": "code",
   "execution_count": 15,
   "metadata": {
    "execution": {
     "iopub.execute_input": "2024-06-10T20:55:47.572437Z",
     "iopub.status.busy": "2024-06-10T20:55:47.572083Z",
     "iopub.status.idle": "2024-06-10T20:55:47.598267Z",
     "shell.execute_reply": "2024-06-10T20:55:47.596637Z"
    }
   },
   "outputs": [
    {
     "name": "stdout",
     "output_type": "stream",
     "text": [
      "The file reports/performance_report.pkl does not exist.\n"
     ]
    }
   ],
   "source": [
    "# performance_summary is a dataframe of performance statistics\n",
    "\n",
    "# Add the dataset label as the first column in performance_summary\n",
    "dataset_column = pd.Series([dataset_label] * len(performance_summary), name=dataset_label)\n",
    "performance_summary.insert(0, 'new_column', dataset_column)\n",
    "\n",
    "analysis_perf_summary = { 'dataset_size': list(df.shape), 'report': performance_summary}\n",
    "\n",
    "# Performance_report is a file containing all the performance summary statistics\n",
    "if os.path.exists(performance_report):\n",
    "    print(f\"The file {performance_report} exists.\")\n",
    "    # Load Performance Report\n",
    "    with open(performance_report, 'rb') as file: perf_report = pickle.load(file)\n",
    "else:\n",
    "    print(f\"The file {performance_report} does not exist.\")\n",
    "    perf_report = {}\n",
    "    \n",
    "perf_report[dataset_label] = analysis_perf_summary\n",
    "\n",
    "# Save Performance Report\n",
    "with open(performance_report, 'wb') as file: pickle.dump(perf_report, file)"
   ]
  },
  {
   "cell_type": "markdown",
   "metadata": {},
   "source": [
    "### 4.2 Archive the Performance Detailed Statistics Report\n",
    "---"
   ]
  },
  {
   "cell_type": "code",
   "execution_count": 16,
   "metadata": {
    "execution": {
     "iopub.execute_input": "2024-06-10T20:55:47.604415Z",
     "iopub.status.busy": "2024-06-10T20:55:47.603336Z",
     "iopub.status.idle": "2024-06-10T20:55:47.628129Z",
     "shell.execute_reply": "2024-06-10T20:55:47.626534Z"
    }
   },
   "outputs": [],
   "source": [
    "# osc.stdout contains the details of the performance statistics\n",
    "\n",
    "with open(detailed_performance_report, \"w\") as file:\n",
    "    file.write(osc.stdout)"
   ]
  },
  {
   "cell_type": "markdown",
   "metadata": {},
   "source": [
    "---\n",
    "\n",
    "## 5. Performance Summary\n",
    "\n",
    "---"
   ]
  },
  {
   "cell_type": "code",
   "execution_count": 17,
   "metadata": {
    "execution": {
     "iopub.execute_input": "2024-06-10T20:55:47.634858Z",
     "iopub.status.busy": "2024-06-10T20:55:47.633906Z",
     "iopub.status.idle": "2024-06-10T20:55:47.671696Z",
     "shell.execute_reply": "2024-06-10T20:55:47.669707Z"
    }
   },
   "outputs": [
    {
     "name": "stdout",
     "output_type": "stream",
     "text": [
      "******************************************\n",
      "Performance Summary for: 2.0 StandardScaler Dataset\n",
      "******************************************\n"
     ]
    },
    {
     "data": {
      "text/html": [
       "<div>\n",
       "<style scoped>\n",
       "    .dataframe tbody tr th:only-of-type {\n",
       "        vertical-align: middle;\n",
       "    }\n",
       "\n",
       "    .dataframe tbody tr th {\n",
       "        vertical-align: top;\n",
       "    }\n",
       "\n",
       "    .dataframe thead th {\n",
       "        text-align: right;\n",
       "    }\n",
       "</style>\n",
       "<table border=\"1\" class=\"dataframe\">\n",
       "  <thead>\n",
       "    <tr style=\"text-align: right;\">\n",
       "      <th></th>\n",
       "      <th>new_column</th>\n",
       "      <th>model</th>\n",
       "      <th>slice</th>\n",
       "      <th>score</th>\n",
       "      <th>balanced_accuracy</th>\n",
       "      <th>roc_auc_score</th>\n",
       "      <th>Mean Squared Error</th>\n",
       "      <th>Accuracy</th>\n",
       "      <th>Precision</th>\n",
       "      <th>Recall</th>\n",
       "      <th>F1-score</th>\n",
       "      <th>Specificity</th>\n",
       "      <th>False Positive Rate</th>\n",
       "      <th>Matthews Correlation Coefficient</th>\n",
       "    </tr>\n",
       "  </thead>\n",
       "  <tbody>\n",
       "    <tr>\n",
       "      <th>0</th>\n",
       "      <td>2.0 StandardScaler Dataset</td>\n",
       "      <td>KNeighborsClassifier</td>\n",
       "      <td>Train</td>\n",
       "      <td>0.8866</td>\n",
       "      <td>0.5038</td>\n",
       "      <td>0.9481</td>\n",
       "      <td>0.4014</td>\n",
       "      <td>0.9027</td>\n",
       "      <td>0.7260</td>\n",
       "      <td>0.4801</td>\n",
       "      <td>0.5780</td>\n",
       "      <td>0.9708</td>\n",
       "      <td>0.0292</td>\n",
       "      <td>NaN</td>\n",
       "    </tr>\n",
       "    <tr>\n",
       "      <th>1</th>\n",
       "      <td>2.0 StandardScaler Dataset</td>\n",
       "      <td>KNeighborsClassifier</td>\n",
       "      <td>Test</td>\n",
       "      <td>0.8194</td>\n",
       "      <td>0.3917</td>\n",
       "      <td>0.6253</td>\n",
       "      <td>0.6637</td>\n",
       "      <td>0.8355</td>\n",
       "      <td>0.3696</td>\n",
       "      <td>0.2378</td>\n",
       "      <td>0.2894</td>\n",
       "      <td>0.9335</td>\n",
       "      <td>0.0665</td>\n",
       "      <td>0.2076</td>\n",
       "    </tr>\n",
       "    <tr>\n",
       "      <th>2</th>\n",
       "      <td>2.0 StandardScaler Dataset</td>\n",
       "      <td>DecisionTreeClassifier</td>\n",
       "      <td>Train</td>\n",
       "      <td>0.9934</td>\n",
       "      <td>0.9684</td>\n",
       "      <td>0.9999</td>\n",
       "      <td>0.0230</td>\n",
       "      <td>0.9944</td>\n",
       "      <td>0.9993</td>\n",
       "      <td>0.9606</td>\n",
       "      <td>0.9796</td>\n",
       "      <td>0.9999</td>\n",
       "      <td>0.0001</td>\n",
       "      <td>NaN</td>\n",
       "    </tr>\n",
       "    <tr>\n",
       "      <th>3</th>\n",
       "      <td>2.0 StandardScaler Dataset</td>\n",
       "      <td>DecisionTreeClassifier</td>\n",
       "      <td>Test</td>\n",
       "      <td>0.7651</td>\n",
       "      <td>0.4030</td>\n",
       "      <td>0.5675</td>\n",
       "      <td>0.8117</td>\n",
       "      <td>0.7977</td>\n",
       "      <td>0.2968</td>\n",
       "      <td>0.3190</td>\n",
       "      <td>0.3075</td>\n",
       "      <td>0.8761</td>\n",
       "      <td>0.1239</td>\n",
       "      <td>0.1893</td>\n",
       "    </tr>\n",
       "    <tr>\n",
       "      <th>4</th>\n",
       "      <td>2.0 StandardScaler Dataset</td>\n",
       "      <td>RandomForestClassifier</td>\n",
       "      <td>Train</td>\n",
       "      <td>0.9934</td>\n",
       "      <td>0.9689</td>\n",
       "      <td>0.9995</td>\n",
       "      <td>0.0231</td>\n",
       "      <td>0.9944</td>\n",
       "      <td>0.9944</td>\n",
       "      <td>0.9651</td>\n",
       "      <td>0.9795</td>\n",
       "      <td>0.9991</td>\n",
       "      <td>0.0009</td>\n",
       "      <td>NaN</td>\n",
       "    </tr>\n",
       "    <tr>\n",
       "      <th>5</th>\n",
       "      <td>2.0 StandardScaler Dataset</td>\n",
       "      <td>RandomForestClassifier</td>\n",
       "      <td>Test</td>\n",
       "      <td>0.8414</td>\n",
       "      <td>0.3884</td>\n",
       "      <td>0.7386</td>\n",
       "      <td>0.5762</td>\n",
       "      <td>0.8589</td>\n",
       "      <td>0.4972</td>\n",
       "      <td>0.1974</td>\n",
       "      <td>0.2826</td>\n",
       "      <td>0.9673</td>\n",
       "      <td>0.0327</td>\n",
       "      <td>0.2493</td>\n",
       "    </tr>\n",
       "    <tr>\n",
       "      <th>6</th>\n",
       "      <td>2.0 StandardScaler Dataset</td>\n",
       "      <td>ExtraTreesClassifier</td>\n",
       "      <td>Train</td>\n",
       "      <td>0.9934</td>\n",
       "      <td>0.9684</td>\n",
       "      <td>0.9999</td>\n",
       "      <td>0.0230</td>\n",
       "      <td>0.9944</td>\n",
       "      <td>0.9993</td>\n",
       "      <td>0.9606</td>\n",
       "      <td>0.9796</td>\n",
       "      <td>0.9999</td>\n",
       "      <td>0.0001</td>\n",
       "      <td>NaN</td>\n",
       "    </tr>\n",
       "    <tr>\n",
       "      <th>7</th>\n",
       "      <td>2.0 StandardScaler Dataset</td>\n",
       "      <td>ExtraTreesClassifier</td>\n",
       "      <td>Test</td>\n",
       "      <td>0.8330</td>\n",
       "      <td>0.3862</td>\n",
       "      <td>0.7170</td>\n",
       "      <td>0.6057</td>\n",
       "      <td>0.8513</td>\n",
       "      <td>0.4380</td>\n",
       "      <td>0.1966</td>\n",
       "      <td>0.2714</td>\n",
       "      <td>0.9587</td>\n",
       "      <td>0.0413</td>\n",
       "      <td>0.2219</td>\n",
       "    </tr>\n",
       "    <tr>\n",
       "      <th>8</th>\n",
       "      <td>2.0 StandardScaler Dataset</td>\n",
       "      <td>GradientBoostingClassifier</td>\n",
       "      <td>Train</td>\n",
       "      <td>0.8508</td>\n",
       "      <td>0.3913</td>\n",
       "      <td>0.7957</td>\n",
       "      <td>0.5424</td>\n",
       "      <td>0.8672</td>\n",
       "      <td>0.5623</td>\n",
       "      <td>0.1955</td>\n",
       "      <td>0.2901</td>\n",
       "      <td>0.9755</td>\n",
       "      <td>0.0245</td>\n",
       "      <td>0.2758</td>\n",
       "    </tr>\n",
       "    <tr>\n",
       "      <th>9</th>\n",
       "      <td>2.0 StandardScaler Dataset</td>\n",
       "      <td>GradientBoostingClassifier</td>\n",
       "      <td>Test</td>\n",
       "      <td>0.8490</td>\n",
       "      <td>0.3903</td>\n",
       "      <td>0.7885</td>\n",
       "      <td>0.5485</td>\n",
       "      <td>0.8659</td>\n",
       "      <td>0.5702</td>\n",
       "      <td>0.1934</td>\n",
       "      <td>0.2888</td>\n",
       "      <td>0.9761</td>\n",
       "      <td>0.0239</td>\n",
       "      <td>0.2764</td>\n",
       "    </tr>\n",
       "    <tr>\n",
       "      <th>10</th>\n",
       "      <td>2.0 StandardScaler Dataset</td>\n",
       "      <td>AdaBoostClassifier</td>\n",
       "      <td>Train</td>\n",
       "      <td>0.8487</td>\n",
       "      <td>0.3919</td>\n",
       "      <td>0.7764</td>\n",
       "      <td>0.5508</td>\n",
       "      <td>0.8649</td>\n",
       "      <td>0.5354</td>\n",
       "      <td>0.2024</td>\n",
       "      <td>0.2938</td>\n",
       "      <td>0.9717</td>\n",
       "      <td>0.0283</td>\n",
       "      <td>0.2699</td>\n",
       "    </tr>\n",
       "    <tr>\n",
       "      <th>11</th>\n",
       "      <td>2.0 StandardScaler Dataset</td>\n",
       "      <td>AdaBoostClassifier</td>\n",
       "      <td>Test</td>\n",
       "      <td>0.8475</td>\n",
       "      <td>0.3922</td>\n",
       "      <td>0.7712</td>\n",
       "      <td>0.5548</td>\n",
       "      <td>0.8641</td>\n",
       "      <td>0.5470</td>\n",
       "      <td>0.2026</td>\n",
       "      <td>0.2957</td>\n",
       "      <td>0.9725</td>\n",
       "      <td>0.0275</td>\n",
       "      <td>0.2739</td>\n",
       "    </tr>\n",
       "    <tr>\n",
       "      <th>12</th>\n",
       "      <td>2.0 StandardScaler Dataset</td>\n",
       "      <td>LogisticRegression</td>\n",
       "      <td>Train</td>\n",
       "      <td>0.8470</td>\n",
       "      <td>0.3833</td>\n",
       "      <td>0.7817</td>\n",
       "      <td>0.5576</td>\n",
       "      <td>0.8635</td>\n",
       "      <td>0.5256</td>\n",
       "      <td>0.1739</td>\n",
       "      <td>0.2613</td>\n",
       "      <td>0.9747</td>\n",
       "      <td>0.0253</td>\n",
       "      <td>0.2454</td>\n",
       "    </tr>\n",
       "    <tr>\n",
       "      <th>13</th>\n",
       "      <td>2.0 StandardScaler Dataset</td>\n",
       "      <td>LogisticRegression</td>\n",
       "      <td>Test</td>\n",
       "      <td>0.8450</td>\n",
       "      <td>0.3823</td>\n",
       "      <td>0.7826</td>\n",
       "      <td>0.5645</td>\n",
       "      <td>0.8620</td>\n",
       "      <td>0.5316</td>\n",
       "      <td>0.1703</td>\n",
       "      <td>0.2580</td>\n",
       "      <td>0.9754</td>\n",
       "      <td>0.0246</td>\n",
       "      <td>0.2442</td>\n",
       "    </tr>\n",
       "  </tbody>\n",
       "</table>\n",
       "</div>"
      ],
      "text/plain": [
       "                    new_column                       model  slice   score  \\\n",
       "0   2.0 StandardScaler Dataset        KNeighborsClassifier  Train  0.8866   \n",
       "1   2.0 StandardScaler Dataset        KNeighborsClassifier   Test  0.8194   \n",
       "2   2.0 StandardScaler Dataset      DecisionTreeClassifier  Train  0.9934   \n",
       "3   2.0 StandardScaler Dataset      DecisionTreeClassifier   Test  0.7651   \n",
       "4   2.0 StandardScaler Dataset      RandomForestClassifier  Train  0.9934   \n",
       "5   2.0 StandardScaler Dataset      RandomForestClassifier   Test  0.8414   \n",
       "6   2.0 StandardScaler Dataset        ExtraTreesClassifier  Train  0.9934   \n",
       "7   2.0 StandardScaler Dataset        ExtraTreesClassifier   Test  0.8330   \n",
       "8   2.0 StandardScaler Dataset  GradientBoostingClassifier  Train  0.8508   \n",
       "9   2.0 StandardScaler Dataset  GradientBoostingClassifier   Test  0.8490   \n",
       "10  2.0 StandardScaler Dataset          AdaBoostClassifier  Train  0.8487   \n",
       "11  2.0 StandardScaler Dataset          AdaBoostClassifier   Test  0.8475   \n",
       "12  2.0 StandardScaler Dataset          LogisticRegression  Train  0.8470   \n",
       "13  2.0 StandardScaler Dataset          LogisticRegression   Test  0.8450   \n",
       "\n",
       "    balanced_accuracy  roc_auc_score  Mean Squared Error  Accuracy  Precision  \\\n",
       "0              0.5038         0.9481              0.4014    0.9027     0.7260   \n",
       "1              0.3917         0.6253              0.6637    0.8355     0.3696   \n",
       "2              0.9684         0.9999              0.0230    0.9944     0.9993   \n",
       "3              0.4030         0.5675              0.8117    0.7977     0.2968   \n",
       "4              0.9689         0.9995              0.0231    0.9944     0.9944   \n",
       "5              0.3884         0.7386              0.5762    0.8589     0.4972   \n",
       "6              0.9684         0.9999              0.0230    0.9944     0.9993   \n",
       "7              0.3862         0.7170              0.6057    0.8513     0.4380   \n",
       "8              0.3913         0.7957              0.5424    0.8672     0.5623   \n",
       "9              0.3903         0.7885              0.5485    0.8659     0.5702   \n",
       "10             0.3919         0.7764              0.5508    0.8649     0.5354   \n",
       "11             0.3922         0.7712              0.5548    0.8641     0.5470   \n",
       "12             0.3833         0.7817              0.5576    0.8635     0.5256   \n",
       "13             0.3823         0.7826              0.5645    0.8620     0.5316   \n",
       "\n",
       "    Recall  F1-score  Specificity  False Positive Rate  \\\n",
       "0   0.4801    0.5780       0.9708               0.0292   \n",
       "1   0.2378    0.2894       0.9335               0.0665   \n",
       "2   0.9606    0.9796       0.9999               0.0001   \n",
       "3   0.3190    0.3075       0.8761               0.1239   \n",
       "4   0.9651    0.9795       0.9991               0.0009   \n",
       "5   0.1974    0.2826       0.9673               0.0327   \n",
       "6   0.9606    0.9796       0.9999               0.0001   \n",
       "7   0.1966    0.2714       0.9587               0.0413   \n",
       "8   0.1955    0.2901       0.9755               0.0245   \n",
       "9   0.1934    0.2888       0.9761               0.0239   \n",
       "10  0.2024    0.2938       0.9717               0.0283   \n",
       "11  0.2026    0.2957       0.9725               0.0275   \n",
       "12  0.1739    0.2613       0.9747               0.0253   \n",
       "13  0.1703    0.2580       0.9754               0.0246   \n",
       "\n",
       "    Matthews Correlation Coefficient  \n",
       "0                                NaN  \n",
       "1                             0.2076  \n",
       "2                                NaN  \n",
       "3                             0.1893  \n",
       "4                                NaN  \n",
       "5                             0.2493  \n",
       "6                                NaN  \n",
       "7                             0.2219  \n",
       "8                             0.2758  \n",
       "9                             0.2764  \n",
       "10                            0.2699  \n",
       "11                            0.2739  \n",
       "12                            0.2454  \n",
       "13                            0.2442  "
      ]
     },
     "execution_count": 17,
     "metadata": {},
     "output_type": "execute_result"
    }
   ],
   "source": [
    "# print the performance summary\n",
    "print(f\"******************************************\")\n",
    "print(f\"Performance Summary for: {dataset_label}\")\n",
    "print(f\"******************************************\")\n",
    "\n",
    "performance_summary"
   ]
  },
  {
   "cell_type": "code",
   "execution_count": 18,
   "metadata": {
    "execution": {
     "iopub.execute_input": "2024-06-10T20:55:47.677533Z",
     "iopub.status.busy": "2024-06-10T20:55:47.676986Z",
     "iopub.status.idle": "2024-06-10T20:55:47.685554Z",
     "shell.execute_reply": "2024-06-10T20:55:47.683486Z"
    }
   },
   "outputs": [
    {
     "name": "stdout",
     "output_type": "stream",
     "text": [
      "Completed: Execution Time 373.76 seconds:\n"
     ]
    }
   ],
   "source": [
    "print(f\"Completed: Execution Time %s seconds:\" % round((time.time() - start_time),2) )"
   ]
  },
  {
   "cell_type": "markdown",
   "metadata": {},
   "source": [
    "---\n",
    "\n",
    "## 6. Conclusions\n",
    "\n",
    "- A first glance at the summary, it appears that the Boosting models may have performed well with test/train scores were >.8 and similar in scale (<.02 delta).  However, the poor test confusion matrix and balanced accuracy highlight the overfitting.\n",
    "\n",
    "- The Base Cleaned data is overfit as indicated by:\n",
    "    - Poor confusion matrix on the detailed report for test sets on all models\n",
    "    - Low balanced accuracy as compared to the model score (less than 50%)\n"
   ]
  },
  {
   "cell_type": "markdown",
   "metadata": {},
   "source": [
    "---\n",
    "\n",
    "---"
   ]
  }
 ],
 "metadata": {
  "kernelspec": {
   "display_name": "dev",
   "language": "python",
   "name": "python3"
  },
  "language_info": {
   "codemirror_mode": {
    "name": "ipython",
    "version": 3
   },
   "file_extension": ".py",
   "mimetype": "text/x-python",
   "name": "python",
   "nbconvert_exporter": "python",
   "pygments_lexer": "ipython3",
   "version": "3.12.2"
  }
 },
 "nbformat": 4,
 "nbformat_minor": 2
}
