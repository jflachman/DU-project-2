{
 "cells": [
  {
   "cell_type": "markdown",
   "metadata": {},
   "source": [
    "---\n",
    "\n",
    "## Data Analysis\n",
    "\n",
    "- This file differs from [2_data_analysis_1_base_data.ipynb](2_data_analysis_1_base_data.ipynb) in that it:\n",
    "    - scales the base cleaned data created in [1_data_cleaning.ipynb](1_data_cleaning.ipynb).\n",
    "\n",
    "Source dataset: 247076 rows × 37 columns\n",
    "Processed and analyzed dataset: 247076 rows × 37 columns\n",
    "\n",
    "---"
   ]
  },
  {
   "cell_type": "code",
   "execution_count": 1,
   "metadata": {
    "execution": {
     "iopub.execute_input": "2024-06-10T21:08:42.533862Z",
     "iopub.status.busy": "2024-06-10T21:08:42.533492Z",
     "iopub.status.idle": "2024-06-10T21:08:44.159925Z",
     "shell.execute_reply": "2024-06-10T21:08:44.158789Z"
    }
   },
   "outputs": [],
   "source": [
    "# package imports go here\n",
    "import pandas as pd\n",
    "import numpy as np\n",
    "import fastparquet as fp\n",
    "import os\n",
    "import sys\n",
    "import pickle\n",
    "import matplotlib.pyplot as plt\n",
    "import importlib\n",
    "import config\n",
    "import time\n",
    "\n",
    "sys.path.insert(1, config.package_path)\n",
    "import ml_analysis as mlanlys\n",
    "import ml_clean_feature as mlclean"
   ]
  },
  {
   "cell_type": "code",
   "execution_count": 2,
   "metadata": {
    "execution": {
     "iopub.execute_input": "2024-06-10T21:08:44.162986Z",
     "iopub.status.busy": "2024-06-10T21:08:44.162522Z",
     "iopub.status.idle": "2024-06-10T21:08:44.165848Z",
     "shell.execute_reply": "2024-06-10T21:08:44.165186Z"
    }
   },
   "outputs": [],
   "source": [
    "start_time = time.time()"
   ]
  },
  {
   "cell_type": "markdown",
   "metadata": {},
   "source": [
    "---\n",
    "\n",
    "## 1. Read the cleaned dataset from file\n",
    "\n",
    "---"
   ]
  },
  {
   "cell_type": "code",
   "execution_count": 3,
   "metadata": {
    "execution": {
     "iopub.execute_input": "2024-06-10T21:08:44.168350Z",
     "iopub.status.busy": "2024-06-10T21:08:44.168145Z",
     "iopub.status.idle": "2024-06-10T21:08:44.184471Z",
     "shell.execute_reply": "2024-06-10T21:08:44.183689Z"
    }
   },
   "outputs": [
    {
     "name": "stdout",
     "output_type": "stream",
     "text": [
      "Year:                        2015\n",
      "Clean File:                  data/brfss_2015_clean.parquet.gzip\n",
      "Performance Report:          reports/performance_report.pkl\n",
      "Detailed Performance Report: reports/5_randomoversampler_dataset_detailed_performance_report.txt\n"
     ]
    }
   ],
   "source": [
    "# reload any changes to Config Settings\n",
    "importlib.reload(config)\n",
    "\n",
    "# BE SURE TO UPDATE THE LABEL FOR THIS ANALYSIS\n",
    "# #############################\n",
    "dataset_label = '5 RandomOverSampler Dataset'\n",
    "# #############################\n",
    "\n",
    "year                        = config.year\n",
    "\n",
    "clean_file                  = config.clean_file\n",
    "performance_report          = config.performance_report\n",
    "\n",
    "report_path                 = config.report_path\n",
    "file_label                  = dataset_label.lower().replace(' ','_')\n",
    "detailed_performance_report = report_path + file_label + '_detailed_performance_report.txt'\n",
    "\n",
    "print(f\"Year:                        {year}\")\n",
    "print(f\"Clean File:                  {clean_file}\")\n",
    "print(f\"Performance Report:          {performance_report}\")\n",
    "print(f\"Detailed Performance Report: {detailed_performance_report}\")"
   ]
  },
  {
   "cell_type": "code",
   "execution_count": 4,
   "metadata": {
    "execution": {
     "iopub.execute_input": "2024-06-10T21:08:44.186982Z",
     "iopub.status.busy": "2024-06-10T21:08:44.186790Z",
     "iopub.status.idle": "2024-06-10T21:08:44.352991Z",
     "shell.execute_reply": "2024-06-10T21:08:44.351922Z"
    }
   },
   "outputs": [],
   "source": [
    "# Read final cleaned dataset from parquet file\n",
    "df = pd.read_parquet(clean_file, engine=\"fastparquet\")"
   ]
  },
  {
   "cell_type": "code",
   "execution_count": 5,
   "metadata": {
    "execution": {
     "iopub.execute_input": "2024-06-10T21:08:44.357141Z",
     "iopub.status.busy": "2024-06-10T21:08:44.356770Z",
     "iopub.status.idle": "2024-06-10T21:08:44.364441Z",
     "shell.execute_reply": "2024-06-10T21:08:44.362849Z"
    }
   },
   "outputs": [],
   "source": [
    "diabetes_labels = df.columns"
   ]
  },
  {
   "cell_type": "code",
   "execution_count": 6,
   "metadata": {
    "execution": {
     "iopub.execute_input": "2024-06-10T21:08:44.369255Z",
     "iopub.status.busy": "2024-06-10T21:08:44.368858Z",
     "iopub.status.idle": "2024-06-10T21:08:44.380807Z",
     "shell.execute_reply": "2024-06-10T21:08:44.379378Z"
    }
   },
   "outputs": [
    {
     "data": {
      "text/plain": [
       "(253680, 22)"
      ]
     },
     "execution_count": 6,
     "metadata": {},
     "output_type": "execute_result"
    }
   ],
   "source": [
    "df.shape"
   ]
  },
  {
   "cell_type": "markdown",
   "metadata": {},
   "source": [
    "---\n",
    "\n",
    "## 2. Prepare the dataset for analysis\n",
    "\n",
    "- Split the dataset into features and labels.\n",
    "- Split the dataset into training and testing sets.\n",
    "- Scale the dataset\n",
    "\n",
    "---"
   ]
  },
  {
   "cell_type": "code",
   "execution_count": 7,
   "metadata": {
    "execution": {
     "iopub.execute_input": "2024-06-10T21:08:44.384732Z",
     "iopub.status.busy": "2024-06-10T21:08:44.384365Z",
     "iopub.status.idle": "2024-06-10T21:08:44.418470Z",
     "shell.execute_reply": "2024-06-10T21:08:44.417456Z"
    }
   },
   "outputs": [],
   "source": [
    "from sklearn.datasets import make_regression, make_swiss_roll\n",
    "from sklearn.model_selection import train_test_split\n",
    "from sklearn.preprocessing import StandardScaler"
   ]
  },
  {
   "cell_type": "code",
   "execution_count": 8,
   "metadata": {
    "execution": {
     "iopub.execute_input": "2024-06-10T21:08:44.421497Z",
     "iopub.status.busy": "2024-06-10T21:08:44.421151Z",
     "iopub.status.idle": "2024-06-10T21:08:44.695546Z",
     "shell.execute_reply": "2024-06-10T21:08:44.694552Z"
    }
   },
   "outputs": [
    {
     "name": "stdout",
     "output_type": "stream",
     "text": [
      "Base Dataset Modifications in Process\n",
      "-------------------------------------\n",
      "**Operation:target_column  diabetes\n",
      "**Operation:convert_to_binary  True\n",
      "  -- Converting dataset to binary (0,1) from (0,1,2)\n",
      "\n",
      "\n",
      "****Cleaning Feature: diabetes\n",
      "  Initial Unique features in [diabetes]:  [0. 1. 2.]\n",
      "  values_to_drop: ********* NO Parameters were specified *********\n",
      "  translate: {1: 0, 2: 1}\n",
      "  scale: ********* NO Parameters were specified *********\n",
      "  FINAL Unique features in [diabetes]:  [0. 1.]\n",
      "**Operation:scaler  standard\n",
      "  -- Performing train_test_split on dataframe with target:'diabetes'\n",
      "     -- Run automatically before scalar or random_sample operations\n",
      "  -- Performing StandardScaler on X_train: Updates X_train, y_test\n",
      "**Operation:random_sample  oversample\n",
      "  -- Performing RandomOverSampler on X_train, y_train: Updates X_train, y_train\n",
      "\n",
      "Dataframe, Train Test Summary\n",
      "-----------------------------\n",
      "Dataframe: (253680, 22)  Data:4, X_train:327828, y_train:327828, X_test:63420, y_test:63420\n",
      "ValueCounts:   y_train: len:2   0: 163914   1:163914\n",
      "ValueCounts:   y_test : len:2   0:  54420   1:  9000\n"
     ]
    }
   ],
   "source": [
    "# reload any changes to mlanlys\n",
    "importlib.reload(mlanlys)\n",
    "\n",
    "target = 'diabetes'\n",
    "# Dictionary defining modification to be made to the base dataset\n",
    "operation_dict = {  'target_column'     :  target,\n",
    "                    'convert_to_binary' :  True,\n",
    "                    'scaler'            : 'standard', # options: none, standard, minmax\n",
    "                    'random_sample'     : 'oversample'      # options: none, undersample, oversample\n",
    "                    }\n",
    "\n",
    "# This insures that df if not modified during the call to modify_base_dataset()\n",
    "df_modified = df.copy()\n",
    "\n",
    "# Modify the base dataset\n",
    "# data is returned where: X_train, X_test, y_train, y_test = data\n",
    "data = mlanlys.modify_base_dataset(df_modified, operation_dict)"
   ]
  },
  {
   "cell_type": "code",
   "execution_count": 9,
   "metadata": {
    "execution": {
     "iopub.execute_input": "2024-06-10T21:08:44.698370Z",
     "iopub.status.busy": "2024-06-10T21:08:44.698023Z",
     "iopub.status.idle": "2024-06-10T21:08:44.713866Z",
     "shell.execute_reply": "2024-06-10T21:08:44.712454Z"
    }
   },
   "outputs": [
    {
     "name": "stdout",
     "output_type": "stream",
     "text": [
      "Original Dataframe\n",
      "------------------\n",
      "df.shape: (253680, 22)\n",
      "df[diabetes].value_counts:  diabetes\n",
      "0.0    213703\n",
      "2.0     35346\n",
      "1.0      4631\n",
      "Name: count, dtype: int64\n",
      "\n",
      "Modified Dataframe\n",
      "------------------\n",
      "df_modified.shape: (253680, 22)\n",
      "df_modified[diabetes].value_counts:  diabetes\n",
      "0.0    218334\n",
      "1.0     35346\n",
      "Name: count, dtype: int64\n"
     ]
    }
   ],
   "source": [
    "# Print some statistics about the original df and the modified dataframe\n",
    "print(f\"Original Dataframe\")\n",
    "print(f\"------------------\")\n",
    "print(f\"df.shape: {df.shape}\")\n",
    "print(f\"df[{target}].value_counts:  {df[target].value_counts()}\")\n",
    "\n",
    "print(f\"\\nModified Dataframe\")\n",
    "print(f\"------------------\")\n",
    "print(f\"df_modified.shape: {df_modified.shape}\")\n",
    "print(f\"df_modified[{target}].value_counts:  {df_modified[target].value_counts()}\")"
   ]
  },
  {
   "cell_type": "code",
   "execution_count": 10,
   "metadata": {
    "execution": {
     "iopub.execute_input": "2024-06-10T21:08:44.717951Z",
     "iopub.status.busy": "2024-06-10T21:08:44.717601Z",
     "iopub.status.idle": "2024-06-10T21:08:44.731827Z",
     "shell.execute_reply": "2024-06-10T21:08:44.730401Z"
    }
   },
   "outputs": [
    {
     "name": "stdout",
     "output_type": "stream",
     "text": [
      "Dataframe: (253680, 22)  Data:4, X_train:327828, y_train:327828, X_test:63420, y_test:63420\n"
     ]
    },
    {
     "data": {
      "text/plain": [
       "diabetes\n",
       "0.0    163914\n",
       "1.0    163914\n",
       "Name: count, dtype: int64"
      ]
     },
     "execution_count": 10,
     "metadata": {},
     "output_type": "execute_result"
    }
   ],
   "source": [
    "X_train, X_test, y_train, y_test = data\n",
    "print(f\"Dataframe: {df_modified.shape}  Data:{len(data)}, X_train:{len(X_train)}, y_train:{len(y_train)}, X_test:{len(X_test)}, y_test:{len(y_test)}\")\n",
    "y_train.value_counts()"
   ]
  },
  {
   "cell_type": "markdown",
   "metadata": {},
   "source": [
    "---\n",
    "\n",
    "## 3. Run initial Tests and get k_value\n",
    "\n",
    "**From step 2:**  Data = [X_train_modified, X_test_modified, y_train_modified, y_test]\n",
    "\n",
    "---"
   ]
  },
  {
   "cell_type": "code",
   "execution_count": 11,
   "metadata": {
    "execution": {
     "iopub.execute_input": "2024-06-10T21:08:44.735600Z",
     "iopub.status.busy": "2024-06-10T21:08:44.735256Z",
     "iopub.status.idle": "2024-06-10T21:08:44.770521Z",
     "shell.execute_reply": "2024-06-10T21:08:44.769211Z"
    }
   },
   "outputs": [
    {
     "data": {
      "text/plain": [
       "<module 'ml_analysis' from '/mnt/c/ML/DU/repos/projects/project-2/DU-project-2-2015/brfss_2015/../pkgs/ml_analysis.py'>"
      ]
     },
     "execution_count": 11,
     "metadata": {},
     "output_type": "execute_result"
    }
   ],
   "source": [
    "# reload any changes to mlanlys\n",
    "importlib.reload(mlanlys)\n",
    "\n",
    "# Determine the k_value\n",
    "# mlanlys.knn_plot(data)"
   ]
  },
  {
   "cell_type": "markdown",
   "metadata": {},
   "source": [
    "**Note:** From the knn plot above, pick a k-value of 3."
   ]
  },
  {
   "cell_type": "markdown",
   "metadata": {},
   "source": [
    "---\n",
    "\n",
    "## 4. Run the Analysis\n",
    "\n",
    "---\n",
    "\n",
    "#### Model Run Times\n",
    "\n",
    "-  Base dataset (247076 rows × 37 columns):\n",
    "\n",
    "| Model | Run Time |\n",
    "| ----- | -------- |\n",
    "| test_model(SVC(kernel='linear'), data)                          | Aborted >35min (Data too large, consider for RandomUndersampling dataset) |\n",
    "| test_model(KNeighborsClassifier(n_neighbors=k_value), data)     | 247.13 seconds |\n",
    "| test_model(tree.DecisionTreeClassifier(), data)                 |   3.89 seconds |\n",
    "| test_model(RandomForestClassifier(), data)                      |  60.94 seconds |\n",
    "| test_model(ExtraTreesClassifier(random_state=1), data)          |  58.54 seconds |\n",
    "| test_model(GradientBoostingClassifier(random_state=1), data)    | 115.21 seconds |\n",
    "| test_model(AdaBoostClassifier(random_state=1), data)            |  11.91 seconds |\n",
    "| test_model(LogisticRegression(), data)                          |   4.90 seconds |\n",
    "| **Total** w/o SVC| 502.52 seconds / **8:23 minutes** |"
   ]
  },
  {
   "cell_type": "code",
   "execution_count": 12,
   "metadata": {
    "execution": {
     "iopub.execute_input": "2024-06-10T21:08:44.774633Z",
     "iopub.status.busy": "2024-06-10T21:08:44.774289Z",
     "iopub.status.idle": "2024-06-10T21:23:03.431317Z",
     "shell.execute_reply": "2024-06-10T21:23:03.430454Z"
    }
   },
   "outputs": [],
   "source": [
    "# reload any changes to nlanlys\n",
    "importlib.reload(mlanlys)\n",
    "\n",
    "k_value = 3\n",
    "\n",
    "#### COMMENT OUT ONE OF THE FOLLOWING SECTIONS\n",
    "\n",
    "## SECTION 1\n",
    "# Capture stdout & stderr into two strings: osc.stdout and osc.stderr that contain the output from the function\n",
    "# -- This allows the output to be printed here or to a file or both.\n",
    "\n",
    "with mlanlys.OutStreamCapture() as osc:\n",
    "    performance_summary = mlanlys.run_classification_models(data, k_value)\n",
    "#    performance_summary = mlanlys.run_classification_models_test(data, k_value)\n",
    "\n",
    "## <OR>\n",
    "## SECTION 2\n",
    "\n",
    "# performance_summary = mlanlys.run_classification_models(data, k_value)\n"
   ]
  },
  {
   "cell_type": "code",
   "execution_count": 13,
   "metadata": {
    "execution": {
     "iopub.execute_input": "2024-06-10T21:23:03.435414Z",
     "iopub.status.busy": "2024-06-10T21:23:03.435111Z",
     "iopub.status.idle": "2024-06-10T21:23:03.438518Z",
     "shell.execute_reply": "2024-06-10T21:23:03.437653Z"
    }
   },
   "outputs": [],
   "source": [
    "# UNCOMMENT if using SECTION 1 in the previous step\n",
    "# print(osc.stdout)\n",
    "\n",
    "# Add code to print osc.stdout to a file if desired."
   ]
  },
  {
   "cell_type": "markdown",
   "metadata": {},
   "source": [
    "---\n",
    "\n",
    "### 4.1 Archive Performance Summary\n",
    "\n",
    "- For use in Project Performance Summary Report\n",
    "---"
   ]
  },
  {
   "cell_type": "code",
   "execution_count": 14,
   "metadata": {
    "execution": {
     "iopub.execute_input": "2024-06-10T21:23:03.440885Z",
     "iopub.status.busy": "2024-06-10T21:23:03.440689Z",
     "iopub.status.idle": "2024-06-10T21:23:03.470802Z",
     "shell.execute_reply": "2024-06-10T21:23:03.469721Z"
    }
   },
   "outputs": [
    {
     "name": "stdout",
     "output_type": "stream",
     "text": [
      "The file reports/performance_report.pkl exists.\n"
     ]
    }
   ],
   "source": [
    "# performance_summary is a dataframe of performance statistics\n",
    "\n",
    "# Add the dataset label as the first column in performance_summary\n",
    "dataset_column = pd.Series([dataset_label] * len(performance_summary), name=dataset_label)\n",
    "performance_summary.insert(0, 'new_column', dataset_column)\n",
    "\n",
    "analysis_perf_summary = { 'dataset_size': list(df.shape), 'report': performance_summary}\n",
    "\n",
    "# Performance_report is a file containing all the performance summary statistics\n",
    "if os.path.exists(performance_report):\n",
    "    print(f\"The file {performance_report} exists.\")\n",
    "    # Load Performance Report\n",
    "    with open(performance_report, 'rb') as file: perf_report = pickle.load(file)\n",
    "else:\n",
    "    print(f\"The file {performance_report} does not exist.\")\n",
    "    perf_report = {}\n",
    "    \n",
    "perf_report[dataset_label] = analysis_perf_summary\n",
    "\n",
    "# Save Performance Report\n",
    "with open(performance_report, 'wb') as file: pickle.dump(perf_report, file)"
   ]
  },
  {
   "cell_type": "markdown",
   "metadata": {},
   "source": [
    "### 4.2 Archive the Performance Detailed Statistics Report\n",
    "---"
   ]
  },
  {
   "cell_type": "code",
   "execution_count": 15,
   "metadata": {
    "execution": {
     "iopub.execute_input": "2024-06-10T21:23:03.473544Z",
     "iopub.status.busy": "2024-06-10T21:23:03.473321Z",
     "iopub.status.idle": "2024-06-10T21:23:03.488477Z",
     "shell.execute_reply": "2024-06-10T21:23:03.486814Z"
    }
   },
   "outputs": [],
   "source": [
    "# osc.stdout contains the details of the performance statistics\n",
    "\n",
    "with open(detailed_performance_report, \"w\") as file:\n",
    "    file.write(osc.stdout)"
   ]
  },
  {
   "cell_type": "markdown",
   "metadata": {},
   "source": [
    "---\n",
    "\n",
    "## 5. Performance Summary\n",
    "\n",
    "---"
   ]
  },
  {
   "cell_type": "code",
   "execution_count": 16,
   "metadata": {
    "execution": {
     "iopub.execute_input": "2024-06-10T21:23:03.493217Z",
     "iopub.status.busy": "2024-06-10T21:23:03.492916Z",
     "iopub.status.idle": "2024-06-10T21:23:03.515958Z",
     "shell.execute_reply": "2024-06-10T21:23:03.515067Z"
    }
   },
   "outputs": [
    {
     "name": "stdout",
     "output_type": "stream",
     "text": [
      "******************************************\n",
      "Performance Summary for: 5 RandomOverSampler Dataset\n",
      "******************************************\n"
     ]
    },
    {
     "data": {
      "text/html": [
       "<div>\n",
       "<style scoped>\n",
       "    .dataframe tbody tr th:only-of-type {\n",
       "        vertical-align: middle;\n",
       "    }\n",
       "\n",
       "    .dataframe tbody tr th {\n",
       "        vertical-align: top;\n",
       "    }\n",
       "\n",
       "    .dataframe thead th {\n",
       "        text-align: right;\n",
       "    }\n",
       "</style>\n",
       "<table border=\"1\" class=\"dataframe\">\n",
       "  <thead>\n",
       "    <tr style=\"text-align: right;\">\n",
       "      <th></th>\n",
       "      <th>new_column</th>\n",
       "      <th>model</th>\n",
       "      <th>slice</th>\n",
       "      <th>score</th>\n",
       "      <th>balanced_accuracy</th>\n",
       "      <th>roc_auc_score</th>\n",
       "      <th>Mean Squared Error</th>\n",
       "      <th>Accuracy</th>\n",
       "      <th>Precision</th>\n",
       "      <th>Recall</th>\n",
       "      <th>F1-score</th>\n",
       "      <th>Specificity</th>\n",
       "      <th>False Positive Rate</th>\n",
       "      <th>Matthews Correlation Coefficient</th>\n",
       "    </tr>\n",
       "  </thead>\n",
       "  <tbody>\n",
       "    <tr>\n",
       "      <th>0</th>\n",
       "      <td>5 RandomOverSampler Dataset</td>\n",
       "      <td>KNeighborsClassifier</td>\n",
       "      <td>Train</td>\n",
       "      <td>0.9386</td>\n",
       "      <td>0.9386</td>\n",
       "      <td>0.9946</td>\n",
       "      <td>0.0614</td>\n",
       "      <td>0.9386</td>\n",
       "      <td>0.9010</td>\n",
       "      <td>0.9855</td>\n",
       "      <td>0.9414</td>\n",
       "      <td>0.8917</td>\n",
       "      <td>0.1083</td>\n",
       "      <td>NaN</td>\n",
       "    </tr>\n",
       "    <tr>\n",
       "      <th>1</th>\n",
       "      <td>5 RandomOverSampler Dataset</td>\n",
       "      <td>KNeighborsClassifier</td>\n",
       "      <td>Test</td>\n",
       "      <td>0.7615</td>\n",
       "      <td>0.6397</td>\n",
       "      <td>0.6752</td>\n",
       "      <td>0.2385</td>\n",
       "      <td>0.7615</td>\n",
       "      <td>0.2899</td>\n",
       "      <td>0.4697</td>\n",
       "      <td>0.3585</td>\n",
       "      <td>0.8097</td>\n",
       "      <td>0.1903</td>\n",
       "      <td>0.2317</td>\n",
       "    </tr>\n",
       "    <tr>\n",
       "      <th>2</th>\n",
       "      <td>5 RandomOverSampler Dataset</td>\n",
       "      <td>DecisionTreeClassifier</td>\n",
       "      <td>Train</td>\n",
       "      <td>0.9944</td>\n",
       "      <td>0.9944</td>\n",
       "      <td>0.9999</td>\n",
       "      <td>0.0056</td>\n",
       "      <td>0.9944</td>\n",
       "      <td>0.9912</td>\n",
       "      <td>0.9977</td>\n",
       "      <td>0.9944</td>\n",
       "      <td>0.9911</td>\n",
       "      <td>0.0089</td>\n",
       "      <td>17.0640</td>\n",
       "    </tr>\n",
       "    <tr>\n",
       "      <th>3</th>\n",
       "      <td>5 RandomOverSampler Dataset</td>\n",
       "      <td>DecisionTreeClassifier</td>\n",
       "      <td>Test</td>\n",
       "      <td>0.7955</td>\n",
       "      <td>0.5873</td>\n",
       "      <td>0.5874</td>\n",
       "      <td>0.2045</td>\n",
       "      <td>0.7955</td>\n",
       "      <td>0.2867</td>\n",
       "      <td>0.2966</td>\n",
       "      <td>0.2916</td>\n",
       "      <td>0.8780</td>\n",
       "      <td>0.1220</td>\n",
       "      <td>0.1721</td>\n",
       "    </tr>\n",
       "    <tr>\n",
       "      <th>4</th>\n",
       "      <td>5 RandomOverSampler Dataset</td>\n",
       "      <td>RandomForestClassifier</td>\n",
       "      <td>Train</td>\n",
       "      <td>0.9944</td>\n",
       "      <td>0.9944</td>\n",
       "      <td>0.9998</td>\n",
       "      <td>0.0056</td>\n",
       "      <td>0.9944</td>\n",
       "      <td>0.9908</td>\n",
       "      <td>0.9981</td>\n",
       "      <td>0.9944</td>\n",
       "      <td>0.9907</td>\n",
       "      <td>0.0093</td>\n",
       "      <td>17.0927</td>\n",
       "    </tr>\n",
       "    <tr>\n",
       "      <th>5</th>\n",
       "      <td>5 RandomOverSampler Dataset</td>\n",
       "      <td>RandomForestClassifier</td>\n",
       "      <td>Test</td>\n",
       "      <td>0.8404</td>\n",
       "      <td>0.6161</td>\n",
       "      <td>0.7919</td>\n",
       "      <td>0.1596</td>\n",
       "      <td>0.8404</td>\n",
       "      <td>0.4147</td>\n",
       "      <td>0.3029</td>\n",
       "      <td>0.3501</td>\n",
       "      <td>0.9293</td>\n",
       "      <td>0.0707</td>\n",
       "      <td>0.2658</td>\n",
       "    </tr>\n",
       "    <tr>\n",
       "      <th>6</th>\n",
       "      <td>5 RandomOverSampler Dataset</td>\n",
       "      <td>ExtraTreesClassifier</td>\n",
       "      <td>Train</td>\n",
       "      <td>0.9944</td>\n",
       "      <td>0.9944</td>\n",
       "      <td>0.9999</td>\n",
       "      <td>0.0056</td>\n",
       "      <td>0.9944</td>\n",
       "      <td>0.9912</td>\n",
       "      <td>0.9977</td>\n",
       "      <td>0.9944</td>\n",
       "      <td>0.9911</td>\n",
       "      <td>0.0089</td>\n",
       "      <td>17.0640</td>\n",
       "    </tr>\n",
       "    <tr>\n",
       "      <th>7</th>\n",
       "      <td>5 RandomOverSampler Dataset</td>\n",
       "      <td>ExtraTreesClassifier</td>\n",
       "      <td>Test</td>\n",
       "      <td>0.8457</td>\n",
       "      <td>0.5636</td>\n",
       "      <td>0.7716</td>\n",
       "      <td>0.1543</td>\n",
       "      <td>0.8457</td>\n",
       "      <td>0.3977</td>\n",
       "      <td>0.1697</td>\n",
       "      <td>0.2379</td>\n",
       "      <td>0.9575</td>\n",
       "      <td>0.0425</td>\n",
       "      <td>0.1861</td>\n",
       "    </tr>\n",
       "    <tr>\n",
       "      <th>8</th>\n",
       "      <td>5 RandomOverSampler Dataset</td>\n",
       "      <td>GradientBoostingClassifier</td>\n",
       "      <td>Train</td>\n",
       "      <td>0.7556</td>\n",
       "      <td>0.7556</td>\n",
       "      <td>0.8336</td>\n",
       "      <td>0.2444</td>\n",
       "      <td>0.7556</td>\n",
       "      <td>0.7347</td>\n",
       "      <td>0.8002</td>\n",
       "      <td>0.7661</td>\n",
       "      <td>0.7110</td>\n",
       "      <td>0.2890</td>\n",
       "      <td>NaN</td>\n",
       "    </tr>\n",
       "    <tr>\n",
       "      <th>9</th>\n",
       "      <td>5 RandomOverSampler Dataset</td>\n",
       "      <td>GradientBoostingClassifier</td>\n",
       "      <td>Test</td>\n",
       "      <td>0.7193</td>\n",
       "      <td>0.7481</td>\n",
       "      <td>0.8270</td>\n",
       "      <td>0.2807</td>\n",
       "      <td>0.7193</td>\n",
       "      <td>0.3086</td>\n",
       "      <td>0.7882</td>\n",
       "      <td>0.4435</td>\n",
       "      <td>0.7079</td>\n",
       "      <td>0.2921</td>\n",
       "      <td>0.3602</td>\n",
       "    </tr>\n",
       "    <tr>\n",
       "      <th>10</th>\n",
       "      <td>5 RandomOverSampler Dataset</td>\n",
       "      <td>AdaBoostClassifier</td>\n",
       "      <td>Train</td>\n",
       "      <td>0.7498</td>\n",
       "      <td>0.7498</td>\n",
       "      <td>0.8284</td>\n",
       "      <td>0.2502</td>\n",
       "      <td>0.7498</td>\n",
       "      <td>0.7391</td>\n",
       "      <td>0.7724</td>\n",
       "      <td>0.7554</td>\n",
       "      <td>0.7273</td>\n",
       "      <td>0.2727</td>\n",
       "      <td>13.4932</td>\n",
       "    </tr>\n",
       "    <tr>\n",
       "      <th>11</th>\n",
       "      <td>5 RandomOverSampler Dataset</td>\n",
       "      <td>AdaBoostClassifier</td>\n",
       "      <td>Test</td>\n",
       "      <td>0.7309</td>\n",
       "      <td>0.7443</td>\n",
       "      <td>0.8229</td>\n",
       "      <td>0.2691</td>\n",
       "      <td>0.7309</td>\n",
       "      <td>0.3150</td>\n",
       "      <td>0.7630</td>\n",
       "      <td>0.4459</td>\n",
       "      <td>0.7256</td>\n",
       "      <td>0.2744</td>\n",
       "      <td>0.3590</td>\n",
       "    </tr>\n",
       "    <tr>\n",
       "      <th>12</th>\n",
       "      <td>5 RandomOverSampler Dataset</td>\n",
       "      <td>LogisticRegression</td>\n",
       "      <td>Train</td>\n",
       "      <td>0.7470</td>\n",
       "      <td>0.7470</td>\n",
       "      <td>0.8243</td>\n",
       "      <td>0.2530</td>\n",
       "      <td>0.7470</td>\n",
       "      <td>0.7373</td>\n",
       "      <td>0.7674</td>\n",
       "      <td>0.7520</td>\n",
       "      <td>0.7266</td>\n",
       "      <td>0.2734</td>\n",
       "      <td>11.8617</td>\n",
       "    </tr>\n",
       "    <tr>\n",
       "      <th>13</th>\n",
       "      <td>5 RandomOverSampler Dataset</td>\n",
       "      <td>LogisticRegression</td>\n",
       "      <td>Test</td>\n",
       "      <td>0.7319</td>\n",
       "      <td>0.7439</td>\n",
       "      <td>0.8193</td>\n",
       "      <td>0.2681</td>\n",
       "      <td>0.7319</td>\n",
       "      <td>0.3155</td>\n",
       "      <td>0.7606</td>\n",
       "      <td>0.4460</td>\n",
       "      <td>0.7272</td>\n",
       "      <td>0.2728</td>\n",
       "      <td>0.3588</td>\n",
       "    </tr>\n",
       "  </tbody>\n",
       "</table>\n",
       "</div>"
      ],
      "text/plain": [
       "                     new_column                       model  slice   score  \\\n",
       "0   5 RandomOverSampler Dataset        KNeighborsClassifier  Train  0.9386   \n",
       "1   5 RandomOverSampler Dataset        KNeighborsClassifier   Test  0.7615   \n",
       "2   5 RandomOverSampler Dataset      DecisionTreeClassifier  Train  0.9944   \n",
       "3   5 RandomOverSampler Dataset      DecisionTreeClassifier   Test  0.7955   \n",
       "4   5 RandomOverSampler Dataset      RandomForestClassifier  Train  0.9944   \n",
       "5   5 RandomOverSampler Dataset      RandomForestClassifier   Test  0.8404   \n",
       "6   5 RandomOverSampler Dataset        ExtraTreesClassifier  Train  0.9944   \n",
       "7   5 RandomOverSampler Dataset        ExtraTreesClassifier   Test  0.8457   \n",
       "8   5 RandomOverSampler Dataset  GradientBoostingClassifier  Train  0.7556   \n",
       "9   5 RandomOverSampler Dataset  GradientBoostingClassifier   Test  0.7193   \n",
       "10  5 RandomOverSampler Dataset          AdaBoostClassifier  Train  0.7498   \n",
       "11  5 RandomOverSampler Dataset          AdaBoostClassifier   Test  0.7309   \n",
       "12  5 RandomOverSampler Dataset          LogisticRegression  Train  0.7470   \n",
       "13  5 RandomOverSampler Dataset          LogisticRegression   Test  0.7319   \n",
       "\n",
       "    balanced_accuracy  roc_auc_score  Mean Squared Error  Accuracy  Precision  \\\n",
       "0              0.9386         0.9946              0.0614    0.9386     0.9010   \n",
       "1              0.6397         0.6752              0.2385    0.7615     0.2899   \n",
       "2              0.9944         0.9999              0.0056    0.9944     0.9912   \n",
       "3              0.5873         0.5874              0.2045    0.7955     0.2867   \n",
       "4              0.9944         0.9998              0.0056    0.9944     0.9908   \n",
       "5              0.6161         0.7919              0.1596    0.8404     0.4147   \n",
       "6              0.9944         0.9999              0.0056    0.9944     0.9912   \n",
       "7              0.5636         0.7716              0.1543    0.8457     0.3977   \n",
       "8              0.7556         0.8336              0.2444    0.7556     0.7347   \n",
       "9              0.7481         0.8270              0.2807    0.7193     0.3086   \n",
       "10             0.7498         0.8284              0.2502    0.7498     0.7391   \n",
       "11             0.7443         0.8229              0.2691    0.7309     0.3150   \n",
       "12             0.7470         0.8243              0.2530    0.7470     0.7373   \n",
       "13             0.7439         0.8193              0.2681    0.7319     0.3155   \n",
       "\n",
       "    Recall  F1-score  Specificity  False Positive Rate  \\\n",
       "0   0.9855    0.9414       0.8917               0.1083   \n",
       "1   0.4697    0.3585       0.8097               0.1903   \n",
       "2   0.9977    0.9944       0.9911               0.0089   \n",
       "3   0.2966    0.2916       0.8780               0.1220   \n",
       "4   0.9981    0.9944       0.9907               0.0093   \n",
       "5   0.3029    0.3501       0.9293               0.0707   \n",
       "6   0.9977    0.9944       0.9911               0.0089   \n",
       "7   0.1697    0.2379       0.9575               0.0425   \n",
       "8   0.8002    0.7661       0.7110               0.2890   \n",
       "9   0.7882    0.4435       0.7079               0.2921   \n",
       "10  0.7724    0.7554       0.7273               0.2727   \n",
       "11  0.7630    0.4459       0.7256               0.2744   \n",
       "12  0.7674    0.7520       0.7266               0.2734   \n",
       "13  0.7606    0.4460       0.7272               0.2728   \n",
       "\n",
       "    Matthews Correlation Coefficient  \n",
       "0                                NaN  \n",
       "1                             0.2317  \n",
       "2                            17.0640  \n",
       "3                             0.1721  \n",
       "4                            17.0927  \n",
       "5                             0.2658  \n",
       "6                            17.0640  \n",
       "7                             0.1861  \n",
       "8                                NaN  \n",
       "9                             0.3602  \n",
       "10                           13.4932  \n",
       "11                            0.3590  \n",
       "12                           11.8617  \n",
       "13                            0.3588  "
      ]
     },
     "execution_count": 16,
     "metadata": {},
     "output_type": "execute_result"
    }
   ],
   "source": [
    "# print the performance summary\n",
    "print(f\"******************************************\")\n",
    "print(f\"Performance Summary for: {dataset_label}\")\n",
    "print(f\"******************************************\")\n",
    "\n",
    "performance_summary"
   ]
  },
  {
   "cell_type": "code",
   "execution_count": 17,
   "metadata": {
    "execution": {
     "iopub.execute_input": "2024-06-10T21:23:03.519003Z",
     "iopub.status.busy": "2024-06-10T21:23:03.518755Z",
     "iopub.status.idle": "2024-06-10T21:23:03.523394Z",
     "shell.execute_reply": "2024-06-10T21:23:03.522326Z"
    }
   },
   "outputs": [
    {
     "name": "stdout",
     "output_type": "stream",
     "text": [
      "Completed: Execution Time 859.36 seconds:\n"
     ]
    }
   ],
   "source": [
    "print(f\"Completed: Execution Time %s seconds:\" % round((time.time() - start_time),2) )"
   ]
  },
  {
   "cell_type": "markdown",
   "metadata": {},
   "source": [
    "---\n",
    "\n",
    "## 6. Conclusions\n",
    "\n",
    "- A first glance at the summary, it appears that the Boosting models may have performed well with test/train scores were >.8 and similar in scale (<.02 delta).  However, the poor test confusion matrix and balanced accuracy highlight the overfitting.\n",
    "\n",
    "- The Base Cleaned data is overfit as indicated by:\n",
    "    - Poor confusion matrix on the detailed report for test sets on all models\n",
    "    - Low balanced accuracy as compared to the model score (less than 50%)\n"
   ]
  },
  {
   "cell_type": "markdown",
   "metadata": {},
   "source": [
    "---\n",
    "\n",
    "---"
   ]
  }
 ],
 "metadata": {
  "kernelspec": {
   "display_name": "dev",
   "language": "python",
   "name": "python3"
  },
  "language_info": {
   "codemirror_mode": {
    "name": "ipython",
    "version": 3
   },
   "file_extension": ".py",
   "mimetype": "text/x-python",
   "name": "python",
   "nbconvert_exporter": "python",
   "pygments_lexer": "ipython3",
   "version": "3.12.2"
  }
 },
 "nbformat": 4,
 "nbformat_minor": 2
}
