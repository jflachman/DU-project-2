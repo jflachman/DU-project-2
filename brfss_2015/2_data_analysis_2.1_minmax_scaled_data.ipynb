{
 "cells": [
  {
   "cell_type": "markdown",
   "metadata": {},
   "source": [
    "---\n",
    "\n",
    "## Data Analysis\n",
    "\n",
    "- This file differs from [2_data_analysis_1_base_data.ipynb](2_data_analysis_1_base_data.ipynb) in that it:\n",
    "    - scales the base cleaned data created in [1_data_cleaning.ipynb](1_data_cleaning.ipynb).\n",
    "\n",
    "Source dataset: 247076 rows × 37 columns\n",
    "Processed and analyzed dataset: 247076 rows × 37 columns\n",
    "\n",
    "---"
   ]
  },
  {
   "cell_type": "code",
   "execution_count": 1,
   "metadata": {
    "execution": {
     "iopub.execute_input": "2024-06-10T20:55:49.144616Z",
     "iopub.status.busy": "2024-06-10T20:55:49.144292Z",
     "iopub.status.idle": "2024-06-10T20:55:50.232786Z",
     "shell.execute_reply": "2024-06-10T20:55:50.232109Z"
    }
   },
   "outputs": [],
   "source": [
    "# package imports go here\n",
    "import pandas as pd\n",
    "import numpy as np\n",
    "import fastparquet as fp\n",
    "import os\n",
    "import sys\n",
    "import pickle\n",
    "import matplotlib.pyplot as plt\n",
    "import importlib\n",
    "import config\n",
    "import time\n",
    "\n",
    "sys.path.insert(1, config.package_path)\n",
    "import ml_analysis as mlanlys\n",
    "import ml_clean_feature as mlclean"
   ]
  },
  {
   "cell_type": "code",
   "execution_count": 2,
   "metadata": {
    "execution": {
     "iopub.execute_input": "2024-06-10T20:55:50.235567Z",
     "iopub.status.busy": "2024-06-10T20:55:50.235144Z",
     "iopub.status.idle": "2024-06-10T20:55:50.238755Z",
     "shell.execute_reply": "2024-06-10T20:55:50.238119Z"
    }
   },
   "outputs": [],
   "source": [
    "start_time = time.time()"
   ]
  },
  {
   "cell_type": "markdown",
   "metadata": {},
   "source": [
    "---\n",
    "\n",
    "## 1. Read the cleaned dataset from file\n",
    "\n",
    "---"
   ]
  },
  {
   "cell_type": "code",
   "execution_count": 3,
   "metadata": {
    "execution": {
     "iopub.execute_input": "2024-06-10T20:55:50.241019Z",
     "iopub.status.busy": "2024-06-10T20:55:50.240797Z",
     "iopub.status.idle": "2024-06-10T20:55:50.253604Z",
     "shell.execute_reply": "2024-06-10T20:55:50.252297Z"
    }
   },
   "outputs": [
    {
     "name": "stdout",
     "output_type": "stream",
     "text": [
      "Year:                        2015\n",
      "Clean File:                  data/brfss_2015_clean.parquet.gzip\n",
      "Performance Report:          reports/performance_report.pkl\n",
      "Detailed Performance Report: reports/2.1_minmaxscaler_dataset_detailed_performance_report.txt\n"
     ]
    }
   ],
   "source": [
    "# reload any changes to Config Settings\n",
    "importlib.reload(config)\n",
    "\n",
    "# BE SURE TO UPDATE THE LABEL FOR THIS ANALYSIS\n",
    "# #############################\n",
    "dataset_label = '2.1 MinMaxScaler Dataset'\n",
    "# #############################\n",
    "\n",
    "year                        = config.year\n",
    "\n",
    "clean_file                  = config.clean_file\n",
    "performance_report          = config.performance_report\n",
    "\n",
    "report_path                 = config.report_path\n",
    "file_label                  = dataset_label.lower().replace(' ','_')\n",
    "detailed_performance_report = report_path + file_label + '_detailed_performance_report.txt'\n",
    "\n",
    "print(f\"Year:                        {year}\")\n",
    "print(f\"Clean File:                  {clean_file}\")\n",
    "print(f\"Performance Report:          {performance_report}\")\n",
    "print(f\"Detailed Performance Report: {detailed_performance_report}\")"
   ]
  },
  {
   "cell_type": "code",
   "execution_count": 4,
   "metadata": {
    "execution": {
     "iopub.execute_input": "2024-06-10T20:55:50.256812Z",
     "iopub.status.busy": "2024-06-10T20:55:50.256520Z",
     "iopub.status.idle": "2024-06-10T20:55:50.482550Z",
     "shell.execute_reply": "2024-06-10T20:55:50.481280Z"
    }
   },
   "outputs": [],
   "source": [
    "# Read final cleaned dataset from parquet file\n",
    "df = pd.read_parquet(clean_file, engine=\"fastparquet\")"
   ]
  },
  {
   "cell_type": "code",
   "execution_count": 5,
   "metadata": {
    "execution": {
     "iopub.execute_input": "2024-06-10T20:55:50.486533Z",
     "iopub.status.busy": "2024-06-10T20:55:50.486141Z",
     "iopub.status.idle": "2024-06-10T20:55:50.491177Z",
     "shell.execute_reply": "2024-06-10T20:55:50.490038Z"
    }
   },
   "outputs": [],
   "source": [
    "diabetes_labels = df.columns"
   ]
  },
  {
   "cell_type": "code",
   "execution_count": 6,
   "metadata": {
    "execution": {
     "iopub.execute_input": "2024-06-10T20:55:50.493986Z",
     "iopub.status.busy": "2024-06-10T20:55:50.493781Z",
     "iopub.status.idle": "2024-06-10T20:55:50.501528Z",
     "shell.execute_reply": "2024-06-10T20:55:50.500336Z"
    }
   },
   "outputs": [
    {
     "data": {
      "text/plain": [
       "(253680, 22)"
      ]
     },
     "execution_count": 6,
     "metadata": {},
     "output_type": "execute_result"
    }
   ],
   "source": [
    "df.shape"
   ]
  },
  {
   "cell_type": "markdown",
   "metadata": {},
   "source": [
    "---\n",
    "\n",
    "## 2. Prepare the dataset for analysis\n",
    "\n",
    "- Split the dataset into features and labels.\n",
    "- Split the dataset into training and testing sets.\n",
    "- Scale the dataset\n",
    "\n",
    "---"
   ]
  },
  {
   "cell_type": "code",
   "execution_count": 7,
   "metadata": {
    "execution": {
     "iopub.execute_input": "2024-06-10T20:55:50.504630Z",
     "iopub.status.busy": "2024-06-10T20:55:50.504372Z",
     "iopub.status.idle": "2024-06-10T20:55:50.545580Z",
     "shell.execute_reply": "2024-06-10T20:55:50.544448Z"
    }
   },
   "outputs": [],
   "source": [
    "from sklearn.datasets import make_regression, make_swiss_roll\n",
    "from sklearn.model_selection import train_test_split\n",
    "from sklearn.preprocessing import StandardScaler"
   ]
  },
  {
   "cell_type": "code",
   "execution_count": 8,
   "metadata": {
    "execution": {
     "iopub.execute_input": "2024-06-10T20:55:50.548973Z",
     "iopub.status.busy": "2024-06-10T20:55:50.548632Z",
     "iopub.status.idle": "2024-06-10T20:55:50.717616Z",
     "shell.execute_reply": "2024-06-10T20:55:50.716673Z"
    }
   },
   "outputs": [
    {
     "name": "stdout",
     "output_type": "stream",
     "text": [
      "Base Dataset Modifications in Process\n",
      "-------------------------------------\n",
      "**Operation:target_column  diabetes\n",
      "**Operation:convert_to_binary  False\n",
      "**Operation:scaler  minmax\n",
      "  -- Performing train_test_split on dataframe with target:'diabetes'\n",
      "     -- Run automatically before scalar or random_sample operations\n",
      "  -- Performing MinMaxScaler on X_train: Updates X_train, y_test\n",
      "**Operation:random_sample  none\n",
      "\n",
      "Dataframe, Train Test Summary\n",
      "-----------------------------\n",
      "Dataframe: (253680, 22)  Data:4, X_train:190260, y_train:190260, X_test:63420, y_test:63420\n",
      "ValueCounts:   y_train: len:2   0: 160319   1:  3495\n",
      "ValueCounts:   y_test : len:2   0:  53384   1:  1136\n"
     ]
    }
   ],
   "source": [
    "# reload any changes to mlanlys\n",
    "importlib.reload(mlanlys)\n",
    "\n",
    "target = 'diabetes'\n",
    "# Dictionary defining modification to be made to the base dataset\n",
    "operation_dict = {  'target_column'     :  target,\n",
    "                    'convert_to_binary' :  False,\n",
    "                    'scaler'            : 'minmax', # options: none, standard, minmax\n",
    "                    'random_sample'     : 'none'      # options: none, undersample, oversample\n",
    "                    }\n",
    "\n",
    "# This insures that df if not modified during the call to modify_base_dataset()\n",
    "df_modified = df.copy()\n",
    "\n",
    "# Modify the base dataset\n",
    "# data is returned where: X_train, X_test, y_train, y_test = data\n",
    "data = mlanlys.modify_base_dataset(df_modified, operation_dict)"
   ]
  },
  {
   "cell_type": "code",
   "execution_count": 9,
   "metadata": {
    "execution": {
     "iopub.execute_input": "2024-06-10T20:55:50.720335Z",
     "iopub.status.busy": "2024-06-10T20:55:50.720015Z",
     "iopub.status.idle": "2024-06-10T20:55:50.729713Z",
     "shell.execute_reply": "2024-06-10T20:55:50.729105Z"
    }
   },
   "outputs": [
    {
     "name": "stdout",
     "output_type": "stream",
     "text": [
      "Original Dataframe\n",
      "------------------\n",
      "df.shape: (253680, 22)\n",
      "df[diabetes].value_counts:  diabetes\n",
      "0.0    213703\n",
      "2.0     35346\n",
      "1.0      4631\n",
      "Name: count, dtype: int64\n",
      "\n",
      "Modified Dataframe\n",
      "------------------\n",
      "df_modified.shape: (253680, 22)\n",
      "df_modified[diabetes].value_counts:  diabetes\n",
      "0.0    213703\n",
      "2.0     35346\n",
      "1.0      4631\n",
      "Name: count, dtype: int64\n"
     ]
    }
   ],
   "source": [
    "# Print some statistics about the original df and the modified dataframe\n",
    "print(f\"Original Dataframe\")\n",
    "print(f\"------------------\")\n",
    "print(f\"df.shape: {df.shape}\")\n",
    "print(f\"df[{target}].value_counts:  {df[target].value_counts()}\")\n",
    "\n",
    "print(f\"\\nModified Dataframe\")\n",
    "print(f\"------------------\")\n",
    "print(f\"df_modified.shape: {df_modified.shape}\")\n",
    "print(f\"df_modified[{target}].value_counts:  {df_modified[target].value_counts()}\")"
   ]
  },
  {
   "cell_type": "code",
   "execution_count": 10,
   "metadata": {
    "execution": {
     "iopub.execute_input": "2024-06-10T20:55:50.732059Z",
     "iopub.status.busy": "2024-06-10T20:55:50.731838Z",
     "iopub.status.idle": "2024-06-10T20:55:50.739391Z",
     "shell.execute_reply": "2024-06-10T20:55:50.738594Z"
    }
   },
   "outputs": [
    {
     "name": "stdout",
     "output_type": "stream",
     "text": [
      "Dataframe: (253680, 22)  Data:4, X_train:190260, y_train:190260, X_test:63420, y_test:63420\n"
     ]
    },
    {
     "data": {
      "text/plain": [
       "diabetes\n",
       "0.0    160319\n",
       "2.0     26446\n",
       "1.0      3495\n",
       "Name: count, dtype: int64"
      ]
     },
     "execution_count": 10,
     "metadata": {},
     "output_type": "execute_result"
    }
   ],
   "source": [
    "X_train, X_test, y_train, y_test = data\n",
    "print(f\"Dataframe: {df_modified.shape}  Data:{len(data)}, X_train:{len(X_train)}, y_train:{len(y_train)}, X_test:{len(X_test)}, y_test:{len(y_test)}\")\n",
    "y_train.value_counts()"
   ]
  },
  {
   "cell_type": "code",
   "execution_count": 11,
   "metadata": {
    "execution": {
     "iopub.execute_input": "2024-06-10T20:55:50.741914Z",
     "iopub.status.busy": "2024-06-10T20:55:50.741685Z",
     "iopub.status.idle": "2024-06-10T20:55:50.747739Z",
     "shell.execute_reply": "2024-06-10T20:55:50.746864Z"
    }
   },
   "outputs": [
    {
     "data": {
      "text/plain": [
       "diabetes\n",
       "0.0    53384\n",
       "2.0     8900\n",
       "1.0     1136\n",
       "Name: count, dtype: int64"
      ]
     },
     "execution_count": 11,
     "metadata": {},
     "output_type": "execute_result"
    }
   ],
   "source": [
    "y_test.value_counts()"
   ]
  },
  {
   "cell_type": "markdown",
   "metadata": {},
   "source": [
    "---\n",
    "\n",
    "## 3. Run initial Tests and get k_value\n",
    "\n",
    "**From step 2:**  Data = [X_train_modified, X_test_modified, y_train_modified, y_test]\n",
    "\n",
    "---"
   ]
  },
  {
   "cell_type": "code",
   "execution_count": 12,
   "metadata": {
    "execution": {
     "iopub.execute_input": "2024-06-10T20:55:50.750082Z",
     "iopub.status.busy": "2024-06-10T20:55:50.749887Z",
     "iopub.status.idle": "2024-06-10T20:55:50.765954Z",
     "shell.execute_reply": "2024-06-10T20:55:50.765146Z"
    }
   },
   "outputs": [
    {
     "data": {
      "text/plain": [
       "<module 'ml_analysis' from '/mnt/c/ML/DU/repos/projects/project-2/DU-project-2-2015/brfss_2015/../pkgs/ml_analysis.py'>"
      ]
     },
     "execution_count": 12,
     "metadata": {},
     "output_type": "execute_result"
    }
   ],
   "source": [
    "# reload any changes to mlanlys\n",
    "importlib.reload(mlanlys)\n",
    "\n",
    "# Determine the k_value\n",
    "# mlanlys.knn_plot(data)"
   ]
  },
  {
   "cell_type": "markdown",
   "metadata": {},
   "source": [
    "**Note:** From the knn plot above, pick a k-value of 3."
   ]
  },
  {
   "cell_type": "markdown",
   "metadata": {},
   "source": [
    "---\n",
    "\n",
    "## 4. Run the Analysis\n",
    "\n",
    "---\n",
    "\n",
    "#### Model Run Times\n",
    "\n",
    "-  Base dataset (247076 rows × 37 columns):\n",
    "\n",
    "| Model | Run Time |\n",
    "| ----- | -------- |\n",
    "| test_model(SVC(kernel='linear'), data)                          | Aborted >35min (Data too large, consider for RandomUndersampling dataset) |\n",
    "| test_model(KNeighborsClassifier(n_neighbors=k_value), data)     | 247.13 seconds |\n",
    "| test_model(tree.DecisionTreeClassifier(), data)                 |   3.89 seconds |\n",
    "| test_model(RandomForestClassifier(), data)                      |  60.94 seconds |\n",
    "| test_model(ExtraTreesClassifier(random_state=1), data)          |  58.54 seconds |\n",
    "| test_model(GradientBoostingClassifier(random_state=1), data)    | 115.21 seconds |\n",
    "| test_model(AdaBoostClassifier(random_state=1), data)            |  11.91 seconds |\n",
    "| test_model(LogisticRegression(), data)                          |   4.90 seconds |\n",
    "| **Total** w/o SVC| 502.52 seconds / **8:23 minutes** |"
   ]
  },
  {
   "cell_type": "code",
   "execution_count": 13,
   "metadata": {
    "execution": {
     "iopub.execute_input": "2024-06-10T20:55:50.768874Z",
     "iopub.status.busy": "2024-06-10T20:55:50.768235Z",
     "iopub.status.idle": "2024-06-10T21:02:06.754475Z",
     "shell.execute_reply": "2024-06-10T21:02:06.753353Z"
    }
   },
   "outputs": [],
   "source": [
    "# reload any changes to nlanlys\n",
    "importlib.reload(mlanlys)\n",
    "\n",
    "k_value = 3\n",
    "\n",
    "#### COMMENT OUT ONE OF THE FOLLOWING SECTIONS\n",
    "\n",
    "## SECTION 1\n",
    "# Capture stdout & stderr into two strings: osc.stdout and osc.stderr that contain the output from the function\n",
    "# -- This allows the output to be printed here or to a file or both.\n",
    "\n",
    "with mlanlys.OutStreamCapture() as osc:\n",
    "    performance_summary = mlanlys.run_classification_models(data, k_value)\n",
    "#    performance_summary = mlanlys.run_classification_models_test(data, k_value)\n",
    "\n",
    "## <OR>\n",
    "## SECTION 2\n",
    "\n",
    "# performance_summary = mlanlys.run_classification_models(data, k_value)\n"
   ]
  },
  {
   "cell_type": "code",
   "execution_count": 14,
   "metadata": {
    "execution": {
     "iopub.execute_input": "2024-06-10T21:02:06.760213Z",
     "iopub.status.busy": "2024-06-10T21:02:06.759902Z",
     "iopub.status.idle": "2024-06-10T21:02:06.764867Z",
     "shell.execute_reply": "2024-06-10T21:02:06.763532Z"
    }
   },
   "outputs": [],
   "source": [
    "# UNCOMMENT if using SECTION 1 in the previous step\n",
    "# print(osc.stdout)\n",
    "\n",
    "# Add code to print osc.stdout to a file if desired."
   ]
  },
  {
   "cell_type": "markdown",
   "metadata": {},
   "source": [
    "---\n",
    "\n",
    "### 4.1 Archive Performance Summary\n",
    "\n",
    "- For use in Project-2 Performance Summary Report\n",
    "---"
   ]
  },
  {
   "cell_type": "code",
   "execution_count": 15,
   "metadata": {
    "execution": {
     "iopub.execute_input": "2024-06-10T21:02:06.768941Z",
     "iopub.status.busy": "2024-06-10T21:02:06.768535Z",
     "iopub.status.idle": "2024-06-10T21:02:06.821450Z",
     "shell.execute_reply": "2024-06-10T21:02:06.819456Z"
    }
   },
   "outputs": [
    {
     "name": "stdout",
     "output_type": "stream",
     "text": [
      "The file reports/performance_report.pkl exists.\n"
     ]
    }
   ],
   "source": [
    "# performance_summary is a dataframe of performance statistics\n",
    "\n",
    "# Add the dataset label as the first column in performance_summary\n",
    "dataset_column = pd.Series([dataset_label] * len(performance_summary), name=dataset_label)\n",
    "performance_summary.insert(0, 'new_column', dataset_column)\n",
    "\n",
    "analysis_perf_summary = { 'dataset_size': list(df.shape), 'report': performance_summary}\n",
    "\n",
    "# Performance_report is a file containing all the performance summary statistics\n",
    "if os.path.exists(performance_report):\n",
    "    print(f\"The file {performance_report} exists.\")\n",
    "    # Load Performance Report\n",
    "    with open(performance_report, 'rb') as file: perf_report = pickle.load(file)\n",
    "else:\n",
    "    print(f\"The file {performance_report} does not exist.\")\n",
    "    perf_report = {}\n",
    "    \n",
    "perf_report[dataset_label] = analysis_perf_summary\n",
    "\n",
    "# Save Performance Report\n",
    "with open(performance_report, 'wb') as file: pickle.dump(perf_report, file)"
   ]
  },
  {
   "cell_type": "markdown",
   "metadata": {},
   "source": [
    "### 4.2 Archive the Performance Detailed Statistics Report\n",
    "---"
   ]
  },
  {
   "cell_type": "code",
   "execution_count": 16,
   "metadata": {
    "execution": {
     "iopub.execute_input": "2024-06-10T21:02:06.827496Z",
     "iopub.status.busy": "2024-06-10T21:02:06.827049Z",
     "iopub.status.idle": "2024-06-10T21:02:06.853490Z",
     "shell.execute_reply": "2024-06-10T21:02:06.851625Z"
    }
   },
   "outputs": [],
   "source": [
    "# osc.stdout contains the details of the performance statistics\n",
    "\n",
    "with open(detailed_performance_report, \"w\") as file:\n",
    "    file.write(osc.stdout)"
   ]
  },
  {
   "cell_type": "markdown",
   "metadata": {},
   "source": [
    "---\n",
    "\n",
    "## 5. Performance Summary\n",
    "\n",
    "---"
   ]
  },
  {
   "cell_type": "code",
   "execution_count": 17,
   "metadata": {
    "execution": {
     "iopub.execute_input": "2024-06-10T21:02:06.860492Z",
     "iopub.status.busy": "2024-06-10T21:02:06.859001Z",
     "iopub.status.idle": "2024-06-10T21:02:06.886313Z",
     "shell.execute_reply": "2024-06-10T21:02:06.885535Z"
    }
   },
   "outputs": [
    {
     "name": "stdout",
     "output_type": "stream",
     "text": [
      "******************************************\n",
      "Performance Summary for: 2.1 MinMaxScaler Dataset\n",
      "******************************************\n"
     ]
    },
    {
     "data": {
      "text/html": [
       "<div>\n",
       "<style scoped>\n",
       "    .dataframe tbody tr th:only-of-type {\n",
       "        vertical-align: middle;\n",
       "    }\n",
       "\n",
       "    .dataframe tbody tr th {\n",
       "        vertical-align: top;\n",
       "    }\n",
       "\n",
       "    .dataframe thead th {\n",
       "        text-align: right;\n",
       "    }\n",
       "</style>\n",
       "<table border=\"1\" class=\"dataframe\">\n",
       "  <thead>\n",
       "    <tr style=\"text-align: right;\">\n",
       "      <th></th>\n",
       "      <th>new_column</th>\n",
       "      <th>model</th>\n",
       "      <th>slice</th>\n",
       "      <th>score</th>\n",
       "      <th>balanced_accuracy</th>\n",
       "      <th>roc_auc_score</th>\n",
       "      <th>Mean Squared Error</th>\n",
       "      <th>Accuracy</th>\n",
       "      <th>Precision</th>\n",
       "      <th>Recall</th>\n",
       "      <th>F1-score</th>\n",
       "      <th>Specificity</th>\n",
       "      <th>False Positive Rate</th>\n",
       "      <th>Matthews Correlation Coefficient</th>\n",
       "    </tr>\n",
       "  </thead>\n",
       "  <tbody>\n",
       "    <tr>\n",
       "      <th>0</th>\n",
       "      <td>2.1 MinMaxScaler Dataset</td>\n",
       "      <td>KNeighborsClassifier</td>\n",
       "      <td>Train</td>\n",
       "      <td>0.8850</td>\n",
       "      <td>0.4980</td>\n",
       "      <td>0.9466</td>\n",
       "      <td>0.4065</td>\n",
       "      <td>0.9015</td>\n",
       "      <td>0.7246</td>\n",
       "      <td>0.4699</td>\n",
       "      <td>0.5701</td>\n",
       "      <td>0.9712</td>\n",
       "      <td>0.0288</td>\n",
       "      <td>NaN</td>\n",
       "    </tr>\n",
       "    <tr>\n",
       "      <th>1</th>\n",
       "      <td>2.1 MinMaxScaler Dataset</td>\n",
       "      <td>KNeighborsClassifier</td>\n",
       "      <td>Test</td>\n",
       "      <td>0.8169</td>\n",
       "      <td>0.3854</td>\n",
       "      <td>0.6223</td>\n",
       "      <td>0.6750</td>\n",
       "      <td>0.8328</td>\n",
       "      <td>0.3479</td>\n",
       "      <td>0.2189</td>\n",
       "      <td>0.2687</td>\n",
       "      <td>0.9330</td>\n",
       "      <td>0.0670</td>\n",
       "      <td>0.1859</td>\n",
       "    </tr>\n",
       "    <tr>\n",
       "      <th>2</th>\n",
       "      <td>2.1 MinMaxScaler Dataset</td>\n",
       "      <td>DecisionTreeClassifier</td>\n",
       "      <td>Train</td>\n",
       "      <td>0.9938</td>\n",
       "      <td>0.9699</td>\n",
       "      <td>0.9999</td>\n",
       "      <td>0.0215</td>\n",
       "      <td>0.9948</td>\n",
       "      <td>0.9988</td>\n",
       "      <td>0.9635</td>\n",
       "      <td>0.9808</td>\n",
       "      <td>0.9998</td>\n",
       "      <td>0.0002</td>\n",
       "      <td>NaN</td>\n",
       "    </tr>\n",
       "    <tr>\n",
       "      <th>3</th>\n",
       "      <td>2.1 MinMaxScaler Dataset</td>\n",
       "      <td>DecisionTreeClassifier</td>\n",
       "      <td>Test</td>\n",
       "      <td>0.7664</td>\n",
       "      <td>0.4040</td>\n",
       "      <td>0.5678</td>\n",
       "      <td>0.8147</td>\n",
       "      <td>0.7966</td>\n",
       "      <td>0.2936</td>\n",
       "      <td>0.3196</td>\n",
       "      <td>0.3060</td>\n",
       "      <td>0.8745</td>\n",
       "      <td>0.1255</td>\n",
       "      <td>0.1873</td>\n",
       "    </tr>\n",
       "    <tr>\n",
       "      <th>4</th>\n",
       "      <td>2.1 MinMaxScaler Dataset</td>\n",
       "      <td>RandomForestClassifier</td>\n",
       "      <td>Train</td>\n",
       "      <td>0.9938</td>\n",
       "      <td>0.9704</td>\n",
       "      <td>0.9995</td>\n",
       "      <td>0.0216</td>\n",
       "      <td>0.9947</td>\n",
       "      <td>0.9950</td>\n",
       "      <td>0.9670</td>\n",
       "      <td>0.9808</td>\n",
       "      <td>0.9992</td>\n",
       "      <td>0.0008</td>\n",
       "      <td>NaN</td>\n",
       "    </tr>\n",
       "    <tr>\n",
       "      <th>5</th>\n",
       "      <td>2.1 MinMaxScaler Dataset</td>\n",
       "      <td>RandomForestClassifier</td>\n",
       "      <td>Test</td>\n",
       "      <td>0.8410</td>\n",
       "      <td>0.3871</td>\n",
       "      <td>0.7364</td>\n",
       "      <td>0.5796</td>\n",
       "      <td>0.8576</td>\n",
       "      <td>0.4817</td>\n",
       "      <td>0.1926</td>\n",
       "      <td>0.2752</td>\n",
       "      <td>0.9662</td>\n",
       "      <td>0.0338</td>\n",
       "      <td>0.2396</td>\n",
       "    </tr>\n",
       "    <tr>\n",
       "      <th>6</th>\n",
       "      <td>2.1 MinMaxScaler Dataset</td>\n",
       "      <td>ExtraTreesClassifier</td>\n",
       "      <td>Train</td>\n",
       "      <td>0.9938</td>\n",
       "      <td>0.9699</td>\n",
       "      <td>0.9999</td>\n",
       "      <td>0.0215</td>\n",
       "      <td>0.9948</td>\n",
       "      <td>0.9988</td>\n",
       "      <td>0.9635</td>\n",
       "      <td>0.9808</td>\n",
       "      <td>0.9998</td>\n",
       "      <td>0.0002</td>\n",
       "      <td>NaN</td>\n",
       "    </tr>\n",
       "    <tr>\n",
       "      <th>7</th>\n",
       "      <td>2.1 MinMaxScaler Dataset</td>\n",
       "      <td>ExtraTreesClassifier</td>\n",
       "      <td>Test</td>\n",
       "      <td>0.8323</td>\n",
       "      <td>0.3845</td>\n",
       "      <td>0.7171</td>\n",
       "      <td>0.6112</td>\n",
       "      <td>0.8497</td>\n",
       "      <td>0.4216</td>\n",
       "      <td>0.1916</td>\n",
       "      <td>0.2635</td>\n",
       "      <td>0.9571</td>\n",
       "      <td>0.0429</td>\n",
       "      <td>0.2113</td>\n",
       "    </tr>\n",
       "    <tr>\n",
       "      <th>8</th>\n",
       "      <td>2.1 MinMaxScaler Dataset</td>\n",
       "      <td>GradientBoostingClassifier</td>\n",
       "      <td>Train</td>\n",
       "      <td>0.8511</td>\n",
       "      <td>0.3920</td>\n",
       "      <td>0.7963</td>\n",
       "      <td>0.5405</td>\n",
       "      <td>0.8676</td>\n",
       "      <td>0.5687</td>\n",
       "      <td>0.1978</td>\n",
       "      <td>0.2935</td>\n",
       "      <td>0.9758</td>\n",
       "      <td>0.0242</td>\n",
       "      <td>0.2799</td>\n",
       "    </tr>\n",
       "    <tr>\n",
       "      <th>9</th>\n",
       "      <td>2.1 MinMaxScaler Dataset</td>\n",
       "      <td>GradientBoostingClassifier</td>\n",
       "      <td>Test</td>\n",
       "      <td>0.8483</td>\n",
       "      <td>0.3888</td>\n",
       "      <td>0.7868</td>\n",
       "      <td>0.5530</td>\n",
       "      <td>0.8644</td>\n",
       "      <td>0.5491</td>\n",
       "      <td>0.1904</td>\n",
       "      <td>0.2828</td>\n",
       "      <td>0.9745</td>\n",
       "      <td>0.0255</td>\n",
       "      <td>0.2662</td>\n",
       "    </tr>\n",
       "    <tr>\n",
       "      <th>10</th>\n",
       "      <td>2.1 MinMaxScaler Dataset</td>\n",
       "      <td>AdaBoostClassifier</td>\n",
       "      <td>Train</td>\n",
       "      <td>0.8493</td>\n",
       "      <td>0.3945</td>\n",
       "      <td>0.7789</td>\n",
       "      <td>0.5478</td>\n",
       "      <td>0.8657</td>\n",
       "      <td>0.5440</td>\n",
       "      <td>0.2103</td>\n",
       "      <td>0.3033</td>\n",
       "      <td>0.9715</td>\n",
       "      <td>0.0285</td>\n",
       "      <td>0.2790</td>\n",
       "    </tr>\n",
       "    <tr>\n",
       "      <th>11</th>\n",
       "      <td>2.1 MinMaxScaler Dataset</td>\n",
       "      <td>AdaBoostClassifier</td>\n",
       "      <td>Test</td>\n",
       "      <td>0.8462</td>\n",
       "      <td>0.3908</td>\n",
       "      <td>0.7721</td>\n",
       "      <td>0.5615</td>\n",
       "      <td>0.8620</td>\n",
       "      <td>0.5216</td>\n",
       "      <td>0.2004</td>\n",
       "      <td>0.2896</td>\n",
       "      <td>0.9700</td>\n",
       "      <td>0.0300</td>\n",
       "      <td>0.2621</td>\n",
       "    </tr>\n",
       "    <tr>\n",
       "      <th>12</th>\n",
       "      <td>2.1 MinMaxScaler Dataset</td>\n",
       "      <td>LogisticRegression</td>\n",
       "      <td>Train</td>\n",
       "      <td>0.8469</td>\n",
       "      <td>0.3841</td>\n",
       "      <td>0.7828</td>\n",
       "      <td>0.5571</td>\n",
       "      <td>0.8637</td>\n",
       "      <td>0.5289</td>\n",
       "      <td>0.1762</td>\n",
       "      <td>0.2643</td>\n",
       "      <td>0.9747</td>\n",
       "      <td>0.0253</td>\n",
       "      <td>0.2484</td>\n",
       "    </tr>\n",
       "    <tr>\n",
       "      <th>13</th>\n",
       "      <td>2.1 MinMaxScaler Dataset</td>\n",
       "      <td>LogisticRegression</td>\n",
       "      <td>Test</td>\n",
       "      <td>0.8449</td>\n",
       "      <td>0.3827</td>\n",
       "      <td>0.7789</td>\n",
       "      <td>0.5667</td>\n",
       "      <td>0.8613</td>\n",
       "      <td>0.5169</td>\n",
       "      <td>0.1731</td>\n",
       "      <td>0.2593</td>\n",
       "      <td>0.9736</td>\n",
       "      <td>0.0264</td>\n",
       "      <td>0.2408</td>\n",
       "    </tr>\n",
       "  </tbody>\n",
       "</table>\n",
       "</div>"
      ],
      "text/plain": [
       "                  new_column                       model  slice   score  \\\n",
       "0   2.1 MinMaxScaler Dataset        KNeighborsClassifier  Train  0.8850   \n",
       "1   2.1 MinMaxScaler Dataset        KNeighborsClassifier   Test  0.8169   \n",
       "2   2.1 MinMaxScaler Dataset      DecisionTreeClassifier  Train  0.9938   \n",
       "3   2.1 MinMaxScaler Dataset      DecisionTreeClassifier   Test  0.7664   \n",
       "4   2.1 MinMaxScaler Dataset      RandomForestClassifier  Train  0.9938   \n",
       "5   2.1 MinMaxScaler Dataset      RandomForestClassifier   Test  0.8410   \n",
       "6   2.1 MinMaxScaler Dataset        ExtraTreesClassifier  Train  0.9938   \n",
       "7   2.1 MinMaxScaler Dataset        ExtraTreesClassifier   Test  0.8323   \n",
       "8   2.1 MinMaxScaler Dataset  GradientBoostingClassifier  Train  0.8511   \n",
       "9   2.1 MinMaxScaler Dataset  GradientBoostingClassifier   Test  0.8483   \n",
       "10  2.1 MinMaxScaler Dataset          AdaBoostClassifier  Train  0.8493   \n",
       "11  2.1 MinMaxScaler Dataset          AdaBoostClassifier   Test  0.8462   \n",
       "12  2.1 MinMaxScaler Dataset          LogisticRegression  Train  0.8469   \n",
       "13  2.1 MinMaxScaler Dataset          LogisticRegression   Test  0.8449   \n",
       "\n",
       "    balanced_accuracy  roc_auc_score  Mean Squared Error  Accuracy  Precision  \\\n",
       "0              0.4980         0.9466              0.4065    0.9015     0.7246   \n",
       "1              0.3854         0.6223              0.6750    0.8328     0.3479   \n",
       "2              0.9699         0.9999              0.0215    0.9948     0.9988   \n",
       "3              0.4040         0.5678              0.8147    0.7966     0.2936   \n",
       "4              0.9704         0.9995              0.0216    0.9947     0.9950   \n",
       "5              0.3871         0.7364              0.5796    0.8576     0.4817   \n",
       "6              0.9699         0.9999              0.0215    0.9948     0.9988   \n",
       "7              0.3845         0.7171              0.6112    0.8497     0.4216   \n",
       "8              0.3920         0.7963              0.5405    0.8676     0.5687   \n",
       "9              0.3888         0.7868              0.5530    0.8644     0.5491   \n",
       "10             0.3945         0.7789              0.5478    0.8657     0.5440   \n",
       "11             0.3908         0.7721              0.5615    0.8620     0.5216   \n",
       "12             0.3841         0.7828              0.5571    0.8637     0.5289   \n",
       "13             0.3827         0.7789              0.5667    0.8613     0.5169   \n",
       "\n",
       "    Recall  F1-score  Specificity  False Positive Rate  \\\n",
       "0   0.4699    0.5701       0.9712               0.0288   \n",
       "1   0.2189    0.2687       0.9330               0.0670   \n",
       "2   0.9635    0.9808       0.9998               0.0002   \n",
       "3   0.3196    0.3060       0.8745               0.1255   \n",
       "4   0.9670    0.9808       0.9992               0.0008   \n",
       "5   0.1926    0.2752       0.9662               0.0338   \n",
       "6   0.9635    0.9808       0.9998               0.0002   \n",
       "7   0.1916    0.2635       0.9571               0.0429   \n",
       "8   0.1978    0.2935       0.9758               0.0242   \n",
       "9   0.1904    0.2828       0.9745               0.0255   \n",
       "10  0.2103    0.3033       0.9715               0.0285   \n",
       "11  0.2004    0.2896       0.9700               0.0300   \n",
       "12  0.1762    0.2643       0.9747               0.0253   \n",
       "13  0.1731    0.2593       0.9736               0.0264   \n",
       "\n",
       "    Matthews Correlation Coefficient  \n",
       "0                                NaN  \n",
       "1                             0.1859  \n",
       "2                                NaN  \n",
       "3                             0.1873  \n",
       "4                                NaN  \n",
       "5                             0.2396  \n",
       "6                                NaN  \n",
       "7                             0.2113  \n",
       "8                             0.2799  \n",
       "9                             0.2662  \n",
       "10                            0.2790  \n",
       "11                            0.2621  \n",
       "12                            0.2484  \n",
       "13                            0.2408  "
      ]
     },
     "execution_count": 17,
     "metadata": {},
     "output_type": "execute_result"
    }
   ],
   "source": [
    "# print the performance summary\n",
    "print(f\"******************************************\")\n",
    "print(f\"Performance Summary for: {dataset_label}\")\n",
    "print(f\"******************************************\")\n",
    "\n",
    "performance_summary"
   ]
  },
  {
   "cell_type": "code",
   "execution_count": 18,
   "metadata": {
    "execution": {
     "iopub.execute_input": "2024-06-10T21:02:06.889439Z",
     "iopub.status.busy": "2024-06-10T21:02:06.889079Z",
     "iopub.status.idle": "2024-06-10T21:02:06.895579Z",
     "shell.execute_reply": "2024-06-10T21:02:06.894568Z"
    }
   },
   "outputs": [
    {
     "name": "stdout",
     "output_type": "stream",
     "text": [
      "Completed: Execution Time 376.65 seconds:\n"
     ]
    }
   ],
   "source": [
    "print(f\"Completed: Execution Time %s seconds:\" % round((time.time() - start_time),2) )"
   ]
  },
  {
   "cell_type": "markdown",
   "metadata": {},
   "source": [
    "---\n",
    "\n",
    "## 6. Conclusions\n",
    "\n",
    "- A first glance at the summary, it appears that the Boosting models may have performed well with test/train scores were >.8 and similar in scale (<.02 delta).  However, the poor test confusion matrix and balanced accuracy highlight the overfitting.\n",
    "\n",
    "- The Base Cleaned data is overfit as indicated by:\n",
    "    - Poor confusion matrix on the detailed report for test sets on all models\n",
    "    - Low balanced accuracy as compared to the model score (less than 50%)\n"
   ]
  },
  {
   "cell_type": "markdown",
   "metadata": {},
   "source": [
    "---\n",
    "\n",
    "---"
   ]
  }
 ],
 "metadata": {
  "kernelspec": {
   "display_name": "dev",
   "language": "python",
   "name": "python3"
  },
  "language_info": {
   "codemirror_mode": {
    "name": "ipython",
    "version": 3
   },
   "file_extension": ".py",
   "mimetype": "text/x-python",
   "name": "python",
   "nbconvert_exporter": "python",
   "pygments_lexer": "ipython3",
   "version": "3.12.2"
  }
 },
 "nbformat": 4,
 "nbformat_minor": 2
}
