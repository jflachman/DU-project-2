{
 "cells": [
  {
   "cell_type": "markdown",
   "metadata": {},
   "source": [
    "---\n",
    "\n",
    "## Data Analysis\n",
    "\n",
    "- This file differs from [2_data_analysis_1_base_data.ipynb](2_data_analysis_1_base_data.ipynb) in that it:\n",
    "    - scales the base cleaned data created in [1_data_cleaning.ipynb](1_data_cleaning.ipynb).\n",
    "\n",
    "Source dataset: 247076 rows × 37 columns\n",
    "Processed and analyzed dataset: 247076 rows × 37 columns\n",
    "\n",
    "---"
   ]
  },
  {
   "cell_type": "code",
   "execution_count": 1,
   "metadata": {
    "execution": {
     "iopub.execute_input": "2024-06-10T22:07:51.492805Z",
     "iopub.status.busy": "2024-06-10T22:07:51.492418Z",
     "iopub.status.idle": "2024-06-10T22:07:53.534177Z",
     "shell.execute_reply": "2024-06-10T22:07:53.532882Z"
    }
   },
   "outputs": [],
   "source": [
    "# package imports go here\n",
    "import pandas as pd\n",
    "import numpy as np\n",
    "import fastparquet as fp\n",
    "import os\n",
    "import sys\n",
    "import pickle\n",
    "import matplotlib.pyplot as plt\n",
    "import importlib\n",
    "import config\n",
    "import time\n",
    "\n",
    "sys.path.insert(1, config.package_path)\n",
    "import ml_analysis as mlanlys\n",
    "import ml_clean_feature as mlclean"
   ]
  },
  {
   "cell_type": "code",
   "execution_count": 2,
   "metadata": {
    "execution": {
     "iopub.execute_input": "2024-06-10T22:07:53.539682Z",
     "iopub.status.busy": "2024-06-10T22:07:53.538868Z",
     "iopub.status.idle": "2024-06-10T22:07:53.544153Z",
     "shell.execute_reply": "2024-06-10T22:07:53.543019Z"
    }
   },
   "outputs": [],
   "source": [
    "start_time = time.time()"
   ]
  },
  {
   "cell_type": "markdown",
   "metadata": {},
   "source": [
    "---\n",
    "\n",
    "## 1. Read the cleaned dataset from file\n",
    "\n",
    "---"
   ]
  },
  {
   "cell_type": "code",
   "execution_count": 3,
   "metadata": {
    "execution": {
     "iopub.execute_input": "2024-06-10T22:07:53.548120Z",
     "iopub.status.busy": "2024-06-10T22:07:53.547749Z",
     "iopub.status.idle": "2024-06-10T22:07:53.570931Z",
     "shell.execute_reply": "2024-06-10T22:07:53.568903Z"
    }
   },
   "outputs": [
    {
     "name": "stdout",
     "output_type": "stream",
     "text": [
      "Year:                        2015\n",
      "Clean File:                  data/brfss_2015_clean.parquet.gzip\n",
      "Performance Report:          reports/performance_report.pkl\n",
      "Detailed Performance Report: reports/4_randomundersampler_dataset_detailed_performance_report.txt\n"
     ]
    }
   ],
   "source": [
    "# reload any changes to Config Settings\n",
    "importlib.reload(config)\n",
    "\n",
    "# BE SURE TO UPDATE THE LABEL FOR THIS ANALYSIS\n",
    "# #############################\n",
    "dataset_label = '4 RandomUnderSampler Dataset'\n",
    "# #############################\n",
    "\n",
    "year                        = config.year\n",
    "\n",
    "clean_file                  = config.clean_file\n",
    "performance_report          = config.performance_report\n",
    "\n",
    "report_path                 = config.report_path\n",
    "file_label                  = dataset_label.lower().replace(' ','_')\n",
    "detailed_performance_report = report_path + file_label + '_detailed_performance_report.txt'\n",
    "\n",
    "print(f\"Year:                        {year}\")\n",
    "print(f\"Clean File:                  {clean_file}\")\n",
    "print(f\"Performance Report:          {performance_report}\")\n",
    "print(f\"Detailed Performance Report: {detailed_performance_report}\")"
   ]
  },
  {
   "cell_type": "code",
   "execution_count": 4,
   "metadata": {
    "execution": {
     "iopub.execute_input": "2024-06-10T22:07:53.576562Z",
     "iopub.status.busy": "2024-06-10T22:07:53.575604Z",
     "iopub.status.idle": "2024-06-10T22:07:53.849698Z",
     "shell.execute_reply": "2024-06-10T22:07:53.847984Z"
    }
   },
   "outputs": [],
   "source": [
    "# Read final cleaned dataset from parquet file\n",
    "df = pd.read_parquet(clean_file, engine=\"fastparquet\")"
   ]
  },
  {
   "cell_type": "code",
   "execution_count": 5,
   "metadata": {
    "execution": {
     "iopub.execute_input": "2024-06-10T22:07:53.855401Z",
     "iopub.status.busy": "2024-06-10T22:07:53.854916Z",
     "iopub.status.idle": "2024-06-10T22:07:53.862448Z",
     "shell.execute_reply": "2024-06-10T22:07:53.860259Z"
    }
   },
   "outputs": [],
   "source": [
    "diabetes_labels = df.columns"
   ]
  },
  {
   "cell_type": "code",
   "execution_count": 6,
   "metadata": {
    "execution": {
     "iopub.execute_input": "2024-06-10T22:07:53.867817Z",
     "iopub.status.busy": "2024-06-10T22:07:53.867416Z",
     "iopub.status.idle": "2024-06-10T22:07:53.879648Z",
     "shell.execute_reply": "2024-06-10T22:07:53.877698Z"
    }
   },
   "outputs": [
    {
     "data": {
      "text/plain": [
       "(253680, 22)"
      ]
     },
     "execution_count": 6,
     "metadata": {},
     "output_type": "execute_result"
    }
   ],
   "source": [
    "df.shape"
   ]
  },
  {
   "cell_type": "markdown",
   "metadata": {},
   "source": [
    "---\n",
    "\n",
    "## 2. Prepare the dataset for analysis\n",
    "\n",
    "- Split the dataset into features and labels.\n",
    "- Split the dataset into training and testing sets.\n",
    "- Scale the dataset\n",
    "\n",
    "---"
   ]
  },
  {
   "cell_type": "code",
   "execution_count": 7,
   "metadata": {
    "execution": {
     "iopub.execute_input": "2024-06-10T22:07:53.884529Z",
     "iopub.status.busy": "2024-06-10T22:07:53.884129Z",
     "iopub.status.idle": "2024-06-10T22:07:53.945370Z",
     "shell.execute_reply": "2024-06-10T22:07:53.942446Z"
    }
   },
   "outputs": [],
   "source": [
    "from sklearn.datasets import make_regression, make_swiss_roll\n",
    "from sklearn.model_selection import train_test_split\n",
    "from sklearn.preprocessing import StandardScaler"
   ]
  },
  {
   "cell_type": "code",
   "execution_count": 8,
   "metadata": {
    "execution": {
     "iopub.execute_input": "2024-06-10T22:07:53.951904Z",
     "iopub.status.busy": "2024-06-10T22:07:53.951207Z",
     "iopub.status.idle": "2024-06-10T22:07:54.279571Z",
     "shell.execute_reply": "2024-06-10T22:07:54.278620Z"
    }
   },
   "outputs": [
    {
     "name": "stdout",
     "output_type": "stream",
     "text": [
      "Base Dataset Modifications in Process\n",
      "-------------------------------------\n",
      "**Operation:target_column  diabetes\n",
      "**Operation:convert_to_binary  True\n",
      "  -- Converting dataset to binary (0,1) from (0,1,2)\n",
      "\n",
      "\n",
      "****Cleaning Feature: diabetes\n",
      "  Initial Unique features in [diabetes]:  [0. 1. 2.]\n",
      "  values_to_drop: ********* NO Parameters were specified *********\n",
      "  translate: {1: 0, 2: 1}\n",
      "  scale: ********* NO Parameters were specified *********\n",
      "  FINAL Unique features in [diabetes]:  [0. 1.]\n",
      "**Operation:scaler  standard\n",
      "  -- Performing train_test_split on dataframe with target:'diabetes'\n",
      "     -- Run automatically before scalar or random_sample operations\n",
      "  -- Performing StandardScaler on X_train: Updates X_train, y_test\n",
      "**Operation:random_sample  undersample\n",
      "  -- Performing RandomUnderSampler on X_train, y_train: Updates X_train, y_train\n",
      "\n",
      "Dataframe, Train Test Summary\n",
      "-----------------------------\n",
      "Dataframe: (253680, 22)  Data:4, X_train:53208, y_train:53208, X_test:63420, y_test:63420\n",
      "ValueCounts:   y_train: len:2   0:  26604   1: 26604\n",
      "ValueCounts:   y_test : len:2   0:  54678   1:  8742\n"
     ]
    }
   ],
   "source": [
    "# reload any changes to mlanlys\n",
    "importlib.reload(mlanlys)\n",
    "\n",
    "target = 'diabetes'\n",
    "# Dictionary defining modification to be made to the base dataset\n",
    "operation_dict = {  'target_column'     :  target,\n",
    "                    'convert_to_binary' :  True,\n",
    "                    'scaler'            : 'standard', # options: none, standard, minmax\n",
    "                    'random_sample'     : 'undersample'      # options: none, undersample, oversample\n",
    "                    }\n",
    "\n",
    "# This insures that df if not modified during the call to modify_base_dataset()\n",
    "df_modified = df.copy()\n",
    "\n",
    "# Modify the base dataset\n",
    "# data is returned where: X_train, X_test, y_train, y_test = data\n",
    "data = mlanlys.modify_base_dataset(df_modified, operation_dict)"
   ]
  },
  {
   "cell_type": "code",
   "execution_count": 9,
   "metadata": {
    "execution": {
     "iopub.execute_input": "2024-06-10T22:07:54.282675Z",
     "iopub.status.busy": "2024-06-10T22:07:54.282096Z",
     "iopub.status.idle": "2024-06-10T22:07:54.294013Z",
     "shell.execute_reply": "2024-06-10T22:07:54.293044Z"
    }
   },
   "outputs": [
    {
     "name": "stdout",
     "output_type": "stream",
     "text": [
      "Original Dataframe\n",
      "------------------\n",
      "df.shape: (253680, 22)\n",
      "df[diabetes].value_counts:  diabetes\n",
      "0.0    213703\n",
      "2.0     35346\n",
      "1.0      4631\n",
      "Name: count, dtype: int64\n",
      "\n",
      "Modified Dataframe\n",
      "------------------\n",
      "df_modified.shape: (253680, 22)\n",
      "df_modified[diabetes].value_counts:  diabetes\n",
      "0.0    218334\n",
      "1.0     35346\n",
      "Name: count, dtype: int64\n"
     ]
    }
   ],
   "source": [
    "# Print some statistics about the original df and the modified dataframe\n",
    "print(f\"Original Dataframe\")\n",
    "print(f\"------------------\")\n",
    "print(f\"df.shape: {df.shape}\")\n",
    "print(f\"df[{target}].value_counts:  {df[target].value_counts()}\")\n",
    "\n",
    "print(f\"\\nModified Dataframe\")\n",
    "print(f\"------------------\")\n",
    "print(f\"df_modified.shape: {df_modified.shape}\")\n",
    "print(f\"df_modified[{target}].value_counts:  {df_modified[target].value_counts()}\")"
   ]
  },
  {
   "cell_type": "code",
   "execution_count": 10,
   "metadata": {
    "execution": {
     "iopub.execute_input": "2024-06-10T22:07:54.296818Z",
     "iopub.status.busy": "2024-06-10T22:07:54.296534Z",
     "iopub.status.idle": "2024-06-10T22:07:54.300936Z",
     "shell.execute_reply": "2024-06-10T22:07:54.300007Z"
    }
   },
   "outputs": [
    {
     "name": "stdout",
     "output_type": "stream",
     "text": [
      "Dataframe: (253680, 22)  Data:4, X_train:53208, y_train:53208, X_test:63420, y_test:63420\n"
     ]
    }
   ],
   "source": [
    "X_train, X_test, y_train, y_test = data\n",
    "print(f\"Dataframe: {df_modified.shape}  Data:{len(data)}, X_train:{len(X_train)}, y_train:{len(y_train)}, X_test:{len(X_test)}, y_test:{len(y_test)}\")"
   ]
  },
  {
   "cell_type": "code",
   "execution_count": 11,
   "metadata": {
    "execution": {
     "iopub.execute_input": "2024-06-10T22:07:54.304896Z",
     "iopub.status.busy": "2024-06-10T22:07:54.303711Z",
     "iopub.status.idle": "2024-06-10T22:07:54.313553Z",
     "shell.execute_reply": "2024-06-10T22:07:54.312328Z"
    }
   },
   "outputs": [
    {
     "data": {
      "text/plain": [
       "diabetes\n",
       "0.0    26604\n",
       "1.0    26604\n",
       "Name: count, dtype: int64"
      ]
     },
     "execution_count": 11,
     "metadata": {},
     "output_type": "execute_result"
    }
   ],
   "source": [
    "y_train.value_counts()"
   ]
  },
  {
   "cell_type": "markdown",
   "metadata": {},
   "source": [
    "---\n",
    "\n",
    "## 3. Run initial Tests and get k_value\n",
    "\n",
    "**From step 2:**  Data = [X_train_modified, X_test_modified, y_train_modified, y_test]\n",
    "\n",
    "---"
   ]
  },
  {
   "cell_type": "code",
   "execution_count": 12,
   "metadata": {
    "execution": {
     "iopub.execute_input": "2024-06-10T22:07:54.317196Z",
     "iopub.status.busy": "2024-06-10T22:07:54.316246Z",
     "iopub.status.idle": "2024-06-10T22:07:54.341606Z",
     "shell.execute_reply": "2024-06-10T22:07:54.340503Z"
    }
   },
   "outputs": [
    {
     "data": {
      "text/plain": [
       "<module 'ml_analysis' from '/mnt/c/ML/DU/repos/projects/project-2/DU-project-2-2015/brfss_2015/../pkgs/ml_analysis.py'>"
      ]
     },
     "execution_count": 12,
     "metadata": {},
     "output_type": "execute_result"
    }
   ],
   "source": [
    "# reload any changes to mlanlys\n",
    "importlib.reload(mlanlys)\n",
    "\n",
    "# Determine the k_value\n",
    "# mlanlys.knn_plot(data)"
   ]
  },
  {
   "cell_type": "markdown",
   "metadata": {},
   "source": [
    "**Note:** From the knn plot above, pick a k-value of 3."
   ]
  },
  {
   "cell_type": "markdown",
   "metadata": {},
   "source": [
    "---\n",
    "\n",
    "## 4. Run the Analysis\n",
    "\n",
    "---\n",
    "\n",
    "#### Model Run Times\n",
    "\n",
    "-  Base dataset (247076 rows × 37 columns):\n",
    "\n",
    "| Model | Run Time |\n",
    "| ----- | -------- |\n",
    "| test_model(SVC(kernel='linear'), data)                          | Aborted >35min (Data too large, consider for RandomUndersampling dataset) |\n",
    "| test_model(KNeighborsClassifier(n_neighbors=k_value), data)     | 247.13 seconds |\n",
    "| test_model(tree.DecisionTreeClassifier(), data)                 |   3.89 seconds |\n",
    "| test_model(RandomForestClassifier(), data)                      |  60.94 seconds |\n",
    "| test_model(ExtraTreesClassifier(random_state=1), data)          |  58.54 seconds |\n",
    "| test_model(GradientBoostingClassifier(random_state=1), data)    | 115.21 seconds |\n",
    "| test_model(AdaBoostClassifier(random_state=1), data)            |  11.91 seconds |\n",
    "| test_model(LogisticRegression(), data)                          |   4.90 seconds |\n",
    "| **Total** w/o SVC| 502.52 seconds / **8:23 minutes** |"
   ]
  },
  {
   "cell_type": "code",
   "execution_count": 13,
   "metadata": {
    "execution": {
     "iopub.execute_input": "2024-06-10T22:07:54.344712Z",
     "iopub.status.busy": "2024-06-10T22:07:54.344456Z",
     "iopub.status.idle": "2024-06-10T22:08:56.861641Z",
     "shell.execute_reply": "2024-06-10T22:08:56.860755Z"
    }
   },
   "outputs": [],
   "source": [
    "# reload any changes to nlanlys\n",
    "importlib.reload(mlanlys)\n",
    "\n",
    "k_value = 3\n",
    "\n",
    "#### COMMENT OUT ONE OF THE FOLLOWING SECTIONS\n",
    "\n",
    "## SECTION 1\n",
    "# Capture stdout & stderr into two strings: osc.stdout and osc.stderr that contain the output from the function\n",
    "# -- This allows the output to be printed here or to a file or both.\n",
    "\n",
    "with mlanlys.OutStreamCapture() as osc:\n",
    "    performance_summary = mlanlys.run_classification_models(data, k_value)\n",
    "#    performance_summary = mlanlys.run_classification_models_test(data, k_value)\n",
    "\n",
    "## <OR>\n",
    "## SECTION 2\n",
    "\n",
    "# performance_summary = mlanlys.run_classification_models(data, k_value)\n"
   ]
  },
  {
   "cell_type": "code",
   "execution_count": 14,
   "metadata": {
    "execution": {
     "iopub.execute_input": "2024-06-10T22:08:56.865881Z",
     "iopub.status.busy": "2024-06-10T22:08:56.865583Z",
     "iopub.status.idle": "2024-06-10T22:08:56.869533Z",
     "shell.execute_reply": "2024-06-10T22:08:56.868844Z"
    }
   },
   "outputs": [],
   "source": [
    "# UNCOMMENT if using SECTION 1 in the previous step\n",
    "# print(osc.stdout)\n",
    "\n",
    "# Add code to print osc.stdout to a file if desired."
   ]
  },
  {
   "cell_type": "markdown",
   "metadata": {},
   "source": [
    "---\n",
    "\n",
    "### 4.1 Archive Performance Summary\n",
    "\n",
    "- For use in Project-2 Performance Summary Report\n",
    "---"
   ]
  },
  {
   "cell_type": "code",
   "execution_count": 15,
   "metadata": {
    "execution": {
     "iopub.execute_input": "2024-06-10T22:08:56.872345Z",
     "iopub.status.busy": "2024-06-10T22:08:56.871922Z",
     "iopub.status.idle": "2024-06-10T22:08:56.900077Z",
     "shell.execute_reply": "2024-06-10T22:08:56.898667Z"
    }
   },
   "outputs": [
    {
     "name": "stdout",
     "output_type": "stream",
     "text": [
      "The file reports/performance_report.pkl exists.\n"
     ]
    }
   ],
   "source": [
    "# performance_summary is a dataframe of performance statistics\n",
    "\n",
    "# Add the dataset label as the first column in performance_summary\n",
    "dataset_column = pd.Series([dataset_label] * len(performance_summary), name=dataset_label)\n",
    "performance_summary.insert(0, 'new_column', dataset_column)\n",
    "\n",
    "analysis_perf_summary = { 'dataset_size': list(df.shape), 'report': performance_summary}\n",
    "\n",
    "# Performance_report is a file containing all the performance summary statistics\n",
    "if os.path.exists(performance_report):\n",
    "    print(f\"The file {performance_report} exists.\")\n",
    "    # Load Performance Report\n",
    "    with open(performance_report, 'rb') as file: perf_report = pickle.load(file)\n",
    "else:\n",
    "    print(f\"The file {performance_report} does not exist.\")\n",
    "    perf_report = {}\n",
    "    \n",
    "perf_report[dataset_label] = analysis_perf_summary\n",
    "\n",
    "# Save Performance Report\n",
    "with open(performance_report, 'wb') as file: pickle.dump(perf_report, file)"
   ]
  },
  {
   "cell_type": "markdown",
   "metadata": {},
   "source": [
    "### 4.2 Archive the Performance Detailed Statistics Report\n",
    "---"
   ]
  },
  {
   "cell_type": "code",
   "execution_count": 16,
   "metadata": {
    "execution": {
     "iopub.execute_input": "2024-06-10T22:08:56.904719Z",
     "iopub.status.busy": "2024-06-10T22:08:56.904022Z",
     "iopub.status.idle": "2024-06-10T22:08:56.922158Z",
     "shell.execute_reply": "2024-06-10T22:08:56.921060Z"
    }
   },
   "outputs": [],
   "source": [
    "# osc.stdout contains the details of the performance statistics\n",
    "\n",
    "with open(detailed_performance_report, \"w\") as file:\n",
    "    file.write(osc.stdout)"
   ]
  },
  {
   "cell_type": "markdown",
   "metadata": {},
   "source": [
    "---\n",
    "\n",
    "## 5. Performance Summary\n",
    "\n",
    "---"
   ]
  },
  {
   "cell_type": "code",
   "execution_count": 17,
   "metadata": {
    "execution": {
     "iopub.execute_input": "2024-06-10T22:08:56.926784Z",
     "iopub.status.busy": "2024-06-10T22:08:56.926389Z",
     "iopub.status.idle": "2024-06-10T22:08:56.954418Z",
     "shell.execute_reply": "2024-06-10T22:08:56.952880Z"
    }
   },
   "outputs": [
    {
     "name": "stdout",
     "output_type": "stream",
     "text": [
      "******************************************\n",
      "Performance Summary for: 4 RandomUnderSampler Dataset\n",
      "******************************************\n"
     ]
    },
    {
     "data": {
      "text/html": [
       "<div>\n",
       "<style scoped>\n",
       "    .dataframe tbody tr th:only-of-type {\n",
       "        vertical-align: middle;\n",
       "    }\n",
       "\n",
       "    .dataframe tbody tr th {\n",
       "        vertical-align: top;\n",
       "    }\n",
       "\n",
       "    .dataframe thead th {\n",
       "        text-align: right;\n",
       "    }\n",
       "</style>\n",
       "<table border=\"1\" class=\"dataframe\">\n",
       "  <thead>\n",
       "    <tr style=\"text-align: right;\">\n",
       "      <th></th>\n",
       "      <th>new_column</th>\n",
       "      <th>model</th>\n",
       "      <th>slice</th>\n",
       "      <th>score</th>\n",
       "      <th>balanced_accuracy</th>\n",
       "      <th>roc_auc_score</th>\n",
       "      <th>Mean Squared Error</th>\n",
       "      <th>Accuracy</th>\n",
       "      <th>Precision</th>\n",
       "      <th>Recall</th>\n",
       "      <th>F1-score</th>\n",
       "      <th>Specificity</th>\n",
       "      <th>False Positive Rate</th>\n",
       "      <th>Matthews Correlation Coefficient</th>\n",
       "    </tr>\n",
       "  </thead>\n",
       "  <tbody>\n",
       "    <tr>\n",
       "      <th>0</th>\n",
       "      <td>4 RandomUnderSampler Dataset</td>\n",
       "      <td>KNeighborsClassifier</td>\n",
       "      <td>Train</td>\n",
       "      <td>0.8302</td>\n",
       "      <td>0.8302</td>\n",
       "      <td>0.9117</td>\n",
       "      <td>0.1698</td>\n",
       "      <td>0.8302</td>\n",
       "      <td>0.8190</td>\n",
       "      <td>0.8476</td>\n",
       "      <td>0.8331</td>\n",
       "      <td>0.8127</td>\n",
       "      <td>0.1873</td>\n",
       "      <td>0.6607</td>\n",
       "    </tr>\n",
       "    <tr>\n",
       "      <th>1</th>\n",
       "      <td>4 RandomUnderSampler Dataset</td>\n",
       "      <td>KNeighborsClassifier</td>\n",
       "      <td>Test</td>\n",
       "      <td>0.6848</td>\n",
       "      <td>0.6960</td>\n",
       "      <td>0.7436</td>\n",
       "      <td>0.3152</td>\n",
       "      <td>0.6848</td>\n",
       "      <td>0.2626</td>\n",
       "      <td>0.7114</td>\n",
       "      <td>0.3836</td>\n",
       "      <td>0.6806</td>\n",
       "      <td>0.3194</td>\n",
       "      <td>0.2794</td>\n",
       "    </tr>\n",
       "    <tr>\n",
       "      <th>2</th>\n",
       "      <td>4 RandomUnderSampler Dataset</td>\n",
       "      <td>DecisionTreeClassifier</td>\n",
       "      <td>Train</td>\n",
       "      <td>0.9949</td>\n",
       "      <td>0.9949</td>\n",
       "      <td>0.9999</td>\n",
       "      <td>0.0051</td>\n",
       "      <td>0.9949</td>\n",
       "      <td>0.9994</td>\n",
       "      <td>0.9903</td>\n",
       "      <td>0.9948</td>\n",
       "      <td>0.9994</td>\n",
       "      <td>0.0006</td>\n",
       "      <td>0.9898</td>\n",
       "    </tr>\n",
       "    <tr>\n",
       "      <th>3</th>\n",
       "      <td>4 RandomUnderSampler Dataset</td>\n",
       "      <td>DecisionTreeClassifier</td>\n",
       "      <td>Test</td>\n",
       "      <td>0.6629</td>\n",
       "      <td>0.6552</td>\n",
       "      <td>0.6550</td>\n",
       "      <td>0.3371</td>\n",
       "      <td>0.6629</td>\n",
       "      <td>0.2357</td>\n",
       "      <td>0.6446</td>\n",
       "      <td>0.3452</td>\n",
       "      <td>0.6658</td>\n",
       "      <td>0.3342</td>\n",
       "      <td>0.2208</td>\n",
       "    </tr>\n",
       "    <tr>\n",
       "      <th>4</th>\n",
       "      <td>4 RandomUnderSampler Dataset</td>\n",
       "      <td>RandomForestClassifier</td>\n",
       "      <td>Train</td>\n",
       "      <td>0.9948</td>\n",
       "      <td>0.9948</td>\n",
       "      <td>0.9997</td>\n",
       "      <td>0.0052</td>\n",
       "      <td>0.9948</td>\n",
       "      <td>0.9970</td>\n",
       "      <td>0.9926</td>\n",
       "      <td>0.9948</td>\n",
       "      <td>0.9970</td>\n",
       "      <td>0.0030</td>\n",
       "      <td>0.9897</td>\n",
       "    </tr>\n",
       "    <tr>\n",
       "      <th>5</th>\n",
       "      <td>4 RandomUnderSampler Dataset</td>\n",
       "      <td>RandomForestClassifier</td>\n",
       "      <td>Test</td>\n",
       "      <td>0.7100</td>\n",
       "      <td>0.7382</td>\n",
       "      <td>0.8123</td>\n",
       "      <td>0.2900</td>\n",
       "      <td>0.7100</td>\n",
       "      <td>0.2924</td>\n",
       "      <td>0.7771</td>\n",
       "      <td>0.4249</td>\n",
       "      <td>0.6993</td>\n",
       "      <td>0.3007</td>\n",
       "      <td>0.3409</td>\n",
       "    </tr>\n",
       "    <tr>\n",
       "      <th>6</th>\n",
       "      <td>4 RandomUnderSampler Dataset</td>\n",
       "      <td>ExtraTreesClassifier</td>\n",
       "      <td>Train</td>\n",
       "      <td>0.9949</td>\n",
       "      <td>0.9949</td>\n",
       "      <td>0.9999</td>\n",
       "      <td>0.0051</td>\n",
       "      <td>0.9949</td>\n",
       "      <td>0.9994</td>\n",
       "      <td>0.9903</td>\n",
       "      <td>0.9948</td>\n",
       "      <td>0.9994</td>\n",
       "      <td>0.0006</td>\n",
       "      <td>0.9898</td>\n",
       "    </tr>\n",
       "    <tr>\n",
       "      <th>7</th>\n",
       "      <td>4 RandomUnderSampler Dataset</td>\n",
       "      <td>ExtraTreesClassifier</td>\n",
       "      <td>Test</td>\n",
       "      <td>0.6982</td>\n",
       "      <td>0.7260</td>\n",
       "      <td>0.7930</td>\n",
       "      <td>0.3018</td>\n",
       "      <td>0.6982</td>\n",
       "      <td>0.2812</td>\n",
       "      <td>0.7644</td>\n",
       "      <td>0.4112</td>\n",
       "      <td>0.6876</td>\n",
       "      <td>0.3124</td>\n",
       "      <td>0.3219</td>\n",
       "    </tr>\n",
       "    <tr>\n",
       "      <th>8</th>\n",
       "      <td>4 RandomUnderSampler Dataset</td>\n",
       "      <td>GradientBoostingClassifier</td>\n",
       "      <td>Train</td>\n",
       "      <td>0.7532</td>\n",
       "      <td>0.7532</td>\n",
       "      <td>0.8308</td>\n",
       "      <td>0.2468</td>\n",
       "      <td>0.7532</td>\n",
       "      <td>0.7342</td>\n",
       "      <td>0.7939</td>\n",
       "      <td>0.7629</td>\n",
       "      <td>0.7126</td>\n",
       "      <td>0.2874</td>\n",
       "      <td>0.5081</td>\n",
       "    </tr>\n",
       "    <tr>\n",
       "      <th>9</th>\n",
       "      <td>4 RandomUnderSampler Dataset</td>\n",
       "      <td>GradientBoostingClassifier</td>\n",
       "      <td>Test</td>\n",
       "      <td>0.7243</td>\n",
       "      <td>0.7548</td>\n",
       "      <td>0.8334</td>\n",
       "      <td>0.2757</td>\n",
       "      <td>0.7243</td>\n",
       "      <td>0.3073</td>\n",
       "      <td>0.7970</td>\n",
       "      <td>0.4436</td>\n",
       "      <td>0.7127</td>\n",
       "      <td>0.2873</td>\n",
       "      <td>0.3666</td>\n",
       "    </tr>\n",
       "    <tr>\n",
       "      <th>10</th>\n",
       "      <td>4 RandomUnderSampler Dataset</td>\n",
       "      <td>AdaBoostClassifier</td>\n",
       "      <td>Train</td>\n",
       "      <td>0.7464</td>\n",
       "      <td>0.7464</td>\n",
       "      <td>0.8242</td>\n",
       "      <td>0.2536</td>\n",
       "      <td>0.7464</td>\n",
       "      <td>0.7358</td>\n",
       "      <td>0.7688</td>\n",
       "      <td>0.7519</td>\n",
       "      <td>0.7240</td>\n",
       "      <td>0.2760</td>\n",
       "      <td>0.4932</td>\n",
       "    </tr>\n",
       "    <tr>\n",
       "      <th>11</th>\n",
       "      <td>4 RandomUnderSampler Dataset</td>\n",
       "      <td>AdaBoostClassifier</td>\n",
       "      <td>Test</td>\n",
       "      <td>0.7348</td>\n",
       "      <td>0.7538</td>\n",
       "      <td>0.8312</td>\n",
       "      <td>0.2652</td>\n",
       "      <td>0.7348</td>\n",
       "      <td>0.3141</td>\n",
       "      <td>0.7800</td>\n",
       "      <td>0.4479</td>\n",
       "      <td>0.7276</td>\n",
       "      <td>0.2724</td>\n",
       "      <td>0.3688</td>\n",
       "    </tr>\n",
       "    <tr>\n",
       "      <th>12</th>\n",
       "      <td>4 RandomUnderSampler Dataset</td>\n",
       "      <td>LogisticRegression</td>\n",
       "      <td>Train</td>\n",
       "      <td>0.7436</td>\n",
       "      <td>0.7436</td>\n",
       "      <td>0.8204</td>\n",
       "      <td>0.2564</td>\n",
       "      <td>0.7436</td>\n",
       "      <td>0.7339</td>\n",
       "      <td>0.7643</td>\n",
       "      <td>0.7488</td>\n",
       "      <td>0.7229</td>\n",
       "      <td>0.2771</td>\n",
       "      <td>0.4876</td>\n",
       "    </tr>\n",
       "    <tr>\n",
       "      <th>13</th>\n",
       "      <td>4 RandomUnderSampler Dataset</td>\n",
       "      <td>LogisticRegression</td>\n",
       "      <td>Test</td>\n",
       "      <td>0.7328</td>\n",
       "      <td>0.7485</td>\n",
       "      <td>0.8264</td>\n",
       "      <td>0.2672</td>\n",
       "      <td>0.7328</td>\n",
       "      <td>0.3107</td>\n",
       "      <td>0.7702</td>\n",
       "      <td>0.4428</td>\n",
       "      <td>0.7269</td>\n",
       "      <td>0.2731</td>\n",
       "      <td>0.3613</td>\n",
       "    </tr>\n",
       "  </tbody>\n",
       "</table>\n",
       "</div>"
      ],
      "text/plain": [
       "                      new_column                       model  slice   score  \\\n",
       "0   4 RandomUnderSampler Dataset        KNeighborsClassifier  Train  0.8302   \n",
       "1   4 RandomUnderSampler Dataset        KNeighborsClassifier   Test  0.6848   \n",
       "2   4 RandomUnderSampler Dataset      DecisionTreeClassifier  Train  0.9949   \n",
       "3   4 RandomUnderSampler Dataset      DecisionTreeClassifier   Test  0.6629   \n",
       "4   4 RandomUnderSampler Dataset      RandomForestClassifier  Train  0.9948   \n",
       "5   4 RandomUnderSampler Dataset      RandomForestClassifier   Test  0.7100   \n",
       "6   4 RandomUnderSampler Dataset        ExtraTreesClassifier  Train  0.9949   \n",
       "7   4 RandomUnderSampler Dataset        ExtraTreesClassifier   Test  0.6982   \n",
       "8   4 RandomUnderSampler Dataset  GradientBoostingClassifier  Train  0.7532   \n",
       "9   4 RandomUnderSampler Dataset  GradientBoostingClassifier   Test  0.7243   \n",
       "10  4 RandomUnderSampler Dataset          AdaBoostClassifier  Train  0.7464   \n",
       "11  4 RandomUnderSampler Dataset          AdaBoostClassifier   Test  0.7348   \n",
       "12  4 RandomUnderSampler Dataset          LogisticRegression  Train  0.7436   \n",
       "13  4 RandomUnderSampler Dataset          LogisticRegression   Test  0.7328   \n",
       "\n",
       "    balanced_accuracy  roc_auc_score  Mean Squared Error  Accuracy  Precision  \\\n",
       "0              0.8302         0.9117              0.1698    0.8302     0.8190   \n",
       "1              0.6960         0.7436              0.3152    0.6848     0.2626   \n",
       "2              0.9949         0.9999              0.0051    0.9949     0.9994   \n",
       "3              0.6552         0.6550              0.3371    0.6629     0.2357   \n",
       "4              0.9948         0.9997              0.0052    0.9948     0.9970   \n",
       "5              0.7382         0.8123              0.2900    0.7100     0.2924   \n",
       "6              0.9949         0.9999              0.0051    0.9949     0.9994   \n",
       "7              0.7260         0.7930              0.3018    0.6982     0.2812   \n",
       "8              0.7532         0.8308              0.2468    0.7532     0.7342   \n",
       "9              0.7548         0.8334              0.2757    0.7243     0.3073   \n",
       "10             0.7464         0.8242              0.2536    0.7464     0.7358   \n",
       "11             0.7538         0.8312              0.2652    0.7348     0.3141   \n",
       "12             0.7436         0.8204              0.2564    0.7436     0.7339   \n",
       "13             0.7485         0.8264              0.2672    0.7328     0.3107   \n",
       "\n",
       "    Recall  F1-score  Specificity  False Positive Rate  \\\n",
       "0   0.8476    0.8331       0.8127               0.1873   \n",
       "1   0.7114    0.3836       0.6806               0.3194   \n",
       "2   0.9903    0.9948       0.9994               0.0006   \n",
       "3   0.6446    0.3452       0.6658               0.3342   \n",
       "4   0.9926    0.9948       0.9970               0.0030   \n",
       "5   0.7771    0.4249       0.6993               0.3007   \n",
       "6   0.9903    0.9948       0.9994               0.0006   \n",
       "7   0.7644    0.4112       0.6876               0.3124   \n",
       "8   0.7939    0.7629       0.7126               0.2874   \n",
       "9   0.7970    0.4436       0.7127               0.2873   \n",
       "10  0.7688    0.7519       0.7240               0.2760   \n",
       "11  0.7800    0.4479       0.7276               0.2724   \n",
       "12  0.7643    0.7488       0.7229               0.2771   \n",
       "13  0.7702    0.4428       0.7269               0.2731   \n",
       "\n",
       "    Matthews Correlation Coefficient  \n",
       "0                             0.6607  \n",
       "1                             0.2794  \n",
       "2                             0.9898  \n",
       "3                             0.2208  \n",
       "4                             0.9897  \n",
       "5                             0.3409  \n",
       "6                             0.9898  \n",
       "7                             0.3219  \n",
       "8                             0.5081  \n",
       "9                             0.3666  \n",
       "10                            0.4932  \n",
       "11                            0.3688  \n",
       "12                            0.4876  \n",
       "13                            0.3613  "
      ]
     },
     "execution_count": 17,
     "metadata": {},
     "output_type": "execute_result"
    }
   ],
   "source": [
    "# print the performance summary\n",
    "print(f\"******************************************\")\n",
    "print(f\"Performance Summary for: {dataset_label}\")\n",
    "print(f\"******************************************\")\n",
    "\n",
    "performance_summary"
   ]
  },
  {
   "cell_type": "code",
   "execution_count": 18,
   "metadata": {
    "execution": {
     "iopub.execute_input": "2024-06-10T22:08:56.958563Z",
     "iopub.status.busy": "2024-06-10T22:08:56.958239Z",
     "iopub.status.idle": "2024-06-10T22:08:56.963474Z",
     "shell.execute_reply": "2024-06-10T22:08:56.962521Z"
    }
   },
   "outputs": [
    {
     "name": "stdout",
     "output_type": "stream",
     "text": [
      "Completed: Execution Time 63.42 seconds:\n"
     ]
    }
   ],
   "source": [
    "print(f\"Completed: Execution Time %s seconds:\" % round((time.time() - start_time),2) )"
   ]
  },
  {
   "cell_type": "markdown",
   "metadata": {},
   "source": [
    "---\n",
    "\n",
    "## 6. Conclusions\n",
    "\n",
    "- A first glance at the summary, it appears that the Boosting models may have performed well with test/train scores were >.8 and similar in scale (<.02 delta).  However, the poor test confusion matrix and balanced accuracy highlight the overfitting.\n",
    "\n",
    "- The Base Cleaned data is overfit as indicated by:\n",
    "    - Poor confusion matrix on the detailed report for test sets on all models\n",
    "    - Low balanced accuracy as compared to the model score (less than 50%)\n"
   ]
  },
  {
   "cell_type": "markdown",
   "metadata": {},
   "source": [
    "---\n",
    "\n",
    "---"
   ]
  }
 ],
 "metadata": {
  "kernelspec": {
   "display_name": "dev",
   "language": "python",
   "name": "python3"
  },
  "language_info": {
   "codemirror_mode": {
    "name": "ipython",
    "version": 3
   },
   "file_extension": ".py",
   "mimetype": "text/x-python",
   "name": "python",
   "nbconvert_exporter": "python",
   "pygments_lexer": "ipython3",
   "version": "3.12.2"
  }
 },
 "nbformat": 4,
 "nbformat_minor": 2
}
