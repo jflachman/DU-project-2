{
 "cells": [
  {
   "cell_type": "markdown",
   "metadata": {},
   "source": [
    "---\n",
    "\n",
    "## Data Analysis\n",
    "\n",
    "- This file differs from [2_data_analysis_1_base_data.ipynb](2_data_analysis_1_base_data.ipynb) in that it:\n",
    "    - scales the base cleaned data created in [1_data_cleaning.ipynb](1_data_cleaning.ipynb).\n",
    "\n",
    "Source dataset: 247076 rows × 37 columns\n",
    "Processed and analyzed dataset: 247076 rows × 37 columns\n",
    "\n",
    "---"
   ]
  },
  {
   "cell_type": "code",
   "execution_count": 1,
   "metadata": {
    "execution": {
     "iopub.execute_input": "2024-06-10T22:08:58.224003Z",
     "iopub.status.busy": "2024-06-10T22:08:58.223596Z",
     "iopub.status.idle": "2024-06-10T22:08:59.309958Z",
     "shell.execute_reply": "2024-06-10T22:08:59.308993Z"
    }
   },
   "outputs": [],
   "source": [
    "# package imports go here\n",
    "import pandas as pd\n",
    "import numpy as np\n",
    "import fastparquet as fp\n",
    "import os\n",
    "import sys\n",
    "import pickle\n",
    "import matplotlib.pyplot as plt\n",
    "import importlib\n",
    "import config\n",
    "import time\n",
    "\n",
    "sys.path.insert(1, config.package_path)\n",
    "import ml_analysis as mlanlys\n",
    "import ml_clean_feature as mlclean"
   ]
  },
  {
   "cell_type": "code",
   "execution_count": 2,
   "metadata": {
    "execution": {
     "iopub.execute_input": "2024-06-10T22:08:59.312875Z",
     "iopub.status.busy": "2024-06-10T22:08:59.312545Z",
     "iopub.status.idle": "2024-06-10T22:08:59.315889Z",
     "shell.execute_reply": "2024-06-10T22:08:59.315150Z"
    }
   },
   "outputs": [],
   "source": [
    "start_time = time.time()"
   ]
  },
  {
   "cell_type": "markdown",
   "metadata": {},
   "source": [
    "---\n",
    "\n",
    "## 1. Read the cleaned dataset from file\n",
    "\n",
    "---"
   ]
  },
  {
   "cell_type": "code",
   "execution_count": 3,
   "metadata": {
    "execution": {
     "iopub.execute_input": "2024-06-10T22:08:59.318140Z",
     "iopub.status.busy": "2024-06-10T22:08:59.317943Z",
     "iopub.status.idle": "2024-06-10T22:08:59.333156Z",
     "shell.execute_reply": "2024-06-10T22:08:59.332520Z"
    }
   },
   "outputs": [
    {
     "name": "stdout",
     "output_type": "stream",
     "text": [
      "Year:                        2015\n",
      "Clean File:                  data/brfss_2015_clean.parquet.gzip\n",
      "Performance Report:          reports/performance_report.pkl\n",
      "Detailed Performance Report: reports/6_clustercentroids_dataset_detailed_performance_report.txt\n"
     ]
    }
   ],
   "source": [
    "# reload any changes to Config Settings\n",
    "importlib.reload(config)\n",
    "\n",
    "# BE SURE TO UPDATE THE LABEL FOR THIS ANALYSIS\n",
    "# #############################\n",
    "dataset_label = '6 ClusterCentroids Dataset'\n",
    "# #############################\n",
    "\n",
    "year                        = config.year\n",
    "\n",
    "clean_file                  = config.clean_file\n",
    "performance_report          = config.performance_report\n",
    "\n",
    "report_path                 = config.report_path\n",
    "file_label                  = dataset_label.lower().replace(' ','_')\n",
    "detailed_performance_report = report_path + file_label + '_detailed_performance_report.txt'\n",
    "\n",
    "print(f\"Year:                        {year}\")\n",
    "print(f\"Clean File:                  {clean_file}\")\n",
    "print(f\"Performance Report:          {performance_report}\")\n",
    "print(f\"Detailed Performance Report: {detailed_performance_report}\")"
   ]
  },
  {
   "cell_type": "code",
   "execution_count": 4,
   "metadata": {
    "execution": {
     "iopub.execute_input": "2024-06-10T22:08:59.335564Z",
     "iopub.status.busy": "2024-06-10T22:08:59.335359Z",
     "iopub.status.idle": "2024-06-10T22:08:59.483125Z",
     "shell.execute_reply": "2024-06-10T22:08:59.482424Z"
    }
   },
   "outputs": [],
   "source": [
    "# Read final cleaned dataset from parquet file\n",
    "df = pd.read_parquet(clean_file, engine=\"fastparquet\")"
   ]
  },
  {
   "cell_type": "code",
   "execution_count": 5,
   "metadata": {
    "execution": {
     "iopub.execute_input": "2024-06-10T22:08:59.485509Z",
     "iopub.status.busy": "2024-06-10T22:08:59.485295Z",
     "iopub.status.idle": "2024-06-10T22:08:59.488286Z",
     "shell.execute_reply": "2024-06-10T22:08:59.487685Z"
    }
   },
   "outputs": [],
   "source": [
    "diabetes_labels = df.columns"
   ]
  },
  {
   "cell_type": "code",
   "execution_count": 6,
   "metadata": {
    "execution": {
     "iopub.execute_input": "2024-06-10T22:08:59.490574Z",
     "iopub.status.busy": "2024-06-10T22:08:59.490086Z",
     "iopub.status.idle": "2024-06-10T22:08:59.496079Z",
     "shell.execute_reply": "2024-06-10T22:08:59.495238Z"
    }
   },
   "outputs": [
    {
     "data": {
      "text/plain": [
       "(253680, 22)"
      ]
     },
     "execution_count": 6,
     "metadata": {},
     "output_type": "execute_result"
    }
   ],
   "source": [
    "df.shape"
   ]
  },
  {
   "cell_type": "markdown",
   "metadata": {},
   "source": [
    "---\n",
    "\n",
    "## 2. Prepare the dataset for analysis\n",
    "\n",
    "- Split the dataset into features and labels.\n",
    "- Split the dataset into training and testing sets.\n",
    "- Scale the dataset\n",
    "\n",
    "---"
   ]
  },
  {
   "cell_type": "code",
   "execution_count": 7,
   "metadata": {
    "execution": {
     "iopub.execute_input": "2024-06-10T22:08:59.498356Z",
     "iopub.status.busy": "2024-06-10T22:08:59.498142Z",
     "iopub.status.idle": "2024-06-10T22:08:59.540361Z",
     "shell.execute_reply": "2024-06-10T22:08:59.538807Z"
    }
   },
   "outputs": [],
   "source": [
    "from sklearn.datasets import make_regression, make_swiss_roll\n",
    "from sklearn.model_selection import train_test_split\n",
    "from sklearn.preprocessing import StandardScaler"
   ]
  },
  {
   "cell_type": "code",
   "execution_count": 8,
   "metadata": {
    "execution": {
     "iopub.execute_input": "2024-06-10T22:08:59.545661Z",
     "iopub.status.busy": "2024-06-10T22:08:59.544723Z",
     "iopub.status.idle": "2024-06-10T22:29:19.900257Z",
     "shell.execute_reply": "2024-06-10T22:29:19.896163Z"
    }
   },
   "outputs": [
    {
     "name": "stdout",
     "output_type": "stream",
     "text": [
      "Base Dataset Modifications in Process\n",
      "-------------------------------------\n",
      "**Operation:target_column  diabetes\n",
      "**Operation:convert_to_binary  True\n",
      "  -- Converting dataset to binary (0,1) from (0,1,2)\n",
      "\n",
      "\n",
      "****Cleaning Feature: diabetes\n",
      "  Initial Unique features in [diabetes]:  [0. 1. 2.]\n",
      "  values_to_drop: ********* NO Parameters were specified *********\n",
      "  translate: {1: 0, 2: 1}\n",
      "  scale: ********* NO Parameters were specified *********\n",
      "  FINAL Unique features in [diabetes]:  [0. 1.]\n",
      "**Operation:scaler  standard\n",
      "  -- Performing train_test_split on dataframe with target:'diabetes'\n",
      "     -- Run automatically before scalar or random_sample operations\n",
      "  -- Performing StandardScaler on X_train: Updates X_train, y_test\n",
      "**Operation:random_sample  cluster\n",
      "  -- Performing ClusterCentroids on X_train, y_train: Updates X_train, y_train\n",
      "\n",
      "Dataframe, Train Test Summary\n",
      "-----------------------------\n",
      "Dataframe: (253680, 22)  Data:4, X_train:53004, y_train:53004, X_test:63420, y_test:63420\n",
      "ValueCounts:   y_train: len:2   0:  26502   1: 26502\n",
      "ValueCounts:   y_test : len:2   0:  54576   1:  8844\n"
     ]
    }
   ],
   "source": [
    "# reload any changes to mlanlys\n",
    "importlib.reload(mlanlys)\n",
    "\n",
    "target = 'diabetes'\n",
    "# Dictionary defining modification to be made to the base dataset\n",
    "operation_dict = {  'target_column'     :  target,\n",
    "                    'convert_to_binary' :  True,\n",
    "                    'scaler'            : 'standard', # options: none, standard, minmax\n",
    "                    'random_sample'     : 'cluster'      # options: none, undersample, oversample\n",
    "                    }\n",
    "\n",
    "# This insures that df if not modified during the call to modify_base_dataset()\n",
    "df_modified = df.copy()\n",
    "\n",
    "# Modify the base dataset\n",
    "# data is returned where: X_train, X_test, y_train, y_test = data\n",
    "data = mlanlys.modify_base_dataset(df_modified, operation_dict)"
   ]
  },
  {
   "cell_type": "code",
   "execution_count": 9,
   "metadata": {
    "execution": {
     "iopub.execute_input": "2024-06-10T22:29:19.907360Z",
     "iopub.status.busy": "2024-06-10T22:29:19.906464Z",
     "iopub.status.idle": "2024-06-10T22:29:19.932259Z",
     "shell.execute_reply": "2024-06-10T22:29:19.929371Z"
    }
   },
   "outputs": [
    {
     "name": "stdout",
     "output_type": "stream",
     "text": [
      "Original Dataframe\n",
      "------------------\n",
      "df.shape: (253680, 22)\n",
      "df[diabetes].value_counts:  diabetes\n",
      "0.0    213703\n",
      "2.0     35346\n",
      "1.0      4631\n",
      "Name: count, dtype: int64\n",
      "\n",
      "Modified Dataframe\n",
      "------------------\n",
      "df_modified.shape: (253680, 22)\n",
      "df_modified[diabetes].value_counts:  diabetes\n",
      "0.0    218334\n",
      "1.0     35346\n",
      "Name: count, dtype: int64\n"
     ]
    }
   ],
   "source": [
    "# Print some statistics about the original df and the modified dataframe\n",
    "print(f\"Original Dataframe\")\n",
    "print(f\"------------------\")\n",
    "print(f\"df.shape: {df.shape}\")\n",
    "print(f\"df[{target}].value_counts:  {df[target].value_counts()}\")\n",
    "\n",
    "print(f\"\\nModified Dataframe\")\n",
    "print(f\"------------------\")\n",
    "print(f\"df_modified.shape: {df_modified.shape}\")\n",
    "print(f\"df_modified[{target}].value_counts:  {df_modified[target].value_counts()}\")"
   ]
  },
  {
   "cell_type": "code",
   "execution_count": 10,
   "metadata": {
    "execution": {
     "iopub.execute_input": "2024-06-10T22:29:19.938113Z",
     "iopub.status.busy": "2024-06-10T22:29:19.936752Z",
     "iopub.status.idle": "2024-06-10T22:29:19.952477Z",
     "shell.execute_reply": "2024-06-10T22:29:19.950214Z"
    }
   },
   "outputs": [
    {
     "name": "stdout",
     "output_type": "stream",
     "text": [
      "Dataframe: (253680, 22)  Data:4, X_train:53004, y_train:53004, X_test:63420, y_test:63420\n"
     ]
    },
    {
     "data": {
      "text/plain": [
       "diabetes\n",
       "0.0    26502\n",
       "1.0    26502\n",
       "Name: count, dtype: int64"
      ]
     },
     "execution_count": 10,
     "metadata": {},
     "output_type": "execute_result"
    }
   ],
   "source": [
    "X_train, X_test, y_train, y_test = data\n",
    "print(f\"Dataframe: {df_modified.shape}  Data:{len(data)}, X_train:{len(X_train)}, y_train:{len(y_train)}, X_test:{len(X_test)}, y_test:{len(y_test)}\")\n",
    "y_train.value_counts()"
   ]
  },
  {
   "cell_type": "markdown",
   "metadata": {},
   "source": [
    "---\n",
    "\n",
    "## 3. Run initial Tests and get k_value\n",
    "\n",
    "**From step 2:**  Data = [X_train_modified, X_test_modified, y_train_modified, y_test]\n",
    "\n",
    "---"
   ]
  },
  {
   "cell_type": "code",
   "execution_count": 11,
   "metadata": {
    "execution": {
     "iopub.execute_input": "2024-06-10T22:29:19.958373Z",
     "iopub.status.busy": "2024-06-10T22:29:19.957536Z",
     "iopub.status.idle": "2024-06-10T22:29:20.006639Z",
     "shell.execute_reply": "2024-06-10T22:29:20.005311Z"
    }
   },
   "outputs": [
    {
     "data": {
      "text/plain": [
       "<module 'ml_analysis' from '/mnt/c/ML/DU/repos/projects/project-2/DU-project-2-2015/brfss_2015/../pkgs/ml_analysis.py'>"
      ]
     },
     "execution_count": 11,
     "metadata": {},
     "output_type": "execute_result"
    }
   ],
   "source": [
    "# reload any changes to mlanlys\n",
    "importlib.reload(mlanlys)\n",
    "\n",
    "# Determine the k_value\n",
    "# mlanlys.knn_plot(data)"
   ]
  },
  {
   "cell_type": "markdown",
   "metadata": {},
   "source": [
    "**Note:** From the knn plot above, pick a k-value of 3."
   ]
  },
  {
   "cell_type": "markdown",
   "metadata": {},
   "source": [
    "---\n",
    "\n",
    "## 4. Run the Analysis\n",
    "\n",
    "---\n",
    "\n",
    "#### Model Run Times\n",
    "\n",
    "-  Base dataset (247076 rows × 37 columns):\n",
    "\n",
    "| Model | Run Time |\n",
    "| ----- | -------- |\n",
    "| test_model(SVC(kernel='linear'), data)                          | Aborted >35min (Data too large, consider for RandomUndersampling dataset) |\n",
    "| test_model(KNeighborsClassifier(n_neighbors=k_value), data)     | 247.13 seconds |\n",
    "| test_model(tree.DecisionTreeClassifier(), data)                 |   3.89 seconds |\n",
    "| test_model(RandomForestClassifier(), data)                      |  60.94 seconds |\n",
    "| test_model(ExtraTreesClassifier(random_state=1), data)          |  58.54 seconds |\n",
    "| test_model(GradientBoostingClassifier(random_state=1), data)    | 115.21 seconds |\n",
    "| test_model(AdaBoostClassifier(random_state=1), data)            |  11.91 seconds |\n",
    "| test_model(LogisticRegression(), data)                          |   4.90 seconds |\n",
    "| **Total** w/o SVC| 502.52 seconds / **8:23 minutes** |"
   ]
  },
  {
   "cell_type": "code",
   "execution_count": 12,
   "metadata": {
    "execution": {
     "iopub.execute_input": "2024-06-10T22:29:20.011876Z",
     "iopub.status.busy": "2024-06-10T22:29:20.011223Z",
     "iopub.status.idle": "2024-06-10T22:30:29.991831Z",
     "shell.execute_reply": "2024-06-10T22:30:29.991050Z"
    }
   },
   "outputs": [],
   "source": [
    "# reload any changes to nlanlys\n",
    "importlib.reload(mlanlys)\n",
    "\n",
    "k_value = 3\n",
    "\n",
    "#### COMMENT OUT ONE OF THE FOLLOWING SECTIONS\n",
    "\n",
    "## SECTION 1\n",
    "# Capture stdout & stderr into two strings: osc.stdout and osc.stderr that contain the output from the function\n",
    "# -- This allows the output to be printed here or to a file or both.\n",
    "\n",
    "with mlanlys.OutStreamCapture() as osc:\n",
    "    performance_summary = mlanlys.run_classification_models(data, k_value)\n",
    "#    performance_summary = mlanlys.run_classification_models_test(data, k_value)\n",
    "\n",
    "## <OR>\n",
    "## SECTION 2\n",
    "\n",
    "# performance_summary = mlanlys.run_classification_models(data, k_value)\n"
   ]
  },
  {
   "cell_type": "code",
   "execution_count": 13,
   "metadata": {
    "execution": {
     "iopub.execute_input": "2024-06-10T22:30:29.995120Z",
     "iopub.status.busy": "2024-06-10T22:30:29.994764Z",
     "iopub.status.idle": "2024-06-10T22:30:29.998649Z",
     "shell.execute_reply": "2024-06-10T22:30:29.997751Z"
    }
   },
   "outputs": [],
   "source": [
    "# UNCOMMENT if using SECTION 1 in the previous step\n",
    "# print(osc.stdout)\n",
    "\n",
    "# Add code to print osc.stdout to a file if desired."
   ]
  },
  {
   "cell_type": "markdown",
   "metadata": {},
   "source": [
    "---\n",
    "\n",
    "### 4.1 Archive Performance Summary\n",
    "\n",
    "- For use in Project-2 Performance Summary Report\n",
    "---"
   ]
  },
  {
   "cell_type": "code",
   "execution_count": 14,
   "metadata": {
    "execution": {
     "iopub.execute_input": "2024-06-10T22:30:30.001471Z",
     "iopub.status.busy": "2024-06-10T22:30:30.001245Z",
     "iopub.status.idle": "2024-06-10T22:30:30.023485Z",
     "shell.execute_reply": "2024-06-10T22:30:30.022852Z"
    }
   },
   "outputs": [
    {
     "name": "stdout",
     "output_type": "stream",
     "text": [
      "The file reports/performance_report.pkl exists.\n"
     ]
    }
   ],
   "source": [
    "# performance_summary is a dataframe of performance statistics\n",
    "\n",
    "# Add the dataset label as the first column in performance_summary\n",
    "dataset_column = pd.Series([dataset_label] * len(performance_summary), name=dataset_label)\n",
    "performance_summary.insert(0, 'new_column', dataset_column)\n",
    "\n",
    "analysis_perf_summary = { 'dataset_size': list(df.shape), 'report': performance_summary}\n",
    "\n",
    "# Performance_report is a file containing all the performance summary statistics\n",
    "if os.path.exists(performance_report):\n",
    "    print(f\"The file {performance_report} exists.\")\n",
    "    # Load Performance Report\n",
    "    with open(performance_report, 'rb') as file: perf_report = pickle.load(file)\n",
    "else:\n",
    "    print(f\"The file {performance_report} does not exist.\")\n",
    "    perf_report = {}\n",
    "    \n",
    "perf_report[dataset_label] = analysis_perf_summary\n",
    "\n",
    "# Save Performance Report\n",
    "with open(performance_report, 'wb') as file: pickle.dump(perf_report, file)"
   ]
  },
  {
   "cell_type": "markdown",
   "metadata": {},
   "source": [
    "### 4.2 Archive the Performance Detailed Statistics Report\n",
    "---"
   ]
  },
  {
   "cell_type": "code",
   "execution_count": 15,
   "metadata": {
    "execution": {
     "iopub.execute_input": "2024-06-10T22:30:30.025958Z",
     "iopub.status.busy": "2024-06-10T22:30:30.025733Z",
     "iopub.status.idle": "2024-06-10T22:30:30.039284Z",
     "shell.execute_reply": "2024-06-10T22:30:30.038591Z"
    }
   },
   "outputs": [],
   "source": [
    "# osc.stdout contains the details of the performance statistics\n",
    "\n",
    "with open(detailed_performance_report, \"w\") as file:\n",
    "    file.write(osc.stdout)"
   ]
  },
  {
   "cell_type": "markdown",
   "metadata": {},
   "source": [
    "---\n",
    "\n",
    "## 5. Performance Summary\n",
    "\n",
    "---"
   ]
  },
  {
   "cell_type": "code",
   "execution_count": 16,
   "metadata": {
    "execution": {
     "iopub.execute_input": "2024-06-10T22:30:30.041886Z",
     "iopub.status.busy": "2024-06-10T22:30:30.041607Z",
     "iopub.status.idle": "2024-06-10T22:30:30.055792Z",
     "shell.execute_reply": "2024-06-10T22:30:30.055133Z"
    }
   },
   "outputs": [
    {
     "name": "stdout",
     "output_type": "stream",
     "text": [
      "******************************************\n",
      "Performance Summary for: 6 ClusterCentroids Dataset\n",
      "******************************************\n"
     ]
    },
    {
     "data": {
      "text/html": [
       "<div>\n",
       "<style scoped>\n",
       "    .dataframe tbody tr th:only-of-type {\n",
       "        vertical-align: middle;\n",
       "    }\n",
       "\n",
       "    .dataframe tbody tr th {\n",
       "        vertical-align: top;\n",
       "    }\n",
       "\n",
       "    .dataframe thead th {\n",
       "        text-align: right;\n",
       "    }\n",
       "</style>\n",
       "<table border=\"1\" class=\"dataframe\">\n",
       "  <thead>\n",
       "    <tr style=\"text-align: right;\">\n",
       "      <th></th>\n",
       "      <th>new_column</th>\n",
       "      <th>model</th>\n",
       "      <th>slice</th>\n",
       "      <th>score</th>\n",
       "      <th>balanced_accuracy</th>\n",
       "      <th>roc_auc_score</th>\n",
       "      <th>Mean Squared Error</th>\n",
       "      <th>Accuracy</th>\n",
       "      <th>Precision</th>\n",
       "      <th>Recall</th>\n",
       "      <th>F1-score</th>\n",
       "      <th>Specificity</th>\n",
       "      <th>False Positive Rate</th>\n",
       "      <th>Matthews Correlation Coefficient</th>\n",
       "    </tr>\n",
       "  </thead>\n",
       "  <tbody>\n",
       "    <tr>\n",
       "      <th>0</th>\n",
       "      <td>6 ClusterCentroids Dataset</td>\n",
       "      <td>KNeighborsClassifier</td>\n",
       "      <td>Train</td>\n",
       "      <td>0.7675</td>\n",
       "      <td>0.7675</td>\n",
       "      <td>0.8507</td>\n",
       "      <td>0.2325</td>\n",
       "      <td>0.7675</td>\n",
       "      <td>0.7336</td>\n",
       "      <td>0.8399</td>\n",
       "      <td>0.7832</td>\n",
       "      <td>0.6950</td>\n",
       "      <td>0.3050</td>\n",
       "      <td>0.5406</td>\n",
       "    </tr>\n",
       "    <tr>\n",
       "      <th>1</th>\n",
       "      <td>6 ClusterCentroids Dataset</td>\n",
       "      <td>KNeighborsClassifier</td>\n",
       "      <td>Test</td>\n",
       "      <td>0.6232</td>\n",
       "      <td>0.6403</td>\n",
       "      <td>0.6788</td>\n",
       "      <td>0.3768</td>\n",
       "      <td>0.6232</td>\n",
       "      <td>0.2191</td>\n",
       "      <td>0.6641</td>\n",
       "      <td>0.3295</td>\n",
       "      <td>0.6166</td>\n",
       "      <td>0.3834</td>\n",
       "      <td>0.1968</td>\n",
       "    </tr>\n",
       "    <tr>\n",
       "      <th>2</th>\n",
       "      <td>6 ClusterCentroids Dataset</td>\n",
       "      <td>DecisionTreeClassifier</td>\n",
       "      <td>Train</td>\n",
       "      <td>1.0000</td>\n",
       "      <td>1.0000</td>\n",
       "      <td>1.0000</td>\n",
       "      <td>0.0000</td>\n",
       "      <td>1.0000</td>\n",
       "      <td>1.0000</td>\n",
       "      <td>1.0000</td>\n",
       "      <td>1.0000</td>\n",
       "      <td>1.0000</td>\n",
       "      <td>0.0000</td>\n",
       "      <td>1.0000</td>\n",
       "    </tr>\n",
       "    <tr>\n",
       "      <th>3</th>\n",
       "      <td>6 ClusterCentroids Dataset</td>\n",
       "      <td>DecisionTreeClassifier</td>\n",
       "      <td>Test</td>\n",
       "      <td>0.3344</td>\n",
       "      <td>0.5387</td>\n",
       "      <td>0.5387</td>\n",
       "      <td>0.6656</td>\n",
       "      <td>0.3344</td>\n",
       "      <td>0.1517</td>\n",
       "      <td>0.8220</td>\n",
       "      <td>0.2561</td>\n",
       "      <td>0.2554</td>\n",
       "      <td>0.7446</td>\n",
       "      <td>0.0624</td>\n",
       "    </tr>\n",
       "    <tr>\n",
       "      <th>4</th>\n",
       "      <td>6 ClusterCentroids Dataset</td>\n",
       "      <td>RandomForestClassifier</td>\n",
       "      <td>Train</td>\n",
       "      <td>1.0000</td>\n",
       "      <td>1.0000</td>\n",
       "      <td>1.0000</td>\n",
       "      <td>0.0000</td>\n",
       "      <td>1.0000</td>\n",
       "      <td>1.0000</td>\n",
       "      <td>1.0000</td>\n",
       "      <td>1.0000</td>\n",
       "      <td>1.0000</td>\n",
       "      <td>0.0000</td>\n",
       "      <td>1.0000</td>\n",
       "    </tr>\n",
       "    <tr>\n",
       "      <th>5</th>\n",
       "      <td>6 ClusterCentroids Dataset</td>\n",
       "      <td>RandomForestClassifier</td>\n",
       "      <td>Test</td>\n",
       "      <td>0.3309</td>\n",
       "      <td>0.5646</td>\n",
       "      <td>0.5631</td>\n",
       "      <td>0.6691</td>\n",
       "      <td>0.3309</td>\n",
       "      <td>0.1594</td>\n",
       "      <td>0.8886</td>\n",
       "      <td>0.2703</td>\n",
       "      <td>0.2405</td>\n",
       "      <td>0.7595</td>\n",
       "      <td>0.1076</td>\n",
       "    </tr>\n",
       "    <tr>\n",
       "      <th>6</th>\n",
       "      <td>6 ClusterCentroids Dataset</td>\n",
       "      <td>ExtraTreesClassifier</td>\n",
       "      <td>Train</td>\n",
       "      <td>1.0000</td>\n",
       "      <td>1.0000</td>\n",
       "      <td>1.0000</td>\n",
       "      <td>0.0000</td>\n",
       "      <td>1.0000</td>\n",
       "      <td>1.0000</td>\n",
       "      <td>1.0000</td>\n",
       "      <td>1.0000</td>\n",
       "      <td>1.0000</td>\n",
       "      <td>0.0000</td>\n",
       "      <td>1.0000</td>\n",
       "    </tr>\n",
       "    <tr>\n",
       "      <th>7</th>\n",
       "      <td>6 ClusterCentroids Dataset</td>\n",
       "      <td>ExtraTreesClassifier</td>\n",
       "      <td>Test</td>\n",
       "      <td>0.4310</td>\n",
       "      <td>0.6056</td>\n",
       "      <td>0.6317</td>\n",
       "      <td>0.5690</td>\n",
       "      <td>0.4310</td>\n",
       "      <td>0.1775</td>\n",
       "      <td>0.8478</td>\n",
       "      <td>0.2935</td>\n",
       "      <td>0.3634</td>\n",
       "      <td>0.6366</td>\n",
       "      <td>0.1551</td>\n",
       "    </tr>\n",
       "    <tr>\n",
       "      <th>8</th>\n",
       "      <td>6 ClusterCentroids Dataset</td>\n",
       "      <td>GradientBoostingClassifier</td>\n",
       "      <td>Train</td>\n",
       "      <td>0.8777</td>\n",
       "      <td>0.8777</td>\n",
       "      <td>0.9540</td>\n",
       "      <td>0.1223</td>\n",
       "      <td>0.8777</td>\n",
       "      <td>0.8576</td>\n",
       "      <td>0.9059</td>\n",
       "      <td>0.8811</td>\n",
       "      <td>0.8496</td>\n",
       "      <td>0.1504</td>\n",
       "      <td>0.7566</td>\n",
       "    </tr>\n",
       "    <tr>\n",
       "      <th>9</th>\n",
       "      <td>6 ClusterCentroids Dataset</td>\n",
       "      <td>GradientBoostingClassifier</td>\n",
       "      <td>Test</td>\n",
       "      <td>0.3397</td>\n",
       "      <td>0.5752</td>\n",
       "      <td>0.6168</td>\n",
       "      <td>0.6603</td>\n",
       "      <td>0.3397</td>\n",
       "      <td>0.1628</td>\n",
       "      <td>0.9016</td>\n",
       "      <td>0.2758</td>\n",
       "      <td>0.2487</td>\n",
       "      <td>0.7513</td>\n",
       "      <td>0.1242</td>\n",
       "    </tr>\n",
       "    <tr>\n",
       "      <th>10</th>\n",
       "      <td>6 ClusterCentroids Dataset</td>\n",
       "      <td>AdaBoostClassifier</td>\n",
       "      <td>Train</td>\n",
       "      <td>0.8580</td>\n",
       "      <td>0.8580</td>\n",
       "      <td>0.9364</td>\n",
       "      <td>0.1420</td>\n",
       "      <td>0.8580</td>\n",
       "      <td>0.8335</td>\n",
       "      <td>0.8948</td>\n",
       "      <td>0.8631</td>\n",
       "      <td>0.8213</td>\n",
       "      <td>0.1787</td>\n",
       "      <td>0.7180</td>\n",
       "    </tr>\n",
       "    <tr>\n",
       "      <th>11</th>\n",
       "      <td>6 ClusterCentroids Dataset</td>\n",
       "      <td>AdaBoostClassifier</td>\n",
       "      <td>Test</td>\n",
       "      <td>0.4017</td>\n",
       "      <td>0.6062</td>\n",
       "      <td>0.6695</td>\n",
       "      <td>0.5983</td>\n",
       "      <td>0.4017</td>\n",
       "      <td>0.1755</td>\n",
       "      <td>0.8898</td>\n",
       "      <td>0.2932</td>\n",
       "      <td>0.3227</td>\n",
       "      <td>0.6773</td>\n",
       "      <td>0.1617</td>\n",
       "    </tr>\n",
       "    <tr>\n",
       "      <th>12</th>\n",
       "      <td>6 ClusterCentroids Dataset</td>\n",
       "      <td>LogisticRegression</td>\n",
       "      <td>Train</td>\n",
       "      <td>0.7159</td>\n",
       "      <td>0.7159</td>\n",
       "      <td>0.7872</td>\n",
       "      <td>0.2841</td>\n",
       "      <td>0.7159</td>\n",
       "      <td>0.6986</td>\n",
       "      <td>0.7595</td>\n",
       "      <td>0.7278</td>\n",
       "      <td>0.6723</td>\n",
       "      <td>0.3277</td>\n",
       "      <td>0.4335</td>\n",
       "    </tr>\n",
       "    <tr>\n",
       "      <th>13</th>\n",
       "      <td>6 ClusterCentroids Dataset</td>\n",
       "      <td>LogisticRegression</td>\n",
       "      <td>Test</td>\n",
       "      <td>0.6585</td>\n",
       "      <td>0.6968</td>\n",
       "      <td>0.7630</td>\n",
       "      <td>0.3415</td>\n",
       "      <td>0.6585</td>\n",
       "      <td>0.2543</td>\n",
       "      <td>0.7499</td>\n",
       "      <td>0.3798</td>\n",
       "      <td>0.6437</td>\n",
       "      <td>0.3563</td>\n",
       "      <td>0.2771</td>\n",
       "    </tr>\n",
       "  </tbody>\n",
       "</table>\n",
       "</div>"
      ],
      "text/plain": [
       "                    new_column                       model  slice   score  \\\n",
       "0   6 ClusterCentroids Dataset        KNeighborsClassifier  Train  0.7675   \n",
       "1   6 ClusterCentroids Dataset        KNeighborsClassifier   Test  0.6232   \n",
       "2   6 ClusterCentroids Dataset      DecisionTreeClassifier  Train  1.0000   \n",
       "3   6 ClusterCentroids Dataset      DecisionTreeClassifier   Test  0.3344   \n",
       "4   6 ClusterCentroids Dataset      RandomForestClassifier  Train  1.0000   \n",
       "5   6 ClusterCentroids Dataset      RandomForestClassifier   Test  0.3309   \n",
       "6   6 ClusterCentroids Dataset        ExtraTreesClassifier  Train  1.0000   \n",
       "7   6 ClusterCentroids Dataset        ExtraTreesClassifier   Test  0.4310   \n",
       "8   6 ClusterCentroids Dataset  GradientBoostingClassifier  Train  0.8777   \n",
       "9   6 ClusterCentroids Dataset  GradientBoostingClassifier   Test  0.3397   \n",
       "10  6 ClusterCentroids Dataset          AdaBoostClassifier  Train  0.8580   \n",
       "11  6 ClusterCentroids Dataset          AdaBoostClassifier   Test  0.4017   \n",
       "12  6 ClusterCentroids Dataset          LogisticRegression  Train  0.7159   \n",
       "13  6 ClusterCentroids Dataset          LogisticRegression   Test  0.6585   \n",
       "\n",
       "    balanced_accuracy  roc_auc_score  Mean Squared Error  Accuracy  Precision  \\\n",
       "0              0.7675         0.8507              0.2325    0.7675     0.7336   \n",
       "1              0.6403         0.6788              0.3768    0.6232     0.2191   \n",
       "2              1.0000         1.0000              0.0000    1.0000     1.0000   \n",
       "3              0.5387         0.5387              0.6656    0.3344     0.1517   \n",
       "4              1.0000         1.0000              0.0000    1.0000     1.0000   \n",
       "5              0.5646         0.5631              0.6691    0.3309     0.1594   \n",
       "6              1.0000         1.0000              0.0000    1.0000     1.0000   \n",
       "7              0.6056         0.6317              0.5690    0.4310     0.1775   \n",
       "8              0.8777         0.9540              0.1223    0.8777     0.8576   \n",
       "9              0.5752         0.6168              0.6603    0.3397     0.1628   \n",
       "10             0.8580         0.9364              0.1420    0.8580     0.8335   \n",
       "11             0.6062         0.6695              0.5983    0.4017     0.1755   \n",
       "12             0.7159         0.7872              0.2841    0.7159     0.6986   \n",
       "13             0.6968         0.7630              0.3415    0.6585     0.2543   \n",
       "\n",
       "    Recall  F1-score  Specificity  False Positive Rate  \\\n",
       "0   0.8399    0.7832       0.6950               0.3050   \n",
       "1   0.6641    0.3295       0.6166               0.3834   \n",
       "2   1.0000    1.0000       1.0000               0.0000   \n",
       "3   0.8220    0.2561       0.2554               0.7446   \n",
       "4   1.0000    1.0000       1.0000               0.0000   \n",
       "5   0.8886    0.2703       0.2405               0.7595   \n",
       "6   1.0000    1.0000       1.0000               0.0000   \n",
       "7   0.8478    0.2935       0.3634               0.6366   \n",
       "8   0.9059    0.8811       0.8496               0.1504   \n",
       "9   0.9016    0.2758       0.2487               0.7513   \n",
       "10  0.8948    0.8631       0.8213               0.1787   \n",
       "11  0.8898    0.2932       0.3227               0.6773   \n",
       "12  0.7595    0.7278       0.6723               0.3277   \n",
       "13  0.7499    0.3798       0.6437               0.3563   \n",
       "\n",
       "    Matthews Correlation Coefficient  \n",
       "0                             0.5406  \n",
       "1                             0.1968  \n",
       "2                             1.0000  \n",
       "3                             0.0624  \n",
       "4                             1.0000  \n",
       "5                             0.1076  \n",
       "6                             1.0000  \n",
       "7                             0.1551  \n",
       "8                             0.7566  \n",
       "9                             0.1242  \n",
       "10                            0.7180  \n",
       "11                            0.1617  \n",
       "12                            0.4335  \n",
       "13                            0.2771  "
      ]
     },
     "execution_count": 16,
     "metadata": {},
     "output_type": "execute_result"
    }
   ],
   "source": [
    "# print the performance summary\n",
    "print(f\"******************************************\")\n",
    "print(f\"Performance Summary for: {dataset_label}\")\n",
    "print(f\"******************************************\")\n",
    "\n",
    "performance_summary"
   ]
  },
  {
   "cell_type": "code",
   "execution_count": 17,
   "metadata": {
    "execution": {
     "iopub.execute_input": "2024-06-10T22:30:30.057929Z",
     "iopub.status.busy": "2024-06-10T22:30:30.057720Z",
     "iopub.status.idle": "2024-06-10T22:30:30.061180Z",
     "shell.execute_reply": "2024-06-10T22:30:30.060615Z"
    }
   },
   "outputs": [
    {
     "name": "stdout",
     "output_type": "stream",
     "text": [
      "Completed: Execution Time 1290.75 seconds:\n"
     ]
    }
   ],
   "source": [
    "print(f\"Completed: Execution Time %s seconds:\" % round((time.time() - start_time),2) )"
   ]
  },
  {
   "cell_type": "markdown",
   "metadata": {},
   "source": [
    "---\n",
    "\n",
    "## 6. Conclusions\n",
    "\n",
    "- A first glance at the summary, it appears that the Boosting models may have performed well with test/train scores were >.8 and similar in scale (<.02 delta).  However, the poor test confusion matrix and balanced accuracy highlight the overfitting.\n",
    "\n",
    "- The Base Cleaned data is overfit as indicated by:\n",
    "    - Poor confusion matrix on the detailed report for test sets on all models\n",
    "    - Low balanced accuracy as compared to the model score (less than 50%)\n"
   ]
  },
  {
   "cell_type": "markdown",
   "metadata": {},
   "source": [
    "---\n",
    "\n",
    "---"
   ]
  }
 ],
 "metadata": {
  "kernelspec": {
   "display_name": "dev",
   "language": "python",
   "name": "python3"
  },
  "language_info": {
   "codemirror_mode": {
    "name": "ipython",
    "version": 3
   },
   "file_extension": ".py",
   "mimetype": "text/x-python",
   "name": "python",
   "nbconvert_exporter": "python",
   "pygments_lexer": "ipython3",
   "version": "3.12.2"
  }
 },
 "nbformat": 4,
 "nbformat_minor": 2
}
