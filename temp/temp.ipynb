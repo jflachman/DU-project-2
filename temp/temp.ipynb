{
 "cells": [
  {
   "cell_type": "code",
   "execution_count": null,
   "metadata": {},
   "outputs": [],
   "source": [
    "import pandas as pd\n",
    "import glob\n",
    "\n",
    "\n",
    "# Create an empty dataframe to store the combined data\n",
    "#combined_df = pd.DataFrame()\n",
    "\n",
    "directory_path = 'data'\n",
    "\n",
    "def read_cdv_files( directory_path ):\n",
    "    # Get a list of all CSV files in a directory\n",
    "    csv_files = glob.glob(directory_path + '/*.csv')\n",
    "\n",
    "    df_list = []\n",
    "    # Loop through each CSV file and append its contents to the combined dataframe\n",
    "    for csv_file in csv_files:\n",
    "        df = pd.read_csv(csv_file)\n",
    "        df_list.append( [ csv_file, df ] )\n",
    "    #    combined_df = pd.concat([combined_df, df])\n",
    "\n",
    "    # Print the combined dataframe\n",
    "    #print(combined_df)\n",
    "\n",
    "\n",
    "[ \n",
    "    [csv_file_1, df_1]\n",
    "    [csv_file_1, df_1]\n",
    "    [csv_file_1, df_1]\n",
    "]"
   ]
  }
 ],
 "metadata": {
  "language_info": {
   "name": "python"
  }
 },
 "nbformat": 4,
 "nbformat_minor": 2
}
