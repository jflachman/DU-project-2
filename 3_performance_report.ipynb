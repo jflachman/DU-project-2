{
 "cells": [
  {
   "cell_type": "markdown",
   "metadata": {},
   "source": [
    "---\n",
    "\n",
    "# Process the Performance Report\n",
    "\n",
    "---"
   ]
  },
  {
   "cell_type": "code",
   "execution_count": 10,
   "metadata": {},
   "outputs": [],
   "source": [
    "# package imports go here\n",
    "import pandas as pd\n",
    "import numpy as np\n",
    "import fastparquet as fp\n",
    "import os\n",
    "import sys\n",
    "import pickle\n",
    "import matplotlib.pyplot as plt\n",
    "import importlib\n",
    "\n",
    "sys.path.insert(1, 'pkgs')\n",
    "import ml_analysis as mlanlys"
   ]
  },
  {
   "cell_type": "code",
   "execution_count": 11,
   "metadata": {},
   "outputs": [],
   "source": [
    "# Path to performance report\n",
    "report_path = 'reports/'\n",
    "performance_report              = report_path + 'performance_report.pkl'\n",
    "performance_report_text_file    = report_path + 'performance_report.txt'"
   ]
  },
  {
   "cell_type": "markdown",
   "metadata": {},
   "source": [
    "---\n",
    "\n",
    "## 1. Read performance report\n",
    "\n",
    "---"
   ]
  },
  {
   "cell_type": "code",
   "execution_count": 12,
   "metadata": {},
   "outputs": [
    {
     "name": "stdout",
     "output_type": "stream",
     "text": [
      "The file reports/performance_report.pkl exists and the Performance Report was read successfully\n"
     ]
    }
   ],
   "source": [
    "if os.path.exists(performance_report):\n",
    "    # Load Performance Report\n",
    "    with open(performance_report, 'rb') as file: perf_report = pickle.load(file)\n",
    "    print(f\"The file {performance_report} exists and the Performance Report was read successfully\")\n",
    "else:\n",
    "    print(f\"******************************************************\")\n",
    "    print(f\"The file: '{performance_report}' DOES NOT EXIST\")\n",
    "    print(f\"******************************************************\")"
   ]
  },
  {
   "cell_type": "markdown",
   "metadata": {},
   "source": [
    "---\n",
    "\n",
    "## 2. Write the Performance Report\n",
    "\n",
    "---"
   ]
  },
  {
   "cell_type": "code",
   "execution_count": 13,
   "metadata": {},
   "outputs": [
    {
     "data": {
      "text/plain": [
       "dict_keys(['RandomUndersampled Dataset', 'Binary Dataset', 'Standard Scaled Dataset', 'Cluster Dataset', 'Base Dataset', 'RandomOverSample Dataset', 'SMOTEEN Dataset', 'MinMax Scaled Dataset', 'SMOTE Dataset'])"
      ]
     },
     "execution_count": 13,
     "metadata": {},
     "output_type": "execute_result"
    }
   ],
   "source": [
    "\n",
    "perf_datasets_in = perf_report.keys()\n",
    "\n",
    "perf_datasets_in"
   ]
  },
  {
   "cell_type": "markdown",
   "metadata": {},
   "source": [
    "#### 2.1 Modify the order of the reported datasets\n",
    "\n",
    "---"
   ]
  },
  {
   "cell_type": "code",
   "execution_count": 14,
   "metadata": {},
   "outputs": [],
   "source": [
    "# Use this cell to re-order the datasets for the report\n",
    "\n",
    "perf_datasets = perf_datasets_in"
   ]
  },
  {
   "cell_type": "markdown",
   "metadata": {},
   "source": [
    "#### 2.2 Print the report\n",
    "\n",
    "---"
   ]
  },
  {
   "cell_type": "code",
   "execution_count": 15,
   "metadata": {},
   "outputs": [],
   "source": [
    "def print_performance_report(perf_report):\n",
    "    # Print header and then every performance report in the reports dictionary\n",
    "\n",
    "    print(f\"**********************************************************\")\n",
    "    print(f\"Diabetes Predictions Performance Summary Report\")\n",
    "    print(f\"**********************************************************\")\n",
    "\n",
    "    print(f\"----------------------------------------\")\n",
    "    print(f\"Report Summary\")\n",
    "    print(f\"----------------------------------------\")\n",
    "\n",
    "    for report in perf_report:\n",
    "        print(f\"Performance for: {report}\")\n",
    "\n",
    "    print(f\"----------------------------------------\")\n",
    "\n",
    "    for report in perf_report:\n",
    "        report_dict = perf_report[report]\n",
    "        dataset_size = report_dict['dataset_size']\n",
    "        report_df = report_dict['report']\n",
    "        print(f\"----------------------------------------\")\n",
    "        print(f\"Performance for: {report}\")\n",
    "        print(f\"Dataset Size:    {dataset_size[0]} Rows, {dataset_size[1]} Columns\")\n",
    "        print(f\"----------------------------------------\")\n",
    "        print(f\"{report_df.to_string(index=False)}\")"
   ]
  },
  {
   "cell_type": "code",
   "execution_count": 16,
   "metadata": {},
   "outputs": [],
   "source": [
    "# Generate the Performance Report and send prints to osc.stdout\n",
    "with mlanlys.OutStreamCapture() as osc:\n",
    "    print_performance_report(perf_report)"
   ]
  },
  {
   "cell_type": "code",
   "execution_count": 17,
   "metadata": {},
   "outputs": [],
   "source": [
    "# osc.stdout contains the details of the performance report\n",
    "# write the performance report to the performance_report_text_file\n",
    "with open(performance_report_text_file, \"w\") as file:\n",
    "    file.write(osc.stdout)"
   ]
  },
  {
   "cell_type": "code",
   "execution_count": 18,
   "metadata": {},
   "outputs": [
    {
     "name": "stdout",
     "output_type": "stream",
     "text": [
      "**********************************************************\n",
      "Diabetes Predictions Performance Summary Report\n",
      "**********************************************************\n",
      "----------------------------------------\n",
      "Report Summary\n",
      "----------------------------------------\n",
      "Performance for: RandomUndersampled Dataset\n",
      "Performance for: Binary Dataset\n",
      "Performance for: Standard Scaled Dataset\n",
      "Performance for: Cluster Dataset\n",
      "Performance for: Base Dataset\n",
      "Performance for: RandomOverSample Dataset\n",
      "Performance for: SMOTEEN Dataset\n",
      "Performance for: MinMax Scaled Dataset\n",
      "Performance for: SMOTE Dataset\n",
      "----------------------------------------\n",
      "----------------------------------------\n",
      "Performance for: RandomUndersampled Dataset\n",
      "Dataset Size:    253680 Rows, 22 Columns\n",
      "----------------------------------------\n",
      "                     model slice    score  balanced_accuracy  roc_auc_score\n",
      "      KNeighborsClassifier Train 0.830986           0.830986       0.913746\n",
      "      KNeighborsClassifier  Test 0.680921           0.692573       0.738510\n",
      "    DecisionTreeClassifier Train 0.994633           0.994633       0.999941\n",
      "    DecisionTreeClassifier  Test 0.660107           0.657310       0.657569\n",
      "    RandomForestClassifier Train 0.994633           0.994633       0.999762\n",
      "    RandomForestClassifier  Test 0.707915           0.736624       0.808041\n",
      "      ExtraTreesClassifier Train 0.994633           0.994633       0.999941\n",
      "      ExtraTreesClassifier  Test 0.696736           0.723504       0.789293\n",
      "GradientBoostingClassifier Train 0.755904           0.755904       0.836019\n",
      "GradientBoostingClassifier  Test 0.720719           0.749684       0.827735\n",
      "        AdaBoostClassifier Train 0.749576           0.749576       0.829611\n",
      "        AdaBoostClassifier  Test 0.731331           0.748928       0.825186\n",
      "        LogisticRegression Train 0.747109           0.747109       0.825369\n",
      "        LogisticRegression  Test 0.729076           0.744472       0.821738\n",
      "----------------------------------------\n",
      "Performance for: Binary Dataset\n",
      "Dataset Size:    253680 Rows, 22 Columns\n",
      "----------------------------------------\n",
      "                     model slice    score  balanced_accuracy  roc_auc_score\n",
      "      KNeighborsClassifier Train 0.902502           0.723728       0.933827\n",
      "      KNeighborsClassifier  Test 0.834059           0.585721       0.680944\n",
      "    DecisionTreeClassifier Train 0.994560           0.980745       0.999854\n",
      "    DecisionTreeClassifier  Test 0.794686           0.597220       0.595167\n",
      "    RandomForestClassifier Train 0.994508           0.982004       0.999429\n",
      "    RandomForestClassifier  Test 0.856433           0.569750       0.795920\n",
      "      ExtraTreesClassifier Train 0.994560           0.980745       0.999854\n",
      "      ExtraTreesClassifier  Test 0.848549           0.566224       0.776421\n",
      "GradientBoostingClassifier Train 0.867644           0.575049       0.832179\n",
      "GradientBoostingClassifier  Test 0.863813           0.573446       0.828299\n",
      "        AdaBoostClassifier Train 0.865841           0.581502       0.827209\n",
      "        AdaBoostClassifier  Test 0.862378           0.580964       0.824593\n",
      "        LogisticRegression Train 0.864559           0.566889       0.822441\n",
      "        LogisticRegression  Test 0.860896           0.565805       0.821372\n",
      "----------------------------------------\n",
      "Performance for: Standard Scaled Dataset\n",
      "Dataset Size:    253680 Rows, 22 Columns\n",
      "----------------------------------------\n",
      "                     model slice    score  balanced_accuracy  roc_auc_score\n",
      "      KNeighborsClassifier Train 0.885699           0.499870       0.947173\n",
      "      KNeighborsClassifier  Test 0.820940           0.392788       0.630468\n",
      "    DecisionTreeClassifier Train 0.993446           0.968265       0.999873\n",
      "    DecisionTreeClassifier  Test 0.769915           0.409026       0.572309\n",
      "    RandomForestClassifier Train 0.993404           0.968803       0.999524\n",
      "    RandomForestClassifier  Test 0.843456           0.387473       0.746139\n",
      "      ExtraTreesClassifier Train 0.993446           0.968265       0.999873\n",
      "      ExtraTreesClassifier  Test 0.834626           0.387458       0.723080\n",
      "GradientBoostingClassifier Train 0.850110           0.391492       0.795637\n",
      "GradientBoostingClassifier  Test 0.850473           0.389160       0.788657\n",
      "        AdaBoostClassifier Train 0.848260           0.393030       0.776731\n",
      "        AdaBoostClassifier  Test 0.848817           0.391139       0.774037\n",
      "        LogisticRegression Train 0.846153           0.383676       0.781878\n",
      "        LogisticRegression  Test 0.847509           0.382973       0.780888\n",
      "----------------------------------------\n",
      "Performance for: Cluster Dataset\n",
      "Dataset Size:    247076 Rows, 37 Columns\n",
      "----------------------------------------\n",
      "                     model slice    score  balanced_accuracy  roc_auc_score\n",
      "      KNeighborsClassifier Train 0.806288           0.806288       0.886491\n",
      "      KNeighborsClassifier  Test 0.687643           0.647024       0.695948\n",
      "    DecisionTreeClassifier Train 1.000000           1.000000       1.000000\n",
      "    DecisionTreeClassifier  Test 0.381373           0.588382       0.588382\n",
      "    RandomForestClassifier Train 1.000000           1.000000       1.000000\n",
      "    RandomForestClassifier  Test 0.389208           0.620974       0.663821\n",
      "      ExtraTreesClassifier Train 1.000000           1.000000       1.000000\n",
      "      ExtraTreesClassifier  Test 0.412148           0.628580       0.691199\n",
      "GradientBoostingClassifier Train 0.923215           0.923215       0.979970\n",
      "GradientBoostingClassifier  Test 0.350580           0.601143       0.677725\n",
      "        AdaBoostClassifier Train 0.913677           0.913677       0.974349\n",
      "        AdaBoostClassifier  Test 0.336350           0.591954       0.684541\n",
      "        LogisticRegression Train 0.757971           0.757971       0.840733\n",
      "        LogisticRegression  Test 0.643672           0.713743       0.779676\n",
      "----------------------------------------\n",
      "Performance for: Base Dataset\n",
      "Dataset Size:    253680 Rows, 22 Columns\n",
      "----------------------------------------\n",
      "                     model slice    score  balanced_accuracy  roc_auc_score\n",
      "      KNeighborsClassifier Train 0.884868           0.495953       0.947302\n",
      "      KNeighborsClassifier  Test 0.822091           0.391571       0.620085\n",
      "    DecisionTreeClassifier Train 0.993667           0.969152       0.999884\n",
      "    DecisionTreeClassifier  Test 0.768291           0.401532       0.566468\n",
      "    RandomForestClassifier Train 0.993625           0.969980       0.999544\n",
      "    RandomForestClassifier  Test 0.843173           0.389135       0.739109\n",
      "      ExtraTreesClassifier Train 0.993667           0.969152       0.999884\n",
      "      ExtraTreesClassifier  Test 0.835147           0.387982       0.715327\n",
      "GradientBoostingClassifier Train 0.849417           0.391345       0.795706\n",
      "GradientBoostingClassifier  Test 0.852381           0.393922       0.788652\n",
      "        AdaBoostClassifier Train 0.847750           0.392354       0.778420\n",
      "        AdaBoostClassifier  Test 0.850205           0.394622       0.777727\n",
      "        LogisticRegression Train 0.842910           0.377913       0.760368\n",
      "        LogisticRegression  Test 0.845948           0.381667       0.757859\n",
      "----------------------------------------\n",
      "Performance for: RandomOverSample Dataset\n",
      "Dataset Size:    253680 Rows, 22 Columns\n",
      "----------------------------------------\n",
      "                     model slice    score  balanced_accuracy  roc_auc_score\n",
      "      KNeighborsClassifier Train 0.938321           0.938321       0.994424\n",
      "      KNeighborsClassifier  Test 0.761779           0.644843       0.680667\n",
      "    DecisionTreeClassifier Train 0.994408           0.994408       0.999863\n",
      "    DecisionTreeClassifier  Test 0.796436           0.586173       0.586651\n",
      "    RandomForestClassifier Train 0.994408           0.994408       0.999837\n",
      "    RandomForestClassifier  Test 0.843220           0.619147       0.798282\n",
      "      ExtraTreesClassifier Train 0.994408           0.994408       0.999863\n",
      "      ExtraTreesClassifier  Test 0.848139           0.564076       0.777653\n",
      "GradientBoostingClassifier Train 0.753463           0.753463       0.830783\n",
      "GradientBoostingClassifier  Test 0.722201           0.756250       0.834944\n",
      "        AdaBoostClassifier Train 0.747224           0.747224       0.825216\n",
      "        AdaBoostClassifier  Test 0.734090           0.753768       0.831591\n",
      "        LogisticRegression Train 0.744051           0.744051       0.821036\n",
      "        LogisticRegression  Test 0.733680           0.752482       0.827742\n",
      "----------------------------------------\n",
      "Performance for: SMOTEEN Dataset\n",
      "Dataset Size:    247076 Rows, 37 Columns\n",
      "----------------------------------------\n",
      "                     model slice    score  balanced_accuracy  roc_auc_score\n",
      "      KNeighborsClassifier Train 0.992683           0.990819       0.999991\n",
      "      KNeighborsClassifier  Test 0.652722           0.698526       0.729162\n",
      "    DecisionTreeClassifier Train 1.000000           1.000000       1.000000\n",
      "    DecisionTreeClassifier  Test 0.754213           0.681234       0.681234\n",
      "    RandomForestClassifier Train 1.000000           1.000000       1.000000\n",
      "    RandomForestClassifier  Test 0.788000           0.729354       0.825065\n",
      "      ExtraTreesClassifier Train 1.000000           1.000000       1.000000\n",
      "      ExtraTreesClassifier  Test 0.779112           0.734830       0.821417\n",
      "GradientBoostingClassifier Train 0.932059           0.927449       0.982773\n",
      "GradientBoostingClassifier  Test 0.755395           0.745872       0.827321\n",
      "        AdaBoostClassifier Train 0.915559           0.908767       0.974429\n",
      "        AdaBoostClassifier  Test 0.726011           0.744548       0.822680\n",
      "        LogisticRegression Train 0.859832           0.849090       0.929194\n",
      "        LogisticRegression  Test 0.648027           0.744161       0.824984\n",
      "----------------------------------------\n",
      "Performance for: MinMax Scaled Dataset\n",
      "Dataset Size:    253680 Rows, 22 Columns\n",
      "----------------------------------------\n",
      "                     model slice    score  balanced_accuracy  roc_auc_score\n",
      "      KNeighborsClassifier Train 0.885336           0.502229       0.946552\n",
      "      KNeighborsClassifier  Test 0.820356           0.389082       0.621951\n",
      "    DecisionTreeClassifier Train 0.993388           0.967280       0.999874\n",
      "    DecisionTreeClassifier  Test 0.769915           0.410463       0.572212\n",
      "    RandomForestClassifier Train 0.993356           0.968289       0.999535\n",
      "    RandomForestClassifier  Test 0.842558           0.387290       0.742351\n",
      "      ExtraTreesClassifier Train 0.993388           0.967280       0.999874\n",
      "      ExtraTreesClassifier  Test 0.836582           0.390821       0.719384\n",
      "GradientBoostingClassifier Train 0.850095           0.393911       0.796418\n",
      "GradientBoostingClassifier  Test 0.850615           0.391176       0.786475\n",
      "        AdaBoostClassifier Train 0.847651           0.392598       0.778744\n",
      "        AdaBoostClassifier  Test 0.849480           0.391562       0.772299\n",
      "        LogisticRegression Train 0.846026           0.384268       0.781892\n",
      "        LogisticRegression  Test 0.847619           0.381558       0.779582\n",
      "----------------------------------------\n",
      "Performance for: SMOTE Dataset\n",
      "Dataset Size:    247076 Rows, 37 Columns\n",
      "----------------------------------------\n",
      "                     model slice    score  balanced_accuracy  roc_auc_score\n",
      "      KNeighborsClassifier Train 0.928015           0.928015       0.998975\n",
      "      KNeighborsClassifier  Test 0.731419           0.663109       0.706056\n",
      "    DecisionTreeClassifier Train 1.000000           1.000000       1.000000\n",
      "    DecisionTreeClassifier  Test 0.798345           0.601000       0.601000\n",
      "    RandomForestClassifier Train 0.999994           0.999994       1.000000\n",
      "    RandomForestClassifier  Test 0.865321           0.601661       0.821956\n",
      "      ExtraTreesClassifier Train 1.000000           1.000000       1.000000\n",
      "      ExtraTreesClassifier  Test 0.861338           0.607400       0.816480\n",
      "GradientBoostingClassifier Train 0.905259           0.905259       0.968821\n",
      "GradientBoostingClassifier  Test 0.848581           0.656501       0.821694\n",
      "        AdaBoostClassifier Train 0.863351           0.863351       0.947297\n",
      "        AdaBoostClassifier  Test 0.805420           0.697236       0.808877\n",
      "        LogisticRegression Train 0.761868           0.761868       0.837497\n",
      "        LogisticRegression  Test 0.732681           0.747134       0.821808\n",
      "\n"
     ]
    }
   ],
   "source": [
    "# Display the performance report here:\n",
    "print(osc.stdout)"
   ]
  }
 ],
 "metadata": {
  "kernelspec": {
   "display_name": "dev",
   "language": "python",
   "name": "python3"
  },
  "language_info": {
   "codemirror_mode": {
    "name": "ipython",
    "version": 3
   },
   "file_extension": ".py",
   "mimetype": "text/x-python",
   "name": "python",
   "nbconvert_exporter": "python",
   "pygments_lexer": "ipython3",
   "version": "3.1.-1"
  }
 },
 "nbformat": 4,
 "nbformat_minor": 2
}
