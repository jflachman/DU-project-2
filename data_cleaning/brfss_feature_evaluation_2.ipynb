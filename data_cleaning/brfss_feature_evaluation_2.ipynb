{
 "cells": [
  {
   "cell_type": "markdown",
   "metadata": {},
   "source": [
    "## BRFSS Feature Evaluation - part 2\n",
    "\n",
    "Process features (Qty 324)\n",
    "\n",
    "References:\n",
    "- [National Diabetes Statistics Report](https://www.cdc.gov/diabetes/php/data-research/index.html) - See Risk Factors towards the end of the report\n",
    "\n",
    "- Risk Factores\n",
    "    - Smoking\n",
    "    - Overweight\n",
    "    - Physical inactivity\n",
    "    - A1C\n",
    "    - High Blook Pressure\n",
    "    - High Cholesterol\n",
    "- Preventing complications\n",
    "    - diabetes care\n",
    "    - physical activity\n",
    "    - weight management\n",
    "    - statin treatment\n",
    "    - A1C, blood pressure, cholesterol, smoking (ABCs)\n",
    "    - Vaccinations\n",
    "- Co-existing conditions\n",
    "    - Kidney disease\n",
    "    - Vision disability\n",
    "    \n"
   ]
  },
  {
   "cell_type": "code",
   "execution_count": 9,
   "metadata": {},
   "outputs": [],
   "source": [
    "# package imports go here\n",
    "import pandas as pd\n",
    "import numpy as np\n",
    "import fastparquet as fp\n",
    "import os\n",
    "import sys\n",
    "import zipfile\n",
    "import requests\n",
    "import io\n",
    "import pickle\n",
    "\n",
    "sys.path.insert(1, 'pkgs')\n",
    "import ml_functions as mlfuncs"
   ]
  },
  {
   "cell_type": "code",
   "execution_count": 10,
   "metadata": {},
   "outputs": [],
   "source": [
    "# Load list/dict/dataframe structure from  file\n",
    "with open('../data/codebook2022_firstpass.pkl', 'rb') as file:\n",
    "    brfss_survey_list = pickle.load(file)"
   ]
  },
  {
   "cell_type": "code",
   "execution_count": 15,
   "metadata": {},
   "outputs": [
    {
     "data": {
      "text/plain": [
       "{'Label': 'State FIPS Code',\n",
       " 'Section Name': 'Record Identification',\n",
       " 'Section Number': '0',\n",
       " 'Question Number': '1',\n",
       " 'Column': '1-2',\n",
       " 'Type of Variable': 'Num',\n",
       " 'SAS Variable Name': '_STATE',\n",
       " 'Question Prologue': '',\n",
       " 'Question': 'State FIPS Code',\n",
       " 'table':     Value           Value Label  Frequency  Percentage  Weighted Percentage\n",
       " 0       1               Alabama       4506        1.01                 1.50\n",
       " 1       2                Alaska       5865        1.32                 0.21\n",
       " 2       4               Arizona      10185        2.29                 2.18\n",
       " 3       5              Arkansas       5309        1.19                 0.89\n",
       " 4       6            California      10952        2.46                11.63\n",
       " 5       8              Colorado       9365        2.10                 1.76\n",
       " 6       9           Connecticut       9784        2.20                 1.09\n",
       " 7      10              Delaware       3987        0.90                 0.30\n",
       " 8      11  District of Columbia       3237        0.73                 0.21\n",
       " 9      12               Florida      13393        3.01                 6.74\n",
       " 10     13               Georgia       9236        2.07                 3.19\n",
       " 11     15                Hawaii       7747        1.74                 0.43\n",
       " 12     16                 Idaho       6280        1.41                 0.56\n",
       " 13     17              Illinois       4056        0.91                 3.74\n",
       " 14     18               Indiana      10466        2.35                 1.99\n",
       " 15     19                  Iowa       8949        2.01                 0.94\n",
       " 16     20                Kansas      11247        2.53                 0.85\n",
       " 17     21              Kentucky       4023        0.90                 1.33\n",
       " 18     22             Louisiana       5629        1.26                 1.35\n",
       " 19     23                 Maine      10646        2.39                 0.43\n",
       " 20     24              Maryland      16418        3.69                 1.83\n",
       " 21     25         Massachusetts      11029        2.48                 2.14\n",
       " 22     26              Michigan      10058        2.26                 3.00\n",
       " 23     27             Minnesota      16821        3.78                 1.68\n",
       " 24     28           Mississippi       4239        0.95                 0.86\n",
       " 25     29              Missouri       7438        1.67                 1.82\n",
       " 26     30               Montana       7048        1.58                 0.33\n",
       " 27     31              Nebraska       7473        1.68                 0.57\n",
       " 28     32                Nevada       3188        0.72                 0.94\n",
       " 29     33         New Hampshire       6757        1.52                 0.43\n",
       " 30     34            New Jersey       8209        1.84                 2.77\n",
       " 31     35            New Mexico       4758        1.07                 0.62\n",
       " 32     36              New York      17800        4.00                 5.97\n",
       " 33     37        North Carolina       4505        1.01                 3.17\n",
       " 34     38          North Dakota       4153        0.93                 0.23\n",
       " 35     39                  Ohio      16487        3.70                 3.49\n",
       " 36     40              Oklahoma       5775        1.30                 1.16\n",
       " 37     41                Oregon       5756        1.29                 1.30\n",
       " 38     42          Pennsylvania       4582        1.03                 3.91\n",
       " 39     44          Rhode Island       5893        1.32                 0.34\n",
       " 40     45        South Carolina      10037        2.25                 1.57\n",
       " 41     46          South Dakota       7424        1.67                 0.26\n",
       " 42     47             Tennessee       5266        1.18                 2.08\n",
       " 43     48                 Texas      14245        3.20                 8.52\n",
       " 44     49                  Utah       9826        2.21                 0.93\n",
       " 45     50               Vermont       8811        1.98                 0.20\n",
       " 46     51              Virginia      10417        2.34                 2.58\n",
       " 47     53            Washington      26152        5.88                 2.33\n",
       " 48     54         West Virginia       4981        1.12                 0.54\n",
       " 49     55             Wisconsin      11276        2.53                 1.76\n",
       " 50     56               Wyoming       4142        0.93                 0.17\n",
       " 51     66                  Guam       2266        0.51                 0.04\n",
       " 52     72           Puerto Rico       5509        1.24                 1.11\n",
       " 53     78        Virgin Islands       1531        0.34                 0.03}"
      ]
     },
     "execution_count": 15,
     "metadata": {},
     "output_type": "execute_result"
    }
   ],
   "source": [
    "i = 1\n",
    "brfss_survey_list[i-1]"
   ]
  },
  {
   "cell_type": "code",
   "execution_count": 12,
   "metadata": {},
   "outputs": [
    {
     "data": {
      "text/plain": [
       "{'Label': 'Did you have a CT or CAT scan?',\n",
       " 'Section Name': 'Lung Cancer Screening',\n",
       " 'Core Section Number': '13',\n",
       " 'Question Number': '4',\n",
       " 'Column': '236',\n",
       " 'Type of Variable': 'Num',\n",
       " 'SAS Variable Name': 'LCSCTSC1',\n",
       " 'Question Prologue': 'The next question is about CT or CAT scans of your chest area. During this test, you lie flat on your back and are moved through an open, donut shaped x-ray machine.',\n",
       " 'Question': 'Have you ever had a CT or CAT scan of your chest area?',\n",
       " 'table':    Value                                      Value Label  Frequency  \\\n",
       " 0      1                                              Yes     165865   \n",
       " 1      2                   No—Go to Section 14.01 ALCDAY4     223221   \n",
       " 2      7  Don’t know/Not sure—Go to Section 14.01 ALCDAY4      16876   \n",
       " 3      9              Refused—Go to Section 14.01 ALCDAY4        960   \n",
       " 4  BLANK                             Not asked or Missing      38210   \n",
       " \n",
       "   Percentage Weighted Percentage  \n",
       " 0      40.76               37.24  \n",
       " 1      54.86               58.69  \n",
       " 2       4.15                3.78  \n",
       " 3       0.24                0.30  \n",
       " 4          .                   .  ,\n",
       " 'candidate': 'n'}"
      ]
     },
     "execution_count": 12,
     "metadata": {},
     "output_type": "execute_result"
    }
   ],
   "source": [
    "brfss_survey_list[i]"
   ]
  },
  {
   "cell_type": "code",
   "execution_count": 13,
   "metadata": {},
   "outputs": [
    {
     "data": {
      "text/plain": [
       "{'Label': 'Were any CT or CAT scans done to check for lung cancer?',\n",
       " 'Section Name': 'Lung Cancer Screening',\n",
       " 'Core Section Number': '13',\n",
       " 'Question Number': '5',\n",
       " 'Column': '237',\n",
       " 'Type of Variable': 'Num',\n",
       " 'SAS Variable Name': 'LCSSCNCR',\n",
       " 'Question Prologue': '',\n",
       " 'Question': 'Were any of the CT or CAT scans of your chest area done mainly to check or screen for lung cancer?',\n",
       " 'table':    Value                                        Value Label  Frequency  \\\n",
       " 0      1                                                Yes      31581   \n",
       " 1      2                     No—Go to Section 14.01 ALCDAY4     124356   \n",
       " 2      7    Don’t know/Not sure—Go to Section 14.01 ALCDAY4       9512   \n",
       " 3      9                Refused—Go to Section 14.01 ALCDAY4        126   \n",
       " 4  BLANK  Not asked or Missing Notes: Section 13.04, LCS...     279557   \n",
       " \n",
       "   Percentage Weighted Percentage  \n",
       " 0      19.07               18.34  \n",
       " 1      75.11               76.26  \n",
       " 2       5.74                5.32  \n",
       " 3       0.08                0.07  \n",
       " 4          .                   .  ,\n",
       " 'candidate': 'n'}"
      ]
     },
     "execution_count": 13,
     "metadata": {},
     "output_type": "execute_result"
    }
   ],
   "source": [
    "brfss_survey_list[i+1]"
   ]
  },
  {
   "cell_type": "code",
   "execution_count": 14,
   "metadata": {},
   "outputs": [],
   "source": [
    "# #for i in range(len(brfss_survey_list)):\n",
    "# for i in range(0,1):\n",
    "#     item_dict = brfss_survey_list[i]\n",
    "#     label = \n",
    "#     question = \n",
    "\n",
    "#     print(f\"\")\n"
   ]
  },
  {
   "cell_type": "code",
   "execution_count": null,
   "metadata": {},
   "outputs": [],
   "source": []
  }
 ],
 "metadata": {
  "kernelspec": {
   "display_name": "dev",
   "language": "python",
   "name": "python3"
  },
  "language_info": {
   "codemirror_mode": {
    "name": "ipython",
    "version": 3
   },
   "file_extension": ".py",
   "mimetype": "text/x-python",
   "name": "python",
   "nbconvert_exporter": "python",
   "pygments_lexer": "ipython3",
   "version": "3.12.2"
  }
 },
 "nbformat": 4,
 "nbformat_minor": 2
}
