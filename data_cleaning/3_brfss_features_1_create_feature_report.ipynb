{
 "cells": [
  {
   "cell_type": "markdown",
   "metadata": {},
   "source": [
    "### Check for Features in all years\n",
    "\n",
    "- read of years\n",
    "- check if features from diabetes_features exist in a year.\n",
    "- collect infomration in report and write to pickle file\n",
    "\n",
    "- read pickle file and print report to csv files"
   ]
  },
  {
   "cell_type": "code",
   "execution_count": 16,
   "metadata": {},
   "outputs": [],
   "source": [
    "# package imports go here\n",
    "import pandas as pd\n",
    "import numpy as np\n",
    "import fastparquet as fp\n",
    "import os\n",
    "import sys\n",
    "import pickle\n",
    "\n",
    "sys.path.insert(1, '../pkgs')\n",
    "import ml_functions as mlfuncs"
   ]
  },
  {
   "cell_type": "code",
   "execution_count": 17,
   "metadata": {},
   "outputs": [],
   "source": [
    "# Path to results\n",
    "year = 2021\n",
    "source_path     = \"../data/codebooks/\"\n",
    "source_file     = source_path + 'codebook2021.pkl'\n",
    "\n",
    "result_path     = \"../\"\n",
    "report_markdown =  result_path + \"diabetes_features.md\""
   ]
  },
  {
   "cell_type": "markdown",
   "metadata": {},
   "source": [
    "### Candidate Diabetes features"
   ]
  },
  {
   "cell_type": "code",
   "execution_count": 18,
   "metadata": {},
   "outputs": [],
   "source": [
    "diabetes_features_2021_all_candidates = [\n",
    "    'GENHLTH', 'PHYSHLTH', 'MENTHLTH', 'PRIMINSR', 'PERSDOC3', \n",
    "    'CHECKUP1', 'EXERANY2', 'BPHIGH6', 'BPMEDS', 'CHOLCHK3', \n",
    "    'TOLDHI3', 'CHOLMED3', 'CVDCRHD4', 'CVDSTRK3', 'ADDEPEV3', \n",
    "    'CHCKDNY2', 'DIABETE4', 'MARITAL', 'EDUCA', 'RENTHOM1', \n",
    "    'EMPLOY1', 'INCOME3', 'WEIGHT2', 'DEAF', 'BLIND', \n",
    "    'DIFFWALK', 'FLUSHOT7', 'PREDIAB1', 'CHKHEMO3', 'EYEEXAM1', \n",
    "    'TOLDCFS', 'HAVECFS', 'TOLDHEPC', 'HAVEHEPB', 'HPVADVC4', \n",
    "    'SHINGLE2', 'CIMEMLOS', 'CDDISCUS', 'MSCODE', '_IMPRACE', \n",
    "    '_RFHLTH', '_HLTHPLN', '_TOTINDA', '_MICHD', '_PRACE1', \n",
    "    '_RACE', '_RACEGR3', '_SEX', '_AGEG5YR', 'WTKG3', \n",
    "    '_BMI5', '_BMI5CAT', '_EDUCAG', '_INCOMG1', '_SMOKER3', \n",
    "    '_RFSMOK3', '_CURECI1', '_DRNKWK1', '_RFDRHV7', 'FTJUDA2_', \n",
    "    'FRUTDA2_', 'GRENDA1_', 'FRNCHDA_', 'POTADA1_', 'VEGEDA2_', \n",
    "    '_FRUTSU1', '_VEGESU1', '_FRTLT1A']\n",
    "\n",
    "diabetes_features_2021 = [\n",
    "    'GENHLTH', 'PHYSHLTH', 'MENTHLTH', 'PRIMINSR', 'PERSDOC3',\n",
    "    'CHECKUP1', 'EXERANY2', 'BPHIGH6', 'CHOLCHK3', 'TOLDHI3',\n",
    "    'CHOLMED3', 'CVDCRHD4', 'CVDSTRK3', 'ADDEPEV3', 'CHCKDNY2',\n",
    "    'DIABETE4', 'MARITAL', 'EDUCA', 'RENTHOM1', 'EMPLOY1',\n",
    "    'INCOME3', 'WEIGHT2', 'DEAF', 'BLIND', 'DIFFWALK',\n",
    "    'FLUSHOT7', '_IMPRACE', '_RFHLTH', '_HLTHPLN', '_TOTINDA',\n",
    "    '_MICHD', '_PRACE1', '_RACE', '_RACEGR3', '_SEX',\n",
    "    '_AGEG5YR', 'WTKG3', '_BMI5', '_BMI5CAT', '_EDUCAG',\n",
    "    '_INCOMG1', '_SMOKER3', '_RFSMOK3', '_CURECI1', '_DRNKWK1',\n",
    "    '_RFDRHV7', 'FTJUDA2_', 'FRUTDA2_', 'GRENDA1_', 'FRNCHDA_',\n",
    "    'POTADA1_', 'VEGEDA2_', '_FRUTSU1', '_VEGESU1', '_FRTLT1A']"
   ]
  },
  {
   "cell_type": "code",
   "execution_count": 19,
   "metadata": {},
   "outputs": [
    {
     "data": {
      "text/plain": [
       "'../data/codebooks/codebook2021.pkl'"
      ]
     },
     "execution_count": 19,
     "metadata": {},
     "output_type": "execute_result"
    }
   ],
   "source": [
    "source_file"
   ]
  },
  {
   "cell_type": "code",
   "execution_count": 20,
   "metadata": {},
   "outputs": [],
   "source": [
    "# Load list/dict/dataframe structure from  file\n",
    "with open(source_file, 'rb') as file: brfss_codebook_list = pickle.load(file)"
   ]
  },
  {
   "cell_type": "markdown",
   "metadata": {},
   "source": [
    "### Create diabetes_features.md file"
   ]
  },
  {
   "cell_type": "code",
   "execution_count": 21,
   "metadata": {},
   "outputs": [],
   "source": [
    "#feature_list = diabetes_features_2021_all_candidates\n",
    "feature_list = diabetes_features_2021\n",
    "f = open(report_markdown, \"w\")\n",
    "\n",
    "f.write(f\"# **Diabetes Features**\\n\\n\")\n",
    "f.write(f\"The features listed in this file are Diabetes Risk Factors and Indicators.\\n\\n\")\n",
    "f.write(f\"- **Target**: DIABETE4\\n\\n\")\n",
    "f.write(f\"# **Summary**\\n\\n\")\n",
    "\n",
    "f.write(f\"| Feature | Label | Description |\\n\")\n",
    "f.write(f\"|:-----|:-----|:-----|\\n\")\n",
    "\n",
    "for i in range(len(brfss_codebook_list)):\n",
    "    item_dict = brfss_codebook_list[i]\n",
    "#    f.write(f\"SAS Variable: {item_dict['SAS Variable Name']}\\n\")\n",
    "    if (item_dict['SAS Variable Name'] in feature_list):\n",
    "        f.write(f\"| **{item_dict['SAS Variable Name']}** | {item_dict['Label']} | {item_dict['Question']} |\\n\")\n",
    "\n",
    "f.write(f\"\\n<br><br><br>\\n\\n\")\n",
    "f.write(f\"# **Feature Details**\\n\")\n",
    "f.write(f\"The following sections describe the features in detail.  The information includes parameters about the features as well as a table that describes the values\\n\\n\")\n",
    "\n",
    "for i in range(len(brfss_codebook_list)):\n",
    "    item_dict = brfss_codebook_list[i]\n",
    "    if (item_dict['SAS Variable Name'] in feature_list):\n",
    "        f.write(f\"\\n<br><br>\\n\\n\")\n",
    "        f.write(f\"## **{item_dict['Label']}**\\n\\n\")\n",
    "        f.write(f\"---\\n<br>\\n\\n\")\n",
    "\n",
    "        for key in item_dict.keys():\n",
    "            if(key == 'Label'):\n",
    "                f.write(f\"|  {key}  |  {item_dict[key]} |\\n\")\n",
    "                f.write(f\"|:-----|:-----|\\n\")\n",
    "            elif(key == 'table'):\n",
    "                A=1\n",
    "            else:\n",
    "                f.write(f\"|  {key}  |  {item_dict[key]} |\\n\")\n",
    "\n",
    "        table_df = item_dict['table']\n",
    "\n",
    "        f.write(f\"<br>\\n\\n\")\n",
    "        f.write(f\"### Feature Data Table\\n\\n\")\n",
    "        f.write(table_df.to_markdown())\n",
    "        f.write(f\"\\n---\\n\\n\")\n",
    "        \n",
    "f.close()\n"
   ]
  },
  {
   "cell_type": "markdown",
   "metadata": {},
   "source": [
    "### Create Feature column names"
   ]
  },
  {
   "cell_type": "code",
   "execution_count": 28,
   "metadata": {},
   "outputs": [
    {
     "data": {
      "text/plain": [
       "{'GENHLTH': 'general health',\n",
       " 'PHYSHLTH': 'number of days physical health not good',\n",
       " 'MENTHLTH': 'number of days mental health not good',\n",
       " 'PRIMINSR': 'what is primary source of health insurance?',\n",
       " 'PERSDOC3': 'have personal health care provider?',\n",
       " 'CHECKUP1': 'length of time since last routine checkup',\n",
       " 'EXERANY2': 'exercise in past 30 days',\n",
       " 'BPHIGH6': 'ever told blood pressure high',\n",
       " 'CHOLCHK3': 'how long since cholesterol checked',\n",
       " 'TOLDHI3': 'ever told cholesterol is high',\n",
       " 'CHOLMED3': 'currently taking medicine for high cholesterol',\n",
       " 'CVDCRHD4': 'ever diagnosed with angina or coronary heart disease',\n",
       " 'CVDSTRK3': 'ever diagnosed with a stroke',\n",
       " 'ADDEPEV3': '(ever told) you had a depressive disorder',\n",
       " 'CHCKDNY2': 'ever told you have kidney disease?',\n",
       " 'DIABETE4': '(ever told) you had diabetes',\n",
       " 'MARITAL': 'marital status',\n",
       " 'EDUCA': 'education level',\n",
       " 'RENTHOM1': 'own or rent home',\n",
       " 'EMPLOY1': 'employment status',\n",
       " 'INCOME3': 'income level',\n",
       " 'WEIGHT2': 'reported weight in pounds',\n",
       " 'DEAF': 'are you deaf or do you have serious difficulty hearing?',\n",
       " 'BLIND': 'blind or difficulty seeing',\n",
       " 'DIFFWALK': 'difficulty walking or climbing stairs',\n",
       " 'FLUSHOT7': 'adult flu shot/spray past 12 mos',\n",
       " '_IMPRACE': 'imputed race/ethnicity value',\n",
       " '_RFHLTH': 'adults with good or better health',\n",
       " '_HLTHPLN': 'have any health insurance',\n",
       " '_TOTINDA': 'leisure time physical activity calculated variable',\n",
       " '_MICHD': 'ever had chd or mi\\u200c',\n",
       " '_PRACE1': 'computed preferred race',\n",
       " '_RACE': 'computed race-ethnicity grouping',\n",
       " '_RACEGR3': 'computed five level race/ethnicity category.',\n",
       " '_SEX': 'calculated sex variable',\n",
       " '_AGEG5YR': 'reported age in five-year age categories calculated variable',\n",
       " 'WTKG3': 'computed weight in kilograms',\n",
       " '_BMI5': 'computed body mass index',\n",
       " '_BMI5CAT': 'computed body mass index categories',\n",
       " '_EDUCAG': 'computed level of education completed categories',\n",
       " '_INCOMG1': 'computed income categories',\n",
       " '_SMOKER3': 'computed smoking status',\n",
       " '_RFSMOK3': 'current smoking calculated variable',\n",
       " '_CURECI1': 'current e-cigarette user calculated variable',\n",
       " '_DRNKWK1': 'computed number of drinks of alcohol beverages per week',\n",
       " '_RFDRHV7': 'heavy alcohol consumption calculated variable',\n",
       " 'FTJUDA2_': 'computed fruit juice intake in times per day',\n",
       " 'FRUTDA2_': 'computed fruit intake in times per day',\n",
       " 'GRENDA1_': 'computed dark green vege',\n",
       " 'FRNCHDA_': 'computed french fry intake in times per day',\n",
       " 'POTADA1_': 'computed potato servings per day',\n",
       " 'VEGEDA2_': 'computed other vege',\n",
       " '_FRUTSU1': 'total fruits consumed per day',\n",
       " '_VEGESU1': 'total vege',\n",
       " '_FRTLT1A': 'consume fruit 1 or more times per day'}"
      ]
     },
     "execution_count": 28,
     "metadata": {},
     "output_type": "execute_result"
    }
   ],
   "source": [
    "feature_list = diabetes_features_2021\n",
    "\n",
    "feature_dict_too_long = {}\n",
    "for i in range(len(brfss_codebook_list)):\n",
    "    item_dict = brfss_codebook_list[i]\n",
    "#    f.write(f\"SAS Variable: {item_dict['SAS Variable Name']}\\n\")\n",
    "    if (item_dict['SAS Variable Name'] in feature_list):\n",
    "        feature_dict_too_long[item_dict['SAS Variable Name']] = item_dict['Label'].lower()\n",
    "\n",
    "feature_dict_too_long"
   ]
  },
  {
   "cell_type": "markdown",
   "metadata": {},
   "source": [
    "#### Results from above pasted here and then column names defined manually\n",
    "\n",
    "- Yes, this is as close to automating sensible features names as it is possible"
   ]
  },
  {
   "cell_type": "code",
   "execution_count": null,
   "metadata": {},
   "outputs": [],
   "source": [
    "feature_dict = {'GENHLTH': 'general_health',\n",
    "                'PHYSHLTH': 'days_health_not_good',\n",
    "                'MENTHLTH': 'days_mental_not_good',\n",
    "                'PRIMINSR': 'primary_insurance_source',\n",
    "                'PERSDOC3': 'personal_provider',\n",
    "                'CHECKUP1': 'years_since_checkup',\n",
    "                'EXERANY2': 'exercise',\n",
    "                'BPHIGH6': 'told_high_blood_pressure',\n",
    "                'CHOLCHK3': 'year_chol_chckd',\n",
    "                'TOLDHI3': 'high_cholesteral',\n",
    "                'CHOLMED3': 'high_cholesteral_meds',\n",
    "                'CVDCRHD4': 'ever_heart_disease',\n",
    "                'CVDSTRK3': 'ever_stroke',\n",
    "                'ADDEPEV3': 'depressive_disorder',\n",
    "                'CHCKDNY2': 'ekidney_disease',\n",
    "                'DIABETE4': 'diabetes',\n",
    "                'MARITAL': 'marital',\n",
    "                'EDUCA': 'education_level',\n",
    "                'RENTHOM1': 'own_home',\n",
    "                'EMPLOY1': 'employment',\n",
    "                'INCOME3': 'income_level',\n",
    "                'WEIGHT2': 'weight-lbs',\n",
    "                'DEAF': 'hearing',\n",
    "                'BLIND': 'sight',\n",
    "                'DIFFWALK': 'diffwalk',\n",
    "                'FLUSHOT7': 'flu_shot',\n",
    "                '_IMPRACE': 'race_grp5',\n",
    "                '_RFHLTH': 'good_health',\n",
    "                '_HLTHPLN': 'have_insurance',\n",
    "                '_TOTINDA': 'activity_level',\n",
    "                '_MICHD': 'heart_chd_mi',\n",
    "                '_PRACE1': 'race_grp8',\n",
    "                '_RACE': 'race_grp8a',\n",
    "                '_RACEGR3': 'race_grp5',\n",
    "                '_SEX': 'sex',\n",
    "                '_AGEG5YR': 'age_5yr',\n",
    "                'WTKG3': 'weight_kilos',\n",
    "                '_BMI5': 'body_mass_index',\n",
    "                '_BMI5CAT': 'BMI_cats',\n",
    "                '_EDUCAG': 'ceduc_cats',\n",
    "                '_INCOMG1': 'income _cats',\n",
    "                '_SMOKER3': 'smoking_status',\n",
    "                '_RFSMOK3': 'smoking_yn',\n",
    "                '_CURECI1': 'ecig_yn',\n",
    "                '_DRNKWK1': 'drinks_week',\n",
    "                '_RFDRHV7': 'drinks_cats',\n",
    "                'FTJUDA2_': 'fruit_juice',\n",
    "                'FRUTDA2_': 'fruit_times_perday',\n",
    "                'GRENDA1_': 'darkG_vege',\n",
    "                'FRNCHDA_': 'french_fry',\n",
    "                'POTADA1_': 'potato',\n",
    "                'VEGEDA2_': 'other_vege',\n",
    "                '_FRUTSU1': 'tot_fruits',\n",
    "                '_VEGESU1': 'tot_vege',\n",
    "                '_FRTLT1A': 'fruit_1_yn'}"
   ]
  }
 ],
 "metadata": {
  "kernelspec": {
   "display_name": "dev",
   "language": "python",
   "name": "python3"
  },
  "language_info": {
   "codemirror_mode": {
    "name": "ipython",
    "version": 3
   },
   "file_extension": ".py",
   "mimetype": "text/x-python",
   "name": "python",
   "nbconvert_exporter": "python",
   "pygments_lexer": "ipython3",
   "version": "3.12.2"
  }
 },
 "nbformat": 4,
 "nbformat_minor": 2
}
