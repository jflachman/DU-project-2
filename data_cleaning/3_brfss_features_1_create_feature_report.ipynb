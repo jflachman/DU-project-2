{
 "cells": [
  {
   "cell_type": "markdown",
   "metadata": {},
   "source": [
    "### Check for Features in all years\n",
    "\n",
    "- read of years\n",
    "- check if features from diabetes_features exist in a year.\n",
    "- collect infomration in report and write to pickle file\n",
    "\n",
    "- read pickle file and print report to csv files"
   ]
  },
  {
   "cell_type": "code",
   "execution_count": 1,
   "metadata": {},
   "outputs": [],
   "source": [
    "# package imports go here\n",
    "import pandas as pd\n",
    "import numpy as np\n",
    "import fastparquet as fp\n",
    "import os\n",
    "import sys\n",
    "import pickle\n",
    "\n",
    "sys.path.insert(1, '../pkgs')\n",
    "import ml_functions as mlfuncs"
   ]
  },
  {
   "cell_type": "code",
   "execution_count": 2,
   "metadata": {},
   "outputs": [],
   "source": [
    "# Path to results\n",
    "year = 2021\n",
    "source_path     = \"../data/codebooks/\"\n",
    "source_file     = source_path + 'codebook2021.pkl'\n",
    "\n",
    "result_path     = \"../\"\n",
    "report_markdown =  result_path + \"diabetes_features.md\""
   ]
  },
  {
   "cell_type": "markdown",
   "metadata": {},
   "source": [
    "### Candidate Diabetes features"
   ]
  },
  {
   "cell_type": "code",
   "execution_count": 3,
   "metadata": {},
   "outputs": [],
   "source": [
    "diabetes_features_2021_extended = [\n",
    "    'GENHLTH', 'PHYSHLTH', 'MENTHLTH', 'PRIMINSR', 'PERSDOC3', 'CHECKUP1', 'EXERANY2', \n",
    "    'CVDCRHD4', 'CVDSTRK3', 'ADDEPEV3', 'CHCKDNY2', 'DIABETE4', 'MARITAL', \n",
    "    'EDUCA', 'RENTHOM1', 'EMPLOY1', 'INCOME3', 'WEIGHT2', 'DEAF', 'BLIND', 'DIFFWALK', \n",
    "    'FLUSHOT7', 'PREDIAB1', 'CHKHEMO3', 'EYEEXAM1', \n",
    "    'TOLDCFS', 'HAVECFS', 'HPVADVC4', 'SHINGLE2', \n",
    "    'CIMEMLOS', 'CDDISCUS', 'MSCODE', '_IMPRACE', '_RFHLTH', \n",
    "    '_HLTHPLN', '_TOTINDA', '_MICHD', '_PRACE1', '_RACE', '_RACEGR3', '_SEX', \n",
    "    '_AGEG5YR', '_AGE80', 'WTKG3', '_BMI5', '_BMI5CAT', '_EDUCAG', '_INCOMG1', \n",
    "    '_SMOKER3', '_RFSMOK3', '_CURECI1', '_DRNKWK1', 'BPHIGH6', 'BPMEDS', \n",
    "    'CHOLCHK3', 'TOLDHI3', 'CHOLMED3', 'PREDIAB1', 'TOLDHEPC', 'HAVEHEPB']\n",
    "\n",
    "diabetes_features_2021 = [ '_AGEG5YR', '_BMI5', '_HLTHPLN', '_MICHD', '_SEX', '_SMOKER3', \n",
    "                            '_TOTINDA', 'BPHIGH6', 'CHOLCHK3', 'CVDSTRK3', 'DIABETE4', \n",
    "                            'DIFFWALK', 'EDUCA', 'GENHLTH', 'INCOME3', 'PHYSHLTH', 'TOLDHI3', \n",
    "                            'FRUTDA2_', 'GRENDA1_', 'VEGEDA2_', 'FTJUDA2_', 'FRNCHDA_', \n",
    "                            'POTADA1_', '_FRUTSU1', '_VEGESU1', '_FRTLT1A', '_RFDRHV7', \n",
    "                            'TOLDCFS']"
   ]
  },
  {
   "cell_type": "code",
   "execution_count": 4,
   "metadata": {},
   "outputs": [
    {
     "data": {
      "text/plain": [
       "'../data/codebooks/codebook2021.pkl'"
      ]
     },
     "execution_count": 4,
     "metadata": {},
     "output_type": "execute_result"
    }
   ],
   "source": [
    "source_file"
   ]
  },
  {
   "cell_type": "code",
   "execution_count": 5,
   "metadata": {},
   "outputs": [],
   "source": [
    "# Load list/dict/dataframe structure from  file\n",
    "with open(source_file, 'rb') as file: brfss_codebook_list = pickle.load(file)"
   ]
  },
  {
   "cell_type": "code",
   "execution_count": 8,
   "metadata": {},
   "outputs": [],
   "source": [
    "feature_list = diabetes_features_2021\n",
    "f = open(report_markdown, \"w\")\n",
    "\n",
    "f.write(f\"# **Diabetes Features**\\n\\n\")\n",
    "f.write(f\"The features listed in this file are Diabetes Risk Factors and Indicators.\\n\\n\")\n",
    "f.write(f\"- **Target**: DIABETE4\\n\\n\")\n",
    "f.write(f\"# **Summary**\\n\\n\")\n",
    "\n",
    "f.write(f\"| Feature | Label | Description |\\n\")\n",
    "f.write(f\"|:-----|:-----|:-----|\\not\")\n",
    "\n",
    "for i in range(len(brfss_codebook_list)):\n",
    "    item_dict = brfss_codebook_list[i]\n",
    "#    f.write(f\"SAS Variable: {item_dict['SAS Variable Name']}\\n\")\n",
    "    if (item_dict['SAS Variable Name'] in feature_list):\n",
    "        f.write(f\"| **{item_dict['SAS Variable Name']}** | {item_dict['Label']} | {item_dict['Question']} |\\n\")\n",
    "\n",
    "f.write(f\"\\n<br><br><br>\\n\\n\")\n",
    "f.write(f\"# **Feature Details**\\n\")\n",
    "f.write(f\"The following sections describe the features in detail.  The information includes parameters about the features as well as a table that describes the values\\n\\n\")\n",
    "\n",
    "for i in range(len(brfss_codebook_list)):\n",
    "    item_dict = brfss_codebook_list[i]\n",
    "    if (item_dict['SAS Variable Name'] in feature_list):\n",
    "        f.write(f\"\\n<br><br>\\n\\n\")\n",
    "        f.write(f\"## **{item_dict['Label']}**\\n\\n\")\n",
    "        f.write(f\"---\\n<br>\\n\\n\")\n",
    "\n",
    "        for key in item_dict.keys():\n",
    "            if(key == 'Label'):\n",
    "                f.write(f\"|  {key}  |  {item_dict[key]} |\\n\")\n",
    "                f.write(f\"|:-----|:-----|\\n\")\n",
    "            elif(key == 'table'):\n",
    "                A=1\n",
    "            else:\n",
    "                f.write(f\"|  {key}  |  {item_dict[key]} |\\n\")\n",
    "\n",
    "        table_df = item_dict['table']\n",
    "\n",
    "        f.write(f\"<br>\\n\\n\")\n",
    "        f.write(f\"### Feature Data Table\\n\\n\")\n",
    "        f.write(table_df.to_markdown())\n",
    "        f.write(f\"\\n---\\n\\n\")\n",
    "        \n",
    "f.close()\n"
   ]
  }
 ],
 "metadata": {
  "kernelspec": {
   "display_name": "dev",
   "language": "python",
   "name": "python3"
  },
  "language_info": {
   "codemirror_mode": {
    "name": "ipython",
    "version": 3
   },
   "file_extension": ".py",
   "mimetype": "text/x-python",
   "name": "python",
   "nbconvert_exporter": "python",
   "pygments_lexer": "ipython3",
   "version": "3.12.2"
  }
 },
 "nbformat": 4,
 "nbformat_minor": 2
}
