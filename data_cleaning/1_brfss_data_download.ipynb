{
 "cells": [
  {
   "cell_type": "markdown",
   "metadata": {},
   "source": [
    "## Process CDC BRFSS files\n",
    "\n",
    "Source Files: https://www.cdc.gov/brfss/annual_data/annual_data.htm"
   ]
  },
  {
   "cell_type": "markdown",
   "metadata": {},
   "source": [
    "### Codebooks\n",
    "- https://www.cdc.gov/brfss/annual_data/2010/pdf/codebook_10.pdf\n",
    "- https://www.cdc.gov/brfss/annual_data/2011/pdf/CODEBOOK11_LLCP.pdf\n",
    "- https://www.cdc.gov/brfss/annual_data/2014/pdf/CODEBOOK14_LLCP.pdf\n",
    "- https://www.cdc.gov/brfss/annual_data/2015/pdf/CODEBOOK15_LLCP.pdf\n",
    "- https://www.cdc.gov/brfss/annual_data/2021/pdf/codebook21_llcp-v2-508.pdf\n",
    "- https://www.cdc.gov/brfss/annual_data/2022/zip/codebook22_llcp-v2-508.zip"
   ]
  },
  {
   "cell_type": "code",
   "execution_count": 2,
   "metadata": {},
   "outputs": [],
   "source": [
    "# package imports go here\n",
    "import pandas as pd\n",
    "import numpy as np\n",
    "import fastparquet as fp\n",
    "import os\n",
    "import sys\n",
    "\n",
    "sys.path.insert(1, '../pkgs')\n",
    "import ml_functions as mlfuncs"
   ]
  },
  {
   "cell_type": "code",
   "execution_count": 3,
   "metadata": {},
   "outputs": [],
   "source": [
    "# Path to results\n",
    "result_path     = \"../data/brfss/\""
   ]
  },
  {
   "cell_type": "code",
   "execution_count": 4,
   "metadata": {},
   "outputs": [
    {
     "name": "stdout",
     "output_type": "stream",
     "text": [
      "Year: 1990  https://www.cdc.gov/brfss/annual_data/1990/files/CDBRFS90XPT.zip\n",
      "            Writing File: ../../data/cdc_brfss_1990.parquet.gzip\n",
      "Year: 1991  https://www.cdc.gov/brfss/annual_data/1991/files/CDBRFS91XPT.zip\n",
      "            Writing File: ../../data/cdc_brfss_1991.parquet.gzip\n",
      "Year: 1992  https://www.cdc.gov/brfss/annual_data/1992/files/CDBRFS92XPT.zip\n",
      "            Writing File: ../../data/cdc_brfss_1992.parquet.gzip\n",
      "Year: 1993  https://www.cdc.gov/brfss/annual_data/1993/files/CDBRFS93XPT.zip\n",
      "            Writing File: ../../data/cdc_brfss_1993.parquet.gzip\n",
      "Year: 1994  https://www.cdc.gov/brfss/annual_data/1994/files/CDBRFS94XPT.zip\n",
      "            Writing File: ../../data/cdc_brfss_1994.parquet.gzip\n",
      "Year: 1995  https://www.cdc.gov/brfss/annual_data/1995/files/CDBRFS95XPT.zip\n",
      "            Writing File: ../../data/cdc_brfss_1995.parquet.gzip\n",
      "Year: 1996  https://www.cdc.gov/brfss/annual_data/1996/files/CDBRFS96XPT.zip\n",
      "            Writing File: ../../data/cdc_brfss_1996.parquet.gzip\n",
      "Year: 1997  https://www.cdc.gov/brfss/annual_data/1997/files/CDBRFS97XPT.zip\n",
      "            Writing File: ../../data/cdc_brfss_1997.parquet.gzip\n",
      "Year: 1998  https://www.cdc.gov/brfss/annual_data/1998/files/CDBRFS98XPT.zip\n",
      "            Writing File: ../../data/cdc_brfss_1998.parquet.gzip\n",
      "Year: 1999  https://www.cdc.gov/brfss/annual_data/1999/files/CDBRFS99XPT.zip\n",
      "            Writing File: ../../data/cdc_brfss_1999.parquet.gzip\n",
      "Year: 2000  https://www.cdc.gov/brfss/annual_data/2000/files/CDBRFS00XPT.zip\n",
      "            Writing File: ../../data/cdc_brfss_2000.parquet.gzip\n",
      "Year: 2001  https://www.cdc.gov/brfss/annual_data/2001/files/CDBRFS01XPT.zip\n",
      "            Writing File: ../../data/cdc_brfss_2001.parquet.gzip\n",
      "Year: 2002  https://www.cdc.gov/brfss/annual_data/2002/files/CDBRFS02XPT.zip\n",
      "            Writing File: ../../data/cdc_brfss_2002.parquet.gzip\n",
      "Year: 2003  https://www.cdc.gov/brfss/annual_data/2003/files/CDBRFS03XPT.zip\n",
      "            Writing File: ../../data/cdc_brfss_2003.parquet.gzip\n",
      "Year: 2004  https://www.cdc.gov/brfss/annual_data/2004/files/CDBRFS04XPT.zip\n",
      "            Writing File: ../../data/cdc_brfss_2004.parquet.gzip\n",
      "Year: 2005  https://www.cdc.gov/brfss/annual_data/2005/files/CDBRFS05XPT.zip\n",
      "            Writing File: ../../data/cdc_brfss_2005.parquet.gzip\n",
      "Year: 2006  https://www.cdc.gov/brfss/annual_data/2006/files/CDBRFS06XPT.zip\n",
      "            Writing File: ../../data/cdc_brfss_2006.parquet.gzip\n",
      "Year: 2007  https://www.cdc.gov/brfss/annual_data/2007/files/CDBRFS07XPT.zip\n",
      "            Writing File: ../../data/cdc_brfss_2007.parquet.gzip\n",
      "Year: 2008  https://www.cdc.gov/brfss/annual_data/2008/files/CDBRFS08XPT.zip\n",
      "            Writing File: ../../data/cdc_brfss_2008.parquet.gzip\n",
      "Year: 2010  https://www.cdc.gov/brfss/annual_data/2010/files/CDBRFS10XPT.zip\n",
      "            Writing File: ../../data/cdc_brfss_2010.parquet.gzip\n",
      "Year: 2011  https://www.cdc.gov/brfss/annual_data/2011/files/LLCP2011XPT.zip\n",
      "            Writing File: ../../data/cdc_brfss_2011.parquet.gzip\n",
      "Year: 2012  https://www.cdc.gov/brfss/annual_data/2012/files/LLCP2012XPT.zip\n",
      "            Writing File: ../../data/cdc_brfss_2012.parquet.gzip\n",
      "Year: 2013  https://www.cdc.gov/brfss/annual_data/2013/files/LLCP2013XPT.zip\n",
      "            Writing File: ../../data/cdc_brfss_2013.parquet.gzip\n",
      "Year: 2014  https://www.cdc.gov/brfss/annual_data/2014/files/LLCP2014XPT.zip\n",
      "            Writing File: ../../data/cdc_brfss_2014.parquet.gzip\n",
      "Year: 2015  https://www.cdc.gov/brfss/annual_data/2015/files/LLCP2015XPT.zip\n",
      "            Writing File: ../../data/cdc_brfss_2015.parquet.gzip\n",
      "Year: 2016  https://www.cdc.gov/brfss/annual_data/2016/files/LLCP2016XPT.zip\n",
      "            Writing File: ../../data/cdc_brfss_2016.parquet.gzip\n",
      "Year: 2017  https://www.cdc.gov/brfss/annual_data/2017/files/LLCP2017XPT.zip\n",
      "            Writing File: ../../data/cdc_brfss_2017.parquet.gzip\n",
      "Year: 2018  https://www.cdc.gov/brfss/annual_data/2018/files/LLCP2018XPT.zip\n",
      "            Writing File: ../../data/cdc_brfss_2018.parquet.gzip\n",
      "Year: 2019  https://www.cdc.gov/brfss/annual_data/2019/files/LLCP2019XPT.zip\n",
      "            Writing File: ../../data/cdc_brfss_2019.parquet.gzip\n",
      "Year: 2020  https://www.cdc.gov/brfss/annual_data/2020/files/LLCP2020XPT.zip\n",
      "            Writing File: ../../data/cdc_brfss_2020.parquet.gzip\n",
      "Year: 2021  https://www.cdc.gov/brfss/annual_data/2021/files/LLCP2021XPT.zip\n",
      "            Writing File: ../../data/cdc_brfss_2021.parquet.gzip\n",
      "Year: 2022  https://www.cdc.gov/brfss/annual_data/2022/files/LLCP2022XPT.zip\n",
      "            Writing File: ../../data/cdc_brfss_2022.parquet.gzip\n"
     ]
    }
   ],
   "source": [
    "# Read all files from 1990 to 2023\n",
    "#  uncomment the following lines to use:\n",
    "\n",
    "for year in range(1990, 2023):\n",
    "    mlfuncs.process_cdc_file( result_path, year )"
   ]
  },
  {
   "cell_type": "code",
   "execution_count": 5,
   "metadata": {},
   "outputs": [],
   "source": [
    "# year = 2022\n",
    "# mlfuncs.process_cdc_file( result_path, year )\n",
    "# df = pd.read_parquet(mlfuncs.brfss_parquet_file( result_path, year ), engine=\"fastparquet\")\n",
    "# df"
   ]
  }
 ],
 "metadata": {
  "kernelspec": {
   "display_name": "dev",
   "language": "python",
   "name": "python3"
  },
  "language_info": {
   "codemirror_mode": {
    "name": "ipython",
    "version": 3
   },
   "file_extension": ".py",
   "mimetype": "text/x-python",
   "name": "python",
   "nbconvert_exporter": "python",
   "pygments_lexer": "ipython3",
   "version": "3.12.2"
  }
 },
 "nbformat": 4,
 "nbformat_minor": 2
}
