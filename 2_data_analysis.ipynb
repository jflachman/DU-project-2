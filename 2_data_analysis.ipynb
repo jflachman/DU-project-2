{
 "cells": [
  {
   "cell_type": "markdown",
   "metadata": {},
   "source": [
    "## Data Analysis\n",
    "\n",
    "\n",
    "        - \n"
   ]
  },
  {
   "cell_type": "code",
   "execution_count": null,
   "metadata": {},
   "outputs": [],
   "source": [
    "# package imports go here\n",
    "import pandas as pd\n",
    "import numpy as np\n",
    "import fastparquet as fp\n",
    "import os\n",
    "import sys\n",
    "import pickle\n",
    "import matplotlib.pyplot as plt\n",
    "import importlib\n",
    "\n",
    "sys.path.insert(1, 'pkgs')\n",
    "import ml_analysis as mlanlys"
   ]
  },
  {
   "cell_type": "code",
   "execution_count": null,
   "metadata": {},
   "outputs": [],
   "source": [
    "# Path to results\n",
    "year = 2021\n",
    "source_path         = \"data/\"\n",
    "final_clean_file    = source_path + 'brfss_' + str(year) + '_clean_final.parquet.gzip'"
   ]
  },
  {
   "cell_type": "code",
   "execution_count": null,
   "metadata": {},
   "outputs": [],
   "source": [
    "# Read final cleaned dataset from parquet file\n",
    "df = pd.read_parquet(final_clean_file, engine=\"fastparquet\")"
   ]
  },
  {
   "cell_type": "code",
   "execution_count": null,
   "metadata": {},
   "outputs": [],
   "source": [
    "df"
   ]
  },
  {
   "cell_type": "code",
   "execution_count": null,
   "metadata": {},
   "outputs": [],
   "source": [
    "df.columns"
   ]
  },
  {
   "cell_type": "code",
   "execution_count": null,
   "metadata": {},
   "outputs": [],
   "source": [
    "diabetes_labels = ['general_health', 'days_health_not_good', 'days_mental_not_good',\n",
    "        'primary_insurance_source', 'personal_provider', 'years_since_checkup',\n",
    "        'exercise', 'told_high_blood_pressure', 'year_chol_chckd',\n",
    "        'high_cholesteral', 'high_cholesteral_meds', 'ever_heart_disease',\n",
    "        'ever_stroke', 'depressive_disorder', 'ekidney_disease', 'diabetes',\n",
    "        'marital', 'education_level', 'own_home', 'employment', 'income_level',\n",
    "        'weight-lbs', 'hearing', 'sight', 'diffwalk', 'flu_shot', 'race_grp5',\n",
    "        'good_health', 'have_insurance', 'activity_level', 'heart_chd_mi',\n",
    "        'race_grp8', 'race_grp8a', 'race_grp5a', 'sex', 'age_5yr',\n",
    "        'weight_kilos', 'body_mass_index', 'BMI_cats', 'ceduc_cats',\n",
    "        'income _cats', 'smoking_status', 'smoking_yn', 'ecig_yn',\n",
    "        'drinks_week', 'drinks_cats', 'fruit_juice', 'fruit_times_perday',\n",
    "        'darkG_vege', 'french_fry', 'potato', 'other_vege', 'tot_fruits',\n",
    "        'tot_vege', 'fruit_1_yn']"
   ]
  },
  {
   "cell_type": "code",
   "execution_count": null,
   "metadata": {},
   "outputs": [],
   "source": [
    "def correlation_matrix(df, labels):\n",
    "    from matplotlib import pyplot as plt\n",
    "    from matplotlib import cm as cm\n",
    "\n",
    "    fig = plt.figure()\n",
    "    ax1 = fig.add_subplot(111)\n",
    "    cmap = cm.get_cmap('jet', 30)\n",
    "    cax = ax1.imshow(df.corr(), interpolation=\"nearest\", cmap=cmap)\n",
    "    ax1.grid(True)\n",
    "    plt.title('Diabetes Feature Correlation')\n",
    "#    labels=['Sex','Length','Diam','Height','Whole','Shucked','Viscera','Shell','Rings',]\n",
    "    ax1.set_xticklabels(labels,fontsize=6)\n",
    "    ax1.set_yticklabels(labels,fontsize=6)\n",
    "    # Add colorbar, make sure to specify tick locations to match desired ticklabels\n",
    "    fig.colorbar(cax, ticks=[.75,.8,.85,.90,.95,1])\n",
    "    plt.show()\n",
    "\n",
    "correlation_matrix(df, diabetes_labels)"
   ]
  },
  {
   "cell_type": "markdown",
   "metadata": {},
   "source": [
    "Note: It appears that we have some features that are similar:  Correlated with each other"
   ]
  },
  {
   "cell_type": "markdown",
   "metadata": {},
   "source": [
    "# Check the cleaned dataset"
   ]
  },
  {
   "cell_type": "code",
   "execution_count": null,
   "metadata": {},
   "outputs": [],
   "source": [
    "feature_df = df.copy()"
   ]
  },
  {
   "cell_type": "code",
   "execution_count": null,
   "metadata": {},
   "outputs": [],
   "source": [
    "num_top = 10\n",
    "target = 'diabetes'\n",
    "feature_df.describe()\n",
    "\n",
    "print(f\"Diabetes value counts: feature_df['diabetes'].value_counts\")\n",
    "\n",
    "correlations = feature_df.corrwith(feature_df[target])\n",
    "\n",
    "desc_sorted_correlations = correlations.sort_values(ascending=False)\n",
    "asc_sorted_correlations = correlations.sort_values()\n",
    "# Exclude the target itself if present\n",
    "desc_top_correlations = desc_sorted_correlations.head(num_top + 1).drop(labels=[target], errors='ignore')\n",
    "asc_top_correlations = asc_sorted_correlations.head(num_top + 1).drop(labels=[target], errors='ignore')\n",
    "\n",
    "print(\"\\nTop\", num_top, \"positive correlations:\")\n",
    "print(desc_top_correlations)\n",
    "\n",
    "print(\"\\nTop\", num_top, \"negative correlations:\")\n",
    "print(asc_top_correlations)"
   ]
  },
  {
   "cell_type": "markdown",
   "metadata": {},
   "source": [
    "**Note:** It does not look like any individual features are correlated with diabetes on their own."
   ]
  },
  {
   "cell_type": "code",
   "execution_count": null,
   "metadata": {},
   "outputs": [],
   "source": [
    "#correlation_df = df.corr()\n",
    "# Assuming df is your dataframe\n",
    "correlation_matrix = df.corr()"
   ]
  },
  {
   "cell_type": "code",
   "execution_count": null,
   "metadata": {},
   "outputs": [],
   "source": [
    "# Unstack the correlation matrix\n",
    "correlation_series = correlation_matrix.unstack()\n",
    "\n",
    "# Convert to DataFrame for better readability\n",
    "correlation_df = pd.DataFrame(correlation_series, columns=['Correlation'])\n",
    "\n",
    "# Remove self-correlations by filtering out where the same feature is correlated with itself\n",
    "correlation_df = correlation_df[correlation_df.index.get_level_values(0) != correlation_df.index.get_level_values(1)]\n",
    "\n",
    "# Sort by the absolute value of the correlation\n",
    "correlation_df['AbsoluteCorrelation'] = correlation_df['Correlation'].abs()\n",
    "sorted_correlation_df = correlation_df.sort_values(by='AbsoluteCorrelation', ascending=False)\n",
    "\n",
    "# Optionally, you can keep only the top N correlations\n",
    "sorted_correlation_df.head(40)\n"
   ]
  },
  {
   "cell_type": "markdown",
   "metadata": {},
   "source": [
    "**Note:** Based on the inter-correlation above, we can eliminate some columns\n",
    "\n",
    "---"
   ]
  },
  {
   "cell_type": "markdown",
   "metadata": {},
   "source": [
    "### Eliminate correlated features"
   ]
  },
  {
   "cell_type": "code",
   "execution_count": null,
   "metadata": {},
   "outputs": [],
   "source": [
    "# TBD"
   ]
  },
  {
   "cell_type": "markdown",
   "metadata": {},
   "source": [
    "### Run initial Tests"
   ]
  },
  {
   "cell_type": "code",
   "execution_count": null,
   "metadata": {},
   "outputs": [],
   "source": [
    "from sklearn.datasets import make_regression, make_swiss_roll\n",
    "from sklearn.model_selection import train_test_split\n",
    "from sklearn.preprocessing import StandardScaler"
   ]
  },
  {
   "cell_type": "code",
   "execution_count": null,
   "metadata": {},
   "outputs": [],
   "source": [
    "X = df.copy().drop(columns=[\"diabetes\"])\n",
    "y = df['diabetes']"
   ]
  },
  {
   "cell_type": "code",
   "execution_count": null,
   "metadata": {},
   "outputs": [],
   "source": [
    "# Create Train Test Split\n",
    "X_train, X_test, y_train, y_test = train_test_split(X, y)"
   ]
  },
  {
   "cell_type": "code",
   "execution_count": null,
   "metadata": {},
   "outputs": [],
   "source": [
    "# Scaling the X data by using StandardScaler()\n",
    "scaler = StandardScaler().fit(X_train)\n",
    "X_train_scaled = scaler.transform(X_train)\n",
    "\n",
    "# Transforming the test dataset based on the fit from the training dataset\n",
    "X_test_scaled = scaler.transform(X_test)"
   ]
  },
  {
   "cell_type": "code",
   "execution_count": null,
   "metadata": {},
   "outputs": [],
   "source": [
    "data_scaled = [X_train_scaled, X_test_scaled, y_train, y_test]\n",
    "data_raw    = [X_train, X_test, y_train, y_test]\n"
   ]
  },
  {
   "cell_type": "code",
   "execution_count": null,
   "metadata": {},
   "outputs": [],
   "source": [
    "# reload any changes to mlanlys\n",
    "importlib.reload(mlanlys)"
   ]
  },
  {
   "cell_type": "markdown",
   "metadata": {},
   "source": [
    "Find KNN n_neighbors value"
   ]
  },
  {
   "cell_type": "code",
   "execution_count": null,
   "metadata": {},
   "outputs": [],
   "source": [
    "#mlanlys.knn_plot(data_scaled)"
   ]
  },
  {
   "cell_type": "markdown",
   "metadata": {},
   "source": [
    "---\n",
    "\n",
    "**Note:** From the knn plot above, we will pick a value of 3."
   ]
  },
  {
   "cell_type": "markdown",
   "metadata": {},
   "source": [
    "---\n",
    "\n",
    "### Run analysis on Raw cleaned data.\n",
    "-  No Scaling of data"
   ]
  },
  {
   "cell_type": "code",
   "execution_count": null,
   "metadata": {},
   "outputs": [],
   "source": [
    "# # reload any changes to nlanlys\n",
    "# importlib.reload(mlanlys)\n",
    "\n",
    "# k_value = 3\n",
    "# mlanlys.run_classification_models(data_raw, k_value)"
   ]
  },
  {
   "cell_type": "markdown",
   "metadata": {},
   "source": [
    "---\n",
    "\n",
    "### Run analysis on cleaned data that has been scaled\n",
    "-  Scaled data"
   ]
  },
  {
   "cell_type": "code",
   "execution_count": null,
   "metadata": {},
   "outputs": [],
   "source": [
    "# importlib.reload(mlanlys)\n",
    "\n",
    "# k_value = 3\n",
    "# mlanlys.run_classification_models(data_scaled, k_value)"
   ]
  },
  {
   "cell_type": "markdown",
   "metadata": {},
   "source": [
    "---\n",
    "\n",
    "### "
   ]
  },
  {
   "cell_type": "markdown",
   "metadata": {},
   "source": [
    "### Balance data using RandomUndersampling\n",
    "- May need to use 0/1 diabetes instead of 0/1/2 diabetes as values of 2 will only be 3970."
   ]
  },
  {
   "cell_type": "code",
   "execution_count": null,
   "metadata": {},
   "outputs": [],
   "source": [
    "y_train.value_counts()"
   ]
  },
  {
   "cell_type": "markdown",
   "metadata": {},
   "source": []
  },
  {
   "cell_type": "code",
   "execution_count": null,
   "metadata": {},
   "outputs": [],
   "source": [
    "# # Import RandomUnderSampler from imblearn\n",
    "# from imblearn.under_sampling import RandomUnderSampler\n",
    "\n",
    "# # Instantiate the RandomUnderSampler instance\n",
    "# rus = RandomUnderSampler(random_state=1)\n",
    "\n",
    "# # Fit the data to the model\n",
    "# X_undersampled, y_undersampled = rus.fit_resample(X_train, y_train)"
   ]
  },
  {
   "cell_type": "code",
   "execution_count": null,
   "metadata": {},
   "outputs": [],
   "source": [
    "# Count distinct resampled values\n",
    "y_resampled.value_counts()"
   ]
  },
  {
   "cell_type": "code",
   "execution_count": null,
   "metadata": {},
   "outputs": [],
   "source": []
  },
  {
   "cell_type": "markdown",
   "metadata": {},
   "source": [
    "### Evaluate overfitting\n",
    "- Review scores from above\n",
    "- see if balance helped with overfitting."
   ]
  },
  {
   "cell_type": "code",
   "execution_count": null,
   "metadata": {},
   "outputs": [],
   "source": []
  },
  {
   "cell_type": "markdown",
   "metadata": {},
   "source": [
    "### Improve scores with Hyperparameter Tuning\n",
    "- Pick best model\n",
    "- Try GridSearchCV and RandomizedSearchCV"
   ]
  },
  {
   "cell_type": "markdown",
   "metadata": {},
   "source": [
    "#### GridSearchCV\n"
   ]
  },
  {
   "cell_type": "code",
   "execution_count": null,
   "metadata": {},
   "outputs": [],
   "source": []
  },
  {
   "cell_type": "markdown",
   "metadata": {},
   "source": [
    "#### RandomizedSearchCV"
   ]
  },
  {
   "cell_type": "markdown",
   "metadata": {},
   "source": []
  },
  {
   "cell_type": "markdown",
   "metadata": {},
   "source": [
    "### Final Parameter Settings and score"
   ]
  },
  {
   "cell_type": "code",
   "execution_count": null,
   "metadata": {},
   "outputs": [],
   "source": []
  },
  {
   "cell_type": "code",
   "execution_count": null,
   "metadata": {},
   "outputs": [],
   "source": []
  },
  {
   "cell_type": "code",
   "execution_count": null,
   "metadata": {},
   "outputs": [],
   "source": []
  },
  {
   "cell_type": "code",
   "execution_count": null,
   "metadata": {},
   "outputs": [],
   "source": []
  },
  {
   "cell_type": "code",
   "execution_count": null,
   "metadata": {},
   "outputs": [],
   "source": []
  },
  {
   "cell_type": "code",
   "execution_count": null,
   "metadata": {},
   "outputs": [],
   "source": []
  },
  {
   "cell_type": "markdown",
   "metadata": {},
   "source": [
    "## To DO\n",
    "\n",
    "- correlation work in features (inter-corrlation)\n",
    "- handle unbalanced data\n",
    "    - split the data into equal size for has and does not have diabetes ()\n",
    "- automate the model\n",
    "- scaling\n",
    "- optimization\n",
    "    - ????????\n",
    "\n",
    "- Encoding\n",
    "    from sklearn.preprocessing import OneHotEncoder, OrdinalEncoder\n",
    "\n",
    "- sklearn - Model Evaluation\n",
    "    - [Cross-validation](https://scikit-learn.org/stable/modules/cross_validation.html)\n",
    "    - [metrics](https://scikit-learn.org/stable/modules/model_evaluation.html)"
   ]
  },
  {
   "cell_type": "markdown",
   "metadata": {},
   "source": [
    "# Test Train Split\n",
    "from sklearn.model_selection import train_test_split\n",
    "\n",
    "from sklearn.metrics import balanced_accuracy_score\n",
    "from sklearn.preprocessing import OneHotEncoder, OrdinalEncoder\n",
    "\n"
   ]
  },
  {
   "cell_type": "code",
   "execution_count": null,
   "metadata": {},
   "outputs": [],
   "source": []
  }
 ],
 "metadata": {
  "kernelspec": {
   "display_name": "dev",
   "language": "python",
   "name": "python3"
  },
  "language_info": {
   "codemirror_mode": {
    "name": "ipython",
    "version": 3
   },
   "file_extension": ".py",
   "mimetype": "text/x-python",
   "name": "python",
   "nbconvert_exporter": "python",
   "pygments_lexer": "ipython3",
   "version": "3.1.-1"
  }
 },
 "nbformat": 4,
 "nbformat_minor": 2
}
